{
 "cells": [
  {
   "cell_type": "markdown",
   "id": "146c7715",
   "metadata": {},
   "source": [
    "# Belarus Car Price Prediction\n",
    "The aim of this project is to predict the price of the car in Belarus, by analyzing the car\n",
    "features such as brand, year, engine, fuel type, transmission, mileage, drive unit, color,\n",
    "and segment. The project also aims to find out the set the of variables that has most\n",
    "impact on the car price."
   ]
  },
  {
   "cell_type": "markdown",
   "id": "135524be",
   "metadata": {},
   "source": [
    "## Our target variable is priceUSD and rest are independent variable"
   ]
  },
  {
   "cell_type": "code",
   "execution_count": 1,
   "id": "7496a874",
   "metadata": {},
   "outputs": [],
   "source": [
    "import numpy as np\n",
    "import pandas as pd"
   ]
  },
  {
   "cell_type": "code",
   "execution_count": 2,
   "id": "5c8cb49a",
   "metadata": {},
   "outputs": [],
   "source": [
    "import seaborn as sns\n",
    "import matplotlib.pyplot as plt"
   ]
  },
  {
   "cell_type": "code",
   "execution_count": 3,
   "id": "cdd9376d",
   "metadata": {},
   "outputs": [],
   "source": [
    "df = pd.read_csv('cars.csv')"
   ]
  },
  {
   "cell_type": "code",
   "execution_count": 4,
   "id": "f9585f35",
   "metadata": {},
   "outputs": [
    {
     "data": {
      "text/html": [
       "<div>\n",
       "<style scoped>\n",
       "    .dataframe tbody tr th:only-of-type {\n",
       "        vertical-align: middle;\n",
       "    }\n",
       "\n",
       "    .dataframe tbody tr th {\n",
       "        vertical-align: top;\n",
       "    }\n",
       "\n",
       "    .dataframe thead th {\n",
       "        text-align: right;\n",
       "    }\n",
       "</style>\n",
       "<table border=\"1\" class=\"dataframe\">\n",
       "  <thead>\n",
       "    <tr style=\"text-align: right;\">\n",
       "      <th></th>\n",
       "      <th>make</th>\n",
       "      <th>model</th>\n",
       "      <th>priceUSD</th>\n",
       "      <th>year</th>\n",
       "      <th>condition</th>\n",
       "      <th>mileage(kilometers)</th>\n",
       "      <th>fuel_type</th>\n",
       "      <th>volume(cm3)</th>\n",
       "      <th>color</th>\n",
       "      <th>transmission</th>\n",
       "      <th>drive_unit</th>\n",
       "      <th>segment</th>\n",
       "    </tr>\n",
       "  </thead>\n",
       "  <tbody>\n",
       "    <tr>\n",
       "      <th>0</th>\n",
       "      <td>mazda</td>\n",
       "      <td>2</td>\n",
       "      <td>5500</td>\n",
       "      <td>2008</td>\n",
       "      <td>with mileage</td>\n",
       "      <td>162000.0</td>\n",
       "      <td>petrol</td>\n",
       "      <td>1500.0</td>\n",
       "      <td>burgundy</td>\n",
       "      <td>mechanics</td>\n",
       "      <td>front-wheel drive</td>\n",
       "      <td>B</td>\n",
       "    </tr>\n",
       "    <tr>\n",
       "      <th>1</th>\n",
       "      <td>mazda</td>\n",
       "      <td>2</td>\n",
       "      <td>5350</td>\n",
       "      <td>2009</td>\n",
       "      <td>with mileage</td>\n",
       "      <td>120000.0</td>\n",
       "      <td>petrol</td>\n",
       "      <td>1300.0</td>\n",
       "      <td>black</td>\n",
       "      <td>mechanics</td>\n",
       "      <td>front-wheel drive</td>\n",
       "      <td>B</td>\n",
       "    </tr>\n",
       "    <tr>\n",
       "      <th>2</th>\n",
       "      <td>mazda</td>\n",
       "      <td>2</td>\n",
       "      <td>7000</td>\n",
       "      <td>2009</td>\n",
       "      <td>with mileage</td>\n",
       "      <td>61000.0</td>\n",
       "      <td>petrol</td>\n",
       "      <td>1500.0</td>\n",
       "      <td>silver</td>\n",
       "      <td>auto</td>\n",
       "      <td>front-wheel drive</td>\n",
       "      <td>B</td>\n",
       "    </tr>\n",
       "    <tr>\n",
       "      <th>3</th>\n",
       "      <td>mazda</td>\n",
       "      <td>2</td>\n",
       "      <td>3300</td>\n",
       "      <td>2003</td>\n",
       "      <td>with mileage</td>\n",
       "      <td>265000.0</td>\n",
       "      <td>diesel</td>\n",
       "      <td>1400.0</td>\n",
       "      <td>white</td>\n",
       "      <td>mechanics</td>\n",
       "      <td>front-wheel drive</td>\n",
       "      <td>B</td>\n",
       "    </tr>\n",
       "    <tr>\n",
       "      <th>4</th>\n",
       "      <td>mazda</td>\n",
       "      <td>2</td>\n",
       "      <td>5200</td>\n",
       "      <td>2008</td>\n",
       "      <td>with mileage</td>\n",
       "      <td>97183.0</td>\n",
       "      <td>diesel</td>\n",
       "      <td>1400.0</td>\n",
       "      <td>gray</td>\n",
       "      <td>mechanics</td>\n",
       "      <td>front-wheel drive</td>\n",
       "      <td>B</td>\n",
       "    </tr>\n",
       "  </tbody>\n",
       "</table>\n",
       "</div>"
      ],
      "text/plain": [
       "    make model  priceUSD  year     condition  mileage(kilometers) fuel_type  \\\n",
       "0  mazda     2      5500  2008  with mileage             162000.0    petrol   \n",
       "1  mazda     2      5350  2009  with mileage             120000.0    petrol   \n",
       "2  mazda     2      7000  2009  with mileage              61000.0    petrol   \n",
       "3  mazda     2      3300  2003  with mileage             265000.0    diesel   \n",
       "4  mazda     2      5200  2008  with mileage              97183.0    diesel   \n",
       "\n",
       "   volume(cm3)     color transmission         drive_unit segment  \n",
       "0       1500.0  burgundy    mechanics  front-wheel drive       B  \n",
       "1       1300.0     black    mechanics  front-wheel drive       B  \n",
       "2       1500.0    silver         auto  front-wheel drive       B  \n",
       "3       1400.0     white    mechanics  front-wheel drive       B  \n",
       "4       1400.0      gray    mechanics  front-wheel drive       B  "
      ]
     },
     "execution_count": 4,
     "metadata": {},
     "output_type": "execute_result"
    }
   ],
   "source": [
    "df.head()"
   ]
  },
  {
   "cell_type": "code",
   "execution_count": 5,
   "id": "8f8912c2",
   "metadata": {},
   "outputs": [
    {
     "data": {
      "text/plain": [
       "(56244, 12)"
      ]
     },
     "execution_count": 5,
     "metadata": {},
     "output_type": "execute_result"
    }
   ],
   "source": [
    "# check the shape of rows and columns\n",
    "df.shape"
   ]
  },
  {
   "cell_type": "code",
   "execution_count": 6,
   "id": "9ecb614f",
   "metadata": {},
   "outputs": [
    {
     "data": {
      "text/plain": [
       "make                      0\n",
       "model                     0\n",
       "priceUSD                  0\n",
       "year                      0\n",
       "condition                 0\n",
       "mileage(kilometers)       0\n",
       "fuel_type                 0\n",
       "volume(cm3)              47\n",
       "color                     0\n",
       "transmission              0\n",
       "drive_unit             1905\n",
       "segment                5291\n",
       "dtype: int64"
      ]
     },
     "execution_count": 6,
     "metadata": {},
     "output_type": "execute_result"
    }
   ],
   "source": [
    "# Check the null values\n",
    "df.isnull().sum()"
   ]
  },
  {
   "cell_type": "code",
   "execution_count": 7,
   "id": "2dcd6e2a",
   "metadata": {},
   "outputs": [
    {
     "data": {
      "text/plain": [
       "make                    object\n",
       "model                   object\n",
       "priceUSD                 int64\n",
       "year                     int64\n",
       "condition               object\n",
       "mileage(kilometers)    float64\n",
       "fuel_type               object\n",
       "volume(cm3)            float64\n",
       "color                   object\n",
       "transmission            object\n",
       "drive_unit              object\n",
       "segment                 object\n",
       "dtype: object"
      ]
     },
     "execution_count": 7,
     "metadata": {},
     "output_type": "execute_result"
    }
   ],
   "source": [
    "# check the data types\n",
    "df.dtypes"
   ]
  },
  {
   "cell_type": "code",
   "execution_count": 8,
   "id": "87ef064c",
   "metadata": {},
   "outputs": [
    {
     "data": {
      "text/plain": [
       "make                     96\n",
       "model                  1034\n",
       "priceUSD               2970\n",
       "year                     78\n",
       "condition                 3\n",
       "mileage(kilometers)    8400\n",
       "fuel_type                 3\n",
       "volume(cm3)             458\n",
       "color                    13\n",
       "transmission              2\n",
       "drive_unit                4\n",
       "segment                   9\n",
       "dtype: int64"
      ]
     },
     "execution_count": 8,
     "metadata": {},
     "output_type": "execute_result"
    }
   ],
   "source": [
    "# check the unique values present in the data set\n",
    "df.nunique()"
   ]
  },
  {
   "cell_type": "code",
   "execution_count": 9,
   "id": "3978e727",
   "metadata": {},
   "outputs": [
    {
     "data": {
      "text/plain": [
       "array(['mazda', 'mg', 'renault', 'gaz', 'aro', 'rover', 'uaz',\n",
       "       'alfa-romeo', 'audi', 'oldsmobile', 'saab', 'peugeot', 'chrysler',\n",
       "       'wartburg', 'moskvich', 'volvo', 'fiat', 'roewe', 'porsche', 'zaz',\n",
       "       'luaz', 'dacia', 'lada-vaz', 'izh', 'raf', 'bogdan', 'bmw',\n",
       "       'nissan', 'mercedes-benz', 'mitsubishi', 'toyota', 'chery', 'gmc',\n",
       "       'hyundai', 'honda', 'ssangyong', 'suzuki', 'opel', 'seat',\n",
       "       'volkswagen', 'daihatsu', 'chevrolet', 'geely', 'saturn', 'kia',\n",
       "       'lincoln', 'eksklyuziv', 'citroen', 'dong-feng', 'pontiac', 'ford',\n",
       "       'subaru', 'bentley', 'faw', 'cadillac', 'lifan', 'plymouth',\n",
       "       'hafei', 'shanghai-maple', 'mini', 'jeep', 'skoda', 'mercury',\n",
       "       'changan', 'lexus', 'isuzu', 'aston-martin', 'lancia',\n",
       "       'great-wall', 'land-rover', 'jaguar', 'buick', 'daewoo', 'vortex',\n",
       "       'infiniti', 'byd', 'smart', 'maserati', 'haval', 'acura', 'scion',\n",
       "       'tata', 'datsun', 'tesla', 'mclaren', 'ravon', 'trabant', 'proton',\n",
       "       'fso', 'jac', 'asia', 'iran-khodro', 'zotye', 'tagaz', 'saipa',\n",
       "       'brilliance'], dtype=object)"
      ]
     },
     "execution_count": 9,
     "metadata": {},
     "output_type": "execute_result"
    }
   ],
   "source": [
    "df['make'].unique()"
   ]
  },
  {
   "cell_type": "code",
   "execution_count": 10,
   "id": "7e56ba15",
   "metadata": {},
   "outputs": [
    {
     "data": {
      "text/html": [
       "<div>\n",
       "<style scoped>\n",
       "    .dataframe tbody tr th:only-of-type {\n",
       "        vertical-align: middle;\n",
       "    }\n",
       "\n",
       "    .dataframe tbody tr th {\n",
       "        vertical-align: top;\n",
       "    }\n",
       "\n",
       "    .dataframe thead th {\n",
       "        text-align: right;\n",
       "    }\n",
       "</style>\n",
       "<table border=\"1\" class=\"dataframe\">\n",
       "  <thead>\n",
       "    <tr style=\"text-align: right;\">\n",
       "      <th></th>\n",
       "      <th>priceUSD</th>\n",
       "      <th>year</th>\n",
       "      <th>mileage(kilometers)</th>\n",
       "      <th>volume(cm3)</th>\n",
       "    </tr>\n",
       "  </thead>\n",
       "  <tbody>\n",
       "    <tr>\n",
       "      <th>count</th>\n",
       "      <td>56244.000000</td>\n",
       "      <td>56244.000000</td>\n",
       "      <td>5.624400e+04</td>\n",
       "      <td>56197.000000</td>\n",
       "    </tr>\n",
       "    <tr>\n",
       "      <th>mean</th>\n",
       "      <td>7415.456440</td>\n",
       "      <td>2003.454840</td>\n",
       "      <td>2.443956e+05</td>\n",
       "      <td>2104.860615</td>\n",
       "    </tr>\n",
       "    <tr>\n",
       "      <th>std</th>\n",
       "      <td>8316.959261</td>\n",
       "      <td>8.144247</td>\n",
       "      <td>3.210307e+05</td>\n",
       "      <td>959.201633</td>\n",
       "    </tr>\n",
       "    <tr>\n",
       "      <th>min</th>\n",
       "      <td>48.000000</td>\n",
       "      <td>1910.000000</td>\n",
       "      <td>0.000000e+00</td>\n",
       "      <td>500.000000</td>\n",
       "    </tr>\n",
       "    <tr>\n",
       "      <th>25%</th>\n",
       "      <td>2350.000000</td>\n",
       "      <td>1998.000000</td>\n",
       "      <td>1.370000e+05</td>\n",
       "      <td>1600.000000</td>\n",
       "    </tr>\n",
       "    <tr>\n",
       "      <th>50%</th>\n",
       "      <td>5350.000000</td>\n",
       "      <td>2004.000000</td>\n",
       "      <td>2.285000e+05</td>\n",
       "      <td>1996.000000</td>\n",
       "    </tr>\n",
       "    <tr>\n",
       "      <th>75%</th>\n",
       "      <td>9807.500000</td>\n",
       "      <td>2010.000000</td>\n",
       "      <td>3.100000e+05</td>\n",
       "      <td>2300.000000</td>\n",
       "    </tr>\n",
       "    <tr>\n",
       "      <th>max</th>\n",
       "      <td>235235.000000</td>\n",
       "      <td>2019.000000</td>\n",
       "      <td>9.999999e+06</td>\n",
       "      <td>20000.000000</td>\n",
       "    </tr>\n",
       "  </tbody>\n",
       "</table>\n",
       "</div>"
      ],
      "text/plain": [
       "            priceUSD          year  mileage(kilometers)   volume(cm3)\n",
       "count   56244.000000  56244.000000         5.624400e+04  56197.000000\n",
       "mean     7415.456440   2003.454840         2.443956e+05   2104.860615\n",
       "std      8316.959261      8.144247         3.210307e+05    959.201633\n",
       "min        48.000000   1910.000000         0.000000e+00    500.000000\n",
       "25%      2350.000000   1998.000000         1.370000e+05   1600.000000\n",
       "50%      5350.000000   2004.000000         2.285000e+05   1996.000000\n",
       "75%      9807.500000   2010.000000         3.100000e+05   2300.000000\n",
       "max    235235.000000   2019.000000         9.999999e+06  20000.000000"
      ]
     },
     "execution_count": 10,
     "metadata": {},
     "output_type": "execute_result"
    }
   ],
   "source": [
    "# describe the stats\n",
    "df.describe()"
   ]
  },
  {
   "cell_type": "code",
   "execution_count": 11,
   "id": "8c3596e5",
   "metadata": {},
   "outputs": [],
   "source": [
    "# Drop the unnessecary columns\n",
    "df.drop(columns=['model','segment'],inplace=True)"
   ]
  },
  {
   "cell_type": "code",
   "execution_count": 14,
   "id": "a4386597",
   "metadata": {},
   "outputs": [
    {
     "data": {
      "text/plain": [
       "0        False\n",
       "1        False\n",
       "2        False\n",
       "3        False\n",
       "4        False\n",
       "         ...  \n",
       "56239    False\n",
       "56240    False\n",
       "56241    False\n",
       "56242    False\n",
       "56243    False\n",
       "Length: 56244, dtype: bool"
      ]
     },
     "execution_count": 14,
     "metadata": {},
     "output_type": "execute_result"
    }
   ],
   "source": [
    "# check duplicate records\n",
    "df.duplicated()"
   ]
  },
  {
   "cell_type": "code",
   "execution_count": 18,
   "id": "392389b0",
   "metadata": {},
   "outputs": [],
   "source": [
    "# keep the first and delete the records\n",
    "df.drop_duplicates(keep='first',inplace=True)"
   ]
  },
  {
   "cell_type": "code",
   "execution_count": 19,
   "id": "4c892c4b",
   "metadata": {},
   "outputs": [
    {
     "data": {
      "text/plain": [
       "(56138, 10)"
      ]
     },
     "execution_count": 19,
     "metadata": {},
     "output_type": "execute_result"
    }
   ],
   "source": [
    "df.shape"
   ]
  },
  {
   "cell_type": "code",
   "execution_count": 20,
   "id": "aef3274b",
   "metadata": {},
   "outputs": [
    {
     "ename": "SyntaxError",
     "evalue": "EOL while scanning string literal (2711878007.py, line 3)",
     "output_type": "error",
     "traceback": [
      "\u001b[1;36m  File \u001b[1;32m\"C:\\Users\\User\\AppData\\Local\\Temp\\ipykernel_7836\\2711878007.py\"\u001b[1;36m, line \u001b[1;32m3\u001b[0m\n\u001b[1;33m    if make in ['mazda', 'mg', 'rover','alfa-romeo', 'audi', 'peugeot', 'chrysle\u001b[0m\n\u001b[1;37m                                                                                ^\u001b[0m\n\u001b[1;31mSyntaxError\u001b[0m\u001b[1;31m:\u001b[0m EOL while scanning string literal\n"
     ]
    }
   ],
   "source": [
    "# Categorizing the car make\n",
    "def car_make(make):\n",
    "    if make in ['mazda', 'mg', 'rover','alfa-romeo', 'audi', 'peugeot', 'chrysle\n",
    "                return 'Luxury European'\n",
    "    elif make in ['renault','dacia', 'citroen', 'volvo', 'fiat', 'opel', 'seat',\n",
    "                return 'Mainstream European'\n",
    "    elif make in ['gaz', 'aro', 'lada-vaz', 'izh', 'raf', 'bogdan', 'moskvich',\n",
    "                return 'Russian/Eastern European'\n",
    "    elif make in ['toyota', 'nissan','asia', 'mitsubishi', 'chery', 'hyundai', '\n",
    "                return 'Asian'\n",
    "    elif make in ['oldsmobile', 'gmc', 'chrysler', 'plymouth', 'ford', 'cadillac\n",
    "                return 'American'\n",
    "    elif make in ['porsche','bentley', 'maserati', 'tesla', 'mclaren']:\n",
    "        return 'Specialty'\n",
    "else:\n",
    "return 'Other'"
   ]
  },
  {
   "cell_type": "code",
   "execution_count": null,
   "id": "dd86a256",
   "metadata": {},
   "outputs": [],
   "source": []
  },
  {
   "cell_type": "markdown",
   "id": "ec70b74a",
   "metadata": {},
   "source": [
    "# findout the columns which are not usefull\n",
    "1. Find the correlation"
   ]
  },
  {
   "cell_type": "code",
   "execution_count": 13,
   "id": "f540d16b",
   "metadata": {},
   "outputs": [
    {
     "data": {
      "text/html": [
       "<div>\n",
       "<style scoped>\n",
       "    .dataframe tbody tr th:only-of-type {\n",
       "        vertical-align: middle;\n",
       "    }\n",
       "\n",
       "    .dataframe tbody tr th {\n",
       "        vertical-align: top;\n",
       "    }\n",
       "\n",
       "    .dataframe thead th {\n",
       "        text-align: right;\n",
       "    }\n",
       "</style>\n",
       "<table border=\"1\" class=\"dataframe\">\n",
       "  <thead>\n",
       "    <tr style=\"text-align: right;\">\n",
       "      <th></th>\n",
       "      <th>priceUSD</th>\n",
       "      <th>year</th>\n",
       "      <th>mileage(kilometers)</th>\n",
       "      <th>volume(cm3)</th>\n",
       "    </tr>\n",
       "  </thead>\n",
       "  <tbody>\n",
       "    <tr>\n",
       "      <th>priceUSD</th>\n",
       "      <td>1.000000</td>\n",
       "      <td>0.605131</td>\n",
       "      <td>-0.170933</td>\n",
       "      <td>0.267553</td>\n",
       "    </tr>\n",
       "    <tr>\n",
       "      <th>year</th>\n",
       "      <td>0.605131</td>\n",
       "      <td>1.000000</td>\n",
       "      <td>-0.233049</td>\n",
       "      <td>0.027370</td>\n",
       "    </tr>\n",
       "    <tr>\n",
       "      <th>mileage(kilometers)</th>\n",
       "      <td>-0.170933</td>\n",
       "      <td>-0.233049</td>\n",
       "      <td>1.000000</td>\n",
       "      <td>0.013452</td>\n",
       "    </tr>\n",
       "    <tr>\n",
       "      <th>volume(cm3)</th>\n",
       "      <td>0.267553</td>\n",
       "      <td>0.027370</td>\n",
       "      <td>0.013452</td>\n",
       "      <td>1.000000</td>\n",
       "    </tr>\n",
       "  </tbody>\n",
       "</table>\n",
       "</div>"
      ],
      "text/plain": [
       "                     priceUSD      year  mileage(kilometers)  volume(cm3)\n",
       "priceUSD             1.000000  0.605131            -0.170933     0.267553\n",
       "year                 0.605131  1.000000            -0.233049     0.027370\n",
       "mileage(kilometers) -0.170933 -0.233049             1.000000     0.013452\n",
       "volume(cm3)          0.267553  0.027370             0.013452     1.000000"
      ]
     },
     "execution_count": 13,
     "metadata": {},
     "output_type": "execute_result"
    }
   ],
   "source": [
    "df.corr()"
   ]
  },
  {
   "cell_type": "code",
   "execution_count": null,
   "id": "1872e87b",
   "metadata": {},
   "outputs": [],
   "source": []
  }
 ],
 "metadata": {
  "kernelspec": {
   "display_name": "Python 3 (ipykernel)",
   "language": "python",
   "name": "python3"
  },
  "language_info": {
   "codemirror_mode": {
    "name": "ipython",
    "version": 3
   },
   "file_extension": ".py",
   "mimetype": "text/x-python",
   "name": "python",
   "nbconvert_exporter": "python",
   "pygments_lexer": "ipython3",
   "version": "3.9.13"
  }
 },
 "nbformat": 4,
 "nbformat_minor": 5
}
