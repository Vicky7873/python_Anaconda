{
  "metadata": {
    "kernelspec": {
      "name": "python",
      "display_name": "Python (Pyodide)",
      "language": "python"
    },
    "language_info": {
      "codemirror_mode": {
        "name": "python",
        "version": 3
      },
      "file_extension": ".py",
      "mimetype": "text/x-python",
      "name": "python",
      "nbconvert_exporter": "python",
      "pygments_lexer": "ipython3",
      "version": "3.8"
    }
  },
  "nbformat_minor": 4,
  "nbformat": 4,
  "cells": [
    {
      "cell_type": "code",
      "source": "%pip install seaborn",
      "metadata": {
        "trusted": true
      },
      "outputs": [],
      "execution_count": 1
    },
    {
      "cell_type": "code",
      "source": "import numpy as np\nimport pandas as pd\nimport seaborn as sns\nimport matplotlib.pyplot as plt",
      "metadata": {
        "trusted": true
      },
      "outputs": [],
      "execution_count": 2
    },
    {
      "cell_type": "code",
      "source": "df=pd.read_csv('Mobile Price Prediction Datatset.csv')",
      "metadata": {
        "trusted": true
      },
      "outputs": [],
      "execution_count": 104
    },
    {
      "cell_type": "code",
      "source": "df.head()",
      "metadata": {
        "trusted": true
      },
      "outputs": [
        {
          "execution_count": 105,
          "output_type": "execute_result",
          "data": {
            "text/plain": "   Unnamed: 0                         Brand me  Ratings  RAM    ROM  \\\n0           0            LG V30+ (Black, 128 )      4.3  4.0  128.0   \n1           1                       I Kall K11      3.4  6.0   64.0   \n2           2                     Nokia 105 ss      4.3  4.0    4.0   \n3           3  Samsung Galaxy A50 (White, 64 )      4.4  6.0   64.0   \n4           4       POCO F1 (Steel Blue, 128 )      4.5  6.0  128.0   \n\n   Mobile_Size  Primary_Cam  Selfi_Cam  Battery_Power  Price  \n0         6.00           48       13.0           4000  24999  \n1         4.50           48       12.0           4000  15999  \n2         4.50           64       16.0           4000  15000  \n3         6.40           48       15.0           3800  18999  \n4         6.18           35       15.0           3800  18999  ",
            "text/html": "<div>\n<style scoped>\n    .dataframe tbody tr th:only-of-type {\n        vertical-align: middle;\n    }\n\n    .dataframe tbody tr th {\n        vertical-align: top;\n    }\n\n    .dataframe thead th {\n        text-align: right;\n    }\n</style>\n<table border=\"1\" class=\"dataframe\">\n  <thead>\n    <tr style=\"text-align: right;\">\n      <th></th>\n      <th>Unnamed: 0</th>\n      <th>Brand me</th>\n      <th>Ratings</th>\n      <th>RAM</th>\n      <th>ROM</th>\n      <th>Mobile_Size</th>\n      <th>Primary_Cam</th>\n      <th>Selfi_Cam</th>\n      <th>Battery_Power</th>\n      <th>Price</th>\n    </tr>\n  </thead>\n  <tbody>\n    <tr>\n      <th>0</th>\n      <td>0</td>\n      <td>LG V30+ (Black, 128 )</td>\n      <td>4.3</td>\n      <td>4.0</td>\n      <td>128.0</td>\n      <td>6.00</td>\n      <td>48</td>\n      <td>13.0</td>\n      <td>4000</td>\n      <td>24999</td>\n    </tr>\n    <tr>\n      <th>1</th>\n      <td>1</td>\n      <td>I Kall K11</td>\n      <td>3.4</td>\n      <td>6.0</td>\n      <td>64.0</td>\n      <td>4.50</td>\n      <td>48</td>\n      <td>12.0</td>\n      <td>4000</td>\n      <td>15999</td>\n    </tr>\n    <tr>\n      <th>2</th>\n      <td>2</td>\n      <td>Nokia 105 ss</td>\n      <td>4.3</td>\n      <td>4.0</td>\n      <td>4.0</td>\n      <td>4.50</td>\n      <td>64</td>\n      <td>16.0</td>\n      <td>4000</td>\n      <td>15000</td>\n    </tr>\n    <tr>\n      <th>3</th>\n      <td>3</td>\n      <td>Samsung Galaxy A50 (White, 64 )</td>\n      <td>4.4</td>\n      <td>6.0</td>\n      <td>64.0</td>\n      <td>6.40</td>\n      <td>48</td>\n      <td>15.0</td>\n      <td>3800</td>\n      <td>18999</td>\n    </tr>\n    <tr>\n      <th>4</th>\n      <td>4</td>\n      <td>POCO F1 (Steel Blue, 128 )</td>\n      <td>4.5</td>\n      <td>6.0</td>\n      <td>128.0</td>\n      <td>6.18</td>\n      <td>35</td>\n      <td>15.0</td>\n      <td>3800</td>\n      <td>18999</td>\n    </tr>\n  </tbody>\n</table>\n</div>"
          },
          "metadata": {}
        }
      ],
      "execution_count": 105
    },
    {
      "cell_type": "markdown",
      "source": "# Check the size of the dataset",
      "metadata": {}
    },
    {
      "cell_type": "code",
      "source": "df.shape",
      "metadata": {
        "trusted": true
      },
      "outputs": [
        {
          "execution_count": 106,
          "output_type": "execute_result",
          "data": {
            "text/plain": "(836, 10)"
          },
          "metadata": {}
        }
      ],
      "execution_count": 106
    },
    {
      "cell_type": "markdown",
      "source": "# Check the null Values",
      "metadata": {}
    },
    {
      "cell_type": "code",
      "source": "# Check the null Values\ndf.isnull().sum()",
      "metadata": {
        "trusted": true
      },
      "outputs": [
        {
          "execution_count": 107,
          "output_type": "execute_result",
          "data": {
            "text/plain": "Unnamed: 0         0\nBrand me           0\nRatings           31\nRAM                7\nROM                4\nMobile_Size        2\nPrimary_Cam        0\nSelfi_Cam        269\nBattery_Power      0\nPrice              0\ndtype: int64"
          },
          "metadata": {}
        }
      ],
      "execution_count": 107
    },
    {
      "cell_type": "markdown",
      "source": "# check the data types",
      "metadata": {}
    },
    {
      "cell_type": "code",
      "source": "df.dtypes",
      "metadata": {
        "trusted": true
      },
      "outputs": [
        {
          "execution_count": 108,
          "output_type": "execute_result",
          "data": {
            "text/plain": "Unnamed: 0         int64\nBrand me          object\nRatings          float64\nRAM              float64\nROM              float64\nMobile_Size      float64\nPrimary_Cam        int64\nSelfi_Cam        float64\nBattery_Power      int64\nPrice              int64\ndtype: object"
          },
          "metadata": {}
        }
      ],
      "execution_count": 108
    },
    {
      "cell_type": "markdown",
      "source": "# Check the unique values",
      "metadata": {}
    },
    {
      "cell_type": "code",
      "source": "# Check the unique values\ndf.nunique()",
      "metadata": {
        "trusted": true
      },
      "outputs": [
        {
          "execution_count": 109,
          "output_type": "execute_result",
          "data": {
            "text/plain": "Unnamed: 0       836\nBrand me         427\nRatings           20\nRAM               13\nROM               22\nMobile_Size       47\nPrimary_Cam       11\nSelfi_Cam         23\nBattery_Power     49\nPrice            253\ndtype: int64"
          },
          "metadata": {}
        }
      ],
      "execution_count": 109
    },
    {
      "cell_type": "code",
      "source": "df['RAM'].value_counts()",
      "metadata": {
        "trusted": true
      },
      "outputs": [
        {
          "execution_count": 110,
          "output_type": "execute_result",
          "data": {
            "text/plain": "6.0     430\n8.0     158\n4.0     113\n3.0      40\n12.0     31\n2.0      21\n1.0      20\n10.0      7\n5.0       4\n0.0       2\n25.0      1\n30.0      1\n34.0      1\nName: RAM, dtype: int64"
          },
          "metadata": {}
        }
      ],
      "execution_count": 110
    },
    {
      "cell_type": "code",
      "source": "df.drop(columns=['Unnamed: 0'],inplace=True)",
      "metadata": {
        "trusted": true
      },
      "outputs": [],
      "execution_count": 111
    },
    {
      "cell_type": "code",
      "source": "df.head(2)",
      "metadata": {
        "trusted": true
      },
      "outputs": [
        {
          "execution_count": 112,
          "output_type": "execute_result",
          "data": {
            "text/plain": "                Brand me  Ratings  RAM    ROM  Mobile_Size  Primary_Cam  \\\n0  LG V30+ (Black, 128 )      4.3  4.0  128.0          6.0           48   \n1             I Kall K11      3.4  6.0   64.0          4.5           48   \n\n   Selfi_Cam  Battery_Power  Price  \n0       13.0           4000  24999  \n1       12.0           4000  15999  ",
            "text/html": "<div>\n<style scoped>\n    .dataframe tbody tr th:only-of-type {\n        vertical-align: middle;\n    }\n\n    .dataframe tbody tr th {\n        vertical-align: top;\n    }\n\n    .dataframe thead th {\n        text-align: right;\n    }\n</style>\n<table border=\"1\" class=\"dataframe\">\n  <thead>\n    <tr style=\"text-align: right;\">\n      <th></th>\n      <th>Brand me</th>\n      <th>Ratings</th>\n      <th>RAM</th>\n      <th>ROM</th>\n      <th>Mobile_Size</th>\n      <th>Primary_Cam</th>\n      <th>Selfi_Cam</th>\n      <th>Battery_Power</th>\n      <th>Price</th>\n    </tr>\n  </thead>\n  <tbody>\n    <tr>\n      <th>0</th>\n      <td>LG V30+ (Black, 128 )</td>\n      <td>4.3</td>\n      <td>4.0</td>\n      <td>128.0</td>\n      <td>6.0</td>\n      <td>48</td>\n      <td>13.0</td>\n      <td>4000</td>\n      <td>24999</td>\n    </tr>\n    <tr>\n      <th>1</th>\n      <td>I Kall K11</td>\n      <td>3.4</td>\n      <td>6.0</td>\n      <td>64.0</td>\n      <td>4.5</td>\n      <td>48</td>\n      <td>12.0</td>\n      <td>4000</td>\n      <td>15999</td>\n    </tr>\n  </tbody>\n</table>\n</div>"
          },
          "metadata": {}
        }
      ],
      "execution_count": 112
    },
    {
      "cell_type": "markdown",
      "source": "# Fill all the null values",
      "metadata": {}
    },
    {
      "cell_type": "code",
      "source": "df.isnull().sum()",
      "metadata": {
        "trusted": true
      },
      "outputs": [
        {
          "execution_count": 113,
          "output_type": "execute_result",
          "data": {
            "text/plain": "Brand me           0\nRatings           31\nRAM                7\nROM                4\nMobile_Size        2\nPrimary_Cam        0\nSelfi_Cam        269\nBattery_Power      0\nPrice              0\ndtype: int64"
          },
          "metadata": {}
        }
      ],
      "execution_count": 113
    },
    {
      "cell_type": "code",
      "source": "def fill_null(df):\n    for cols in df.columns:\n        if df[cols].isnull().sum()>0:\n            df[cols]=df[cols].fillna(df[cols].mode()[0])\n    return df",
      "metadata": {
        "trusted": true
      },
      "outputs": [],
      "execution_count": 114
    },
    {
      "cell_type": "code",
      "source": "df=fill_null(df)",
      "metadata": {
        "trusted": true
      },
      "outputs": [],
      "execution_count": 115
    },
    {
      "cell_type": "code",
      "source": "df.isnull().sum()",
      "metadata": {
        "trusted": true
      },
      "outputs": [
        {
          "execution_count": 116,
          "output_type": "execute_result",
          "data": {
            "text/plain": "Brand me         0\nRatings          0\nRAM              0\nROM              0\nMobile_Size      0\nPrimary_Cam      0\nSelfi_Cam        0\nBattery_Power    0\nPrice            0\ndtype: int64"
          },
          "metadata": {}
        }
      ],
      "execution_count": 116
    },
    {
      "cell_type": "markdown",
      "source": "# Check the duplicate values",
      "metadata": {}
    },
    {
      "cell_type": "code",
      "source": "df.duplicated().sum()",
      "metadata": {
        "trusted": true
      },
      "outputs": [
        {
          "execution_count": 117,
          "output_type": "execute_result",
          "data": {
            "text/plain": "221"
          },
          "metadata": {}
        }
      ],
      "execution_count": 117
    },
    {
      "cell_type": "markdown",
      "source": "#### Here dataset is small so we can't delete the duplicate values ",
      "metadata": {}
    },
    {
      "cell_type": "code",
      "source": "df[df.duplicated()].to_csv('duplicate.csv')",
      "metadata": {
        "trusted": true
      },
      "outputs": [],
      "execution_count": 118
    },
    {
      "cell_type": "code",
      "source": "# Lets check only brand name",
      "metadata": {
        "trusted": true
      },
      "outputs": [],
      "execution_count": 119
    },
    {
      "cell_type": "code",
      "source": "df['Brand me'].duplicated().sum()",
      "metadata": {
        "trusted": true
      },
      "outputs": [
        {
          "execution_count": 120,
          "output_type": "execute_result",
          "data": {
            "text/plain": "409"
          },
          "metadata": {}
        }
      ],
      "execution_count": 120
    },
    {
      "cell_type": "code",
      "source": "df[df['Brand me'].duplicated()]",
      "metadata": {
        "trusted": true
      },
      "outputs": [
        {
          "execution_count": 121,
          "output_type": "execute_result",
          "data": {
            "text/plain": "                            Brand me  Ratings   RAM   ROM  Mobile_Size  \\\n25                  Snexian Guru 332      4.5   6.0  32.0         4.50   \n41                          Inovu A9      3.6   6.0  32.0         4.54   \n47                      Jivi R21Plus      4.3   1.0  16.0         4.50   \n55                   InFocus POWER 2      4.1   8.0  64.0         4.54   \n62                      Kechaoda A32      3.8   6.0  32.0         4.40   \n..                               ...      ...   ...   ...          ...   \n831             Karbonn K24 Plus Pro      3.8   6.0  32.0         4.54   \n832                  InFocus POWER 2      4.1   8.0  64.0         4.54   \n833  Alcatel 5V (Spectrum Blue, 32 )      4.4   3.0  32.0         6.20   \n834                      JIVI JV 12M      3.7  10.0  32.0         4.50   \n835                  Blacear B5 Grip      3.5   6.0  32.0         4.50   \n\n     Primary_Cam  Selfi_Cam  Battery_Power  Price  \n25            64       13.0           3000    649  \n41            38        0.0           1200    945  \n47            48        2.0           3000    869  \n55            64       13.0           2500   1390  \n62            48        8.0           3000    930  \n..           ...        ...            ...    ...  \n831           48       12.0           2800   1299  \n832           64        8.0           2500   1390  \n833           48        1.0           3800   9790  \n834           64        8.0           3500    799  \n835           64       15.0           1050    799  \n\n[409 rows x 9 columns]",
            "text/html": "<div>\n<style scoped>\n    .dataframe tbody tr th:only-of-type {\n        vertical-align: middle;\n    }\n\n    .dataframe tbody tr th {\n        vertical-align: top;\n    }\n\n    .dataframe thead th {\n        text-align: right;\n    }\n</style>\n<table border=\"1\" class=\"dataframe\">\n  <thead>\n    <tr style=\"text-align: right;\">\n      <th></th>\n      <th>Brand me</th>\n      <th>Ratings</th>\n      <th>RAM</th>\n      <th>ROM</th>\n      <th>Mobile_Size</th>\n      <th>Primary_Cam</th>\n      <th>Selfi_Cam</th>\n      <th>Battery_Power</th>\n      <th>Price</th>\n    </tr>\n  </thead>\n  <tbody>\n    <tr>\n      <th>25</th>\n      <td>Snexian Guru 332</td>\n      <td>4.5</td>\n      <td>6.0</td>\n      <td>32.0</td>\n      <td>4.50</td>\n      <td>64</td>\n      <td>13.0</td>\n      <td>3000</td>\n      <td>649</td>\n    </tr>\n    <tr>\n      <th>41</th>\n      <td>Inovu A9</td>\n      <td>3.6</td>\n      <td>6.0</td>\n      <td>32.0</td>\n      <td>4.54</td>\n      <td>38</td>\n      <td>0.0</td>\n      <td>1200</td>\n      <td>945</td>\n    </tr>\n    <tr>\n      <th>47</th>\n      <td>Jivi R21Plus</td>\n      <td>4.3</td>\n      <td>1.0</td>\n      <td>16.0</td>\n      <td>4.50</td>\n      <td>48</td>\n      <td>2.0</td>\n      <td>3000</td>\n      <td>869</td>\n    </tr>\n    <tr>\n      <th>55</th>\n      <td>InFocus POWER 2</td>\n      <td>4.1</td>\n      <td>8.0</td>\n      <td>64.0</td>\n      <td>4.54</td>\n      <td>64</td>\n      <td>13.0</td>\n      <td>2500</td>\n      <td>1390</td>\n    </tr>\n    <tr>\n      <th>62</th>\n      <td>Kechaoda A32</td>\n      <td>3.8</td>\n      <td>6.0</td>\n      <td>32.0</td>\n      <td>4.40</td>\n      <td>48</td>\n      <td>8.0</td>\n      <td>3000</td>\n      <td>930</td>\n    </tr>\n    <tr>\n      <th>...</th>\n      <td>...</td>\n      <td>...</td>\n      <td>...</td>\n      <td>...</td>\n      <td>...</td>\n      <td>...</td>\n      <td>...</td>\n      <td>...</td>\n      <td>...</td>\n    </tr>\n    <tr>\n      <th>831</th>\n      <td>Karbonn K24 Plus Pro</td>\n      <td>3.8</td>\n      <td>6.0</td>\n      <td>32.0</td>\n      <td>4.54</td>\n      <td>48</td>\n      <td>12.0</td>\n      <td>2800</td>\n      <td>1299</td>\n    </tr>\n    <tr>\n      <th>832</th>\n      <td>InFocus POWER 2</td>\n      <td>4.1</td>\n      <td>8.0</td>\n      <td>64.0</td>\n      <td>4.54</td>\n      <td>64</td>\n      <td>8.0</td>\n      <td>2500</td>\n      <td>1390</td>\n    </tr>\n    <tr>\n      <th>833</th>\n      <td>Alcatel 5V (Spectrum Blue, 32 )</td>\n      <td>4.4</td>\n      <td>3.0</td>\n      <td>32.0</td>\n      <td>6.20</td>\n      <td>48</td>\n      <td>1.0</td>\n      <td>3800</td>\n      <td>9790</td>\n    </tr>\n    <tr>\n      <th>834</th>\n      <td>JIVI JV 12M</td>\n      <td>3.7</td>\n      <td>10.0</td>\n      <td>32.0</td>\n      <td>4.50</td>\n      <td>64</td>\n      <td>8.0</td>\n      <td>3500</td>\n      <td>799</td>\n    </tr>\n    <tr>\n      <th>835</th>\n      <td>Blacear B5 Grip</td>\n      <td>3.5</td>\n      <td>6.0</td>\n      <td>32.0</td>\n      <td>4.50</td>\n      <td>64</td>\n      <td>15.0</td>\n      <td>1050</td>\n      <td>799</td>\n    </tr>\n  </tbody>\n</table>\n<p>409 rows × 9 columns</p>\n</div>"
          },
          "metadata": {}
        }
      ],
      "execution_count": 121
    },
    {
      "cell_type": "markdown",
      "source": "# Check the numerical representation",
      "metadata": {}
    },
    {
      "cell_type": "code",
      "source": "df.describe()",
      "metadata": {
        "trusted": true
      },
      "outputs": [
        {
          "execution_count": 122,
          "output_type": "execute_result",
          "data": {
            "text/plain": "          Ratings         RAM         ROM  Mobile_Size  Primary_Cam  \\\ncount  836.000000  836.000000  836.000000   836.000000   836.000000   \nmean     4.117823    6.065789   64.218182     5.594657    47.983254   \nstd      0.366280    2.519714   53.366485     3.894362    11.170093   \nmin      2.800000    0.000000    0.000000     2.000000     5.000000   \n25%      3.900000    6.000000   32.000000     4.500000    48.000000   \n50%      4.150000    6.000000   35.000000     4.735000    48.000000   \n75%      4.400000    6.000000   64.000000     6.300000    48.000000   \nmax      4.800000   34.000000  256.000000    44.000000    64.000000   \n\n        Selfi_Cam  Battery_Power         Price  \ncount  836.000000     836.000000     836.00000  \nmean     9.210526    3274.688995   18220.34689  \nstd      5.419299     927.518852   52805.55022  \nmin      0.000000    1020.000000     479.00000  \n25%      8.000000    3000.000000     984.75000  \n50%      8.000000    3000.000000    1697.00000  \n75%     12.000000    3800.000000   18999.00000  \nmax     61.000000    6000.000000  573000.00000  ",
            "text/html": "<div>\n<style scoped>\n    .dataframe tbody tr th:only-of-type {\n        vertical-align: middle;\n    }\n\n    .dataframe tbody tr th {\n        vertical-align: top;\n    }\n\n    .dataframe thead th {\n        text-align: right;\n    }\n</style>\n<table border=\"1\" class=\"dataframe\">\n  <thead>\n    <tr style=\"text-align: right;\">\n      <th></th>\n      <th>Ratings</th>\n      <th>RAM</th>\n      <th>ROM</th>\n      <th>Mobile_Size</th>\n      <th>Primary_Cam</th>\n      <th>Selfi_Cam</th>\n      <th>Battery_Power</th>\n      <th>Price</th>\n    </tr>\n  </thead>\n  <tbody>\n    <tr>\n      <th>count</th>\n      <td>836.000000</td>\n      <td>836.000000</td>\n      <td>836.000000</td>\n      <td>836.000000</td>\n      <td>836.000000</td>\n      <td>836.000000</td>\n      <td>836.000000</td>\n      <td>836.00000</td>\n    </tr>\n    <tr>\n      <th>mean</th>\n      <td>4.117823</td>\n      <td>6.065789</td>\n      <td>64.218182</td>\n      <td>5.594657</td>\n      <td>47.983254</td>\n      <td>9.210526</td>\n      <td>3274.688995</td>\n      <td>18220.34689</td>\n    </tr>\n    <tr>\n      <th>std</th>\n      <td>0.366280</td>\n      <td>2.519714</td>\n      <td>53.366485</td>\n      <td>3.894362</td>\n      <td>11.170093</td>\n      <td>5.419299</td>\n      <td>927.518852</td>\n      <td>52805.55022</td>\n    </tr>\n    <tr>\n      <th>min</th>\n      <td>2.800000</td>\n      <td>0.000000</td>\n      <td>0.000000</td>\n      <td>2.000000</td>\n      <td>5.000000</td>\n      <td>0.000000</td>\n      <td>1020.000000</td>\n      <td>479.00000</td>\n    </tr>\n    <tr>\n      <th>25%</th>\n      <td>3.900000</td>\n      <td>6.000000</td>\n      <td>32.000000</td>\n      <td>4.500000</td>\n      <td>48.000000</td>\n      <td>8.000000</td>\n      <td>3000.000000</td>\n      <td>984.75000</td>\n    </tr>\n    <tr>\n      <th>50%</th>\n      <td>4.150000</td>\n      <td>6.000000</td>\n      <td>35.000000</td>\n      <td>4.735000</td>\n      <td>48.000000</td>\n      <td>8.000000</td>\n      <td>3000.000000</td>\n      <td>1697.00000</td>\n    </tr>\n    <tr>\n      <th>75%</th>\n      <td>4.400000</td>\n      <td>6.000000</td>\n      <td>64.000000</td>\n      <td>6.300000</td>\n      <td>48.000000</td>\n      <td>12.000000</td>\n      <td>3800.000000</td>\n      <td>18999.00000</td>\n    </tr>\n    <tr>\n      <th>max</th>\n      <td>4.800000</td>\n      <td>34.000000</td>\n      <td>256.000000</td>\n      <td>44.000000</td>\n      <td>64.000000</td>\n      <td>61.000000</td>\n      <td>6000.000000</td>\n      <td>573000.00000</td>\n    </tr>\n  </tbody>\n</table>\n</div>"
          },
          "metadata": {}
        }
      ],
      "execution_count": 122
    },
    {
      "cell_type": "code",
      "source": "df.info()",
      "metadata": {
        "trusted": true
      },
      "outputs": [
        {
          "name": "stdout",
          "text": "<class 'pandas.core.frame.DataFrame'>\nRangeIndex: 836 entries, 0 to 835\nData columns (total 9 columns):\n #   Column         Non-Null Count  Dtype  \n---  ------         --------------  -----  \n 0   Brand me       836 non-null    object \n 1   Ratings        836 non-null    float64\n 2   RAM            836 non-null    float64\n 3   ROM            836 non-null    float64\n 4   Mobile_Size    836 non-null    float64\n 5   Primary_Cam    836 non-null    int64  \n 6   Selfi_Cam      836 non-null    float64\n 7   Battery_Power  836 non-null    int64  \n 8   Price          836 non-null    int64  \ndtypes: float64(5), int64(3), object(1)\nmemory usage: 55.6+ KB\n",
          "output_type": "stream"
        }
      ],
      "execution_count": 123
    },
    {
      "cell_type": "markdown",
      "source": "#### Change the dtype of selfi cam from float64 in int 64",
      "metadata": {}
    },
    {
      "cell_type": "code",
      "source": "df['Selfi_Cam']=df['Selfi_Cam'].astype('int64')",
      "metadata": {
        "trusted": true
      },
      "outputs": [],
      "execution_count": 124
    },
    {
      "cell_type": "code",
      "source": "df.head(2)",
      "metadata": {
        "trusted": true
      },
      "outputs": [
        {
          "execution_count": 125,
          "output_type": "execute_result",
          "data": {
            "text/plain": "                Brand me  Ratings  RAM    ROM  Mobile_Size  Primary_Cam  \\\n0  LG V30+ (Black, 128 )      4.3  4.0  128.0          6.0           48   \n1             I Kall K11      3.4  6.0   64.0          4.5           48   \n\n   Selfi_Cam  Battery_Power  Price  \n0         13           4000  24999  \n1         12           4000  15999  ",
            "text/html": "<div>\n<style scoped>\n    .dataframe tbody tr th:only-of-type {\n        vertical-align: middle;\n    }\n\n    .dataframe tbody tr th {\n        vertical-align: top;\n    }\n\n    .dataframe thead th {\n        text-align: right;\n    }\n</style>\n<table border=\"1\" class=\"dataframe\">\n  <thead>\n    <tr style=\"text-align: right;\">\n      <th></th>\n      <th>Brand me</th>\n      <th>Ratings</th>\n      <th>RAM</th>\n      <th>ROM</th>\n      <th>Mobile_Size</th>\n      <th>Primary_Cam</th>\n      <th>Selfi_Cam</th>\n      <th>Battery_Power</th>\n      <th>Price</th>\n    </tr>\n  </thead>\n  <tbody>\n    <tr>\n      <th>0</th>\n      <td>LG V30+ (Black, 128 )</td>\n      <td>4.3</td>\n      <td>4.0</td>\n      <td>128.0</td>\n      <td>6.0</td>\n      <td>48</td>\n      <td>13</td>\n      <td>4000</td>\n      <td>24999</td>\n    </tr>\n    <tr>\n      <th>1</th>\n      <td>I Kall K11</td>\n      <td>3.4</td>\n      <td>6.0</td>\n      <td>64.0</td>\n      <td>4.5</td>\n      <td>48</td>\n      <td>12</td>\n      <td>4000</td>\n      <td>15999</td>\n    </tr>\n  </tbody>\n</table>\n</div>"
          },
          "metadata": {}
        }
      ],
      "execution_count": 125
    },
    {
      "cell_type": "code",
      "source": "df.dtypes",
      "metadata": {
        "trusted": true
      },
      "outputs": [
        {
          "execution_count": 126,
          "output_type": "execute_result",
          "data": {
            "text/plain": "Brand me          object\nRatings          float64\nRAM              float64\nROM              float64\nMobile_Size      float64\nPrimary_Cam        int64\nSelfi_Cam          int64\nBattery_Power      int64\nPrice              int64\ndtype: object"
          },
          "metadata": {}
        }
      ],
      "execution_count": 126
    },
    {
      "cell_type": "markdown",
      "source": "### Change the RAM\tROM data type",
      "metadata": {}
    },
    {
      "cell_type": "code",
      "source": "df[['RAM','ROM']]=df[['RAM','ROM']].astype('int64')",
      "metadata": {
        "trusted": true
      },
      "outputs": [],
      "execution_count": 127
    },
    {
      "cell_type": "code",
      "source": "df.head(2)",
      "metadata": {
        "trusted": true
      },
      "outputs": [
        {
          "execution_count": 128,
          "output_type": "execute_result",
          "data": {
            "text/plain": "                Brand me  Ratings  RAM  ROM  Mobile_Size  Primary_Cam  \\\n0  LG V30+ (Black, 128 )      4.3    4  128          6.0           48   \n1             I Kall K11      3.4    6   64          4.5           48   \n\n   Selfi_Cam  Battery_Power  Price  \n0         13           4000  24999  \n1         12           4000  15999  ",
            "text/html": "<div>\n<style scoped>\n    .dataframe tbody tr th:only-of-type {\n        vertical-align: middle;\n    }\n\n    .dataframe tbody tr th {\n        vertical-align: top;\n    }\n\n    .dataframe thead th {\n        text-align: right;\n    }\n</style>\n<table border=\"1\" class=\"dataframe\">\n  <thead>\n    <tr style=\"text-align: right;\">\n      <th></th>\n      <th>Brand me</th>\n      <th>Ratings</th>\n      <th>RAM</th>\n      <th>ROM</th>\n      <th>Mobile_Size</th>\n      <th>Primary_Cam</th>\n      <th>Selfi_Cam</th>\n      <th>Battery_Power</th>\n      <th>Price</th>\n    </tr>\n  </thead>\n  <tbody>\n    <tr>\n      <th>0</th>\n      <td>LG V30+ (Black, 128 )</td>\n      <td>4.3</td>\n      <td>4</td>\n      <td>128</td>\n      <td>6.0</td>\n      <td>48</td>\n      <td>13</td>\n      <td>4000</td>\n      <td>24999</td>\n    </tr>\n    <tr>\n      <th>1</th>\n      <td>I Kall K11</td>\n      <td>3.4</td>\n      <td>6</td>\n      <td>64</td>\n      <td>4.5</td>\n      <td>48</td>\n      <td>12</td>\n      <td>4000</td>\n      <td>15999</td>\n    </tr>\n  </tbody>\n</table>\n</div>"
          },
          "metadata": {}
        }
      ],
      "execution_count": 128
    },
    {
      "cell_type": "code",
      "source": "df.dtypes",
      "metadata": {
        "trusted": true
      },
      "outputs": [
        {
          "execution_count": 129,
          "output_type": "execute_result",
          "data": {
            "text/plain": "Brand me          object\nRatings          float64\nRAM                int64\nROM                int64\nMobile_Size      float64\nPrimary_Cam        int64\nSelfi_Cam          int64\nBattery_Power      int64\nPrice              int64\ndtype: object"
          },
          "metadata": {}
        }
      ],
      "execution_count": 129
    },
    {
      "cell_type": "markdown",
      "source": "# Corrections done for numerical dtata ",
      "metadata": {}
    },
    {
      "cell_type": "markdown",
      "source": "# EDA",
      "metadata": {}
    },
    {
      "cell_type": "markdown",
      "source": "### Top 10 Mobiles based on the price",
      "metadata": {}
    },
    {
      "cell_type": "code",
      "source": "df.sort_values(by='Price',ascending=False).head(10)",
      "metadata": {
        "trusted": true
      },
      "outputs": [
        {
          "execution_count": 29,
          "output_type": "execute_result",
          "data": {
            "text/plain": "                                   Brand me  Ratings  RAM  ROM  Mobile_Size  \\\n454    Apple iPhone XR ((PRODUCT)RED, 128 )      4.6   12   64         6.10   \n35     Apple iPhone XR ((PRODUCT)RED, 128 )      4.6   12  128         6.10   \n115          Apple iPhone XR (Yellow, 128 )      4.6   12   64         6.10   \n500           Apple iPhone XR (Coral, 128 )      4.6   12   64         6.10   \n774  Samsung Galaxy S10 (Prism White, 512 )      4.6    8  128         6.10   \n437  Samsung Galaxy S10 (Prism White, 512 )      4.6    8  128         6.10   \n191   Vivo V17Pro (Glacier Ice White, 128 )      4.5    8  128         6.44   \n140      Redmi Note 8 (Cosmic Purple, 128 )      4.4    6  128         6.30   \n773      Apple iPhone 11 Pro (Silver, 512 )      4.7    8   64         5.80   \n436      Apple iPhone 11 Pro (Silver, 512 )      4.7    8   64         5.80   \n\n     Primary_Cam  Selfi_Cam  Battery_Power   Price  \n454           35          7           3500  573000  \n35            35          7           3500  573000  \n115           35          7           3500  573000  \n500           35          7           3500  573000  \n774           48         12           3000  563000  \n437           48         12           3000  563000  \n191           48         13           4100  253000  \n140           48          1           3800  153000  \n773           35         12           3500  140300  \n436           35         12           5000  140300  ",
            "text/html": "<div>\n<style scoped>\n    .dataframe tbody tr th:only-of-type {\n        vertical-align: middle;\n    }\n\n    .dataframe tbody tr th {\n        vertical-align: top;\n    }\n\n    .dataframe thead th {\n        text-align: right;\n    }\n</style>\n<table border=\"1\" class=\"dataframe\">\n  <thead>\n    <tr style=\"text-align: right;\">\n      <th></th>\n      <th>Brand me</th>\n      <th>Ratings</th>\n      <th>RAM</th>\n      <th>ROM</th>\n      <th>Mobile_Size</th>\n      <th>Primary_Cam</th>\n      <th>Selfi_Cam</th>\n      <th>Battery_Power</th>\n      <th>Price</th>\n    </tr>\n  </thead>\n  <tbody>\n    <tr>\n      <th>454</th>\n      <td>Apple iPhone XR ((PRODUCT)RED, 128 )</td>\n      <td>4.6</td>\n      <td>12</td>\n      <td>64</td>\n      <td>6.10</td>\n      <td>35</td>\n      <td>7</td>\n      <td>3500</td>\n      <td>573000</td>\n    </tr>\n    <tr>\n      <th>35</th>\n      <td>Apple iPhone XR ((PRODUCT)RED, 128 )</td>\n      <td>4.6</td>\n      <td>12</td>\n      <td>128</td>\n      <td>6.10</td>\n      <td>35</td>\n      <td>7</td>\n      <td>3500</td>\n      <td>573000</td>\n    </tr>\n    <tr>\n      <th>115</th>\n      <td>Apple iPhone XR (Yellow, 128 )</td>\n      <td>4.6</td>\n      <td>12</td>\n      <td>64</td>\n      <td>6.10</td>\n      <td>35</td>\n      <td>7</td>\n      <td>3500</td>\n      <td>573000</td>\n    </tr>\n    <tr>\n      <th>500</th>\n      <td>Apple iPhone XR (Coral, 128 )</td>\n      <td>4.6</td>\n      <td>12</td>\n      <td>64</td>\n      <td>6.10</td>\n      <td>35</td>\n      <td>7</td>\n      <td>3500</td>\n      <td>573000</td>\n    </tr>\n    <tr>\n      <th>774</th>\n      <td>Samsung Galaxy S10 (Prism White, 512 )</td>\n      <td>4.6</td>\n      <td>8</td>\n      <td>128</td>\n      <td>6.10</td>\n      <td>48</td>\n      <td>12</td>\n      <td>3000</td>\n      <td>563000</td>\n    </tr>\n    <tr>\n      <th>437</th>\n      <td>Samsung Galaxy S10 (Prism White, 512 )</td>\n      <td>4.6</td>\n      <td>8</td>\n      <td>128</td>\n      <td>6.10</td>\n      <td>48</td>\n      <td>12</td>\n      <td>3000</td>\n      <td>563000</td>\n    </tr>\n    <tr>\n      <th>191</th>\n      <td>Vivo V17Pro (Glacier Ice White, 128 )</td>\n      <td>4.5</td>\n      <td>8</td>\n      <td>128</td>\n      <td>6.44</td>\n      <td>48</td>\n      <td>13</td>\n      <td>4100</td>\n      <td>253000</td>\n    </tr>\n    <tr>\n      <th>140</th>\n      <td>Redmi Note 8 (Cosmic Purple, 128 )</td>\n      <td>4.4</td>\n      <td>6</td>\n      <td>128</td>\n      <td>6.30</td>\n      <td>48</td>\n      <td>1</td>\n      <td>3800</td>\n      <td>153000</td>\n    </tr>\n    <tr>\n      <th>773</th>\n      <td>Apple iPhone 11 Pro (Silver, 512 )</td>\n      <td>4.7</td>\n      <td>8</td>\n      <td>64</td>\n      <td>5.80</td>\n      <td>35</td>\n      <td>12</td>\n      <td>3500</td>\n      <td>140300</td>\n    </tr>\n    <tr>\n      <th>436</th>\n      <td>Apple iPhone 11 Pro (Silver, 512 )</td>\n      <td>4.7</td>\n      <td>8</td>\n      <td>64</td>\n      <td>5.80</td>\n      <td>35</td>\n      <td>12</td>\n      <td>5000</td>\n      <td>140300</td>\n    </tr>\n  </tbody>\n</table>\n</div>"
          },
          "metadata": {}
        }
      ],
      "execution_count": 29
    },
    {
      "cell_type": "markdown",
      "source": "### Top 10 rating mobiles",
      "metadata": {}
    },
    {
      "cell_type": "code",
      "source": "df.sort_values(by='Ratings',ascending=False).head(10)",
      "metadata": {
        "trusted": true
      },
      "outputs": [
        {
          "execution_count": 30,
          "output_type": "execute_result",
          "data": {
            "text/plain": "                                    Brand me  Ratings  RAM  ROM  Mobile_Size  \\\n227                             Forme Turbo1      4.8   12   15          4.5   \n489  Apple iPhone 8 (PRODUCT)RED (Red, 256 )      4.7   12   64          4.7   \n749   Apple iPhone 11 Pro (Space Grey, 512 )      4.7    8   64          5.8   \n807      Apple iPhone 11 Pro Max (Gold, 64 )      4.7    8   64          6.5   \n223           Apple iPhone XS (Silver, 512 )      4.7    8   64          5.8   \n478      Apple iPhone 11 Pro Max (Gold, 64 )      4.7    8   64          6.5   \n67             Apple iPhone 11 (Yellow, 64 )      4.7    8   64          6.1   \n66   Apple iPhone 8 (PRODUCT)RED (Red, 256 )      4.7   12  256          4.7   \n436       Apple iPhone 11 Pro (Silver, 512 )      4.7    8   64          5.8   \n490            Apple iPhone 11 (Yellow, 64 )      4.7    8   64          6.1   \n\n     Primary_Cam  Selfi_Cam  Battery_Power   Price  \n227           35          8           2800     899  \n489           35          7           3500   56999  \n749           35         12           3500  140300  \n807           35         12           3500  117100  \n223           35         12           3500  112450  \n478           35         12           3500  117100  \n67            35         12           3800   68300  \n66            35          7           5000   56999  \n436           35         12           5000  140300  \n490           35         12           3500   68300  ",
            "text/html": "<div>\n<style scoped>\n    .dataframe tbody tr th:only-of-type {\n        vertical-align: middle;\n    }\n\n    .dataframe tbody tr th {\n        vertical-align: top;\n    }\n\n    .dataframe thead th {\n        text-align: right;\n    }\n</style>\n<table border=\"1\" class=\"dataframe\">\n  <thead>\n    <tr style=\"text-align: right;\">\n      <th></th>\n      <th>Brand me</th>\n      <th>Ratings</th>\n      <th>RAM</th>\n      <th>ROM</th>\n      <th>Mobile_Size</th>\n      <th>Primary_Cam</th>\n      <th>Selfi_Cam</th>\n      <th>Battery_Power</th>\n      <th>Price</th>\n    </tr>\n  </thead>\n  <tbody>\n    <tr>\n      <th>227</th>\n      <td>Forme Turbo1</td>\n      <td>4.8</td>\n      <td>12</td>\n      <td>15</td>\n      <td>4.5</td>\n      <td>35</td>\n      <td>8</td>\n      <td>2800</td>\n      <td>899</td>\n    </tr>\n    <tr>\n      <th>489</th>\n      <td>Apple iPhone 8 (PRODUCT)RED (Red, 256 )</td>\n      <td>4.7</td>\n      <td>12</td>\n      <td>64</td>\n      <td>4.7</td>\n      <td>35</td>\n      <td>7</td>\n      <td>3500</td>\n      <td>56999</td>\n    </tr>\n    <tr>\n      <th>749</th>\n      <td>Apple iPhone 11 Pro (Space Grey, 512 )</td>\n      <td>4.7</td>\n      <td>8</td>\n      <td>64</td>\n      <td>5.8</td>\n      <td>35</td>\n      <td>12</td>\n      <td>3500</td>\n      <td>140300</td>\n    </tr>\n    <tr>\n      <th>807</th>\n      <td>Apple iPhone 11 Pro Max (Gold, 64 )</td>\n      <td>4.7</td>\n      <td>8</td>\n      <td>64</td>\n      <td>6.5</td>\n      <td>35</td>\n      <td>12</td>\n      <td>3500</td>\n      <td>117100</td>\n    </tr>\n    <tr>\n      <th>223</th>\n      <td>Apple iPhone XS (Silver, 512 )</td>\n      <td>4.7</td>\n      <td>8</td>\n      <td>64</td>\n      <td>5.8</td>\n      <td>35</td>\n      <td>12</td>\n      <td>3500</td>\n      <td>112450</td>\n    </tr>\n    <tr>\n      <th>478</th>\n      <td>Apple iPhone 11 Pro Max (Gold, 64 )</td>\n      <td>4.7</td>\n      <td>8</td>\n      <td>64</td>\n      <td>6.5</td>\n      <td>35</td>\n      <td>12</td>\n      <td>3500</td>\n      <td>117100</td>\n    </tr>\n    <tr>\n      <th>67</th>\n      <td>Apple iPhone 11 (Yellow, 64 )</td>\n      <td>4.7</td>\n      <td>8</td>\n      <td>64</td>\n      <td>6.1</td>\n      <td>35</td>\n      <td>12</td>\n      <td>3800</td>\n      <td>68300</td>\n    </tr>\n    <tr>\n      <th>66</th>\n      <td>Apple iPhone 8 (PRODUCT)RED (Red, 256 )</td>\n      <td>4.7</td>\n      <td>12</td>\n      <td>256</td>\n      <td>4.7</td>\n      <td>35</td>\n      <td>7</td>\n      <td>5000</td>\n      <td>56999</td>\n    </tr>\n    <tr>\n      <th>436</th>\n      <td>Apple iPhone 11 Pro (Silver, 512 )</td>\n      <td>4.7</td>\n      <td>8</td>\n      <td>64</td>\n      <td>5.8</td>\n      <td>35</td>\n      <td>12</td>\n      <td>5000</td>\n      <td>140300</td>\n    </tr>\n    <tr>\n      <th>490</th>\n      <td>Apple iPhone 11 (Yellow, 64 )</td>\n      <td>4.7</td>\n      <td>8</td>\n      <td>64</td>\n      <td>6.1</td>\n      <td>35</td>\n      <td>12</td>\n      <td>3500</td>\n      <td>68300</td>\n    </tr>\n  </tbody>\n</table>\n</div>"
          },
          "metadata": {}
        }
      ],
      "execution_count": 30
    },
    {
      "cell_type": "markdown",
      "source": "### Top 10 mobiles based on Battery",
      "metadata": {}
    },
    {
      "cell_type": "code",
      "source": "df.sort_values(by='Battery_Power',ascending=False).head(10)",
      "metadata": {
        "trusted": true
      },
      "outputs": [
        {
          "execution_count": 31,
          "output_type": "execute_result",
          "data": {
            "text/plain": "                                    Brand me  Ratings  RAM  ROM  Mobile_Size  \\\n278    Tecno Spark Power 2 (Misty Grey, 64 )      4.3    4   64         7.00   \n403    Samsung Galaxy M31 (Ocean Blue, 128 )      4.5    6  128         6.40   \n326   Samsung Galaxy M31 (Space Black, 128 )      4.5    6  128         6.40   \n591   Samsung Galaxy M31 (Space Black, 128 )      4.5    6  128         6.40   \n665    Samsung Galaxy M31 (Ocean Blue, 128 )      4.5    6  128         6.40   \n279   Tecno Spark Power 2 (Ice Jadeite, 64 )      4.3    4   64         7.00   \n266         Realme rzo 10 (That White, 128 )      4.5    4  128         6.50   \n275            Vivo U10 (Electric Blue, 32 )      4.4    3   32         6.35   \n274  Motorola One Fus+ (Twilight Blue, 128 )      4.5    6  128         6.50   \n273            Vivo U10 (Thunder Black, 32 )      4.4    3   32         6.35   \n\n     Primary_Cam  Selfi_Cam  Battery_Power  Price  \n278           48          5           6000   9999  \n403           64          8           6000  19900  \n326           64          8           6000  19900  \n591           64          8           6000  19900  \n665           64          8           6000  19900  \n279           48          5           6000   9999  \n266           48          8           5000  11999  \n275           38          8           5000  10990  \n274           64          8           5000  17499  \n273           38          8           5000  10990  ",
            "text/html": "<div>\n<style scoped>\n    .dataframe tbody tr th:only-of-type {\n        vertical-align: middle;\n    }\n\n    .dataframe tbody tr th {\n        vertical-align: top;\n    }\n\n    .dataframe thead th {\n        text-align: right;\n    }\n</style>\n<table border=\"1\" class=\"dataframe\">\n  <thead>\n    <tr style=\"text-align: right;\">\n      <th></th>\n      <th>Brand me</th>\n      <th>Ratings</th>\n      <th>RAM</th>\n      <th>ROM</th>\n      <th>Mobile_Size</th>\n      <th>Primary_Cam</th>\n      <th>Selfi_Cam</th>\n      <th>Battery_Power</th>\n      <th>Price</th>\n    </tr>\n  </thead>\n  <tbody>\n    <tr>\n      <th>278</th>\n      <td>Tecno Spark Power 2 (Misty Grey, 64 )</td>\n      <td>4.3</td>\n      <td>4</td>\n      <td>64</td>\n      <td>7.00</td>\n      <td>48</td>\n      <td>5</td>\n      <td>6000</td>\n      <td>9999</td>\n    </tr>\n    <tr>\n      <th>403</th>\n      <td>Samsung Galaxy M31 (Ocean Blue, 128 )</td>\n      <td>4.5</td>\n      <td>6</td>\n      <td>128</td>\n      <td>6.40</td>\n      <td>64</td>\n      <td>8</td>\n      <td>6000</td>\n      <td>19900</td>\n    </tr>\n    <tr>\n      <th>326</th>\n      <td>Samsung Galaxy M31 (Space Black, 128 )</td>\n      <td>4.5</td>\n      <td>6</td>\n      <td>128</td>\n      <td>6.40</td>\n      <td>64</td>\n      <td>8</td>\n      <td>6000</td>\n      <td>19900</td>\n    </tr>\n    <tr>\n      <th>591</th>\n      <td>Samsung Galaxy M31 (Space Black, 128 )</td>\n      <td>4.5</td>\n      <td>6</td>\n      <td>128</td>\n      <td>6.40</td>\n      <td>64</td>\n      <td>8</td>\n      <td>6000</td>\n      <td>19900</td>\n    </tr>\n    <tr>\n      <th>665</th>\n      <td>Samsung Galaxy M31 (Ocean Blue, 128 )</td>\n      <td>4.5</td>\n      <td>6</td>\n      <td>128</td>\n      <td>6.40</td>\n      <td>64</td>\n      <td>8</td>\n      <td>6000</td>\n      <td>19900</td>\n    </tr>\n    <tr>\n      <th>279</th>\n      <td>Tecno Spark Power 2 (Ice Jadeite, 64 )</td>\n      <td>4.3</td>\n      <td>4</td>\n      <td>64</td>\n      <td>7.00</td>\n      <td>48</td>\n      <td>5</td>\n      <td>6000</td>\n      <td>9999</td>\n    </tr>\n    <tr>\n      <th>266</th>\n      <td>Realme rzo 10 (That White, 128 )</td>\n      <td>4.5</td>\n      <td>4</td>\n      <td>128</td>\n      <td>6.50</td>\n      <td>48</td>\n      <td>8</td>\n      <td>5000</td>\n      <td>11999</td>\n    </tr>\n    <tr>\n      <th>275</th>\n      <td>Vivo U10 (Electric Blue, 32 )</td>\n      <td>4.4</td>\n      <td>3</td>\n      <td>32</td>\n      <td>6.35</td>\n      <td>38</td>\n      <td>8</td>\n      <td>5000</td>\n      <td>10990</td>\n    </tr>\n    <tr>\n      <th>274</th>\n      <td>Motorola One Fus+ (Twilight Blue, 128 )</td>\n      <td>4.5</td>\n      <td>6</td>\n      <td>128</td>\n      <td>6.50</td>\n      <td>64</td>\n      <td>8</td>\n      <td>5000</td>\n      <td>17499</td>\n    </tr>\n    <tr>\n      <th>273</th>\n      <td>Vivo U10 (Thunder Black, 32 )</td>\n      <td>4.4</td>\n      <td>3</td>\n      <td>32</td>\n      <td>6.35</td>\n      <td>38</td>\n      <td>8</td>\n      <td>5000</td>\n      <td>10990</td>\n    </tr>\n  </tbody>\n</table>\n</div>"
          },
          "metadata": {}
        }
      ],
      "execution_count": 31
    },
    {
      "cell_type": "markdown",
      "source": "# Check the outliers are present or not",
      "metadata": {}
    },
    {
      "cell_type": "code",
      "source": "sns.boxplot(df['Price'])",
      "metadata": {
        "trusted": true
      },
      "outputs": [
        {
          "execution_count": 32,
          "output_type": "execute_result",
          "data": {
            "text/plain": "<AxesSubplot:ylabel='Price'>"
          },
          "metadata": {}
        },
        {
          "output_type": "display_data",
          "data": {
            "text/plain": "<Figure size 640x480 with 1 Axes>",
            "image/png": "[encoded data removed]"
          },
          "metadata": {}
        }
      ],
      "execution_count": 32
    },
    {
      "cell_type": "markdown",
      "source": "### We can't remove the outliers here because small data set so we will go for normalization",
      "metadata": {}
    },
    {
      "cell_type": "code",
      "source": "df.columns",
      "metadata": {
        "trusted": true
      },
      "outputs": [
        {
          "execution_count": 33,
          "output_type": "execute_result",
          "data": {
            "text/plain": "Index(['Brand me', 'Ratings', 'RAM', 'ROM', 'Mobile_Size', 'Primary_Cam',\n       'Selfi_Cam', 'Battery_Power', 'Price'],\n      dtype='object')"
          },
          "metadata": {}
        }
      ],
      "execution_count": 33
    },
    {
      "cell_type": "code",
      "source": "plt.subplots(figsize=(20,7))\nsns.boxplot(df[['Ratings','RAM', 'ROM', 'Mobile_Size', 'Primary_Cam',\n       'Selfi_Cam']])\nplt.show()",
      "metadata": {
        "trusted": true
      },
      "outputs": [
        {
          "output_type": "display_data",
          "data": {
            "text/plain": "<Figure size 2000x700 with 1 Axes>",
            "image/png": "[encoded data removed]"
          },
          "metadata": {}
        }
      ],
      "execution_count": 34
    },
    {
      "cell_type": "markdown",
      "source": "### Do EDA on RAM ROM Mobile size and selfi cam",
      "metadata": {}
    },
    {
      "cell_type": "code",
      "source": "df.sort_values(by='RAM',ascending=False).head(5)",
      "metadata": {
        "trusted": true
      },
      "outputs": [
        {
          "execution_count": 35,
          "output_type": "execute_result",
          "data": {
            "text/plain": "                                   Brand me  Ratings  RAM  ROM  Mobile_Size  \\\n205                      Intex Eco Selfie 2      3.9   34   64         4.50   \n190                             JIVI JV 12M      4.0   30    0         4.50   \n165                              Micax X773      3.8   25   25         4.54   \n550  Apple iPhone 11 Pro (Space Grey, 256 )      4.7   12   64         5.80   \n35     Apple iPhone XR ((PRODUCT)RED, 128 )      4.6   12  128         6.10   \n\n     Primary_Cam  Selfi_Cam  Battery_Power   Price  \n205           48         21           3000     955  \n190           64          8           3500     799  \n165           48          8           3000    1199  \n550           35         12           3500  121300  \n35            35          7           3500  573000  ",
            "text/html": "<div>\n<style scoped>\n    .dataframe tbody tr th:only-of-type {\n        vertical-align: middle;\n    }\n\n    .dataframe tbody tr th {\n        vertical-align: top;\n    }\n\n    .dataframe thead th {\n        text-align: right;\n    }\n</style>\n<table border=\"1\" class=\"dataframe\">\n  <thead>\n    <tr style=\"text-align: right;\">\n      <th></th>\n      <th>Brand me</th>\n      <th>Ratings</th>\n      <th>RAM</th>\n      <th>ROM</th>\n      <th>Mobile_Size</th>\n      <th>Primary_Cam</th>\n      <th>Selfi_Cam</th>\n      <th>Battery_Power</th>\n      <th>Price</th>\n    </tr>\n  </thead>\n  <tbody>\n    <tr>\n      <th>205</th>\n      <td>Intex Eco Selfie 2</td>\n      <td>3.9</td>\n      <td>34</td>\n      <td>64</td>\n      <td>4.50</td>\n      <td>48</td>\n      <td>21</td>\n      <td>3000</td>\n      <td>955</td>\n    </tr>\n    <tr>\n      <th>190</th>\n      <td>JIVI JV 12M</td>\n      <td>4.0</td>\n      <td>30</td>\n      <td>0</td>\n      <td>4.50</td>\n      <td>64</td>\n      <td>8</td>\n      <td>3500</td>\n      <td>799</td>\n    </tr>\n    <tr>\n      <th>165</th>\n      <td>Micax X773</td>\n      <td>3.8</td>\n      <td>25</td>\n      <td>25</td>\n      <td>4.54</td>\n      <td>48</td>\n      <td>8</td>\n      <td>3000</td>\n      <td>1199</td>\n    </tr>\n    <tr>\n      <th>550</th>\n      <td>Apple iPhone 11 Pro (Space Grey, 256 )</td>\n      <td>4.7</td>\n      <td>12</td>\n      <td>64</td>\n      <td>5.80</td>\n      <td>35</td>\n      <td>12</td>\n      <td>3500</td>\n      <td>121300</td>\n    </tr>\n    <tr>\n      <th>35</th>\n      <td>Apple iPhone XR ((PRODUCT)RED, 128 )</td>\n      <td>4.6</td>\n      <td>12</td>\n      <td>128</td>\n      <td>6.10</td>\n      <td>35</td>\n      <td>7</td>\n      <td>3500</td>\n      <td>573000</td>\n    </tr>\n  </tbody>\n</table>\n</div>"
          },
          "metadata": {}
        }
      ],
      "execution_count": 35
    },
    {
      "cell_type": "code",
      "source": "df.sort_values(by='Price',ascending=True).head(10)",
      "metadata": {
        "trusted": true
      },
      "outputs": [
        {
          "execution_count": 36,
          "output_type": "execute_result",
          "data": {
            "text/plain": "           Brand me  Ratings  RAM  ROM  Mobile_Size  Primary_Cam  Selfi_Cam  \\\n133      Grabo G100      3.7    8   64         4.50           48          5   \n152      I Kall K73      3.2    6   64         4.50           64          8   \n97         Q-Tel Q8      3.4    6   32         4.77           48          8   \n183    Callbar A35S      3.4    0   64         4.50           48          8   \n317    I Kall K6610      3.5    6   64         4.50           48          8   \n204       Mymax A12      4.0    6   32         4.50           64          8   \n201  GreenBerry 312      3.4    6   64         4.50           48         20   \n248      I Kall K11      3.4    6   64         4.50           48         14   \n584    I Kall K6610      3.5    6   64         4.50           48          8   \n220      Ecotel E17      3.6    6   20         4.50           48          8   \n\n     Battery_Power  Price  \n133           3000    479  \n152           3500    539  \n97            3000    559  \n183           3000    595  \n317           3000    599  \n204           3000    599  \n201           3000    599  \n248           3000    599  \n584           3000    599  \n220           3000    599  ",
            "text/html": "<div>\n<style scoped>\n    .dataframe tbody tr th:only-of-type {\n        vertical-align: middle;\n    }\n\n    .dataframe tbody tr th {\n        vertical-align: top;\n    }\n\n    .dataframe thead th {\n        text-align: right;\n    }\n</style>\n<table border=\"1\" class=\"dataframe\">\n  <thead>\n    <tr style=\"text-align: right;\">\n      <th></th>\n      <th>Brand me</th>\n      <th>Ratings</th>\n      <th>RAM</th>\n      <th>ROM</th>\n      <th>Mobile_Size</th>\n      <th>Primary_Cam</th>\n      <th>Selfi_Cam</th>\n      <th>Battery_Power</th>\n      <th>Price</th>\n    </tr>\n  </thead>\n  <tbody>\n    <tr>\n      <th>133</th>\n      <td>Grabo G100</td>\n      <td>3.7</td>\n      <td>8</td>\n      <td>64</td>\n      <td>4.50</td>\n      <td>48</td>\n      <td>5</td>\n      <td>3000</td>\n      <td>479</td>\n    </tr>\n    <tr>\n      <th>152</th>\n      <td>I Kall K73</td>\n      <td>3.2</td>\n      <td>6</td>\n      <td>64</td>\n      <td>4.50</td>\n      <td>64</td>\n      <td>8</td>\n      <td>3500</td>\n      <td>539</td>\n    </tr>\n    <tr>\n      <th>97</th>\n      <td>Q-Tel Q8</td>\n      <td>3.4</td>\n      <td>6</td>\n      <td>32</td>\n      <td>4.77</td>\n      <td>48</td>\n      <td>8</td>\n      <td>3000</td>\n      <td>559</td>\n    </tr>\n    <tr>\n      <th>183</th>\n      <td>Callbar A35S</td>\n      <td>3.4</td>\n      <td>0</td>\n      <td>64</td>\n      <td>4.50</td>\n      <td>48</td>\n      <td>8</td>\n      <td>3000</td>\n      <td>595</td>\n    </tr>\n    <tr>\n      <th>317</th>\n      <td>I Kall K6610</td>\n      <td>3.5</td>\n      <td>6</td>\n      <td>64</td>\n      <td>4.50</td>\n      <td>48</td>\n      <td>8</td>\n      <td>3000</td>\n      <td>599</td>\n    </tr>\n    <tr>\n      <th>204</th>\n      <td>Mymax A12</td>\n      <td>4.0</td>\n      <td>6</td>\n      <td>32</td>\n      <td>4.50</td>\n      <td>64</td>\n      <td>8</td>\n      <td>3000</td>\n      <td>599</td>\n    </tr>\n    <tr>\n      <th>201</th>\n      <td>GreenBerry 312</td>\n      <td>3.4</td>\n      <td>6</td>\n      <td>64</td>\n      <td>4.50</td>\n      <td>48</td>\n      <td>20</td>\n      <td>3000</td>\n      <td>599</td>\n    </tr>\n    <tr>\n      <th>248</th>\n      <td>I Kall K11</td>\n      <td>3.4</td>\n      <td>6</td>\n      <td>64</td>\n      <td>4.50</td>\n      <td>48</td>\n      <td>14</td>\n      <td>3000</td>\n      <td>599</td>\n    </tr>\n    <tr>\n      <th>584</th>\n      <td>I Kall K6610</td>\n      <td>3.5</td>\n      <td>6</td>\n      <td>64</td>\n      <td>4.50</td>\n      <td>48</td>\n      <td>8</td>\n      <td>3000</td>\n      <td>599</td>\n    </tr>\n    <tr>\n      <th>220</th>\n      <td>Ecotel E17</td>\n      <td>3.6</td>\n      <td>6</td>\n      <td>20</td>\n      <td>4.50</td>\n      <td>48</td>\n      <td>8</td>\n      <td>3000</td>\n      <td>599</td>\n    </tr>\n  </tbody>\n</table>\n</div>"
          },
          "metadata": {}
        }
      ],
      "execution_count": 36
    },
    {
      "cell_type": "markdown",
      "source": "### After this I can say this data set is not good for training, wrong information provided by the data set\n### Bcoz their is no front camera in Grabo G100\t",
      "metadata": {}
    },
    {
      "cell_type": "markdown",
      "source": "# Corr",
      "metadata": {}
    },
    {
      "cell_type": "code",
      "source": "df.corr()",
      "metadata": {
        "trusted": true
      },
      "outputs": [
        {
          "name": "stderr",
          "text": "<ipython-input-37-2f6f6606aa2c>:1: FutureWarning: The default value of numeric_only in DataFrame.corr is deprecated. In a future version, it will default to False. Select only valid columns or specify the value of numeric_only to silence this warning.\n  df.corr()\n",
          "output_type": "stream"
        },
        {
          "execution_count": 37,
          "output_type": "execute_result",
          "data": {
            "text/plain": "                Ratings       RAM       ROM  Mobile_Size  Primary_Cam  \\\nRatings        1.000000  0.094622  0.426000     0.078706    -0.104162   \nRAM            0.094622  1.000000  0.251643    -0.000767     0.139477   \nROM            0.426000  0.251643  1.000000     0.109099    -0.072823   \nMobile_Size    0.078706 -0.000767  0.109099     1.000000    -0.060376   \nPrimary_Cam   -0.104162  0.139477 -0.072823    -0.060376     1.000000   \nSelfi_Cam     -0.053659  0.160447 -0.054459    -0.031382     0.121789   \nBattery_Power  0.439990  0.023184  0.410052     0.131500    -0.057011   \nPrice          0.346835  0.236955  0.256314     0.049291    -0.158122   \n\n               Selfi_Cam  Battery_Power     Price  \nRatings        -0.053659       0.439990  0.346835  \nRAM             0.160447       0.023184  0.236955  \nROM            -0.054459       0.410052  0.256314  \nMobile_Size    -0.031382       0.131500  0.049291  \nPrimary_Cam     0.121789      -0.057011 -0.158122  \nSelfi_Cam       1.000000      -0.119010 -0.011729  \nBattery_Power  -0.119010       1.000000  0.168626  \nPrice          -0.011729       0.168626  1.000000  ",
            "text/html": "<div>\n<style scoped>\n    .dataframe tbody tr th:only-of-type {\n        vertical-align: middle;\n    }\n\n    .dataframe tbody tr th {\n        vertical-align: top;\n    }\n\n    .dataframe thead th {\n        text-align: right;\n    }\n</style>\n<table border=\"1\" class=\"dataframe\">\n  <thead>\n    <tr style=\"text-align: right;\">\n      <th></th>\n      <th>Ratings</th>\n      <th>RAM</th>\n      <th>ROM</th>\n      <th>Mobile_Size</th>\n      <th>Primary_Cam</th>\n      <th>Selfi_Cam</th>\n      <th>Battery_Power</th>\n      <th>Price</th>\n    </tr>\n  </thead>\n  <tbody>\n    <tr>\n      <th>Ratings</th>\n      <td>1.000000</td>\n      <td>0.094622</td>\n      <td>0.426000</td>\n      <td>0.078706</td>\n      <td>-0.104162</td>\n      <td>-0.053659</td>\n      <td>0.439990</td>\n      <td>0.346835</td>\n    </tr>\n    <tr>\n      <th>RAM</th>\n      <td>0.094622</td>\n      <td>1.000000</td>\n      <td>0.251643</td>\n      <td>-0.000767</td>\n      <td>0.139477</td>\n      <td>0.160447</td>\n      <td>0.023184</td>\n      <td>0.236955</td>\n    </tr>\n    <tr>\n      <th>ROM</th>\n      <td>0.426000</td>\n      <td>0.251643</td>\n      <td>1.000000</td>\n      <td>0.109099</td>\n      <td>-0.072823</td>\n      <td>-0.054459</td>\n      <td>0.410052</td>\n      <td>0.256314</td>\n    </tr>\n    <tr>\n      <th>Mobile_Size</th>\n      <td>0.078706</td>\n      <td>-0.000767</td>\n      <td>0.109099</td>\n      <td>1.000000</td>\n      <td>-0.060376</td>\n      <td>-0.031382</td>\n      <td>0.131500</td>\n      <td>0.049291</td>\n    </tr>\n    <tr>\n      <th>Primary_Cam</th>\n      <td>-0.104162</td>\n      <td>0.139477</td>\n      <td>-0.072823</td>\n      <td>-0.060376</td>\n      <td>1.000000</td>\n      <td>0.121789</td>\n      <td>-0.057011</td>\n      <td>-0.158122</td>\n    </tr>\n    <tr>\n      <th>Selfi_Cam</th>\n      <td>-0.053659</td>\n      <td>0.160447</td>\n      <td>-0.054459</td>\n      <td>-0.031382</td>\n      <td>0.121789</td>\n      <td>1.000000</td>\n      <td>-0.119010</td>\n      <td>-0.011729</td>\n    </tr>\n    <tr>\n      <th>Battery_Power</th>\n      <td>0.439990</td>\n      <td>0.023184</td>\n      <td>0.410052</td>\n      <td>0.131500</td>\n      <td>-0.057011</td>\n      <td>-0.119010</td>\n      <td>1.000000</td>\n      <td>0.168626</td>\n    </tr>\n    <tr>\n      <th>Price</th>\n      <td>0.346835</td>\n      <td>0.236955</td>\n      <td>0.256314</td>\n      <td>0.049291</td>\n      <td>-0.158122</td>\n      <td>-0.011729</td>\n      <td>0.168626</td>\n      <td>1.000000</td>\n    </tr>\n  </tbody>\n</table>\n</div>"
          },
          "metadata": {}
        }
      ],
      "execution_count": 37
    },
    {
      "cell_type": "code",
      "source": "sns.heatmap(df.corr(),cmap='Greens',annot=True)\nplt.show()",
      "metadata": {
        "trusted": true
      },
      "outputs": [
        {
          "name": "stderr",
          "text": "<ipython-input-38-e59d7fb9ac3e>:1: FutureWarning: The default value of numeric_only in DataFrame.corr is deprecated. In a future version, it will default to False. Select only valid columns or specify the value of numeric_only to silence this warning.\n  sns.heatmap(df.corr(),cmap='Greens',annot=True)\n",
          "output_type": "stream"
        },
        {
          "output_type": "display_data",
          "data": {
            "text/plain": "<Figure size 640x480 with 2 Axes>",
            "image/png": "[encoded data removed]"
          },
          "metadata": {}
        }
      ],
      "execution_count": 38
    },
    {
      "cell_type": "code",
      "source": "corr=df.corr().unstack()",
      "metadata": {
        "trusted": true
      },
      "outputs": [
        {
          "name": "stderr",
          "text": "<ipython-input-39-03b818ec3c54>:1: FutureWarning: The default value of numeric_only in DataFrame.corr is deprecated. In a future version, it will default to False. Select only valid columns or specify the value of numeric_only to silence this warning.\n  corr=df.corr().unstack()\n",
          "output_type": "stream"
        }
      ],
      "execution_count": 39
    },
    {
      "cell_type": "code",
      "source": "corr.sort_values(ascending=False,kind='quicksort')",
      "metadata": {
        "trusted": true
      },
      "outputs": [
        {
          "execution_count": 40,
          "output_type": "execute_result",
          "data": {
            "text/plain": "Ratings        Ratings          1.000000\nRAM            RAM              1.000000\nBattery_Power  Battery_Power    1.000000\nSelfi_Cam      Selfi_Cam        1.000000\nPrimary_Cam    Primary_Cam      1.000000\n                                  ...   \n               Ratings         -0.104162\nBattery_Power  Selfi_Cam       -0.119010\nSelfi_Cam      Battery_Power   -0.119010\nPrice          Primary_Cam     -0.158122\nPrimary_Cam    Price           -0.158122\nLength: 64, dtype: float64"
          },
          "metadata": {}
        }
      ],
      "execution_count": 40
    },
    {
      "cell_type": "code",
      "source": "print(corr[((corr >= .5) | (corr <= -.5)) & (corr !=1.000)])",
      "metadata": {
        "trusted": true
      },
      "outputs": [
        {
          "name": "stdout",
          "text": "Series([], dtype: float64)\n",
          "output_type": "stream"
        }
      ],
      "execution_count": 41
    },
    {
      "cell_type": "markdown",
      "source": "# Lets do the Feature enginnering",
      "metadata": {}
    },
    {
      "cell_type": "code",
      "source": "from sklearn.preprocessing import StandardScaler",
      "metadata": {
        "trusted": true
      },
      "outputs": [],
      "execution_count": 42
    },
    {
      "cell_type": "code",
      "source": "df.nunique()",
      "metadata": {
        "trusted": true
      },
      "outputs": [
        {
          "execution_count": 43,
          "output_type": "execute_result",
          "data": {
            "text/plain": "Brand me         427\nRatings           20\nRAM               13\nROM               21\nMobile_Size       47\nPrimary_Cam       11\nSelfi_Cam         23\nBattery_Power     49\nPrice            253\ndtype: int64"
          },
          "metadata": {}
        }
      ],
      "execution_count": 43
    },
    {
      "cell_type": "markdown",
      "source": "### lets make the Brand me as One hot encoder and rest all the category we will standarize them",
      "metadata": {}
    },
    {
      "cell_type": "code",
      "source": "from sklearn.preprocessing import OneHotEncoder,LabelEncoder,OrdinalEncoder",
      "metadata": {
        "trusted": true
      },
      "outputs": [],
      "execution_count": 44
    },
    {
      "cell_type": "code",
      "source": "ohe=OneHotEncoder()",
      "metadata": {
        "trusted": true
      },
      "outputs": [],
      "execution_count": 45
    },
    {
      "cell_type": "code",
      "source": "la=LabelEncoder()",
      "metadata": {
        "trusted": true
      },
      "outputs": [],
      "execution_count": 46
    },
    {
      "cell_type": "code",
      "source": "df.head(2)",
      "metadata": {
        "trusted": true
      },
      "outputs": [
        {
          "execution_count": 47,
          "output_type": "execute_result",
          "data": {
            "text/plain": "                Brand me  Ratings  RAM  ROM  Mobile_Size  Primary_Cam  \\\n0  LG V30+ (Black, 128 )      4.3    4  128          6.0           48   \n1             I Kall K11      3.4    6   64          4.5           48   \n\n   Selfi_Cam  Battery_Power  Price  \n0         13           4000  24999  \n1         12           4000  15999  ",
            "text/html": "<div>\n<style scoped>\n    .dataframe tbody tr th:only-of-type {\n        vertical-align: middle;\n    }\n\n    .dataframe tbody tr th {\n        vertical-align: top;\n    }\n\n    .dataframe thead th {\n        text-align: right;\n    }\n</style>\n<table border=\"1\" class=\"dataframe\">\n  <thead>\n    <tr style=\"text-align: right;\">\n      <th></th>\n      <th>Brand me</th>\n      <th>Ratings</th>\n      <th>RAM</th>\n      <th>ROM</th>\n      <th>Mobile_Size</th>\n      <th>Primary_Cam</th>\n      <th>Selfi_Cam</th>\n      <th>Battery_Power</th>\n      <th>Price</th>\n    </tr>\n  </thead>\n  <tbody>\n    <tr>\n      <th>0</th>\n      <td>LG V30+ (Black, 128 )</td>\n      <td>4.3</td>\n      <td>4</td>\n      <td>128</td>\n      <td>6.0</td>\n      <td>48</td>\n      <td>13</td>\n      <td>4000</td>\n      <td>24999</td>\n    </tr>\n    <tr>\n      <th>1</th>\n      <td>I Kall K11</td>\n      <td>3.4</td>\n      <td>6</td>\n      <td>64</td>\n      <td>4.5</td>\n      <td>48</td>\n      <td>12</td>\n      <td>4000</td>\n      <td>15999</td>\n    </tr>\n  </tbody>\n</table>\n</div>"
          },
          "metadata": {}
        }
      ],
      "execution_count": 47
    },
    {
      "cell_type": "code",
      "source": "# df['Brand me']=ohe.fit(df[['Brand me']])",
      "metadata": {
        "trusted": true
      },
      "outputs": [],
      "execution_count": 48
    },
    {
      "cell_type": "code",
      "source": "# df['Brand me']=la.fit_transform(df[['Brand me']])",
      "metadata": {
        "trusted": true
      },
      "outputs": [],
      "execution_count": 49
    },
    {
      "cell_type": "code",
      "source": "ore=OrdinalEncoder()",
      "metadata": {
        "trusted": true
      },
      "outputs": [],
      "execution_count": 50
    },
    {
      "cell_type": "code",
      "source": "df['Brand me']=ore.fit_transform(df[['Brand me']])",
      "metadata": {
        "trusted": true
      },
      "outputs": [],
      "execution_count": 51
    },
    {
      "cell_type": "code",
      "source": "df.head(2)",
      "metadata": {
        "trusted": true
      },
      "outputs": [
        {
          "execution_count": 52,
          "output_type": "execute_result",
          "data": {
            "text/plain": "   Brand me  Ratings  RAM  ROM  Mobile_Size  Primary_Cam  Selfi_Cam  \\\n0     184.0      4.3    4  128          6.0           48         13   \n1      82.0      3.4    6   64          4.5           48         12   \n\n   Battery_Power  Price  \n0           4000  24999  \n1           4000  15999  ",
            "text/html": "<div>\n<style scoped>\n    .dataframe tbody tr th:only-of-type {\n        vertical-align: middle;\n    }\n\n    .dataframe tbody tr th {\n        vertical-align: top;\n    }\n\n    .dataframe thead th {\n        text-align: right;\n    }\n</style>\n<table border=\"1\" class=\"dataframe\">\n  <thead>\n    <tr style=\"text-align: right;\">\n      <th></th>\n      <th>Brand me</th>\n      <th>Ratings</th>\n      <th>RAM</th>\n      <th>ROM</th>\n      <th>Mobile_Size</th>\n      <th>Primary_Cam</th>\n      <th>Selfi_Cam</th>\n      <th>Battery_Power</th>\n      <th>Price</th>\n    </tr>\n  </thead>\n  <tbody>\n    <tr>\n      <th>0</th>\n      <td>184.0</td>\n      <td>4.3</td>\n      <td>4</td>\n      <td>128</td>\n      <td>6.0</td>\n      <td>48</td>\n      <td>13</td>\n      <td>4000</td>\n      <td>24999</td>\n    </tr>\n    <tr>\n      <th>1</th>\n      <td>82.0</td>\n      <td>3.4</td>\n      <td>6</td>\n      <td>64</td>\n      <td>4.5</td>\n      <td>48</td>\n      <td>12</td>\n      <td>4000</td>\n      <td>15999</td>\n    </tr>\n  </tbody>\n</table>\n</div>"
          },
          "metadata": {}
        }
      ],
      "execution_count": 52
    },
    {
      "cell_type": "code",
      "source": "df.nunique()",
      "metadata": {
        "trusted": true
      },
      "outputs": [
        {
          "execution_count": 53,
          "output_type": "execute_result",
          "data": {
            "text/plain": "Brand me         427\nRatings           20\nRAM               13\nROM               21\nMobile_Size       47\nPrimary_Cam       11\nSelfi_Cam         23\nBattery_Power     49\nPrice            253\ndtype: int64"
          },
          "metadata": {}
        }
      ],
      "execution_count": 53
    },
    {
      "cell_type": "markdown",
      "source": "### Now Apply the StandardScaler",
      "metadata": {}
    },
    {
      "cell_type": "code",
      "source": "scaler=StandardScaler()",
      "metadata": {
        "trusted": true
      },
      "outputs": [],
      "execution_count": 54
    },
    {
      "cell_type": "code",
      "source": "df.columns",
      "metadata": {
        "trusted": true
      },
      "outputs": [
        {
          "execution_count": 55,
          "output_type": "execute_result",
          "data": {
            "text/plain": "Index(['Brand me', 'Ratings', 'RAM', 'ROM', 'Mobile_Size', 'Primary_Cam',\n       'Selfi_Cam', 'Battery_Power', 'Price'],\n      dtype='object')"
          },
          "metadata": {}
        }
      ],
      "execution_count": 55
    },
    {
      "cell_type": "code",
      "source": "cols=['Ratings', 'RAM', 'ROM', 'Mobile_Size', 'Primary_Cam','Selfi_Cam', 'Battery_Power', 'Price']\ndf[cols]=scaler.fit_transform(df[cols])",
      "metadata": {
        "trusted": true
      },
      "outputs": [],
      "execution_count": 56
    },
    {
      "cell_type": "code",
      "source": "df.head(2)",
      "metadata": {
        "trusted": true
      },
      "outputs": [
        {
          "execution_count": 57,
          "output_type": "execute_result",
          "data": {
            "text/plain": "   Brand me   Ratings       RAM       ROM  Mobile_Size  Primary_Cam  \\\n0     184.0  0.497669 -0.820341  1.195878     0.104147       0.0015   \n1      82.0 -1.960939 -0.026126 -0.004082    -0.281256       0.0015   \n\n   Selfi_Cam  Battery_Power     Price  \n0   0.699674       0.782459  0.128447  \n1   0.515038       0.782459 -0.042092  ",
            "text/html": "<div>\n<style scoped>\n    .dataframe tbody tr th:only-of-type {\n        vertical-align: middle;\n    }\n\n    .dataframe tbody tr th {\n        vertical-align: top;\n    }\n\n    .dataframe thead th {\n        text-align: right;\n    }\n</style>\n<table border=\"1\" class=\"dataframe\">\n  <thead>\n    <tr style=\"text-align: right;\">\n      <th></th>\n      <th>Brand me</th>\n      <th>Ratings</th>\n      <th>RAM</th>\n      <th>ROM</th>\n      <th>Mobile_Size</th>\n      <th>Primary_Cam</th>\n      <th>Selfi_Cam</th>\n      <th>Battery_Power</th>\n      <th>Price</th>\n    </tr>\n  </thead>\n  <tbody>\n    <tr>\n      <th>0</th>\n      <td>184.0</td>\n      <td>0.497669</td>\n      <td>-0.820341</td>\n      <td>1.195878</td>\n      <td>0.104147</td>\n      <td>0.0015</td>\n      <td>0.699674</td>\n      <td>0.782459</td>\n      <td>0.128447</td>\n    </tr>\n    <tr>\n      <th>1</th>\n      <td>82.0</td>\n      <td>-1.960939</td>\n      <td>-0.026126</td>\n      <td>-0.004082</td>\n      <td>-0.281256</td>\n      <td>0.0015</td>\n      <td>0.515038</td>\n      <td>0.782459</td>\n      <td>-0.042092</td>\n    </tr>\n  </tbody>\n</table>\n</div>"
          },
          "metadata": {}
        }
      ],
      "execution_count": 57
    },
    {
      "cell_type": "markdown",
      "source": "# Split the data set",
      "metadata": {}
    },
    {
      "cell_type": "code",
      "source": "from sklearn.model_selection import train_test_split",
      "metadata": {
        "trusted": true
      },
      "outputs": [],
      "execution_count": 58
    },
    {
      "cell_type": "code",
      "source": "X=df.drop(columns='Price')\ny=df['Price']",
      "metadata": {
        "trusted": true
      },
      "outputs": [],
      "execution_count": 59
    },
    {
      "cell_type": "code",
      "source": "X.shape,y.shape",
      "metadata": {
        "trusted": true
      },
      "outputs": [
        {
          "execution_count": 60,
          "output_type": "execute_result",
          "data": {
            "text/plain": "((836, 8), (836,))"
          },
          "metadata": {}
        }
      ],
      "execution_count": 60
    },
    {
      "cell_type": "code",
      "source": "X_train,X_test,y_train,y_text=train_test_split(X,y,test_size=0.2,random_state=20)",
      "metadata": {
        "trusted": true
      },
      "outputs": [],
      "execution_count": 61
    },
    {
      "cell_type": "code",
      "source": "X_train.head(2)",
      "metadata": {
        "trusted": true
      },
      "outputs": [
        {
          "execution_count": 62,
          "output_type": "execute_result",
          "data": {
            "text/plain": "     Brand me   Ratings       RAM       ROM  Mobile_Size  Primary_Cam  \\\n598      44.0 -0.868224 -0.026126 -0.604062    -0.229869     1.434754   \n327     425.0  0.770847  0.768090  1.195878     0.217198     0.001500   \n\n     Selfi_Cam  Battery_Power  \n598  -0.223507       0.135184  \n327   0.699674       1.257127  ",
            "text/html": "<div>\n<style scoped>\n    .dataframe tbody tr th:only-of-type {\n        vertical-align: middle;\n    }\n\n    .dataframe tbody tr th {\n        vertical-align: top;\n    }\n\n    .dataframe thead th {\n        text-align: right;\n    }\n</style>\n<table border=\"1\" class=\"dataframe\">\n  <thead>\n    <tr style=\"text-align: right;\">\n      <th></th>\n      <th>Brand me</th>\n      <th>Ratings</th>\n      <th>RAM</th>\n      <th>ROM</th>\n      <th>Mobile_Size</th>\n      <th>Primary_Cam</th>\n      <th>Selfi_Cam</th>\n      <th>Battery_Power</th>\n    </tr>\n  </thead>\n  <tbody>\n    <tr>\n      <th>598</th>\n      <td>44.0</td>\n      <td>-0.868224</td>\n      <td>-0.026126</td>\n      <td>-0.604062</td>\n      <td>-0.229869</td>\n      <td>1.434754</td>\n      <td>-0.223507</td>\n      <td>0.135184</td>\n    </tr>\n    <tr>\n      <th>327</th>\n      <td>425.0</td>\n      <td>0.770847</td>\n      <td>0.768090</td>\n      <td>1.195878</td>\n      <td>0.217198</td>\n      <td>0.001500</td>\n      <td>0.699674</td>\n      <td>1.257127</td>\n    </tr>\n  </tbody>\n</table>\n</div>"
          },
          "metadata": {}
        }
      ],
      "execution_count": 62
    },
    {
      "cell_type": "markdown",
      "source": "# Train the model",
      "metadata": {}
    },
    {
      "cell_type": "code",
      "source": "from sklearn.linear_model import LogisticRegression\nfrom sklearn.ensemble import RandomForestRegressor\nfrom sklearn.tree import DecisionTreeRegressor\nfrom sklearn.neighbors import KNeighborsRegressor\nimport xgboost as xg",
      "metadata": {
        "trusted": true
      },
      "outputs": [],
      "execution_count": 63
    },
    {
      "cell_type": "code",
      "source": "lr=LogisticRegression()",
      "metadata": {
        "trusted": true
      },
      "outputs": [],
      "execution_count": 64
    },
    {
      "cell_type": "code",
      "source": "from sklearn.model_selection import GridSearchCV",
      "metadata": {
        "trusted": true
      },
      "outputs": [],
      "execution_count": 65
    },
    {
      "cell_type": "code",
      "source": "from sklearn.linear_model import LinearRegression",
      "metadata": {
        "trusted": true
      },
      "outputs": [],
      "execution_count": 66
    },
    {
      "cell_type": "code",
      "source": "models=[\n    # {\n    # \"Name\":'LinearRegression',\n    # \"model\":LinearRegression()\n    # \"params\":{'n_jobs':[0.5,1]}\n    # },\n    {\n        \"Name\":\"RandomForestRegressor\",\n        \"model\":RandomForestRegressor(),\n        \"params\":{\n            \"n_estimators\":[100,120,150,170,200],\n            \"criterion\":['squared_error', 'absolute_error', 'friedman_mse', 'poisson'],\n        }\n            \n    },\n    {\n        \"Name\":\"DecisionTreeRegressor\",\n        \"model\":DecisionTreeRegressor(),\n        \"params\":{\n            \"criterion\":['squared_error', 'friedman_mse', 'absolute_error', 'poisson'],\n            \"splitter\":['best', 'random']\n        }\n    },\n        {\n            \"Name\":\"KNeighborsRegressor\",\n            \"model\":KNeighborsRegressor(),\n            \"params\":{\n                \"n_neighbors\":[5,6,7,8,9],\n                \"weights\":['uniform', 'distance']\n            }\n        },\n    {\n        \"Name\":\"xgRegressor\",\n        \"model\":xg.XGBRFRegressor(),\n        \"params\":{\n            # \"loss\":['squared_error', 'absolute_error', 'huber', 'quantile'],\n            \"learning_rate\":[0.001,0.01],\n            \"n_estimators\":[100,150,170,200,250]\n        }\n    }\n            \n       ]",
      "metadata": {
        "trusted": true
      },
      "outputs": [],
      "execution_count": 79
    },
    {
      "cell_type": "code",
      "source": "from sklearn.metrics import r2_score",
      "metadata": {
        "trusted": true
      },
      "outputs": [],
      "execution_count": 80
    },
    {
      "cell_type": "code",
      "source": "for model in models:\n    print(f\"Grid Search for {model['Name']}\")\n    grid=GridSearchCV(model['model'],model['params'],cv=5)\n    grid.fit(X_train,y_train)\n    print(f\"Traininng acc{grid.score(X_train,y_train)}\")\n    print(f\"Best_param{grid.best_params_}\")\n    print(f\"Best Score{grid.best_score_}\")\n    y_pp_new=r2_score(grid.predict(X_test),y_text)\n    print(f\"r2Score = {y_pp_new}\")\n    print(\"====================================\")",
      "metadata": {
        "trusted": true
      },
      "outputs": [
        {
          "name": "stdout",
          "text": "Grid Search for RandomForestRegressor\n",
          "output_type": "stream"
        },
        {
          "name": "stderr",
          "text": "/lib/python3.11/site-packages/sklearn/model_selection/_validation.py:425: FitFailedWarning: \n25 fits failed out of a total of 100.\nThe score on these train-test partitions for these parameters will be set to nan.\nIf these failures are not expected, you can try to debug them by setting error_score='raise'.\n\nBelow are more details about the failures:\n--------------------------------------------------------------------------------\n25 fits failed with the following error:\nTraceback (most recent call last):\n  File \"/lib/python3.11/site-packages/sklearn/model_selection/_validation.py\", line 729, in _fit_and_score\n    estimator.fit(X_train, y_train, **fit_params)\n  File \"/lib/python3.11/site-packages/sklearn/base.py\", line 1152, in wrapper\n    return fit_method(estimator, *args, **kwargs)\n           ^^^^^^^^^^^^^^^^^^^^^^^^^^^^^^^^^^^^^^\n  File \"/lib/python3.11/site-packages/sklearn/ensemble/_forest.py\", line 378, in fit\n    raise ValueError(\nValueError: Some value(s) of y are negative which is not allowed for Poisson regression.\n\n  warnings.warn(some_fits_failed_message, FitFailedWarning)\n/lib/python3.11/site-packages/sklearn/model_selection/_search.py:979: UserWarning: One or more of the test scores are non-finite: [ 0.25724665  0.26156729  0.16606903  0.26668907  0.30164648 -0.05192842\n  0.12326144 -0.07933088  0.07819723  0.07811405  0.19083284  0.14770104\n  0.132563    0.19707222  0.18845974         nan         nan         nan\n         nan         nan]\n  warnings.warn(\n",
          "output_type": "stream"
        },
        {
          "name": "stdout",
          "text": "Traininng acc0.9764829445710898\nBest_param{'criterion': 'squared_error', 'n_estimators': 200}\nBest Score0.3016464775041536\nr2Score = 0.29499474316899255\n====================================\nGrid Search for DecisionTreeRegressor\n",
          "output_type": "stream"
        },
        {
          "name": "stderr",
          "text": "/lib/python3.11/site-packages/sklearn/model_selection/_validation.py:425: FitFailedWarning: \n10 fits failed out of a total of 40.\nThe score on these train-test partitions for these parameters will be set to nan.\nIf these failures are not expected, you can try to debug them by setting error_score='raise'.\n\nBelow are more details about the failures:\n--------------------------------------------------------------------------------\n10 fits failed with the following error:\nTraceback (most recent call last):\n  File \"/lib/python3.11/site-packages/sklearn/model_selection/_validation.py\", line 729, in _fit_and_score\n    estimator.fit(X_train, y_train, **fit_params)\n  File \"/lib/python3.11/site-packages/sklearn/base.py\", line 1152, in wrapper\n    return fit_method(estimator, *args, **kwargs)\n           ^^^^^^^^^^^^^^^^^^^^^^^^^^^^^^^^^^^^^^\n  File \"/lib/python3.11/site-packages/sklearn/tree/_classes.py\", line 1320, in fit\n    super()._fit(\n  File \"/lib/python3.11/site-packages/sklearn/tree/_classes.py\", line 259, in _fit\n    raise ValueError(\nValueError: Some value(s) of y are negative which is not allowed for Poisson regression.\n\n  warnings.warn(some_fits_failed_message, FitFailedWarning)\n/lib/python3.11/site-packages/sklearn/model_selection/_search.py:979: UserWarning: One or more of the test scores are non-finite: [-0.05640759 -0.69429793 -0.15635099 -0.17271758 -0.11065716 -1.60838323\n         nan         nan]\n  warnings.warn(\n",
          "output_type": "stream"
        },
        {
          "name": "stdout",
          "text": "Traininng acc0.9999984021728148\nBest_param{'criterion': 'squared_error', 'splitter': 'best'}\nBest Score-0.056407586614926064\nr2Score = 0.14249563662403375\n====================================\nGrid Search for KNeighborsRegressor\nTraininng acc0.9999984021728148\nBest_param{'n_neighbors': 9, 'weights': 'distance'}\nBest Score-0.06420191879682388\nr2Score = 0.26347228785724586\n====================================\nGrid Search for xgRegressor\nTraininng acc-0.17606934423915743\nBest_param{'learning_rate': 0.01, 'n_estimators': 170}\nBest Score-0.6419168735925957\nr2Score = -28749.236658153295\n====================================\n",
          "output_type": "stream"
        }
      ],
      "execution_count": 222
    },
    {
      "cell_type": "code",
      "source": "rfr=RandomForestRegressor(criterion= 'squared_error', n_estimators= 170)",
      "metadata": {
        "trusted": true
      },
      "outputs": [],
      "execution_count": 223
    },
    {
      "cell_type": "code",
      "source": "rfr.fit(X_train,y_train)",
      "metadata": {
        "trusted": true
      },
      "outputs": [
        {
          "execution_count": 224,
          "output_type": "execute_result",
          "data": {
            "text/plain": "RandomForestRegressor(n_estimators=170)",
            "text/html": "<style>#sk-container-id-29 {color: black;}#sk-container-id-29 pre{padding: 0;}#sk-container-id-29 div.sk-toggleable {background-color: white;}#sk-container-id-29 label.sk-toggleable__label {cursor: pointer;display: block;width: 100%;margin-bottom: 0;padding: 0.3em;box-sizing: border-box;text-align: center;}#sk-container-id-29 label.sk-toggleable__label-arrow:before {content: \"▸\";float: left;margin-right: 0.25em;color: #696969;}#sk-container-id-29 label.sk-toggleable__label-arrow:hover:before {color: black;}#sk-container-id-29 div.sk-estimator:hover label.sk-toggleable__label-arrow:before {color: black;}#sk-container-id-29 div.sk-toggleable__content {max-height: 0;max-width: 0;overflow: hidden;text-align: left;background-color: #f0f8ff;}#sk-container-id-29 div.sk-toggleable__content pre {margin: 0.2em;color: black;border-radius: 0.25em;background-color: #f0f8ff;}#sk-container-id-29 input.sk-toggleable__control:checked~div.sk-toggleable__content {max-height: 200px;max-width: 100%;overflow: auto;}#sk-container-id-29 input.sk-toggleable__control:checked~label.sk-toggleable__label-arrow:before {content: \"▾\";}#sk-container-id-29 div.sk-estimator input.sk-toggleable__control:checked~label.sk-toggleable__label {background-color: #d4ebff;}#sk-container-id-29 div.sk-label input.sk-toggleable__control:checked~label.sk-toggleable__label {background-color: #d4ebff;}#sk-container-id-29 input.sk-hidden--visually {border: 0;clip: rect(1px 1px 1px 1px);clip: rect(1px, 1px, 1px, 1px);height: 1px;margin: -1px;overflow: hidden;padding: 0;position: absolute;width: 1px;}#sk-container-id-29 div.sk-estimator {font-family: monospace;background-color: #f0f8ff;border: 1px dotted black;border-radius: 0.25em;box-sizing: border-box;margin-bottom: 0.5em;}#sk-container-id-29 div.sk-estimator:hover {background-color: #d4ebff;}#sk-container-id-29 div.sk-parallel-item::after {content: \"\";width: 100%;border-bottom: 1px solid gray;flex-grow: 1;}#sk-container-id-29 div.sk-label:hover label.sk-toggleable__label {background-color: #d4ebff;}#sk-container-id-29 div.sk-serial::before {content: \"\";position: absolute;border-left: 1px solid gray;box-sizing: border-box;top: 0;bottom: 0;left: 50%;z-index: 0;}#sk-container-id-29 div.sk-serial {display: flex;flex-direction: column;align-items: center;background-color: white;padding-right: 0.2em;padding-left: 0.2em;position: relative;}#sk-container-id-29 div.sk-item {position: relative;z-index: 1;}#sk-container-id-29 div.sk-parallel {display: flex;align-items: stretch;justify-content: center;background-color: white;position: relative;}#sk-container-id-29 div.sk-item::before, #sk-container-id-29 div.sk-parallel-item::before {content: \"\";position: absolute;border-left: 1px solid gray;box-sizing: border-box;top: 0;bottom: 0;left: 50%;z-index: -1;}#sk-container-id-29 div.sk-parallel-item {display: flex;flex-direction: column;z-index: 1;position: relative;background-color: white;}#sk-container-id-29 div.sk-parallel-item:first-child::after {align-self: flex-end;width: 50%;}#sk-container-id-29 div.sk-parallel-item:last-child::after {align-self: flex-start;width: 50%;}#sk-container-id-29 div.sk-parallel-item:only-child::after {width: 0;}#sk-container-id-29 div.sk-dashed-wrapped {border: 1px dashed gray;margin: 0 0.4em 0.5em 0.4em;box-sizing: border-box;padding-bottom: 0.4em;background-color: white;}#sk-container-id-29 div.sk-label label {font-family: monospace;font-weight: bold;display: inline-block;line-height: 1.2em;}#sk-container-id-29 div.sk-label-container {text-align: center;}#sk-container-id-29 div.sk-container {/* jupyter's `normalize.less` sets `[hidden] { display: none; }` but bootstrap.min.css set `[hidden] { display: none !important; }` so we also need the `!important` here to be able to override the default hidden behavior on the sphinx rendered scikit-learn.org. See: https://github.com/scikit-learn/scikit-learn/issues/21755 */display: inline-block !important;position: relative;}#sk-container-id-29 div.sk-text-repr-fallback {display: none;}</style><div id=\"sk-container-id-29\" class=\"sk-top-container\"><div class=\"sk-text-repr-fallback\"><pre>RandomForestRegressor(n_estimators=170)</pre><b>In a Jupyter environment, please rerun this cell to show the HTML representation or trust the notebook. <br />On GitHub, the HTML representation is unable to render, please try loading this page with nbviewer.org.</b></div><div class=\"sk-container\" hidden><div class=\"sk-item\"><div class=\"sk-estimator sk-toggleable\"><input class=\"sk-toggleable__control sk-hidden--visually\" id=\"sk-estimator-id-175\" type=\"checkbox\" checked><label for=\"sk-estimator-id-175\" class=\"sk-toggleable__label sk-toggleable__label-arrow\">RandomForestRegressor</label><div class=\"sk-toggleable__content\"><pre>RandomForestRegressor(n_estimators=170)</pre></div></div></div></div></div>"
          },
          "metadata": {}
        }
      ],
      "execution_count": 224
    },
    {
      "cell_type": "code",
      "source": "r2_score(y_text,rfr.predict(X_test))",
      "metadata": {
        "trusted": true
      },
      "outputs": [
        {
          "execution_count": 225,
          "output_type": "execute_result",
          "data": {
            "text/plain": "0.311182456198405"
          },
          "metadata": {}
        }
      ],
      "execution_count": 225
    },
    {
      "cell_type": "code",
      "source": "",
      "metadata": {
        "trusted": true
      },
      "outputs": [],
      "execution_count": null
    },
    {
      "cell_type": "markdown",
      "source": "### Now we will go for Randomforest along with pipline",
      "metadata": {}
    },
    {
      "cell_type": "code",
      "source": "from sklearn.pipeline import Pipeline,make_pipeline\nfrom sklearn.compose import ColumnTransformer\nfrom sklearn.impute import KNNImputer,SimpleImputer\nfrom sklearn.preprocessing import OrdinalEncoder,StandardScaler\nfrom sklearn.ensemble import RandomForestRegressor",
      "metadata": {
        "trusted": true
      },
      "outputs": [],
      "execution_count": 84
    },
    {
      "cell_type": "code",
      "source": "ord_pipe=Pipeline(steps=[\n    ('ordinal',OrdinalEncoder(handle_unknown='use_encoded_value',unknown_value=-1)),\n    ('impute',SimpleImputer())\n])",
      "metadata": {
        "trusted": true
      },
      "outputs": [],
      "execution_count": 177
    },
    {
      "cell_type": "code",
      "source": "scaler_pipe=Pipeline(steps=[\n    ('scaler',StandardScaler()),\n    ('impute',SimpleImputer(strategy='median'))\n])",
      "metadata": {
        "trusted": true
      },
      "outputs": [],
      "execution_count": 178
    },
    {
      "cell_type": "code",
      "source": "ord_pipe",
      "metadata": {
        "trusted": true
      },
      "outputs": [
        {
          "execution_count": 179,
          "output_type": "execute_result",
          "data": {
            "text/plain": "Pipeline(steps=[('ordinal',\n                 OrdinalEncoder(handle_unknown='use_encoded_value',\n                                unknown_value=-1)),\n                ('impute', SimpleImputer())])",
            "text/html": "<style>#sk-container-id-18 {color: black;}#sk-container-id-18 pre{padding: 0;}#sk-container-id-18 div.sk-toggleable {background-color: white;}#sk-container-id-18 label.sk-toggleable__label {cursor: pointer;display: block;width: 100%;margin-bottom: 0;padding: 0.3em;box-sizing: border-box;text-align: center;}#sk-container-id-18 label.sk-toggleable__label-arrow:before {content: \"▸\";float: left;margin-right: 0.25em;color: #696969;}#sk-container-id-18 label.sk-toggleable__label-arrow:hover:before {color: black;}#sk-container-id-18 div.sk-estimator:hover label.sk-toggleable__label-arrow:before {color: black;}#sk-container-id-18 div.sk-toggleable__content {max-height: 0;max-width: 0;overflow: hidden;text-align: left;background-color: #f0f8ff;}#sk-container-id-18 div.sk-toggleable__content pre {margin: 0.2em;color: black;border-radius: 0.25em;background-color: #f0f8ff;}#sk-container-id-18 input.sk-toggleable__control:checked~div.sk-toggleable__content {max-height: 200px;max-width: 100%;overflow: auto;}#sk-container-id-18 input.sk-toggleable__control:checked~label.sk-toggleable__label-arrow:before {content: \"▾\";}#sk-container-id-18 div.sk-estimator input.sk-toggleable__control:checked~label.sk-toggleable__label {background-color: #d4ebff;}#sk-container-id-18 div.sk-label input.sk-toggleable__control:checked~label.sk-toggleable__label {background-color: #d4ebff;}#sk-container-id-18 input.sk-hidden--visually {border: 0;clip: rect(1px 1px 1px 1px);clip: rect(1px, 1px, 1px, 1px);height: 1px;margin: -1px;overflow: hidden;padding: 0;position: absolute;width: 1px;}#sk-container-id-18 div.sk-estimator {font-family: monospace;background-color: #f0f8ff;border: 1px dotted black;border-radius: 0.25em;box-sizing: border-box;margin-bottom: 0.5em;}#sk-container-id-18 div.sk-estimator:hover {background-color: #d4ebff;}#sk-container-id-18 div.sk-parallel-item::after {content: \"\";width: 100%;border-bottom: 1px solid gray;flex-grow: 1;}#sk-container-id-18 div.sk-label:hover label.sk-toggleable__label {background-color: #d4ebff;}#sk-container-id-18 div.sk-serial::before {content: \"\";position: absolute;border-left: 1px solid gray;box-sizing: border-box;top: 0;bottom: 0;left: 50%;z-index: 0;}#sk-container-id-18 div.sk-serial {display: flex;flex-direction: column;align-items: center;background-color: white;padding-right: 0.2em;padding-left: 0.2em;position: relative;}#sk-container-id-18 div.sk-item {position: relative;z-index: 1;}#sk-container-id-18 div.sk-parallel {display: flex;align-items: stretch;justify-content: center;background-color: white;position: relative;}#sk-container-id-18 div.sk-item::before, #sk-container-id-18 div.sk-parallel-item::before {content: \"\";position: absolute;border-left: 1px solid gray;box-sizing: border-box;top: 0;bottom: 0;left: 50%;z-index: -1;}#sk-container-id-18 div.sk-parallel-item {display: flex;flex-direction: column;z-index: 1;position: relative;background-color: white;}#sk-container-id-18 div.sk-parallel-item:first-child::after {align-self: flex-end;width: 50%;}#sk-container-id-18 div.sk-parallel-item:last-child::after {align-self: flex-start;width: 50%;}#sk-container-id-18 div.sk-parallel-item:only-child::after {width: 0;}#sk-container-id-18 div.sk-dashed-wrapped {border: 1px dashed gray;margin: 0 0.4em 0.5em 0.4em;box-sizing: border-box;padding-bottom: 0.4em;background-color: white;}#sk-container-id-18 div.sk-label label {font-family: monospace;font-weight: bold;display: inline-block;line-height: 1.2em;}#sk-container-id-18 div.sk-label-container {text-align: center;}#sk-container-id-18 div.sk-container {/* jupyter's `normalize.less` sets `[hidden] { display: none; }` but bootstrap.min.css set `[hidden] { display: none !important; }` so we also need the `!important` here to be able to override the default hidden behavior on the sphinx rendered scikit-learn.org. See: https://github.com/scikit-learn/scikit-learn/issues/21755 */display: inline-block !important;position: relative;}#sk-container-id-18 div.sk-text-repr-fallback {display: none;}</style><div id=\"sk-container-id-18\" class=\"sk-top-container\"><div class=\"sk-text-repr-fallback\"><pre>Pipeline(steps=[(&#x27;ordinal&#x27;,\n                 OrdinalEncoder(handle_unknown=&#x27;use_encoded_value&#x27;,\n                                unknown_value=-1)),\n                (&#x27;impute&#x27;, SimpleImputer())])</pre><b>In a Jupyter environment, please rerun this cell to show the HTML representation or trust the notebook. <br />On GitHub, the HTML representation is unable to render, please try loading this page with nbviewer.org.</b></div><div class=\"sk-container\" hidden><div class=\"sk-item sk-dashed-wrapped\"><div class=\"sk-label-container\"><div class=\"sk-label sk-toggleable\"><input class=\"sk-toggleable__control sk-hidden--visually\" id=\"sk-estimator-id-102\" type=\"checkbox\" ><label for=\"sk-estimator-id-102\" class=\"sk-toggleable__label sk-toggleable__label-arrow\">Pipeline</label><div class=\"sk-toggleable__content\"><pre>Pipeline(steps=[(&#x27;ordinal&#x27;,\n                 OrdinalEncoder(handle_unknown=&#x27;use_encoded_value&#x27;,\n                                unknown_value=-1)),\n                (&#x27;impute&#x27;, SimpleImputer())])</pre></div></div></div><div class=\"sk-serial\"><div class=\"sk-item\"><div class=\"sk-estimator sk-toggleable\"><input class=\"sk-toggleable__control sk-hidden--visually\" id=\"sk-estimator-id-103\" type=\"checkbox\" ><label for=\"sk-estimator-id-103\" class=\"sk-toggleable__label sk-toggleable__label-arrow\">OrdinalEncoder</label><div class=\"sk-toggleable__content\"><pre>OrdinalEncoder(handle_unknown=&#x27;use_encoded_value&#x27;, unknown_value=-1)</pre></div></div></div><div class=\"sk-item\"><div class=\"sk-estimator sk-toggleable\"><input class=\"sk-toggleable__control sk-hidden--visually\" id=\"sk-estimator-id-104\" type=\"checkbox\" ><label for=\"sk-estimator-id-104\" class=\"sk-toggleable__label sk-toggleable__label-arrow\">SimpleImputer</label><div class=\"sk-toggleable__content\"><pre>SimpleImputer()</pre></div></div></div></div></div></div></div>"
          },
          "metadata": {}
        }
      ],
      "execution_count": 179
    },
    {
      "cell_type": "code",
      "source": "scaler_pipe",
      "metadata": {
        "trusted": true
      },
      "outputs": [
        {
          "execution_count": 180,
          "output_type": "execute_result",
          "data": {
            "text/plain": "Pipeline(steps=[('scaler', StandardScaler()),\n                ('impute', SimpleImputer(strategy='median'))])",
            "text/html": "<style>#sk-container-id-19 {color: black;}#sk-container-id-19 pre{padding: 0;}#sk-container-id-19 div.sk-toggleable {background-color: white;}#sk-container-id-19 label.sk-toggleable__label {cursor: pointer;display: block;width: 100%;margin-bottom: 0;padding: 0.3em;box-sizing: border-box;text-align: center;}#sk-container-id-19 label.sk-toggleable__label-arrow:before {content: \"▸\";float: left;margin-right: 0.25em;color: #696969;}#sk-container-id-19 label.sk-toggleable__label-arrow:hover:before {color: black;}#sk-container-id-19 div.sk-estimator:hover label.sk-toggleable__label-arrow:before {color: black;}#sk-container-id-19 div.sk-toggleable__content {max-height: 0;max-width: 0;overflow: hidden;text-align: left;background-color: #f0f8ff;}#sk-container-id-19 div.sk-toggleable__content pre {margin: 0.2em;color: black;border-radius: 0.25em;background-color: #f0f8ff;}#sk-container-id-19 input.sk-toggleable__control:checked~div.sk-toggleable__content {max-height: 200px;max-width: 100%;overflow: auto;}#sk-container-id-19 input.sk-toggleable__control:checked~label.sk-toggleable__label-arrow:before {content: \"▾\";}#sk-container-id-19 div.sk-estimator input.sk-toggleable__control:checked~label.sk-toggleable__label {background-color: #d4ebff;}#sk-container-id-19 div.sk-label input.sk-toggleable__control:checked~label.sk-toggleable__label {background-color: #d4ebff;}#sk-container-id-19 input.sk-hidden--visually {border: 0;clip: rect(1px 1px 1px 1px);clip: rect(1px, 1px, 1px, 1px);height: 1px;margin: -1px;overflow: hidden;padding: 0;position: absolute;width: 1px;}#sk-container-id-19 div.sk-estimator {font-family: monospace;background-color: #f0f8ff;border: 1px dotted black;border-radius: 0.25em;box-sizing: border-box;margin-bottom: 0.5em;}#sk-container-id-19 div.sk-estimator:hover {background-color: #d4ebff;}#sk-container-id-19 div.sk-parallel-item::after {content: \"\";width: 100%;border-bottom: 1px solid gray;flex-grow: 1;}#sk-container-id-19 div.sk-label:hover label.sk-toggleable__label {background-color: #d4ebff;}#sk-container-id-19 div.sk-serial::before {content: \"\";position: absolute;border-left: 1px solid gray;box-sizing: border-box;top: 0;bottom: 0;left: 50%;z-index: 0;}#sk-container-id-19 div.sk-serial {display: flex;flex-direction: column;align-items: center;background-color: white;padding-right: 0.2em;padding-left: 0.2em;position: relative;}#sk-container-id-19 div.sk-item {position: relative;z-index: 1;}#sk-container-id-19 div.sk-parallel {display: flex;align-items: stretch;justify-content: center;background-color: white;position: relative;}#sk-container-id-19 div.sk-item::before, #sk-container-id-19 div.sk-parallel-item::before {content: \"\";position: absolute;border-left: 1px solid gray;box-sizing: border-box;top: 0;bottom: 0;left: 50%;z-index: -1;}#sk-container-id-19 div.sk-parallel-item {display: flex;flex-direction: column;z-index: 1;position: relative;background-color: white;}#sk-container-id-19 div.sk-parallel-item:first-child::after {align-self: flex-end;width: 50%;}#sk-container-id-19 div.sk-parallel-item:last-child::after {align-self: flex-start;width: 50%;}#sk-container-id-19 div.sk-parallel-item:only-child::after {width: 0;}#sk-container-id-19 div.sk-dashed-wrapped {border: 1px dashed gray;margin: 0 0.4em 0.5em 0.4em;box-sizing: border-box;padding-bottom: 0.4em;background-color: white;}#sk-container-id-19 div.sk-label label {font-family: monospace;font-weight: bold;display: inline-block;line-height: 1.2em;}#sk-container-id-19 div.sk-label-container {text-align: center;}#sk-container-id-19 div.sk-container {/* jupyter's `normalize.less` sets `[hidden] { display: none; }` but bootstrap.min.css set `[hidden] { display: none !important; }` so we also need the `!important` here to be able to override the default hidden behavior on the sphinx rendered scikit-learn.org. See: https://github.com/scikit-learn/scikit-learn/issues/21755 */display: inline-block !important;position: relative;}#sk-container-id-19 div.sk-text-repr-fallback {display: none;}</style><div id=\"sk-container-id-19\" class=\"sk-top-container\"><div class=\"sk-text-repr-fallback\"><pre>Pipeline(steps=[(&#x27;scaler&#x27;, StandardScaler()),\n                (&#x27;impute&#x27;, SimpleImputer(strategy=&#x27;median&#x27;))])</pre><b>In a Jupyter environment, please rerun this cell to show the HTML representation or trust the notebook. <br />On GitHub, the HTML representation is unable to render, please try loading this page with nbviewer.org.</b></div><div class=\"sk-container\" hidden><div class=\"sk-item sk-dashed-wrapped\"><div class=\"sk-label-container\"><div class=\"sk-label sk-toggleable\"><input class=\"sk-toggleable__control sk-hidden--visually\" id=\"sk-estimator-id-105\" type=\"checkbox\" ><label for=\"sk-estimator-id-105\" class=\"sk-toggleable__label sk-toggleable__label-arrow\">Pipeline</label><div class=\"sk-toggleable__content\"><pre>Pipeline(steps=[(&#x27;scaler&#x27;, StandardScaler()),\n                (&#x27;impute&#x27;, SimpleImputer(strategy=&#x27;median&#x27;))])</pre></div></div></div><div class=\"sk-serial\"><div class=\"sk-item\"><div class=\"sk-estimator sk-toggleable\"><input class=\"sk-toggleable__control sk-hidden--visually\" id=\"sk-estimator-id-106\" type=\"checkbox\" ><label for=\"sk-estimator-id-106\" class=\"sk-toggleable__label sk-toggleable__label-arrow\">StandardScaler</label><div class=\"sk-toggleable__content\"><pre>StandardScaler()</pre></div></div></div><div class=\"sk-item\"><div class=\"sk-estimator sk-toggleable\"><input class=\"sk-toggleable__control sk-hidden--visually\" id=\"sk-estimator-id-107\" type=\"checkbox\" ><label for=\"sk-estimator-id-107\" class=\"sk-toggleable__label sk-toggleable__label-arrow\">SimpleImputer</label><div class=\"sk-toggleable__content\"><pre>SimpleImputer(strategy=&#x27;median&#x27;)</pre></div></div></div></div></div></div></div>"
          },
          "metadata": {}
        }
      ],
      "execution_count": 180
    },
    {
      "cell_type": "code",
      "source": "df.columns",
      "metadata": {
        "trusted": true
      },
      "outputs": [
        {
          "execution_count": 181,
          "output_type": "execute_result",
          "data": {
            "text/plain": "Index(['Brand me', 'Ratings', 'RAM', 'ROM', 'Mobile_Size', 'Primary_Cam',\n       'Selfi_Cam', 'Battery_Power', 'Price'],\n      dtype='object')"
          },
          "metadata": {}
        }
      ],
      "execution_count": 181
    },
    {
      "cell_type": "code",
      "source": "combine_pipe=ColumnTransformer(transformers=[\n    ('ordinal',ord_pipe,['Brand me']),\n    ('sclaer_pipe',scaler_pipe,['Ratings', 'RAM', 'ROM', 'Mobile_Size', 'Primary_Cam',\n       'Selfi_Cam', 'Battery_Power'])\n])",
      "metadata": {
        "trusted": true
      },
      "outputs": [],
      "execution_count": 204
    },
    {
      "cell_type": "code",
      "source": "combine_pipe",
      "metadata": {
        "trusted": true
      },
      "outputs": [
        {
          "execution_count": 205,
          "output_type": "execute_result",
          "data": {
            "text/plain": "ColumnTransformer(transformers=[('ordinal',\n                                 Pipeline(steps=[('ordinal',\n                                                  OrdinalEncoder(handle_unknown='use_encoded_value',\n                                                                 unknown_value=-1)),\n                                                 ('impute', SimpleImputer())]),\n                                 ['Brand me']),\n                                ('sclaer_pipe',\n                                 Pipeline(steps=[('scaler', StandardScaler()),\n                                                 ('impute',\n                                                  SimpleImputer(strategy='median'))]),\n                                 ['Ratings', 'RAM', 'ROM', 'Mobile_Size',\n                                  'Primary_Cam', 'Selfi_Cam',\n                                  'Battery_Power'])])",
            "text/html": "<style>#sk-container-id-25 {color: black;}#sk-container-id-25 pre{padding: 0;}#sk-container-id-25 div.sk-toggleable {background-color: white;}#sk-container-id-25 label.sk-toggleable__label {cursor: pointer;display: block;width: 100%;margin-bottom: 0;padding: 0.3em;box-sizing: border-box;text-align: center;}#sk-container-id-25 label.sk-toggleable__label-arrow:before {content: \"▸\";float: left;margin-right: 0.25em;color: #696969;}#sk-container-id-25 label.sk-toggleable__label-arrow:hover:before {color: black;}#sk-container-id-25 div.sk-estimator:hover label.sk-toggleable__label-arrow:before {color: black;}#sk-container-id-25 div.sk-toggleable__content {max-height: 0;max-width: 0;overflow: hidden;text-align: left;background-color: #f0f8ff;}#sk-container-id-25 div.sk-toggleable__content pre {margin: 0.2em;color: black;border-radius: 0.25em;background-color: #f0f8ff;}#sk-container-id-25 input.sk-toggleable__control:checked~div.sk-toggleable__content {max-height: 200px;max-width: 100%;overflow: auto;}#sk-container-id-25 input.sk-toggleable__control:checked~label.sk-toggleable__label-arrow:before {content: \"▾\";}#sk-container-id-25 div.sk-estimator input.sk-toggleable__control:checked~label.sk-toggleable__label {background-color: #d4ebff;}#sk-container-id-25 div.sk-label input.sk-toggleable__control:checked~label.sk-toggleable__label {background-color: #d4ebff;}#sk-container-id-25 input.sk-hidden--visually {border: 0;clip: rect(1px 1px 1px 1px);clip: rect(1px, 1px, 1px, 1px);height: 1px;margin: -1px;overflow: hidden;padding: 0;position: absolute;width: 1px;}#sk-container-id-25 div.sk-estimator {font-family: monospace;background-color: #f0f8ff;border: 1px dotted black;border-radius: 0.25em;box-sizing: border-box;margin-bottom: 0.5em;}#sk-container-id-25 div.sk-estimator:hover {background-color: #d4ebff;}#sk-container-id-25 div.sk-parallel-item::after {content: \"\";width: 100%;border-bottom: 1px solid gray;flex-grow: 1;}#sk-container-id-25 div.sk-label:hover label.sk-toggleable__label {background-color: #d4ebff;}#sk-container-id-25 div.sk-serial::before {content: \"\";position: absolute;border-left: 1px solid gray;box-sizing: border-box;top: 0;bottom: 0;left: 50%;z-index: 0;}#sk-container-id-25 div.sk-serial {display: flex;flex-direction: column;align-items: center;background-color: white;padding-right: 0.2em;padding-left: 0.2em;position: relative;}#sk-container-id-25 div.sk-item {position: relative;z-index: 1;}#sk-container-id-25 div.sk-parallel {display: flex;align-items: stretch;justify-content: center;background-color: white;position: relative;}#sk-container-id-25 div.sk-item::before, #sk-container-id-25 div.sk-parallel-item::before {content: \"\";position: absolute;border-left: 1px solid gray;box-sizing: border-box;top: 0;bottom: 0;left: 50%;z-index: -1;}#sk-container-id-25 div.sk-parallel-item {display: flex;flex-direction: column;z-index: 1;position: relative;background-color: white;}#sk-container-id-25 div.sk-parallel-item:first-child::after {align-self: flex-end;width: 50%;}#sk-container-id-25 div.sk-parallel-item:last-child::after {align-self: flex-start;width: 50%;}#sk-container-id-25 div.sk-parallel-item:only-child::after {width: 0;}#sk-container-id-25 div.sk-dashed-wrapped {border: 1px dashed gray;margin: 0 0.4em 0.5em 0.4em;box-sizing: border-box;padding-bottom: 0.4em;background-color: white;}#sk-container-id-25 div.sk-label label {font-family: monospace;font-weight: bold;display: inline-block;line-height: 1.2em;}#sk-container-id-25 div.sk-label-container {text-align: center;}#sk-container-id-25 div.sk-container {/* jupyter's `normalize.less` sets `[hidden] { display: none; }` but bootstrap.min.css set `[hidden] { display: none !important; }` so we also need the `!important` here to be able to override the default hidden behavior on the sphinx rendered scikit-learn.org. See: https://github.com/scikit-learn/scikit-learn/issues/21755 */display: inline-block !important;position: relative;}#sk-container-id-25 div.sk-text-repr-fallback {display: none;}</style><div id=\"sk-container-id-25\" class=\"sk-top-container\"><div class=\"sk-text-repr-fallback\"><pre>ColumnTransformer(transformers=[(&#x27;ordinal&#x27;,\n                                 Pipeline(steps=[(&#x27;ordinal&#x27;,\n                                                  OrdinalEncoder(handle_unknown=&#x27;use_encoded_value&#x27;,\n                                                                 unknown_value=-1)),\n                                                 (&#x27;impute&#x27;, SimpleImputer())]),\n                                 [&#x27;Brand me&#x27;]),\n                                (&#x27;sclaer_pipe&#x27;,\n                                 Pipeline(steps=[(&#x27;scaler&#x27;, StandardScaler()),\n                                                 (&#x27;impute&#x27;,\n                                                  SimpleImputer(strategy=&#x27;median&#x27;))]),\n                                 [&#x27;Ratings&#x27;, &#x27;RAM&#x27;, &#x27;ROM&#x27;, &#x27;Mobile_Size&#x27;,\n                                  &#x27;Primary_Cam&#x27;, &#x27;Selfi_Cam&#x27;,\n                                  &#x27;Battery_Power&#x27;])])</pre><b>In a Jupyter environment, please rerun this cell to show the HTML representation or trust the notebook. <br />On GitHub, the HTML representation is unable to render, please try loading this page with nbviewer.org.</b></div><div class=\"sk-container\" hidden><div class=\"sk-item sk-dashed-wrapped\"><div class=\"sk-label-container\"><div class=\"sk-label sk-toggleable\"><input class=\"sk-toggleable__control sk-hidden--visually\" id=\"sk-estimator-id-149\" type=\"checkbox\" ><label for=\"sk-estimator-id-149\" class=\"sk-toggleable__label sk-toggleable__label-arrow\">ColumnTransformer</label><div class=\"sk-toggleable__content\"><pre>ColumnTransformer(transformers=[(&#x27;ordinal&#x27;,\n                                 Pipeline(steps=[(&#x27;ordinal&#x27;,\n                                                  OrdinalEncoder(handle_unknown=&#x27;use_encoded_value&#x27;,\n                                                                 unknown_value=-1)),\n                                                 (&#x27;impute&#x27;, SimpleImputer())]),\n                                 [&#x27;Brand me&#x27;]),\n                                (&#x27;sclaer_pipe&#x27;,\n                                 Pipeline(steps=[(&#x27;scaler&#x27;, StandardScaler()),\n                                                 (&#x27;impute&#x27;,\n                                                  SimpleImputer(strategy=&#x27;median&#x27;))]),\n                                 [&#x27;Ratings&#x27;, &#x27;RAM&#x27;, &#x27;ROM&#x27;, &#x27;Mobile_Size&#x27;,\n                                  &#x27;Primary_Cam&#x27;, &#x27;Selfi_Cam&#x27;,\n                                  &#x27;Battery_Power&#x27;])])</pre></div></div></div><div class=\"sk-parallel\"><div class=\"sk-parallel-item\"><div class=\"sk-item\"><div class=\"sk-label-container\"><div class=\"sk-label sk-toggleable\"><input class=\"sk-toggleable__control sk-hidden--visually\" id=\"sk-estimator-id-150\" type=\"checkbox\" ><label for=\"sk-estimator-id-150\" class=\"sk-toggleable__label sk-toggleable__label-arrow\">ordinal</label><div class=\"sk-toggleable__content\"><pre>[&#x27;Brand me&#x27;]</pre></div></div></div><div class=\"sk-serial\"><div class=\"sk-item\"><div class=\"sk-serial\"><div class=\"sk-item\"><div class=\"sk-estimator sk-toggleable\"><input class=\"sk-toggleable__control sk-hidden--visually\" id=\"sk-estimator-id-151\" type=\"checkbox\" ><label for=\"sk-estimator-id-151\" class=\"sk-toggleable__label sk-toggleable__label-arrow\">OrdinalEncoder</label><div class=\"sk-toggleable__content\"><pre>OrdinalEncoder(handle_unknown=&#x27;use_encoded_value&#x27;, unknown_value=-1)</pre></div></div></div><div class=\"sk-item\"><div class=\"sk-estimator sk-toggleable\"><input class=\"sk-toggleable__control sk-hidden--visually\" id=\"sk-estimator-id-152\" type=\"checkbox\" ><label for=\"sk-estimator-id-152\" class=\"sk-toggleable__label sk-toggleable__label-arrow\">SimpleImputer</label><div class=\"sk-toggleable__content\"><pre>SimpleImputer()</pre></div></div></div></div></div></div></div></div><div class=\"sk-parallel-item\"><div class=\"sk-item\"><div class=\"sk-label-container\"><div class=\"sk-label sk-toggleable\"><input class=\"sk-toggleable__control sk-hidden--visually\" id=\"sk-estimator-id-153\" type=\"checkbox\" ><label for=\"sk-estimator-id-153\" class=\"sk-toggleable__label sk-toggleable__label-arrow\">sclaer_pipe</label><div class=\"sk-toggleable__content\"><pre>[&#x27;Ratings&#x27;, &#x27;RAM&#x27;, &#x27;ROM&#x27;, &#x27;Mobile_Size&#x27;, &#x27;Primary_Cam&#x27;, &#x27;Selfi_Cam&#x27;, &#x27;Battery_Power&#x27;]</pre></div></div></div><div class=\"sk-serial\"><div class=\"sk-item\"><div class=\"sk-serial\"><div class=\"sk-item\"><div class=\"sk-estimator sk-toggleable\"><input class=\"sk-toggleable__control sk-hidden--visually\" id=\"sk-estimator-id-154\" type=\"checkbox\" ><label for=\"sk-estimator-id-154\" class=\"sk-toggleable__label sk-toggleable__label-arrow\">StandardScaler</label><div class=\"sk-toggleable__content\"><pre>StandardScaler()</pre></div></div></div><div class=\"sk-item\"><div class=\"sk-estimator sk-toggleable\"><input class=\"sk-toggleable__control sk-hidden--visually\" id=\"sk-estimator-id-155\" type=\"checkbox\" ><label for=\"sk-estimator-id-155\" class=\"sk-toggleable__label sk-toggleable__label-arrow\">SimpleImputer</label><div class=\"sk-toggleable__content\"><pre>SimpleImputer(strategy=&#x27;median&#x27;)</pre></div></div></div></div></div></div></div></div></div></div></div></div>"
          },
          "metadata": {}
        }
      ],
      "execution_count": 205
    },
    {
      "cell_type": "code",
      "source": "model_pipe=Pipeline(steps=[('Combine_pipe',combine_pipe),('RFR',RandomForestRegressor(criterion= 'squared_error', n_estimators= 170))])",
      "metadata": {
        "trusted": true
      },
      "outputs": [],
      "execution_count": 206
    },
    {
      "cell_type": "code",
      "source": "model_pipe",
      "metadata": {
        "trusted": true
      },
      "outputs": [
        {
          "execution_count": 207,
          "output_type": "execute_result",
          "data": {
            "text/plain": "Pipeline(steps=[('Combine_pipe',\n                 ColumnTransformer(transformers=[('ordinal',\n                                                  Pipeline(steps=[('ordinal',\n                                                                   OrdinalEncoder(handle_unknown='use_encoded_value',\n                                                                                  unknown_value=-1)),\n                                                                  ('impute',\n                                                                   SimpleImputer())]),\n                                                  ['Brand me']),\n                                                 ('sclaer_pipe',\n                                                  Pipeline(steps=[('scaler',\n                                                                   StandardScaler()),\n                                                                  ('impute',\n                                                                   SimpleImputer(strategy='median'))]),\n                                                  ['Ratings', 'RAM', 'ROM',\n                                                   'Mobile_Size', 'Primary_Cam',\n                                                   'Selfi_Cam',\n                                                   'Battery_Power'])])),\n                ('RFR', RandomForestRegressor(n_estimators=170))])",
            "text/html": "<style>#sk-container-id-26 {color: black;}#sk-container-id-26 pre{padding: 0;}#sk-container-id-26 div.sk-toggleable {background-color: white;}#sk-container-id-26 label.sk-toggleable__label {cursor: pointer;display: block;width: 100%;margin-bottom: 0;padding: 0.3em;box-sizing: border-box;text-align: center;}#sk-container-id-26 label.sk-toggleable__label-arrow:before {content: \"▸\";float: left;margin-right: 0.25em;color: #696969;}#sk-container-id-26 label.sk-toggleable__label-arrow:hover:before {color: black;}#sk-container-id-26 div.sk-estimator:hover label.sk-toggleable__label-arrow:before {color: black;}#sk-container-id-26 div.sk-toggleable__content {max-height: 0;max-width: 0;overflow: hidden;text-align: left;background-color: #f0f8ff;}#sk-container-id-26 div.sk-toggleable__content pre {margin: 0.2em;color: black;border-radius: 0.25em;background-color: #f0f8ff;}#sk-container-id-26 input.sk-toggleable__control:checked~div.sk-toggleable__content {max-height: 200px;max-width: 100%;overflow: auto;}#sk-container-id-26 input.sk-toggleable__control:checked~label.sk-toggleable__label-arrow:before {content: \"▾\";}#sk-container-id-26 div.sk-estimator input.sk-toggleable__control:checked~label.sk-toggleable__label {background-color: #d4ebff;}#sk-container-id-26 div.sk-label input.sk-toggleable__control:checked~label.sk-toggleable__label {background-color: #d4ebff;}#sk-container-id-26 input.sk-hidden--visually {border: 0;clip: rect(1px 1px 1px 1px);clip: rect(1px, 1px, 1px, 1px);height: 1px;margin: -1px;overflow: hidden;padding: 0;position: absolute;width: 1px;}#sk-container-id-26 div.sk-estimator {font-family: monospace;background-color: #f0f8ff;border: 1px dotted black;border-radius: 0.25em;box-sizing: border-box;margin-bottom: 0.5em;}#sk-container-id-26 div.sk-estimator:hover {background-color: #d4ebff;}#sk-container-id-26 div.sk-parallel-item::after {content: \"\";width: 100%;border-bottom: 1px solid gray;flex-grow: 1;}#sk-container-id-26 div.sk-label:hover label.sk-toggleable__label {background-color: #d4ebff;}#sk-container-id-26 div.sk-serial::before {content: \"\";position: absolute;border-left: 1px solid gray;box-sizing: border-box;top: 0;bottom: 0;left: 50%;z-index: 0;}#sk-container-id-26 div.sk-serial {display: flex;flex-direction: column;align-items: center;background-color: white;padding-right: 0.2em;padding-left: 0.2em;position: relative;}#sk-container-id-26 div.sk-item {position: relative;z-index: 1;}#sk-container-id-26 div.sk-parallel {display: flex;align-items: stretch;justify-content: center;background-color: white;position: relative;}#sk-container-id-26 div.sk-item::before, #sk-container-id-26 div.sk-parallel-item::before {content: \"\";position: absolute;border-left: 1px solid gray;box-sizing: border-box;top: 0;bottom: 0;left: 50%;z-index: -1;}#sk-container-id-26 div.sk-parallel-item {display: flex;flex-direction: column;z-index: 1;position: relative;background-color: white;}#sk-container-id-26 div.sk-parallel-item:first-child::after {align-self: flex-end;width: 50%;}#sk-container-id-26 div.sk-parallel-item:last-child::after {align-self: flex-start;width: 50%;}#sk-container-id-26 div.sk-parallel-item:only-child::after {width: 0;}#sk-container-id-26 div.sk-dashed-wrapped {border: 1px dashed gray;margin: 0 0.4em 0.5em 0.4em;box-sizing: border-box;padding-bottom: 0.4em;background-color: white;}#sk-container-id-26 div.sk-label label {font-family: monospace;font-weight: bold;display: inline-block;line-height: 1.2em;}#sk-container-id-26 div.sk-label-container {text-align: center;}#sk-container-id-26 div.sk-container {/* jupyter's `normalize.less` sets `[hidden] { display: none; }` but bootstrap.min.css set `[hidden] { display: none !important; }` so we also need the `!important` here to be able to override the default hidden behavior on the sphinx rendered scikit-learn.org. See: https://github.com/scikit-learn/scikit-learn/issues/21755 */display: inline-block !important;position: relative;}#sk-container-id-26 div.sk-text-repr-fallback {display: none;}</style><div id=\"sk-container-id-26\" class=\"sk-top-container\"><div class=\"sk-text-repr-fallback\"><pre>Pipeline(steps=[(&#x27;Combine_pipe&#x27;,\n                 ColumnTransformer(transformers=[(&#x27;ordinal&#x27;,\n                                                  Pipeline(steps=[(&#x27;ordinal&#x27;,\n                                                                   OrdinalEncoder(handle_unknown=&#x27;use_encoded_value&#x27;,\n                                                                                  unknown_value=-1)),\n                                                                  (&#x27;impute&#x27;,\n                                                                   SimpleImputer())]),\n                                                  [&#x27;Brand me&#x27;]),\n                                                 (&#x27;sclaer_pipe&#x27;,\n                                                  Pipeline(steps=[(&#x27;scaler&#x27;,\n                                                                   StandardScaler()),\n                                                                  (&#x27;impute&#x27;,\n                                                                   SimpleImputer(strategy=&#x27;median&#x27;))]),\n                                                  [&#x27;Ratings&#x27;, &#x27;RAM&#x27;, &#x27;ROM&#x27;,\n                                                   &#x27;Mobile_Size&#x27;, &#x27;Primary_Cam&#x27;,\n                                                   &#x27;Selfi_Cam&#x27;,\n                                                   &#x27;Battery_Power&#x27;])])),\n                (&#x27;RFR&#x27;, RandomForestRegressor(n_estimators=170))])</pre><b>In a Jupyter environment, please rerun this cell to show the HTML representation or trust the notebook. <br />On GitHub, the HTML representation is unable to render, please try loading this page with nbviewer.org.</b></div><div class=\"sk-container\" hidden><div class=\"sk-item sk-dashed-wrapped\"><div class=\"sk-label-container\"><div class=\"sk-label sk-toggleable\"><input class=\"sk-toggleable__control sk-hidden--visually\" id=\"sk-estimator-id-156\" type=\"checkbox\" ><label for=\"sk-estimator-id-156\" class=\"sk-toggleable__label sk-toggleable__label-arrow\">Pipeline</label><div class=\"sk-toggleable__content\"><pre>Pipeline(steps=[(&#x27;Combine_pipe&#x27;,\n                 ColumnTransformer(transformers=[(&#x27;ordinal&#x27;,\n                                                  Pipeline(steps=[(&#x27;ordinal&#x27;,\n                                                                   OrdinalEncoder(handle_unknown=&#x27;use_encoded_value&#x27;,\n                                                                                  unknown_value=-1)),\n                                                                  (&#x27;impute&#x27;,\n                                                                   SimpleImputer())]),\n                                                  [&#x27;Brand me&#x27;]),\n                                                 (&#x27;sclaer_pipe&#x27;,\n                                                  Pipeline(steps=[(&#x27;scaler&#x27;,\n                                                                   StandardScaler()),\n                                                                  (&#x27;impute&#x27;,\n                                                                   SimpleImputer(strategy=&#x27;median&#x27;))]),\n                                                  [&#x27;Ratings&#x27;, &#x27;RAM&#x27;, &#x27;ROM&#x27;,\n                                                   &#x27;Mobile_Size&#x27;, &#x27;Primary_Cam&#x27;,\n                                                   &#x27;Selfi_Cam&#x27;,\n                                                   &#x27;Battery_Power&#x27;])])),\n                (&#x27;RFR&#x27;, RandomForestRegressor(n_estimators=170))])</pre></div></div></div><div class=\"sk-serial\"><div class=\"sk-item sk-dashed-wrapped\"><div class=\"sk-label-container\"><div class=\"sk-label sk-toggleable\"><input class=\"sk-toggleable__control sk-hidden--visually\" id=\"sk-estimator-id-157\" type=\"checkbox\" ><label for=\"sk-estimator-id-157\" class=\"sk-toggleable__label sk-toggleable__label-arrow\">Combine_pipe: ColumnTransformer</label><div class=\"sk-toggleable__content\"><pre>ColumnTransformer(transformers=[(&#x27;ordinal&#x27;,\n                                 Pipeline(steps=[(&#x27;ordinal&#x27;,\n                                                  OrdinalEncoder(handle_unknown=&#x27;use_encoded_value&#x27;,\n                                                                 unknown_value=-1)),\n                                                 (&#x27;impute&#x27;, SimpleImputer())]),\n                                 [&#x27;Brand me&#x27;]),\n                                (&#x27;sclaer_pipe&#x27;,\n                                 Pipeline(steps=[(&#x27;scaler&#x27;, StandardScaler()),\n                                                 (&#x27;impute&#x27;,\n                                                  SimpleImputer(strategy=&#x27;median&#x27;))]),\n                                 [&#x27;Ratings&#x27;, &#x27;RAM&#x27;, &#x27;ROM&#x27;, &#x27;Mobile_Size&#x27;,\n                                  &#x27;Primary_Cam&#x27;, &#x27;Selfi_Cam&#x27;,\n                                  &#x27;Battery_Power&#x27;])])</pre></div></div></div><div class=\"sk-parallel\"><div class=\"sk-parallel-item\"><div class=\"sk-item\"><div class=\"sk-label-container\"><div class=\"sk-label sk-toggleable\"><input class=\"sk-toggleable__control sk-hidden--visually\" id=\"sk-estimator-id-158\" type=\"checkbox\" ><label for=\"sk-estimator-id-158\" class=\"sk-toggleable__label sk-toggleable__label-arrow\">ordinal</label><div class=\"sk-toggleable__content\"><pre>[&#x27;Brand me&#x27;]</pre></div></div></div><div class=\"sk-serial\"><div class=\"sk-item\"><div class=\"sk-serial\"><div class=\"sk-item\"><div class=\"sk-estimator sk-toggleable\"><input class=\"sk-toggleable__control sk-hidden--visually\" id=\"sk-estimator-id-159\" type=\"checkbox\" ><label for=\"sk-estimator-id-159\" class=\"sk-toggleable__label sk-toggleable__label-arrow\">OrdinalEncoder</label><div class=\"sk-toggleable__content\"><pre>OrdinalEncoder(handle_unknown=&#x27;use_encoded_value&#x27;, unknown_value=-1)</pre></div></div></div><div class=\"sk-item\"><div class=\"sk-estimator sk-toggleable\"><input class=\"sk-toggleable__control sk-hidden--visually\" id=\"sk-estimator-id-160\" type=\"checkbox\" ><label for=\"sk-estimator-id-160\" class=\"sk-toggleable__label sk-toggleable__label-arrow\">SimpleImputer</label><div class=\"sk-toggleable__content\"><pre>SimpleImputer()</pre></div></div></div></div></div></div></div></div><div class=\"sk-parallel-item\"><div class=\"sk-item\"><div class=\"sk-label-container\"><div class=\"sk-label sk-toggleable\"><input class=\"sk-toggleable__control sk-hidden--visually\" id=\"sk-estimator-id-161\" type=\"checkbox\" ><label for=\"sk-estimator-id-161\" class=\"sk-toggleable__label sk-toggleable__label-arrow\">sclaer_pipe</label><div class=\"sk-toggleable__content\"><pre>[&#x27;Ratings&#x27;, &#x27;RAM&#x27;, &#x27;ROM&#x27;, &#x27;Mobile_Size&#x27;, &#x27;Primary_Cam&#x27;, &#x27;Selfi_Cam&#x27;, &#x27;Battery_Power&#x27;]</pre></div></div></div><div class=\"sk-serial\"><div class=\"sk-item\"><div class=\"sk-serial\"><div class=\"sk-item\"><div class=\"sk-estimator sk-toggleable\"><input class=\"sk-toggleable__control sk-hidden--visually\" id=\"sk-estimator-id-162\" type=\"checkbox\" ><label for=\"sk-estimator-id-162\" class=\"sk-toggleable__label sk-toggleable__label-arrow\">StandardScaler</label><div class=\"sk-toggleable__content\"><pre>StandardScaler()</pre></div></div></div><div class=\"sk-item\"><div class=\"sk-estimator sk-toggleable\"><input class=\"sk-toggleable__control sk-hidden--visually\" id=\"sk-estimator-id-163\" type=\"checkbox\" ><label for=\"sk-estimator-id-163\" class=\"sk-toggleable__label sk-toggleable__label-arrow\">SimpleImputer</label><div class=\"sk-toggleable__content\"><pre>SimpleImputer(strategy=&#x27;median&#x27;)</pre></div></div></div></div></div></div></div></div></div></div><div class=\"sk-item\"><div class=\"sk-estimator sk-toggleable\"><input class=\"sk-toggleable__control sk-hidden--visually\" id=\"sk-estimator-id-164\" type=\"checkbox\" ><label for=\"sk-estimator-id-164\" class=\"sk-toggleable__label sk-toggleable__label-arrow\">RandomForestRegressor</label><div class=\"sk-toggleable__content\"><pre>RandomForestRegressor(n_estimators=170)</pre></div></div></div></div></div></div></div>"
          },
          "metadata": {}
        }
      ],
      "execution_count": 207
    },
    {
      "cell_type": "markdown",
      "source": "# Train the pipeline",
      "metadata": {}
    },
    {
      "cell_type": "code",
      "source": "df_pipe=df.copy()",
      "metadata": {
        "trusted": true
      },
      "outputs": [],
      "execution_count": 208
    },
    {
      "cell_type": "code",
      "source": "Xnew=df_pipe.drop(columns=['Price'])\nynew=df_pipe['Price']",
      "metadata": {
        "trusted": true
      },
      "outputs": [],
      "execution_count": 209
    },
    {
      "cell_type": "code",
      "source": "Xnew_train,Xnew_test,ynew_train,ynew_test=train_test_split(Xnew,ynew,test_size=0.2,random_state=20)",
      "metadata": {
        "trusted": true
      },
      "outputs": [],
      "execution_count": 210
    },
    {
      "cell_type": "code",
      "source": "model_pipe.fit(Xnew_train,ynew_train)",
      "metadata": {
        "trusted": true
      },
      "outputs": [
        {
          "execution_count": 211,
          "output_type": "execute_result",
          "data": {
            "text/plain": "Pipeline(steps=[('Combine_pipe',\n                 ColumnTransformer(transformers=[('ordinal',\n                                                  Pipeline(steps=[('ordinal',\n                                                                   OrdinalEncoder(handle_unknown='use_encoded_value',\n                                                                                  unknown_value=-1)),\n                                                                  ('impute',\n                                                                   SimpleImputer())]),\n                                                  ['Brand me']),\n                                                 ('sclaer_pipe',\n                                                  Pipeline(steps=[('scaler',\n                                                                   StandardScaler()),\n                                                                  ('impute',\n                                                                   SimpleImputer(strategy='median'))]),\n                                                  ['Ratings', 'RAM', 'ROM',\n                                                   'Mobile_Size', 'Primary_Cam',\n                                                   'Selfi_Cam',\n                                                   'Battery_Power'])])),\n                ('RFR', RandomForestRegressor(n_estimators=170))])",
            "text/html": "<style>#sk-container-id-27 {color: black;}#sk-container-id-27 pre{padding: 0;}#sk-container-id-27 div.sk-toggleable {background-color: white;}#sk-container-id-27 label.sk-toggleable__label {cursor: pointer;display: block;width: 100%;margin-bottom: 0;padding: 0.3em;box-sizing: border-box;text-align: center;}#sk-container-id-27 label.sk-toggleable__label-arrow:before {content: \"▸\";float: left;margin-right: 0.25em;color: #696969;}#sk-container-id-27 label.sk-toggleable__label-arrow:hover:before {color: black;}#sk-container-id-27 div.sk-estimator:hover label.sk-toggleable__label-arrow:before {color: black;}#sk-container-id-27 div.sk-toggleable__content {max-height: 0;max-width: 0;overflow: hidden;text-align: left;background-color: #f0f8ff;}#sk-container-id-27 div.sk-toggleable__content pre {margin: 0.2em;color: black;border-radius: 0.25em;background-color: #f0f8ff;}#sk-container-id-27 input.sk-toggleable__control:checked~div.sk-toggleable__content {max-height: 200px;max-width: 100%;overflow: auto;}#sk-container-id-27 input.sk-toggleable__control:checked~label.sk-toggleable__label-arrow:before {content: \"▾\";}#sk-container-id-27 div.sk-estimator input.sk-toggleable__control:checked~label.sk-toggleable__label {background-color: #d4ebff;}#sk-container-id-27 div.sk-label input.sk-toggleable__control:checked~label.sk-toggleable__label {background-color: #d4ebff;}#sk-container-id-27 input.sk-hidden--visually {border: 0;clip: rect(1px 1px 1px 1px);clip: rect(1px, 1px, 1px, 1px);height: 1px;margin: -1px;overflow: hidden;padding: 0;position: absolute;width: 1px;}#sk-container-id-27 div.sk-estimator {font-family: monospace;background-color: #f0f8ff;border: 1px dotted black;border-radius: 0.25em;box-sizing: border-box;margin-bottom: 0.5em;}#sk-container-id-27 div.sk-estimator:hover {background-color: #d4ebff;}#sk-container-id-27 div.sk-parallel-item::after {content: \"\";width: 100%;border-bottom: 1px solid gray;flex-grow: 1;}#sk-container-id-27 div.sk-label:hover label.sk-toggleable__label {background-color: #d4ebff;}#sk-container-id-27 div.sk-serial::before {content: \"\";position: absolute;border-left: 1px solid gray;box-sizing: border-box;top: 0;bottom: 0;left: 50%;z-index: 0;}#sk-container-id-27 div.sk-serial {display: flex;flex-direction: column;align-items: center;background-color: white;padding-right: 0.2em;padding-left: 0.2em;position: relative;}#sk-container-id-27 div.sk-item {position: relative;z-index: 1;}#sk-container-id-27 div.sk-parallel {display: flex;align-items: stretch;justify-content: center;background-color: white;position: relative;}#sk-container-id-27 div.sk-item::before, #sk-container-id-27 div.sk-parallel-item::before {content: \"\";position: absolute;border-left: 1px solid gray;box-sizing: border-box;top: 0;bottom: 0;left: 50%;z-index: -1;}#sk-container-id-27 div.sk-parallel-item {display: flex;flex-direction: column;z-index: 1;position: relative;background-color: white;}#sk-container-id-27 div.sk-parallel-item:first-child::after {align-self: flex-end;width: 50%;}#sk-container-id-27 div.sk-parallel-item:last-child::after {align-self: flex-start;width: 50%;}#sk-container-id-27 div.sk-parallel-item:only-child::after {width: 0;}#sk-container-id-27 div.sk-dashed-wrapped {border: 1px dashed gray;margin: 0 0.4em 0.5em 0.4em;box-sizing: border-box;padding-bottom: 0.4em;background-color: white;}#sk-container-id-27 div.sk-label label {font-family: monospace;font-weight: bold;display: inline-block;line-height: 1.2em;}#sk-container-id-27 div.sk-label-container {text-align: center;}#sk-container-id-27 div.sk-container {/* jupyter's `normalize.less` sets `[hidden] { display: none; }` but bootstrap.min.css set `[hidden] { display: none !important; }` so we also need the `!important` here to be able to override the default hidden behavior on the sphinx rendered scikit-learn.org. See: https://github.com/scikit-learn/scikit-learn/issues/21755 */display: inline-block !important;position: relative;}#sk-container-id-27 div.sk-text-repr-fallback {display: none;}</style><div id=\"sk-container-id-27\" class=\"sk-top-container\"><div class=\"sk-text-repr-fallback\"><pre>Pipeline(steps=[(&#x27;Combine_pipe&#x27;,\n                 ColumnTransformer(transformers=[(&#x27;ordinal&#x27;,\n                                                  Pipeline(steps=[(&#x27;ordinal&#x27;,\n                                                                   OrdinalEncoder(handle_unknown=&#x27;use_encoded_value&#x27;,\n                                                                                  unknown_value=-1)),\n                                                                  (&#x27;impute&#x27;,\n                                                                   SimpleImputer())]),\n                                                  [&#x27;Brand me&#x27;]),\n                                                 (&#x27;sclaer_pipe&#x27;,\n                                                  Pipeline(steps=[(&#x27;scaler&#x27;,\n                                                                   StandardScaler()),\n                                                                  (&#x27;impute&#x27;,\n                                                                   SimpleImputer(strategy=&#x27;median&#x27;))]),\n                                                  [&#x27;Ratings&#x27;, &#x27;RAM&#x27;, &#x27;ROM&#x27;,\n                                                   &#x27;Mobile_Size&#x27;, &#x27;Primary_Cam&#x27;,\n                                                   &#x27;Selfi_Cam&#x27;,\n                                                   &#x27;Battery_Power&#x27;])])),\n                (&#x27;RFR&#x27;, RandomForestRegressor(n_estimators=170))])</pre><b>In a Jupyter environment, please rerun this cell to show the HTML representation or trust the notebook. <br />On GitHub, the HTML representation is unable to render, please try loading this page with nbviewer.org.</b></div><div class=\"sk-container\" hidden><div class=\"sk-item sk-dashed-wrapped\"><div class=\"sk-label-container\"><div class=\"sk-label sk-toggleable\"><input class=\"sk-toggleable__control sk-hidden--visually\" id=\"sk-estimator-id-165\" type=\"checkbox\" ><label for=\"sk-estimator-id-165\" class=\"sk-toggleable__label sk-toggleable__label-arrow\">Pipeline</label><div class=\"sk-toggleable__content\"><pre>Pipeline(steps=[(&#x27;Combine_pipe&#x27;,\n                 ColumnTransformer(transformers=[(&#x27;ordinal&#x27;,\n                                                  Pipeline(steps=[(&#x27;ordinal&#x27;,\n                                                                   OrdinalEncoder(handle_unknown=&#x27;use_encoded_value&#x27;,\n                                                                                  unknown_value=-1)),\n                                                                  (&#x27;impute&#x27;,\n                                                                   SimpleImputer())]),\n                                                  [&#x27;Brand me&#x27;]),\n                                                 (&#x27;sclaer_pipe&#x27;,\n                                                  Pipeline(steps=[(&#x27;scaler&#x27;,\n                                                                   StandardScaler()),\n                                                                  (&#x27;impute&#x27;,\n                                                                   SimpleImputer(strategy=&#x27;median&#x27;))]),\n                                                  [&#x27;Ratings&#x27;, &#x27;RAM&#x27;, &#x27;ROM&#x27;,\n                                                   &#x27;Mobile_Size&#x27;, &#x27;Primary_Cam&#x27;,\n                                                   &#x27;Selfi_Cam&#x27;,\n                                                   &#x27;Battery_Power&#x27;])])),\n                (&#x27;RFR&#x27;, RandomForestRegressor(n_estimators=170))])</pre></div></div></div><div class=\"sk-serial\"><div class=\"sk-item sk-dashed-wrapped\"><div class=\"sk-label-container\"><div class=\"sk-label sk-toggleable\"><input class=\"sk-toggleable__control sk-hidden--visually\" id=\"sk-estimator-id-166\" type=\"checkbox\" ><label for=\"sk-estimator-id-166\" class=\"sk-toggleable__label sk-toggleable__label-arrow\">Combine_pipe: ColumnTransformer</label><div class=\"sk-toggleable__content\"><pre>ColumnTransformer(transformers=[(&#x27;ordinal&#x27;,\n                                 Pipeline(steps=[(&#x27;ordinal&#x27;,\n                                                  OrdinalEncoder(handle_unknown=&#x27;use_encoded_value&#x27;,\n                                                                 unknown_value=-1)),\n                                                 (&#x27;impute&#x27;, SimpleImputer())]),\n                                 [&#x27;Brand me&#x27;]),\n                                (&#x27;sclaer_pipe&#x27;,\n                                 Pipeline(steps=[(&#x27;scaler&#x27;, StandardScaler()),\n                                                 (&#x27;impute&#x27;,\n                                                  SimpleImputer(strategy=&#x27;median&#x27;))]),\n                                 [&#x27;Ratings&#x27;, &#x27;RAM&#x27;, &#x27;ROM&#x27;, &#x27;Mobile_Size&#x27;,\n                                  &#x27;Primary_Cam&#x27;, &#x27;Selfi_Cam&#x27;,\n                                  &#x27;Battery_Power&#x27;])])</pre></div></div></div><div class=\"sk-parallel\"><div class=\"sk-parallel-item\"><div class=\"sk-item\"><div class=\"sk-label-container\"><div class=\"sk-label sk-toggleable\"><input class=\"sk-toggleable__control sk-hidden--visually\" id=\"sk-estimator-id-167\" type=\"checkbox\" ><label for=\"sk-estimator-id-167\" class=\"sk-toggleable__label sk-toggleable__label-arrow\">ordinal</label><div class=\"sk-toggleable__content\"><pre>[&#x27;Brand me&#x27;]</pre></div></div></div><div class=\"sk-serial\"><div class=\"sk-item\"><div class=\"sk-serial\"><div class=\"sk-item\"><div class=\"sk-estimator sk-toggleable\"><input class=\"sk-toggleable__control sk-hidden--visually\" id=\"sk-estimator-id-168\" type=\"checkbox\" ><label for=\"sk-estimator-id-168\" class=\"sk-toggleable__label sk-toggleable__label-arrow\">OrdinalEncoder</label><div class=\"sk-toggleable__content\"><pre>OrdinalEncoder(handle_unknown=&#x27;use_encoded_value&#x27;, unknown_value=-1)</pre></div></div></div><div class=\"sk-item\"><div class=\"sk-estimator sk-toggleable\"><input class=\"sk-toggleable__control sk-hidden--visually\" id=\"sk-estimator-id-169\" type=\"checkbox\" ><label for=\"sk-estimator-id-169\" class=\"sk-toggleable__label sk-toggleable__label-arrow\">SimpleImputer</label><div class=\"sk-toggleable__content\"><pre>SimpleImputer()</pre></div></div></div></div></div></div></div></div><div class=\"sk-parallel-item\"><div class=\"sk-item\"><div class=\"sk-label-container\"><div class=\"sk-label sk-toggleable\"><input class=\"sk-toggleable__control sk-hidden--visually\" id=\"sk-estimator-id-170\" type=\"checkbox\" ><label for=\"sk-estimator-id-170\" class=\"sk-toggleable__label sk-toggleable__label-arrow\">sclaer_pipe</label><div class=\"sk-toggleable__content\"><pre>[&#x27;Ratings&#x27;, &#x27;RAM&#x27;, &#x27;ROM&#x27;, &#x27;Mobile_Size&#x27;, &#x27;Primary_Cam&#x27;, &#x27;Selfi_Cam&#x27;, &#x27;Battery_Power&#x27;]</pre></div></div></div><div class=\"sk-serial\"><div class=\"sk-item\"><div class=\"sk-serial\"><div class=\"sk-item\"><div class=\"sk-estimator sk-toggleable\"><input class=\"sk-toggleable__control sk-hidden--visually\" id=\"sk-estimator-id-171\" type=\"checkbox\" ><label for=\"sk-estimator-id-171\" class=\"sk-toggleable__label sk-toggleable__label-arrow\">StandardScaler</label><div class=\"sk-toggleable__content\"><pre>StandardScaler()</pre></div></div></div><div class=\"sk-item\"><div class=\"sk-estimator sk-toggleable\"><input class=\"sk-toggleable__control sk-hidden--visually\" id=\"sk-estimator-id-172\" type=\"checkbox\" ><label for=\"sk-estimator-id-172\" class=\"sk-toggleable__label sk-toggleable__label-arrow\">SimpleImputer</label><div class=\"sk-toggleable__content\"><pre>SimpleImputer(strategy=&#x27;median&#x27;)</pre></div></div></div></div></div></div></div></div></div></div><div class=\"sk-item\"><div class=\"sk-estimator sk-toggleable\"><input class=\"sk-toggleable__control sk-hidden--visually\" id=\"sk-estimator-id-173\" type=\"checkbox\" ><label for=\"sk-estimator-id-173\" class=\"sk-toggleable__label sk-toggleable__label-arrow\">RandomForestRegressor</label><div class=\"sk-toggleable__content\"><pre>RandomForestRegressor(n_estimators=170)</pre></div></div></div></div></div></div></div>"
          },
          "metadata": {}
        }
      ],
      "execution_count": 211
    },
    {
      "cell_type": "code",
      "source": "model_pipe.score(Xnew_train,ynew_train)",
      "metadata": {
        "trusted": true
      },
      "outputs": [
        {
          "execution_count": 212,
          "output_type": "execute_result",
          "data": {
            "text/plain": "0.9763907040961914"
          },
          "metadata": {}
        }
      ],
      "execution_count": 212
    },
    {
      "cell_type": "code",
      "source": "Xnew_train.head(2)",
      "metadata": {
        "trusted": true
      },
      "outputs": [
        {
          "execution_count": 213,
          "output_type": "execute_result",
          "data": {
            "text/plain": "                       Brand me  Ratings  RAM  ROM  Mobile_Size  Primary_Cam  \\\n598               Easyfone Star      3.8    6   32         4.70           64   \n327  iQOO 3 (Tordo Black, 128 )      4.4    8  128         6.44           48   \n\n     Selfi_Cam  Battery_Power  \n598          8           3400  \n327         13           4440  ",
            "text/html": "<div>\n<style scoped>\n    .dataframe tbody tr th:only-of-type {\n        vertical-align: middle;\n    }\n\n    .dataframe tbody tr th {\n        vertical-align: top;\n    }\n\n    .dataframe thead th {\n        text-align: right;\n    }\n</style>\n<table border=\"1\" class=\"dataframe\">\n  <thead>\n    <tr style=\"text-align: right;\">\n      <th></th>\n      <th>Brand me</th>\n      <th>Ratings</th>\n      <th>RAM</th>\n      <th>ROM</th>\n      <th>Mobile_Size</th>\n      <th>Primary_Cam</th>\n      <th>Selfi_Cam</th>\n      <th>Battery_Power</th>\n    </tr>\n  </thead>\n  <tbody>\n    <tr>\n      <th>598</th>\n      <td>Easyfone Star</td>\n      <td>3.8</td>\n      <td>6</td>\n      <td>32</td>\n      <td>4.70</td>\n      <td>64</td>\n      <td>8</td>\n      <td>3400</td>\n    </tr>\n    <tr>\n      <th>327</th>\n      <td>iQOO 3 (Tordo Black, 128 )</td>\n      <td>4.4</td>\n      <td>8</td>\n      <td>128</td>\n      <td>6.44</td>\n      <td>48</td>\n      <td>13</td>\n      <td>4440</td>\n    </tr>\n  </tbody>\n</table>\n</div>"
          },
          "metadata": {}
        }
      ],
      "execution_count": 213
    },
    {
      "cell_type": "code",
      "source": "Xnew_test.shape",
      "metadata": {
        "trusted": true
      },
      "outputs": [
        {
          "execution_count": 214,
          "output_type": "execute_result",
          "data": {
            "text/plain": "(168, 8)"
          },
          "metadata": {}
        }
      ],
      "execution_count": 214
    },
    {
      "cell_type": "code",
      "source": "y_pred=model_pipe.predict(Xnew_test)",
      "metadata": {
        "trusted": true
      },
      "outputs": [],
      "execution_count": 215
    },
    {
      "cell_type": "code",
      "source": "from sklearn.metrics import r2_score",
      "metadata": {
        "trusted": true
      },
      "outputs": [],
      "execution_count": 216
    },
    {
      "cell_type": "code",
      "source": "r2_score(y_pred,ynew_test)",
      "metadata": {
        "trusted": true
      },
      "outputs": [
        {
          "execution_count": 217,
          "output_type": "execute_result",
          "data": {
            "text/plain": "0.17747976262292786"
          },
          "metadata": {}
        }
      ],
      "execution_count": 217
    },
    {
      "cell_type": "markdown",
      "source": "# Test the Model",
      "metadata": {}
    },
    {
      "cell_type": "code",
      "source": "model_pipe.predict(Xnew_train.head(2))",
      "metadata": {
        "trusted": true
      },
      "outputs": [
        {
          "execution_count": 230,
          "output_type": "execute_result",
          "data": {
            "text/plain": "array([ 3961.95882353, 35360.58823529])"
          },
          "metadata": {}
        }
      ],
      "execution_count": 230
    },
    {
      "cell_type": "code",
      "source": "df.head(1)",
      "metadata": {
        "trusted": true
      },
      "outputs": [
        {
          "execution_count": 232,
          "output_type": "execute_result",
          "data": {
            "text/plain": "                Brand me  Ratings  RAM  ROM  Mobile_Size  Primary_Cam  \\\n0  LG V30+ (Black, 128 )      4.3    4  128          6.0           48   \n\n   Selfi_Cam  Battery_Power  Price  \n0         13           4000  24999  ",
            "text/html": "<div>\n<style scoped>\n    .dataframe tbody tr th:only-of-type {\n        vertical-align: middle;\n    }\n\n    .dataframe tbody tr th {\n        vertical-align: top;\n    }\n\n    .dataframe thead th {\n        text-align: right;\n    }\n</style>\n<table border=\"1\" class=\"dataframe\">\n  <thead>\n    <tr style=\"text-align: right;\">\n      <th></th>\n      <th>Brand me</th>\n      <th>Ratings</th>\n      <th>RAM</th>\n      <th>ROM</th>\n      <th>Mobile_Size</th>\n      <th>Primary_Cam</th>\n      <th>Selfi_Cam</th>\n      <th>Battery_Power</th>\n      <th>Price</th>\n    </tr>\n  </thead>\n  <tbody>\n    <tr>\n      <th>0</th>\n      <td>LG V30+ (Black, 128 )</td>\n      <td>4.3</td>\n      <td>4</td>\n      <td>128</td>\n      <td>6.0</td>\n      <td>48</td>\n      <td>13</td>\n      <td>4000</td>\n      <td>24999</td>\n    </tr>\n  </tbody>\n</table>\n</div>"
          },
          "metadata": {}
        }
      ],
      "execution_count": 232
    },
    {
      "cell_type": "code",
      "source": "model_pipe.predict(df.head(1))",
      "metadata": {
        "trusted": true
      },
      "outputs": [
        {
          "execution_count": 233,
          "output_type": "execute_result",
          "data": {
            "text/plain": "array([25969.10588235])"
          },
          "metadata": {}
        }
      ],
      "execution_count": 233
    },
    {
      "cell_type": "markdown",
      "source": "# Save the model and dump",
      "metadata": {}
    },
    {
      "cell_type": "code",
      "source": "import pickle",
      "metadata": {
        "trusted": true
      },
      "outputs": [],
      "execution_count": 234
    },
    {
      "cell_type": "code",
      "source": "pickle.dump(model_pipe,open('model_pipe.pkl','wb'))",
      "metadata": {
        "trusted": true
      },
      "outputs": [],
      "execution_count": 235
    },
    {
      "cell_type": "code",
      "source": "",
      "metadata": {
        "trusted": true
      },
      "outputs": [],
      "execution_count": null
    }
  ]
}