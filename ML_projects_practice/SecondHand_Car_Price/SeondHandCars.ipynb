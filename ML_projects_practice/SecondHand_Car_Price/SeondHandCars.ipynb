{
 "cells": [
  {
   "cell_type": "code",
   "execution_count": 71,
   "id": "d6eee84f-6efb-483d-b9f1-ff2f0dcf0609",
   "metadata": {},
   "outputs": [],
   "source": [
    "import numpy as np\n",
    "import pandas as pd\n",
    "import matplotlib.pyplot as plt\n",
    "import seaborn as sns"
   ]
  },
  {
   "cell_type": "code",
   "execution_count": 72,
   "id": "c0f1685d-ad6d-407d-a472-8a4d562df98f",
   "metadata": {},
   "outputs": [],
   "source": [
    "df=pd.read_csv('cars.csv')"
   ]
  },
  {
   "cell_type": "code",
   "execution_count": 73,
   "id": "69526804-dc71-4ef1-8318-b98eeb135a5b",
   "metadata": {},
   "outputs": [
    {
     "data": {
      "text/html": [
       "<div>\n",
       "<style scoped>\n",
       "    .dataframe tbody tr th:only-of-type {\n",
       "        vertical-align: middle;\n",
       "    }\n",
       "\n",
       "    .dataframe tbody tr th {\n",
       "        vertical-align: top;\n",
       "    }\n",
       "\n",
       "    .dataframe thead th {\n",
       "        text-align: right;\n",
       "    }\n",
       "</style>\n",
       "<table border=\"1\" class=\"dataframe\">\n",
       "  <thead>\n",
       "    <tr style=\"text-align: right;\">\n",
       "      <th></th>\n",
       "      <th>Car_ID</th>\n",
       "      <th>Brand</th>\n",
       "      <th>Model</th>\n",
       "      <th>Year</th>\n",
       "      <th>Kilometers_Driven</th>\n",
       "      <th>Fuel_Type</th>\n",
       "      <th>Transmission</th>\n",
       "      <th>Owner_Type</th>\n",
       "      <th>Mileage</th>\n",
       "      <th>Engine</th>\n",
       "      <th>Power</th>\n",
       "      <th>Seats</th>\n",
       "      <th>Price</th>\n",
       "    </tr>\n",
       "  </thead>\n",
       "  <tbody>\n",
       "    <tr>\n",
       "      <th>0</th>\n",
       "      <td>1</td>\n",
       "      <td>Toyota</td>\n",
       "      <td>Corolla</td>\n",
       "      <td>2018</td>\n",
       "      <td>50000</td>\n",
       "      <td>Petrol</td>\n",
       "      <td>Manual</td>\n",
       "      <td>First</td>\n",
       "      <td>15</td>\n",
       "      <td>1498</td>\n",
       "      <td>108</td>\n",
       "      <td>5</td>\n",
       "      <td>800000</td>\n",
       "    </tr>\n",
       "    <tr>\n",
       "      <th>1</th>\n",
       "      <td>2</td>\n",
       "      <td>Honda</td>\n",
       "      <td>Civic</td>\n",
       "      <td>2019</td>\n",
       "      <td>40000</td>\n",
       "      <td>Petrol</td>\n",
       "      <td>Automatic</td>\n",
       "      <td>Second</td>\n",
       "      <td>17</td>\n",
       "      <td>1597</td>\n",
       "      <td>140</td>\n",
       "      <td>5</td>\n",
       "      <td>1000000</td>\n",
       "    </tr>\n",
       "    <tr>\n",
       "      <th>2</th>\n",
       "      <td>3</td>\n",
       "      <td>Ford</td>\n",
       "      <td>Mustang</td>\n",
       "      <td>2017</td>\n",
       "      <td>20000</td>\n",
       "      <td>Petrol</td>\n",
       "      <td>Automatic</td>\n",
       "      <td>First</td>\n",
       "      <td>10</td>\n",
       "      <td>4951</td>\n",
       "      <td>395</td>\n",
       "      <td>4</td>\n",
       "      <td>2500000</td>\n",
       "    </tr>\n",
       "    <tr>\n",
       "      <th>3</th>\n",
       "      <td>4</td>\n",
       "      <td>Maruti</td>\n",
       "      <td>Swift</td>\n",
       "      <td>2020</td>\n",
       "      <td>30000</td>\n",
       "      <td>Diesel</td>\n",
       "      <td>Manual</td>\n",
       "      <td>Third</td>\n",
       "      <td>23</td>\n",
       "      <td>1248</td>\n",
       "      <td>74</td>\n",
       "      <td>5</td>\n",
       "      <td>600000</td>\n",
       "    </tr>\n",
       "    <tr>\n",
       "      <th>4</th>\n",
       "      <td>5</td>\n",
       "      <td>Hyundai</td>\n",
       "      <td>Sonata</td>\n",
       "      <td>2016</td>\n",
       "      <td>60000</td>\n",
       "      <td>Diesel</td>\n",
       "      <td>Automatic</td>\n",
       "      <td>Second</td>\n",
       "      <td>18</td>\n",
       "      <td>1999</td>\n",
       "      <td>194</td>\n",
       "      <td>5</td>\n",
       "      <td>850000</td>\n",
       "    </tr>\n",
       "  </tbody>\n",
       "</table>\n",
       "</div>"
      ],
      "text/plain": [
       "   Car_ID    Brand    Model  Year  Kilometers_Driven Fuel_Type Transmission  \\\n",
       "0       1   Toyota  Corolla  2018              50000    Petrol       Manual   \n",
       "1       2    Honda    Civic  2019              40000    Petrol    Automatic   \n",
       "2       3     Ford  Mustang  2017              20000    Petrol    Automatic   \n",
       "3       4   Maruti    Swift  2020              30000    Diesel       Manual   \n",
       "4       5  Hyundai   Sonata  2016              60000    Diesel    Automatic   \n",
       "\n",
       "  Owner_Type  Mileage  Engine  Power  Seats    Price  \n",
       "0      First       15    1498    108      5   800000  \n",
       "1     Second       17    1597    140      5  1000000  \n",
       "2      First       10    4951    395      4  2500000  \n",
       "3      Third       23    1248     74      5   600000  \n",
       "4     Second       18    1999    194      5   850000  "
      ]
     },
     "execution_count": 73,
     "metadata": {},
     "output_type": "execute_result"
    }
   ],
   "source": [
    "df.head()"
   ]
  },
  {
   "cell_type": "code",
   "execution_count": 74,
   "id": "3e0f5a1a-e1b0-4d12-9600-84a32aa8f5e8",
   "metadata": {},
   "outputs": [
    {
     "data": {
      "text/plain": [
       "(100, 13)"
      ]
     },
     "execution_count": 74,
     "metadata": {},
     "output_type": "execute_result"
    }
   ],
   "source": [
    "# Check the size\n",
    "df.shape"
   ]
  },
  {
   "cell_type": "code",
   "execution_count": 75,
   "id": "e3c3e09d-588c-4496-9012-419667f55af8",
   "metadata": {},
   "outputs": [
    {
     "name": "stdout",
     "output_type": "stream",
     "text": [
      "<class 'pandas.core.frame.DataFrame'>\n",
      "RangeIndex: 100 entries, 0 to 99\n",
      "Data columns (total 13 columns):\n",
      " #   Column             Non-Null Count  Dtype \n",
      "---  ------             --------------  ----- \n",
      " 0   Car_ID             100 non-null    int64 \n",
      " 1   Brand              100 non-null    object\n",
      " 2   Model              100 non-null    object\n",
      " 3   Year               100 non-null    int64 \n",
      " 4   Kilometers_Driven  100 non-null    int64 \n",
      " 5   Fuel_Type          100 non-null    object\n",
      " 6   Transmission       100 non-null    object\n",
      " 7   Owner_Type         100 non-null    object\n",
      " 8   Mileage            100 non-null    int64 \n",
      " 9   Engine             100 non-null    int64 \n",
      " 10  Power              100 non-null    int64 \n",
      " 11  Seats              100 non-null    int64 \n",
      " 12  Price              100 non-null    int64 \n",
      "dtypes: int64(8), object(5)\n",
      "memory usage: 10.3+ KB\n"
     ]
    }
   ],
   "source": [
    "# Check the info\n",
    "df.info()"
   ]
  },
  {
   "cell_type": "code",
   "execution_count": 76,
   "id": "ffb91572-4d4a-425c-b09c-39ca5576355e",
   "metadata": {},
   "outputs": [],
   "source": [
    "# As per the data we don't required the car id\n",
    "df.drop(columns=['Car_ID'],inplace=True)"
   ]
  },
  {
   "cell_type": "code",
   "execution_count": 77,
   "id": "72c12f7e-7e7a-4cb5-9237-d279b8326fb5",
   "metadata": {},
   "outputs": [
    {
     "data": {
      "text/html": [
       "<div>\n",
       "<style scoped>\n",
       "    .dataframe tbody tr th:only-of-type {\n",
       "        vertical-align: middle;\n",
       "    }\n",
       "\n",
       "    .dataframe tbody tr th {\n",
       "        vertical-align: top;\n",
       "    }\n",
       "\n",
       "    .dataframe thead th {\n",
       "        text-align: right;\n",
       "    }\n",
       "</style>\n",
       "<table border=\"1\" class=\"dataframe\">\n",
       "  <thead>\n",
       "    <tr style=\"text-align: right;\">\n",
       "      <th></th>\n",
       "      <th>Brand</th>\n",
       "      <th>Model</th>\n",
       "      <th>Year</th>\n",
       "      <th>Kilometers_Driven</th>\n",
       "      <th>Fuel_Type</th>\n",
       "      <th>Transmission</th>\n",
       "      <th>Owner_Type</th>\n",
       "      <th>Mileage</th>\n",
       "      <th>Engine</th>\n",
       "      <th>Power</th>\n",
       "      <th>Seats</th>\n",
       "      <th>Price</th>\n",
       "    </tr>\n",
       "  </thead>\n",
       "  <tbody>\n",
       "    <tr>\n",
       "      <th>0</th>\n",
       "      <td>Toyota</td>\n",
       "      <td>Corolla</td>\n",
       "      <td>2018</td>\n",
       "      <td>50000</td>\n",
       "      <td>Petrol</td>\n",
       "      <td>Manual</td>\n",
       "      <td>First</td>\n",
       "      <td>15</td>\n",
       "      <td>1498</td>\n",
       "      <td>108</td>\n",
       "      <td>5</td>\n",
       "      <td>800000</td>\n",
       "    </tr>\n",
       "    <tr>\n",
       "      <th>1</th>\n",
       "      <td>Honda</td>\n",
       "      <td>Civic</td>\n",
       "      <td>2019</td>\n",
       "      <td>40000</td>\n",
       "      <td>Petrol</td>\n",
       "      <td>Automatic</td>\n",
       "      <td>Second</td>\n",
       "      <td>17</td>\n",
       "      <td>1597</td>\n",
       "      <td>140</td>\n",
       "      <td>5</td>\n",
       "      <td>1000000</td>\n",
       "    </tr>\n",
       "  </tbody>\n",
       "</table>\n",
       "</div>"
      ],
      "text/plain": [
       "    Brand    Model  Year  Kilometers_Driven Fuel_Type Transmission Owner_Type  \\\n",
       "0  Toyota  Corolla  2018              50000    Petrol       Manual      First   \n",
       "1   Honda    Civic  2019              40000    Petrol    Automatic     Second   \n",
       "\n",
       "   Mileage  Engine  Power  Seats    Price  \n",
       "0       15    1498    108      5   800000  \n",
       "1       17    1597    140      5  1000000  "
      ]
     },
     "execution_count": 77,
     "metadata": {},
     "output_type": "execute_result"
    }
   ],
   "source": [
    "df.head(2)"
   ]
  },
  {
   "cell_type": "code",
   "execution_count": 78,
   "id": "204a2ba2-59f0-45c5-84ba-e2756c8f29b3",
   "metadata": {},
   "outputs": [
    {
     "data": {
      "text/plain": [
       "Brand                0\n",
       "Model                0\n",
       "Year                 0\n",
       "Kilometers_Driven    0\n",
       "Fuel_Type            0\n",
       "Transmission         0\n",
       "Owner_Type           0\n",
       "Mileage              0\n",
       "Engine               0\n",
       "Power                0\n",
       "Seats                0\n",
       "Price                0\n",
       "dtype: int64"
      ]
     },
     "execution_count": 78,
     "metadata": {},
     "output_type": "execute_result"
    }
   ],
   "source": [
    "# check the null values\n",
    "df.isnull().sum()"
   ]
  },
  {
   "cell_type": "code",
   "execution_count": 79,
   "id": "a97fc986-8d09-4165-8eb4-a1ca6cd99c8f",
   "metadata": {},
   "outputs": [
    {
     "data": {
      "text/plain": [
       "Brand                0\n",
       "Model                0\n",
       "Year                 0\n",
       "Kilometers_Driven    0\n",
       "Fuel_Type            0\n",
       "Transmission         0\n",
       "Owner_Type           0\n",
       "Mileage              0\n",
       "Engine               0\n",
       "Power                0\n",
       "Seats                0\n",
       "Price                0\n",
       "dtype: int64"
      ]
     },
     "execution_count": 79,
     "metadata": {},
     "output_type": "execute_result"
    }
   ],
   "source": [
    "df.isna().sum()\n",
    "# This is to chec NA values"
   ]
  },
  {
   "cell_type": "code",
   "execution_count": 80,
   "id": "cd60d859-f5be-4cc6-88cc-699f86ccec28",
   "metadata": {},
   "outputs": [
    {
     "data": {
      "text/plain": [
       "39"
      ]
     },
     "execution_count": 80,
     "metadata": {},
     "output_type": "execute_result"
    }
   ],
   "source": [
    "df.duplicated().sum()"
   ]
  },
  {
   "cell_type": "code",
   "execution_count": 102,
   "id": "619d8cdc-5fd7-41e3-a557-c39b5547521d",
   "metadata": {},
   "outputs": [],
   "source": [
    "# Check duplicate values\n",
    "# df[df.duplicated()].to_csv('duplicate.csv')\n"
   ]
  },
  {
   "cell_type": "code",
   "execution_count": null,
   "id": "78c77c7c-7472-45a5-a0c0-ad64cb26a97c",
   "metadata": {},
   "outputs": [],
   "source": [
    "df[df.duplicated()].shape"
   ]
  },
  {
   "cell_type": "markdown",
   "id": "f42cd2b5-555c-4ded-b476-37fd55438bf1",
   "metadata": {},
   "source": [
    "### As per data we can't delete the duplicate values \n",
    "### The data set is too small"
   ]
  },
  {
   "cell_type": "code",
   "execution_count": null,
   "id": "9256ddd7-80c1-4bdf-81ff-6126a8545b4b",
   "metadata": {},
   "outputs": [],
   "source": [
    "# Mathematicall expression\n",
    "df.describe()"
   ]
  },
  {
   "cell_type": "markdown",
   "id": "b39bb65a-6140-49c8-ba57-3aaef24cd8ad",
   "metadata": {},
   "source": [
    "# EDA"
   ]
  },
  {
   "cell_type": "markdown",
   "id": "d8c58f51-8b9d-4c6b-a786-b1f2841d5950",
   "metadata": {},
   "source": [
    "##### Check the category columns and numerical columns"
   ]
  },
  {
   "cell_type": "code",
   "execution_count": null,
   "id": "527340f9-ba2b-4afd-b3a0-44e54fee3ffe",
   "metadata": {},
   "outputs": [],
   "source": [
    "df.info()"
   ]
  },
  {
   "cell_type": "code",
   "execution_count": null,
   "id": "8637c78e-542b-46ba-8648-b6e22beefbc0",
   "metadata": {},
   "outputs": [],
   "source": [
    "cat_cols=[\"Brand\",\"Model\",\"Fuel_Type\",\"Transmission\",\"Transmission\"]\n",
    "num_cols=['Year','Kilometers_Driven','Mileage','Engine','Power','Seats','Price']"
   ]
  },
  {
   "cell_type": "code",
   "execution_count": null,
   "id": "b44fd6dd-8df8-41d5-8cbd-b77fa4e0def7",
   "metadata": {},
   "outputs": [],
   "source": [
    "df.select_dtypes(include='object')\n",
    "# it will print the all the rows of object column"
   ]
  },
  {
   "cell_type": "code",
   "execution_count": null,
   "id": "d2f64314-decc-44ca-b407-1eeb50aa4b6f",
   "metadata": {},
   "outputs": [],
   "source": [
    "df.select_dtypes(include='object').columns.tolist()\n",
    "# print the columns name only"
   ]
  },
  {
   "cell_type": "code",
   "execution_count": null,
   "id": "e42ea167-4c88-435d-a49d-b6a4974fe531",
   "metadata": {},
   "outputs": [],
   "source": [
    "for i in df.select_dtypes(include='object'):\n",
    "    print(i)"
   ]
  },
  {
   "cell_type": "code",
   "execution_count": null,
   "id": "669125e8-8a98-4df9-8cb3-fcf869d2e634",
   "metadata": {},
   "outputs": [],
   "source": [
    "[i for i in df.select_dtypes(include='object')]"
   ]
  },
  {
   "cell_type": "code",
   "execution_count": null,
   "id": "3ea4563b-68ed-4372-9942-f2c0987417c3",
   "metadata": {},
   "outputs": [],
   "source": [
    "for i in df.columns:\n",
    "    if df[i].dtype=='object':\n",
    "        print(i)"
   ]
  },
  {
   "cell_type": "code",
   "execution_count": null,
   "id": "681610f0-842d-46f5-982d-7f88d06e10eb",
   "metadata": {},
   "outputs": [],
   "source": [
    "for i in df.columns:\n",
    "    if df[i].dtype=='int64':\n",
    "        print(i)"
   ]
  },
  {
   "cell_type": "code",
   "execution_count": null,
   "id": "a5431c7f-9465-43a3-ba6b-458f9f3e0125",
   "metadata": {},
   "outputs": [],
   "source": [
    "# Print the top 10 cars brand based on the count\n",
    "df['Brand'].value_counts().head(10)"
   ]
  },
  {
   "cell_type": "code",
   "execution_count": null,
   "id": "857c853e-9fc2-4656-82a4-45f49bad49a2",
   "metadata": {},
   "outputs": [],
   "source": [
    "df['Brand'].value_counts().head(11).plot(kind='bar')"
   ]
  },
  {
   "cell_type": "markdown",
   "id": "0d29a767-d43b-41a7-8611-d6ba4e752777",
   "metadata": {},
   "source": [
    "#### By brand ford hyundai tata are the top 3"
   ]
  },
  {
   "cell_type": "code",
   "execution_count": 82,
   "id": "a4fcb0a5-5ce6-4cea-88f7-3f3c362fe93e",
   "metadata": {},
   "outputs": [
    {
     "data": {
      "text/plain": [
       "Brand                11\n",
       "Model                58\n",
       "Year                  6\n",
       "Kilometers_Driven    18\n",
       "Fuel_Type             2\n",
       "Transmission          2\n",
       "Owner_Type            3\n",
       "Mileage              15\n",
       "Engine               36\n",
       "Power                40\n",
       "Seats                 3\n",
       "Price                31\n",
       "dtype: int64"
      ]
     },
     "execution_count": 82,
     "metadata": {},
     "output_type": "execute_result"
    }
   ],
   "source": [
    "# Check the unique values\n",
    "df.nunique()"
   ]
  },
  {
   "cell_type": "markdown",
   "id": "e2ba304a-779a-46bd-8eec-0568436451d3",
   "metadata": {},
   "source": [
    "##### Top cars based on the year"
   ]
  },
  {
   "cell_type": "code",
   "execution_count": 91,
   "id": "8c1e06de-c158-4141-a584-77b2825f994c",
   "metadata": {},
   "outputs": [
    {
     "data": {
      "text/plain": [
       "Brand  Year\n",
       "BMW    2019    18300000\n",
       "Audi   2017    12200000\n",
       "       2018    11600000\n",
       "Name: Price, dtype: int64"
      ]
     },
     "execution_count": 91,
     "metadata": {},
     "output_type": "execute_result"
    }
   ],
   "source": [
    "df.groupby(['Brand','Year'])['Price'].sum().sort_values(ascending=False).head(3)"
   ]
  },
  {
   "cell_type": "code",
   "execution_count": 93,
   "id": "d6b8a903-8f12-457d-9deb-061b59d1b820",
   "metadata": {},
   "outputs": [
    {
     "data": {
      "image/png": "[encoded data removed]",
      "text/plain": [
       "<Figure size 640x480 with 1 Axes>"
      ]
     },
     "metadata": {},
     "output_type": "display_data"
    }
   ],
   "source": [
    "df.groupby(['Brand','Year'])['Price'].sum().sort_values(ascending=False).head(3).plot(kind='bar')\n",
    "plt.show()"
   ]
  },
  {
   "cell_type": "markdown",
   "id": "fb3440df-b156-443f-af0c-0871c4dd39d0",
   "metadata": {},
   "source": [
    "### Top 3 cars based on the sales and with brand"
   ]
  },
  {
   "cell_type": "code",
   "execution_count": 95,
   "id": "96931e6b-b789-4ea1-be5e-ec4a9c4e296b",
   "metadata": {},
   "outputs": [
    {
     "data": {
      "text/plain": [
       "Model     Brand\n",
       "3 Series  BMW      5600000\n",
       "5 Series  BMW      3000000\n",
       "7 Series  BMW      7000000\n",
       "Name: Price, dtype: int64"
      ]
     },
     "execution_count": 95,
     "metadata": {},
     "output_type": "execute_result"
    }
   ],
   "source": [
    "df.groupby(['Model','Brand'])['Price'].sum().head(3)"
   ]
  },
  {
   "cell_type": "code",
   "execution_count": 101,
   "id": "b81e0a3e-827b-4ba4-aec6-41eb615ec4aa",
   "metadata": {},
   "outputs": [
    {
     "data": {
      "image/png": "[encoded data removed]",
      "text/plain": [
       "<Figure size 640x480 with 1 Axes>"
      ]
     },
     "metadata": {},
     "output_type": "display_data"
    }
   ],
   "source": [
    "df.groupby(['Model','Brand'])['Price'].sum().head(3).plot(kind='pie', autopct='%1.2f%%')\n",
    "plt.show()"
   ]
  },
  {
   "cell_type": "markdown",
   "id": "377d13a1-46fb-406a-ba89-eb342fb997d9",
   "metadata": {},
   "source": [
    "### Top Milage car"
   ]
  },
  {
   "cell_type": "code",
   "execution_count": 108,
   "id": "ec404497-5389-4217-ab28-86e715fd322f",
   "metadata": {},
   "outputs": [
    {
     "data": {
      "text/html": [
       "<div>\n",
       "<style scoped>\n",
       "    .dataframe tbody tr th:only-of-type {\n",
       "        vertical-align: middle;\n",
       "    }\n",
       "\n",
       "    .dataframe tbody tr th {\n",
       "        vertical-align: top;\n",
       "    }\n",
       "\n",
       "    .dataframe thead th {\n",
       "        text-align: right;\n",
       "    }\n",
       "</style>\n",
       "<table border=\"1\" class=\"dataframe\">\n",
       "  <thead>\n",
       "    <tr style=\"text-align: right;\">\n",
       "      <th></th>\n",
       "      <th>Brand</th>\n",
       "      <th>Model</th>\n",
       "      <th>Year</th>\n",
       "      <th>Kilometers_Driven</th>\n",
       "      <th>Fuel_Type</th>\n",
       "      <th>Transmission</th>\n",
       "      <th>Owner_Type</th>\n",
       "      <th>Mileage</th>\n",
       "      <th>Engine</th>\n",
       "      <th>Power</th>\n",
       "      <th>Seats</th>\n",
       "      <th>Price</th>\n",
       "    </tr>\n",
       "  </thead>\n",
       "  <tbody>\n",
       "    <tr>\n",
       "      <th>72</th>\n",
       "      <td>Honda</td>\n",
       "      <td>WR-V</td>\n",
       "      <td>2018</td>\n",
       "      <td>28000</td>\n",
       "      <td>Diesel</td>\n",
       "      <td>Manual</td>\n",
       "      <td>First</td>\n",
       "      <td>25</td>\n",
       "      <td>1498</td>\n",
       "      <td>98</td>\n",
       "      <td>5</td>\n",
       "      <td>750000</td>\n",
       "    </tr>\n",
       "    <tr>\n",
       "      <th>15</th>\n",
       "      <td>Honda</td>\n",
       "      <td>City</td>\n",
       "      <td>2017</td>\n",
       "      <td>42000</td>\n",
       "      <td>Diesel</td>\n",
       "      <td>Manual</td>\n",
       "      <td>Second</td>\n",
       "      <td>25</td>\n",
       "      <td>1498</td>\n",
       "      <td>98</td>\n",
       "      <td>5</td>\n",
       "      <td>650000</td>\n",
       "    </tr>\n",
       "    <tr>\n",
       "      <th>34</th>\n",
       "      <td>Honda</td>\n",
       "      <td>WR-V</td>\n",
       "      <td>2018</td>\n",
       "      <td>28000</td>\n",
       "      <td>Diesel</td>\n",
       "      <td>Manual</td>\n",
       "      <td>First</td>\n",
       "      <td>25</td>\n",
       "      <td>1498</td>\n",
       "      <td>98</td>\n",
       "      <td>5</td>\n",
       "      <td>750000</td>\n",
       "    </tr>\n",
       "  </tbody>\n",
       "</table>\n",
       "</div>"
      ],
      "text/plain": [
       "    Brand Model  Year  Kilometers_Driven Fuel_Type Transmission Owner_Type  \\\n",
       "72  Honda  WR-V  2018              28000    Diesel       Manual      First   \n",
       "15  Honda  City  2017              42000    Diesel       Manual     Second   \n",
       "34  Honda  WR-V  2018              28000    Diesel       Manual      First   \n",
       "\n",
       "    Mileage  Engine  Power  Seats   Price  \n",
       "72       25    1498     98      5  750000  \n",
       "15       25    1498     98      5  650000  \n",
       "34       25    1498     98      5  750000  "
      ]
     },
     "execution_count": 108,
     "metadata": {},
     "output_type": "execute_result"
    }
   ],
   "source": [
    "df.sort_values(by='Mileage',ascending=False).head(3)"
   ]
  },
  {
   "cell_type": "markdown",
   "id": "3870c29a-735b-4257-8975-e3c943a5e69f",
   "metadata": {},
   "source": [
    "### Top Price"
   ]
  },
  {
   "cell_type": "code",
   "execution_count": 111,
   "id": "ff0f553a-761f-404c-b0e0-ba9ab5a75c9a",
   "metadata": {},
   "outputs": [
    {
     "data": {
      "text/html": [
       "<div>\n",
       "<style scoped>\n",
       "    .dataframe tbody tr th:only-of-type {\n",
       "        vertical-align: middle;\n",
       "    }\n",
       "\n",
       "    .dataframe tbody tr th {\n",
       "        vertical-align: top;\n",
       "    }\n",
       "\n",
       "    .dataframe thead th {\n",
       "        text-align: right;\n",
       "    }\n",
       "</style>\n",
       "<table border=\"1\" class=\"dataframe\">\n",
       "  <thead>\n",
       "    <tr style=\"text-align: right;\">\n",
       "      <th></th>\n",
       "      <th>Brand</th>\n",
       "      <th>Model</th>\n",
       "      <th>Year</th>\n",
       "      <th>Kilometers_Driven</th>\n",
       "      <th>Fuel_Type</th>\n",
       "      <th>Transmission</th>\n",
       "      <th>Owner_Type</th>\n",
       "      <th>Mileage</th>\n",
       "      <th>Engine</th>\n",
       "      <th>Power</th>\n",
       "      <th>Seats</th>\n",
       "      <th>Price</th>\n",
       "    </tr>\n",
       "  </thead>\n",
       "  <tbody>\n",
       "    <tr>\n",
       "      <th>76</th>\n",
       "      <td>Mercedes</td>\n",
       "      <td>GLE</td>\n",
       "      <td>2018</td>\n",
       "      <td>26000</td>\n",
       "      <td>Petrol</td>\n",
       "      <td>Automatic</td>\n",
       "      <td>Second</td>\n",
       "      <td>12</td>\n",
       "      <td>2996</td>\n",
       "      <td>362</td>\n",
       "      <td>5</td>\n",
       "      <td>4000000</td>\n",
       "    </tr>\n",
       "    <tr>\n",
       "      <th>38</th>\n",
       "      <td>Mercedes</td>\n",
       "      <td>GLE</td>\n",
       "      <td>2018</td>\n",
       "      <td>26000</td>\n",
       "      <td>Petrol</td>\n",
       "      <td>Automatic</td>\n",
       "      <td>Second</td>\n",
       "      <td>12</td>\n",
       "      <td>2996</td>\n",
       "      <td>362</td>\n",
       "      <td>5</td>\n",
       "      <td>4000000</td>\n",
       "    </tr>\n",
       "    <tr>\n",
       "      <th>75</th>\n",
       "      <td>BMW</td>\n",
       "      <td>7 Series</td>\n",
       "      <td>2019</td>\n",
       "      <td>22000</td>\n",
       "      <td>Diesel</td>\n",
       "      <td>Automatic</td>\n",
       "      <td>First</td>\n",
       "      <td>15</td>\n",
       "      <td>2993</td>\n",
       "      <td>261</td>\n",
       "      <td>5</td>\n",
       "      <td>3500000</td>\n",
       "    </tr>\n",
       "  </tbody>\n",
       "</table>\n",
       "</div>"
      ],
      "text/plain": [
       "       Brand     Model  Year  Kilometers_Driven Fuel_Type Transmission  \\\n",
       "76  Mercedes       GLE  2018              26000    Petrol    Automatic   \n",
       "38  Mercedes       GLE  2018              26000    Petrol    Automatic   \n",
       "75       BMW  7 Series  2019              22000    Diesel    Automatic   \n",
       "\n",
       "   Owner_Type  Mileage  Engine  Power  Seats    Price  \n",
       "76     Second       12    2996    362      5  4000000  \n",
       "38     Second       12    2996    362      5  4000000  \n",
       "75      First       15    2993    261      5  3500000  "
      ]
     },
     "execution_count": 111,
     "metadata": {},
     "output_type": "execute_result"
    }
   ],
   "source": [
    "df.sort_values(by='Price',ascending=False).head(3)"
   ]
  },
  {
   "cell_type": "markdown",
   "id": "1c9afc0c-a6ea-4ce1-90d4-4ea297c6ef9f",
   "metadata": {},
   "source": [
    "### Top Engine"
   ]
  },
  {
   "cell_type": "code",
   "execution_count": 112,
   "id": "9a67f71f-feca-48d2-a82b-e08012e4aba2",
   "metadata": {},
   "outputs": [
    {
     "data": {
      "text/html": [
       "<div>\n",
       "<style scoped>\n",
       "    .dataframe tbody tr th:only-of-type {\n",
       "        vertical-align: middle;\n",
       "    }\n",
       "\n",
       "    .dataframe tbody tr th {\n",
       "        vertical-align: top;\n",
       "    }\n",
       "\n",
       "    .dataframe thead th {\n",
       "        text-align: right;\n",
       "    }\n",
       "</style>\n",
       "<table border=\"1\" class=\"dataframe\">\n",
       "  <thead>\n",
       "    <tr style=\"text-align: right;\">\n",
       "      <th></th>\n",
       "      <th>Brand</th>\n",
       "      <th>Model</th>\n",
       "      <th>Year</th>\n",
       "      <th>Kilometers_Driven</th>\n",
       "      <th>Fuel_Type</th>\n",
       "      <th>Transmission</th>\n",
       "      <th>Owner_Type</th>\n",
       "      <th>Mileage</th>\n",
       "      <th>Engine</th>\n",
       "      <th>Power</th>\n",
       "      <th>Seats</th>\n",
       "      <th>Price</th>\n",
       "    </tr>\n",
       "  </thead>\n",
       "  <tbody>\n",
       "    <tr>\n",
       "      <th>2</th>\n",
       "      <td>Ford</td>\n",
       "      <td>Mustang</td>\n",
       "      <td>2017</td>\n",
       "      <td>20000</td>\n",
       "      <td>Petrol</td>\n",
       "      <td>Automatic</td>\n",
       "      <td>First</td>\n",
       "      <td>10</td>\n",
       "      <td>4951</td>\n",
       "      <td>395</td>\n",
       "      <td>4</td>\n",
       "      <td>2500000</td>\n",
       "    </tr>\n",
       "    <tr>\n",
       "      <th>47</th>\n",
       "      <td>BMW</td>\n",
       "      <td>X5</td>\n",
       "      <td>2018</td>\n",
       "      <td>28000</td>\n",
       "      <td>Petrol</td>\n",
       "      <td>Automatic</td>\n",
       "      <td>Second</td>\n",
       "      <td>14</td>\n",
       "      <td>2998</td>\n",
       "      <td>335</td>\n",
       "      <td>5</td>\n",
       "      <td>3200000</td>\n",
       "    </tr>\n",
       "    <tr>\n",
       "      <th>85</th>\n",
       "      <td>BMW</td>\n",
       "      <td>X5</td>\n",
       "      <td>2018</td>\n",
       "      <td>28000</td>\n",
       "      <td>Petrol</td>\n",
       "      <td>Automatic</td>\n",
       "      <td>Second</td>\n",
       "      <td>14</td>\n",
       "      <td>2998</td>\n",
       "      <td>335</td>\n",
       "      <td>5</td>\n",
       "      <td>3200000</td>\n",
       "    </tr>\n",
       "  </tbody>\n",
       "</table>\n",
       "</div>"
      ],
      "text/plain": [
       "   Brand    Model  Year  Kilometers_Driven Fuel_Type Transmission Owner_Type  \\\n",
       "2   Ford  Mustang  2017              20000    Petrol    Automatic      First   \n",
       "47   BMW       X5  2018              28000    Petrol    Automatic     Second   \n",
       "85   BMW       X5  2018              28000    Petrol    Automatic     Second   \n",
       "\n",
       "    Mileage  Engine  Power  Seats    Price  \n",
       "2        10    4951    395      4  2500000  \n",
       "47       14    2998    335      5  3200000  \n",
       "85       14    2998    335      5  3200000  "
      ]
     },
     "execution_count": 112,
     "metadata": {},
     "output_type": "execute_result"
    }
   ],
   "source": [
    "df.sort_values(by='Engine',ascending=False).head(3)"
   ]
  },
  {
   "cell_type": "markdown",
   "id": "045cd727-d61f-48bb-a8a1-3154a4264995",
   "metadata": {},
   "source": [
    "### Top Power"
   ]
  },
  {
   "cell_type": "code",
   "execution_count": 114,
   "id": "072368c8-55d3-432f-b267-bccb58ef280c",
   "metadata": {},
   "outputs": [
    {
     "data": {
      "text/html": [
       "<div>\n",
       "<style scoped>\n",
       "    .dataframe tbody tr th:only-of-type {\n",
       "        vertical-align: middle;\n",
       "    }\n",
       "\n",
       "    .dataframe tbody tr th {\n",
       "        vertical-align: top;\n",
       "    }\n",
       "\n",
       "    .dataframe thead th {\n",
       "        text-align: right;\n",
       "    }\n",
       "</style>\n",
       "<table border=\"1\" class=\"dataframe\">\n",
       "  <thead>\n",
       "    <tr style=\"text-align: right;\">\n",
       "      <th></th>\n",
       "      <th>Brand</th>\n",
       "      <th>Model</th>\n",
       "      <th>Year</th>\n",
       "      <th>Kilometers_Driven</th>\n",
       "      <th>Fuel_Type</th>\n",
       "      <th>Transmission</th>\n",
       "      <th>Owner_Type</th>\n",
       "      <th>Mileage</th>\n",
       "      <th>Engine</th>\n",
       "      <th>Power</th>\n",
       "      <th>Seats</th>\n",
       "      <th>Price</th>\n",
       "    </tr>\n",
       "  </thead>\n",
       "  <tbody>\n",
       "    <tr>\n",
       "      <th>50</th>\n",
       "      <td>Ford</td>\n",
       "      <td>Mustang</td>\n",
       "      <td>2019</td>\n",
       "      <td>22000</td>\n",
       "      <td>Petrol</td>\n",
       "      <td>Automatic</td>\n",
       "      <td>First</td>\n",
       "      <td>13</td>\n",
       "      <td>2261</td>\n",
       "      <td>396</td>\n",
       "      <td>4</td>\n",
       "      <td>2700000</td>\n",
       "    </tr>\n",
       "    <tr>\n",
       "      <th>88</th>\n",
       "      <td>Ford</td>\n",
       "      <td>Mustang</td>\n",
       "      <td>2019</td>\n",
       "      <td>22000</td>\n",
       "      <td>Petrol</td>\n",
       "      <td>Automatic</td>\n",
       "      <td>First</td>\n",
       "      <td>13</td>\n",
       "      <td>2261</td>\n",
       "      <td>396</td>\n",
       "      <td>4</td>\n",
       "      <td>2700000</td>\n",
       "    </tr>\n",
       "    <tr>\n",
       "      <th>2</th>\n",
       "      <td>Ford</td>\n",
       "      <td>Mustang</td>\n",
       "      <td>2017</td>\n",
       "      <td>20000</td>\n",
       "      <td>Petrol</td>\n",
       "      <td>Automatic</td>\n",
       "      <td>First</td>\n",
       "      <td>10</td>\n",
       "      <td>4951</td>\n",
       "      <td>395</td>\n",
       "      <td>4</td>\n",
       "      <td>2500000</td>\n",
       "    </tr>\n",
       "  </tbody>\n",
       "</table>\n",
       "</div>"
      ],
      "text/plain": [
       "   Brand    Model  Year  Kilometers_Driven Fuel_Type Transmission Owner_Type  \\\n",
       "50  Ford  Mustang  2019              22000    Petrol    Automatic      First   \n",
       "88  Ford  Mustang  2019              22000    Petrol    Automatic      First   \n",
       "2   Ford  Mustang  2017              20000    Petrol    Automatic      First   \n",
       "\n",
       "    Mileage  Engine  Power  Seats    Price  \n",
       "50       13    2261    396      4  2700000  \n",
       "88       13    2261    396      4  2700000  \n",
       "2        10    4951    395      4  2500000  "
      ]
     },
     "execution_count": 114,
     "metadata": {},
     "output_type": "execute_result"
    }
   ],
   "source": [
    "df.sort_values(by='Power',ascending=False).head(3)"
   ]
  },
  {
   "cell_type": "markdown",
   "id": "38f5fc27-cada-4905-9e89-1d56c314e01a",
   "metadata": {},
   "source": [
    "### Top 3 Model based on Petrol fuel type and Price"
   ]
  },
  {
   "cell_type": "code",
   "execution_count": 120,
   "id": "cd632560-1491-46a2-9e23-529980cd9602",
   "metadata": {},
   "outputs": [],
   "source": [
    "petrol=df[df['Fuel_Type']=='Petrol']"
   ]
  },
  {
   "cell_type": "code",
   "execution_count": 123,
   "id": "9d2f6a80-f774-49fc-80a8-c363ddfa428c",
   "metadata": {},
   "outputs": [
    {
     "data": {
      "text/html": [
       "<div>\n",
       "<style scoped>\n",
       "    .dataframe tbody tr th:only-of-type {\n",
       "        vertical-align: middle;\n",
       "    }\n",
       "\n",
       "    .dataframe tbody tr th {\n",
       "        vertical-align: top;\n",
       "    }\n",
       "\n",
       "    .dataframe thead th {\n",
       "        text-align: right;\n",
       "    }\n",
       "</style>\n",
       "<table border=\"1\" class=\"dataframe\">\n",
       "  <thead>\n",
       "    <tr style=\"text-align: right;\">\n",
       "      <th></th>\n",
       "      <th>Brand</th>\n",
       "      <th>Model</th>\n",
       "      <th>Year</th>\n",
       "      <th>Kilometers_Driven</th>\n",
       "      <th>Fuel_Type</th>\n",
       "      <th>Transmission</th>\n",
       "      <th>Owner_Type</th>\n",
       "      <th>Mileage</th>\n",
       "      <th>Engine</th>\n",
       "      <th>Power</th>\n",
       "      <th>Seats</th>\n",
       "      <th>Price</th>\n",
       "    </tr>\n",
       "  </thead>\n",
       "  <tbody>\n",
       "    <tr>\n",
       "      <th>76</th>\n",
       "      <td>Mercedes</td>\n",
       "      <td>GLE</td>\n",
       "      <td>2018</td>\n",
       "      <td>26000</td>\n",
       "      <td>Petrol</td>\n",
       "      <td>Automatic</td>\n",
       "      <td>Second</td>\n",
       "      <td>12</td>\n",
       "      <td>2996</td>\n",
       "      <td>362</td>\n",
       "      <td>5</td>\n",
       "      <td>4000000</td>\n",
       "    </tr>\n",
       "    <tr>\n",
       "      <th>38</th>\n",
       "      <td>Mercedes</td>\n",
       "      <td>GLE</td>\n",
       "      <td>2018</td>\n",
       "      <td>26000</td>\n",
       "      <td>Petrol</td>\n",
       "      <td>Automatic</td>\n",
       "      <td>Second</td>\n",
       "      <td>12</td>\n",
       "      <td>2996</td>\n",
       "      <td>362</td>\n",
       "      <td>5</td>\n",
       "      <td>4000000</td>\n",
       "    </tr>\n",
       "    <tr>\n",
       "      <th>26</th>\n",
       "      <td>Audi</td>\n",
       "      <td>A6</td>\n",
       "      <td>2018</td>\n",
       "      <td>28000</td>\n",
       "      <td>Petrol</td>\n",
       "      <td>Automatic</td>\n",
       "      <td>First</td>\n",
       "      <td>15</td>\n",
       "      <td>1984</td>\n",
       "      <td>241</td>\n",
       "      <td>5</td>\n",
       "      <td>3200000</td>\n",
       "    </tr>\n",
       "  </tbody>\n",
       "</table>\n",
       "</div>"
      ],
      "text/plain": [
       "       Brand Model  Year  Kilometers_Driven Fuel_Type Transmission Owner_Type  \\\n",
       "76  Mercedes   GLE  2018              26000    Petrol    Automatic     Second   \n",
       "38  Mercedes   GLE  2018              26000    Petrol    Automatic     Second   \n",
       "26      Audi    A6  2018              28000    Petrol    Automatic      First   \n",
       "\n",
       "    Mileage  Engine  Power  Seats    Price  \n",
       "76       12    2996    362      5  4000000  \n",
       "38       12    2996    362      5  4000000  \n",
       "26       15    1984    241      5  3200000  "
      ]
     },
     "execution_count": 123,
     "metadata": {},
     "output_type": "execute_result"
    }
   ],
   "source": [
    "petrol.sort_values(by='Price',ascending=False).head(3)"
   ]
  },
  {
   "cell_type": "markdown",
   "id": "b588ee17-1173-4ed5-a896-3cf73d4725ed",
   "metadata": {},
   "source": [
    "### Top price based on the seaters"
   ]
  },
  {
   "cell_type": "code",
   "execution_count": 125,
   "id": "ef8e9ea4-1a60-46b0-a94a-55f07f7317c6",
   "metadata": {},
   "outputs": [
    {
     "data": {
      "text/html": [
       "<div>\n",
       "<style scoped>\n",
       "    .dataframe tbody tr th:only-of-type {\n",
       "        vertical-align: middle;\n",
       "    }\n",
       "\n",
       "    .dataframe tbody tr th {\n",
       "        vertical-align: top;\n",
       "    }\n",
       "\n",
       "    .dataframe thead th {\n",
       "        text-align: right;\n",
       "    }\n",
       "</style>\n",
       "<table border=\"1\" class=\"dataframe\">\n",
       "  <thead>\n",
       "    <tr style=\"text-align: right;\">\n",
       "      <th></th>\n",
       "      <th>Brand</th>\n",
       "      <th>Model</th>\n",
       "      <th>Year</th>\n",
       "      <th>Kilometers_Driven</th>\n",
       "      <th>Fuel_Type</th>\n",
       "      <th>Transmission</th>\n",
       "      <th>Owner_Type</th>\n",
       "      <th>Mileage</th>\n",
       "      <th>Engine</th>\n",
       "      <th>Power</th>\n",
       "      <th>Seats</th>\n",
       "      <th>Price</th>\n",
       "    </tr>\n",
       "  </thead>\n",
       "  <tbody>\n",
       "    <tr>\n",
       "      <th>29</th>\n",
       "      <td>Toyota</td>\n",
       "      <td>Fortuner</td>\n",
       "      <td>2018</td>\n",
       "      <td>38000</td>\n",
       "      <td>Diesel</td>\n",
       "      <td>Automatic</td>\n",
       "      <td>Second</td>\n",
       "      <td>12</td>\n",
       "      <td>2755</td>\n",
       "      <td>174</td>\n",
       "      <td>7</td>\n",
       "      <td>2500000</td>\n",
       "    </tr>\n",
       "    <tr>\n",
       "      <th>66</th>\n",
       "      <td>Mercedes</td>\n",
       "      <td>E-Class</td>\n",
       "      <td>2017</td>\n",
       "      <td>30000</td>\n",
       "      <td>Diesel</td>\n",
       "      <td>Automatic</td>\n",
       "      <td>First</td>\n",
       "      <td>16</td>\n",
       "      <td>1950</td>\n",
       "      <td>191</td>\n",
       "      <td>5</td>\n",
       "      <td>2700000</td>\n",
       "    </tr>\n",
       "    <tr>\n",
       "      <th>2</th>\n",
       "      <td>Ford</td>\n",
       "      <td>Mustang</td>\n",
       "      <td>2017</td>\n",
       "      <td>20000</td>\n",
       "      <td>Petrol</td>\n",
       "      <td>Automatic</td>\n",
       "      <td>First</td>\n",
       "      <td>10</td>\n",
       "      <td>4951</td>\n",
       "      <td>395</td>\n",
       "      <td>4</td>\n",
       "      <td>2500000</td>\n",
       "    </tr>\n",
       "  </tbody>\n",
       "</table>\n",
       "</div>"
      ],
      "text/plain": [
       "       Brand     Model  Year  Kilometers_Driven Fuel_Type Transmission  \\\n",
       "29    Toyota  Fortuner  2018              38000    Diesel    Automatic   \n",
       "66  Mercedes   E-Class  2017              30000    Diesel    Automatic   \n",
       "2       Ford   Mustang  2017              20000    Petrol    Automatic   \n",
       "\n",
       "   Owner_Type  Mileage  Engine  Power  Seats    Price  \n",
       "29     Second       12    2755    174      7  2500000  \n",
       "66      First       16    1950    191      5  2700000  \n",
       "2       First       10    4951    395      4  2500000  "
      ]
     },
     "execution_count": 125,
     "metadata": {},
     "output_type": "execute_result"
    }
   ],
   "source": [
    "df.sort_values(by='Seats',ascending=False).drop_duplicates(subset='Seats')"
   ]
  },
  {
   "cell_type": "markdown",
   "id": "b104444e-e7c1-40fe-9271-48c5bfd4a50e",
   "metadata": {},
   "source": [
    "# Check the distributions"
   ]
  },
  {
   "cell_type": "code",
   "execution_count": 129,
   "id": "8bc76518-57af-4740-b355-5e71792daff5",
   "metadata": {},
   "outputs": [
    {
     "name": "stderr",
     "output_type": "stream",
     "text": [
      "C:\\Users\\User\\anaconda3\\Lib\\site-packages\\seaborn\\_oldcore.py:1119: FutureWarning: use_inf_as_na option is deprecated and will be removed in a future version. Convert inf values to NaN before operating instead.\n",
      "  with pd.option_context('mode.use_inf_as_na', True):\n"
     ]
    },
    {
     "data": {
      "image/png": "[encoded data removed]",
      "text/plain": [
       "<Figure size 640x480 with 1 Axes>"
      ]
     },
     "metadata": {},
     "output_type": "display_data"
    }
   ],
   "source": [
    "sns.histplot(df['Price'],kde=True,bins=15)\n",
    "plt.show()"
   ]
  },
  {
   "cell_type": "markdown",
   "id": "975c4826-0b08-4408-8b2b-7b8a168e7b82",
   "metadata": {},
   "source": [
    "### Check the ditribution of model"
   ]
  },
  {
   "cell_type": "code",
   "execution_count": 138,
   "id": "0cc96670-f30a-404c-803d-aa8d7fb99d7a",
   "metadata": {},
   "outputs": [
    {
     "name": "stderr",
     "output_type": "stream",
     "text": [
      "C:\\Users\\User\\anaconda3\\Lib\\site-packages\\seaborn\\_oldcore.py:1119: FutureWarning: use_inf_as_na option is deprecated and will be removed in a future version. Convert inf values to NaN before operating instead.\n",
      "  with pd.option_context('mode.use_inf_as_na', True):\n"
     ]
    },
    {
     "data": {
      "image/png": "[encoded data removed]",
      "text/plain": [
       "<Figure size 640x480 with 1 Axes>"
      ]
     },
     "metadata": {},
     "output_type": "display_data"
    }
   ],
   "source": [
    "sns.histplot(df['Brand'],kde=True)\n",
    "plt.xticks(rotation=45)\n",
    "plt.show()"
   ]
  },
  {
   "cell_type": "code",
   "execution_count": 140,
   "id": "874652a4-1aa4-4fd1-a708-281a73e95815",
   "metadata": {},
   "outputs": [
    {
     "name": "stdout",
     "output_type": "stream",
     "text": [
      "Year\n",
      "Kilometers_Driven\n",
      "Mileage\n",
      "Engine\n",
      "Power\n",
      "Seats\n",
      "Price\n"
     ]
    }
   ],
   "source": [
    "for i in df.columns:\n",
    "    if df[i].dtype=='int64':\n",
    "        print(i)"
   ]
  },
  {
   "cell_type": "markdown",
   "id": "87bf9eae-0a84-4daa-b276-199dffb47a18",
   "metadata": {},
   "source": [
    "### Check the outliers with each column"
   ]
  },
  {
   "cell_type": "code",
   "execution_count": 145,
   "id": "019af775-09d6-40d4-bbe2-e8641efdd41b",
   "metadata": {},
   "outputs": [
    {
     "data": {
      "image/png": "[encoded data removed]",
      "text/plain": [
       "<Figure size 1000x2500 with 6 Axes>"
      ]
     },
     "metadata": {},
     "output_type": "display_data"
    }
   ],
   "source": [
    "fig,ax=plt.subplots(3,2,figsize=(10,25))\n",
    "sns.boxplot(df['Price'],ax=ax[0,0]).set\n",
    "ax[0, 0].set_xlabel('Price')\n",
    "sns.boxplot(df['Power'],ax=ax[0,1])\n",
    "ax[0, 1].set_xlabel('Power')\n",
    "sns.boxplot(df['Engine'],ax=ax[1,0])\n",
    "ax[1, 0].set_xlabel('Engine')\n",
    "sns.boxplot(df['Mileage'],ax=ax[1,1])\n",
    "ax[1, 1].set_xlabel('Mileage')\n",
    "sns.boxplot(df['Kilometers_Driven'],ax=ax[2,0])\n",
    "ax[2, 0].set_xlabel('Kilometers_Driven')\n",
    "sns.boxplot(df['Year'],ax=ax[2,1])\n",
    "ax[2, 1].set_xlabel('Year')\n",
    "plt.show()"
   ]
  },
  {
   "cell_type": "code",
   "execution_count": null,
   "id": "58b0e261-da71-41de-acae-db1b3efdf0c7",
   "metadata": {},
   "outputs": [],
   "source": []
  }
 ],
 "metadata": {
  "kernelspec": {
   "display_name": "Python 3 (ipykernel)",
   "language": "python",
   "name": "python3"
  },
  "language_info": {
   "codemirror_mode": {
    "name": "ipython",
    "version": 3
   },
   "file_extension": ".py",
   "mimetype": "text/x-python",
   "name": "python",
   "nbconvert_exporter": "python",
   "pygments_lexer": "ipython3",
   "version": "3.11.7"
  }
 },
 "nbformat": 4,
 "nbformat_minor": 5
}
