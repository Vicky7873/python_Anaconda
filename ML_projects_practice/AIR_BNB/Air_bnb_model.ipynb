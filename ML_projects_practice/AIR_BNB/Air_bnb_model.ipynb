{
 "cells": [
  {
   "cell_type": "markdown",
   "id": "bd5726a7",
   "metadata": {},
   "source": [
    "1.   What are the most popular neighborhoods for Airbnb rentals in New York City? How do prices and availability vary by neighborhood?\n",
    "\n",
    "2.   How has the Airbnb market in New York City changed over time? Have there been any significant trends in terms of the number of listings, prices, or occupancy rates?\n",
    "\n",
    "3.   Are there any patterns or trends in terms of the types of properties that are being rented out on Airbnb in New York City? Are certain types of properties more popular or more expensive than others?\n",
    "\n",
    "4.   Are there any factors that seem to be correlated with the prices of Airbnb rentals in New York City? \n",
    "\n",
    "5.   the best area in New York City for a host to buy property at a good price rate and in an area with high traffic ?\n",
    "\n",
    "6.   How do the lengths of stay for Airbnb rentals in New York City vary by neighborhood? Do certain neighborhoods tend to attract longer or shorter stays?\n",
    "\n",
    "7.   How do the ratings of Airbnb rentals in New York City compare to their prices? Are higher-priced rentals more likely to have higher ratings?\n",
    "\n",
    "8. Find the total numbers of Reviews and Maximum Reviews by Each Neighborhood Group.\n",
    "\n",
    "9. Find Most reviewed room type in Neighborhood groups per month.\n",
    "\n",
    "10. Find Best location listing/property location for travelers.\n",
    "\n",
    "11. Find also best location listing/property location for Hosts.\n",
    "\n",
    "12. Find Price variations in NYC Neighborhood groups.\n",
    "\n",
    "there is a lot of problem statements and we have to finds information and insights through different different problem"
   ]
  },
  {
   "cell_type": "code",
   "execution_count": 2,
   "id": "3b4aa84e",
   "metadata": {},
   "outputs": [],
   "source": [
    "import numpy as np\n",
    "import pandas as pd\n",
    "import matplotlib.pyplot as plt     #for visualization\n",
    "%matplotlib inline\n",
    "import seaborn as sns               #for visualization\n",
    "import warnings\n",
    "warnings.filterwarnings('ignore')"
   ]
  },
  {
   "cell_type": "code",
   "execution_count": 3,
   "id": "76d6731e",
   "metadata": {},
   "outputs": [],
   "source": [
    "airbnb_df=pd.read_csv('Airbnb NYC 2019.csv')"
   ]
  },
  {
   "cell_type": "code",
   "execution_count": 4,
   "id": "45c72811",
   "metadata": {},
   "outputs": [
    {
     "data": {
      "text/html": [
       "<div>\n",
       "<style scoped>\n",
       "    .dataframe tbody tr th:only-of-type {\n",
       "        vertical-align: middle;\n",
       "    }\n",
       "\n",
       "    .dataframe tbody tr th {\n",
       "        vertical-align: top;\n",
       "    }\n",
       "\n",
       "    .dataframe thead th {\n",
       "        text-align: right;\n",
       "    }\n",
       "</style>\n",
       "<table border=\"1\" class=\"dataframe\">\n",
       "  <thead>\n",
       "    <tr style=\"text-align: right;\">\n",
       "      <th></th>\n",
       "      <th>id</th>\n",
       "      <th>name</th>\n",
       "      <th>host_id</th>\n",
       "      <th>host_name</th>\n",
       "      <th>neighbourhood_group</th>\n",
       "      <th>neighbourhood</th>\n",
       "      <th>latitude</th>\n",
       "      <th>longitude</th>\n",
       "      <th>room_type</th>\n",
       "      <th>price</th>\n",
       "      <th>minimum_nights</th>\n",
       "      <th>number_of_reviews</th>\n",
       "      <th>last_review</th>\n",
       "      <th>reviews_per_month</th>\n",
       "      <th>calculated_host_listings_count</th>\n",
       "      <th>availability_365</th>\n",
       "    </tr>\n",
       "  </thead>\n",
       "  <tbody>\n",
       "    <tr>\n",
       "      <th>0</th>\n",
       "      <td>2539</td>\n",
       "      <td>Clean &amp; quiet apt home by the park</td>\n",
       "      <td>2787</td>\n",
       "      <td>John</td>\n",
       "      <td>Brooklyn</td>\n",
       "      <td>Kensington</td>\n",
       "      <td>40.64749</td>\n",
       "      <td>-73.97237</td>\n",
       "      <td>Private room</td>\n",
       "      <td>149</td>\n",
       "      <td>1</td>\n",
       "      <td>9</td>\n",
       "      <td>2018-10-19</td>\n",
       "      <td>0.21</td>\n",
       "      <td>6</td>\n",
       "      <td>365</td>\n",
       "    </tr>\n",
       "    <tr>\n",
       "      <th>1</th>\n",
       "      <td>2595</td>\n",
       "      <td>Skylit Midtown Castle</td>\n",
       "      <td>2845</td>\n",
       "      <td>Jennifer</td>\n",
       "      <td>Manhattan</td>\n",
       "      <td>Midtown</td>\n",
       "      <td>40.75362</td>\n",
       "      <td>-73.98377</td>\n",
       "      <td>Entire home/apt</td>\n",
       "      <td>225</td>\n",
       "      <td>1</td>\n",
       "      <td>45</td>\n",
       "      <td>2019-05-21</td>\n",
       "      <td>0.38</td>\n",
       "      <td>2</td>\n",
       "      <td>355</td>\n",
       "    </tr>\n",
       "    <tr>\n",
       "      <th>2</th>\n",
       "      <td>3647</td>\n",
       "      <td>THE VILLAGE OF HARLEM....NEW YORK !</td>\n",
       "      <td>4632</td>\n",
       "      <td>Elisabeth</td>\n",
       "      <td>Manhattan</td>\n",
       "      <td>Harlem</td>\n",
       "      <td>40.80902</td>\n",
       "      <td>-73.94190</td>\n",
       "      <td>Private room</td>\n",
       "      <td>150</td>\n",
       "      <td>3</td>\n",
       "      <td>0</td>\n",
       "      <td>NaN</td>\n",
       "      <td>NaN</td>\n",
       "      <td>1</td>\n",
       "      <td>365</td>\n",
       "    </tr>\n",
       "    <tr>\n",
       "      <th>3</th>\n",
       "      <td>3831</td>\n",
       "      <td>Cozy Entire Floor of Brownstone</td>\n",
       "      <td>4869</td>\n",
       "      <td>LisaRoxanne</td>\n",
       "      <td>Brooklyn</td>\n",
       "      <td>Clinton Hill</td>\n",
       "      <td>40.68514</td>\n",
       "      <td>-73.95976</td>\n",
       "      <td>Entire home/apt</td>\n",
       "      <td>89</td>\n",
       "      <td>1</td>\n",
       "      <td>270</td>\n",
       "      <td>2019-07-05</td>\n",
       "      <td>4.64</td>\n",
       "      <td>1</td>\n",
       "      <td>194</td>\n",
       "    </tr>\n",
       "    <tr>\n",
       "      <th>4</th>\n",
       "      <td>5022</td>\n",
       "      <td>Entire Apt: Spacious Studio/Loft by central park</td>\n",
       "      <td>7192</td>\n",
       "      <td>Laura</td>\n",
       "      <td>Manhattan</td>\n",
       "      <td>East Harlem</td>\n",
       "      <td>40.79851</td>\n",
       "      <td>-73.94399</td>\n",
       "      <td>Entire home/apt</td>\n",
       "      <td>80</td>\n",
       "      <td>10</td>\n",
       "      <td>9</td>\n",
       "      <td>2018-11-19</td>\n",
       "      <td>0.10</td>\n",
       "      <td>1</td>\n",
       "      <td>0</td>\n",
       "    </tr>\n",
       "  </tbody>\n",
       "</table>\n",
       "</div>"
      ],
      "text/plain": [
       "     id                                              name  host_id  \\\n",
       "0  2539                Clean & quiet apt home by the park     2787   \n",
       "1  2595                             Skylit Midtown Castle     2845   \n",
       "2  3647               THE VILLAGE OF HARLEM....NEW YORK !     4632   \n",
       "3  3831                   Cozy Entire Floor of Brownstone     4869   \n",
       "4  5022  Entire Apt: Spacious Studio/Loft by central park     7192   \n",
       "\n",
       "     host_name neighbourhood_group neighbourhood  latitude  longitude  \\\n",
       "0         John            Brooklyn    Kensington  40.64749  -73.97237   \n",
       "1     Jennifer           Manhattan       Midtown  40.75362  -73.98377   \n",
       "2    Elisabeth           Manhattan        Harlem  40.80902  -73.94190   \n",
       "3  LisaRoxanne            Brooklyn  Clinton Hill  40.68514  -73.95976   \n",
       "4        Laura           Manhattan   East Harlem  40.79851  -73.94399   \n",
       "\n",
       "         room_type  price  minimum_nights  number_of_reviews last_review  \\\n",
       "0     Private room    149               1                  9  2018-10-19   \n",
       "1  Entire home/apt    225               1                 45  2019-05-21   \n",
       "2     Private room    150               3                  0         NaN   \n",
       "3  Entire home/apt     89               1                270  2019-07-05   \n",
       "4  Entire home/apt     80              10                  9  2018-11-19   \n",
       "\n",
       "   reviews_per_month  calculated_host_listings_count  availability_365  \n",
       "0               0.21                               6               365  \n",
       "1               0.38                               2               355  \n",
       "2                NaN                               1               365  \n",
       "3               4.64                               1               194  \n",
       "4               0.10                               1                 0  "
      ]
     },
     "execution_count": 4,
     "metadata": {},
     "output_type": "execute_result"
    }
   ],
   "source": [
    "airbnb_df.head()"
   ]
  },
  {
   "cell_type": "markdown",
   "id": "3219a9fc",
   "metadata": {},
   "source": [
    "##**UNDERSTAND THE GIVEN VARIABLES**\n",
    "\n",
    "**Listing_id :-** This is a unique identifier for each listing in the dataset.\n",
    "\n",
    "**Listing_name :-** This is the name or title of the listing, as it appears on the Airbnb website.\n",
    "\n",
    "**Host_id :-** This is a unique identifier for each host in the dataset.\n",
    "\n",
    "**Host_name :-** This is the name of the host as it appears on the Airbnb website.\n",
    "\n",
    "**Neighbourhood_group :-** This is a grouping of neighborhoods in New York City, such as Manhattan or Brooklyn.\n",
    "\n",
    "**Neighbourhood :-** This is the specific neighborhood in which the listing is located.\n",
    "\n",
    "**Latitude :-** This is the geographic latitude of the listing.\n",
    "\n",
    "**Longitude :-** This is the geographic longitude of the listing.\n",
    "\n",
    "**Room_type :-** This is the type of room or property being offered, such as an entire home, private room, shared room.\n",
    "\n",
    "**Price :-** This is the nightly price for the listing, in US dollars.\n",
    "\n",
    "**Minimum_nights :-** This is the minimum number of nights that a guest must stay at the listing.\n",
    "\n",
    "**Total_reviews :-** This is the total number of reviews that the listing has received.\n",
    "\n",
    "**Reviews_per_month :-** This is the average number of reviews that the listing receives per month.\n",
    "\n",
    "**Host_listings_count :-** This is the total number of listings that the host has on Airbnb.\n",
    "\n",
    "**Availability_365 :-** This is the number of days in the next 365 days that the listing is available for booking."
   ]
  },
  {
   "cell_type": "markdown",
   "id": "b7f4ff9f",
   "metadata": {},
   "source": [
    "# EDA"
   ]
  },
  {
   "cell_type": "code",
   "execution_count": 5,
   "id": "1eaf7938",
   "metadata": {},
   "outputs": [
    {
     "data": {
      "text/html": [
       "<div>\n",
       "<style scoped>\n",
       "    .dataframe tbody tr th:only-of-type {\n",
       "        vertical-align: middle;\n",
       "    }\n",
       "\n",
       "    .dataframe tbody tr th {\n",
       "        vertical-align: top;\n",
       "    }\n",
       "\n",
       "    .dataframe thead th {\n",
       "        text-align: right;\n",
       "    }\n",
       "</style>\n",
       "<table border=\"1\" class=\"dataframe\">\n",
       "  <thead>\n",
       "    <tr style=\"text-align: right;\">\n",
       "      <th></th>\n",
       "      <th>0</th>\n",
       "      <th>1</th>\n",
       "      <th>2</th>\n",
       "      <th>3</th>\n",
       "      <th>4</th>\n",
       "    </tr>\n",
       "  </thead>\n",
       "  <tbody>\n",
       "    <tr>\n",
       "      <th>id</th>\n",
       "      <td>2539</td>\n",
       "      <td>2595</td>\n",
       "      <td>3647</td>\n",
       "      <td>3831</td>\n",
       "      <td>5022</td>\n",
       "    </tr>\n",
       "    <tr>\n",
       "      <th>name</th>\n",
       "      <td>Clean &amp; quiet apt home by the park</td>\n",
       "      <td>Skylit Midtown Castle</td>\n",
       "      <td>THE VILLAGE OF HARLEM....NEW YORK !</td>\n",
       "      <td>Cozy Entire Floor of Brownstone</td>\n",
       "      <td>Entire Apt: Spacious Studio/Loft by central park</td>\n",
       "    </tr>\n",
       "    <tr>\n",
       "      <th>host_id</th>\n",
       "      <td>2787</td>\n",
       "      <td>2845</td>\n",
       "      <td>4632</td>\n",
       "      <td>4869</td>\n",
       "      <td>7192</td>\n",
       "    </tr>\n",
       "    <tr>\n",
       "      <th>host_name</th>\n",
       "      <td>John</td>\n",
       "      <td>Jennifer</td>\n",
       "      <td>Elisabeth</td>\n",
       "      <td>LisaRoxanne</td>\n",
       "      <td>Laura</td>\n",
       "    </tr>\n",
       "    <tr>\n",
       "      <th>neighbourhood_group</th>\n",
       "      <td>Brooklyn</td>\n",
       "      <td>Manhattan</td>\n",
       "      <td>Manhattan</td>\n",
       "      <td>Brooklyn</td>\n",
       "      <td>Manhattan</td>\n",
       "    </tr>\n",
       "    <tr>\n",
       "      <th>neighbourhood</th>\n",
       "      <td>Kensington</td>\n",
       "      <td>Midtown</td>\n",
       "      <td>Harlem</td>\n",
       "      <td>Clinton Hill</td>\n",
       "      <td>East Harlem</td>\n",
       "    </tr>\n",
       "    <tr>\n",
       "      <th>latitude</th>\n",
       "      <td>40.64749</td>\n",
       "      <td>40.75362</td>\n",
       "      <td>40.80902</td>\n",
       "      <td>40.68514</td>\n",
       "      <td>40.79851</td>\n",
       "    </tr>\n",
       "    <tr>\n",
       "      <th>longitude</th>\n",
       "      <td>-73.97237</td>\n",
       "      <td>-73.98377</td>\n",
       "      <td>-73.9419</td>\n",
       "      <td>-73.95976</td>\n",
       "      <td>-73.94399</td>\n",
       "    </tr>\n",
       "    <tr>\n",
       "      <th>room_type</th>\n",
       "      <td>Private room</td>\n",
       "      <td>Entire home/apt</td>\n",
       "      <td>Private room</td>\n",
       "      <td>Entire home/apt</td>\n",
       "      <td>Entire home/apt</td>\n",
       "    </tr>\n",
       "    <tr>\n",
       "      <th>price</th>\n",
       "      <td>149</td>\n",
       "      <td>225</td>\n",
       "      <td>150</td>\n",
       "      <td>89</td>\n",
       "      <td>80</td>\n",
       "    </tr>\n",
       "    <tr>\n",
       "      <th>minimum_nights</th>\n",
       "      <td>1</td>\n",
       "      <td>1</td>\n",
       "      <td>3</td>\n",
       "      <td>1</td>\n",
       "      <td>10</td>\n",
       "    </tr>\n",
       "    <tr>\n",
       "      <th>number_of_reviews</th>\n",
       "      <td>9</td>\n",
       "      <td>45</td>\n",
       "      <td>0</td>\n",
       "      <td>270</td>\n",
       "      <td>9</td>\n",
       "    </tr>\n",
       "    <tr>\n",
       "      <th>last_review</th>\n",
       "      <td>2018-10-19</td>\n",
       "      <td>2019-05-21</td>\n",
       "      <td>NaN</td>\n",
       "      <td>2019-07-05</td>\n",
       "      <td>2018-11-19</td>\n",
       "    </tr>\n",
       "    <tr>\n",
       "      <th>reviews_per_month</th>\n",
       "      <td>0.21</td>\n",
       "      <td>0.38</td>\n",
       "      <td>NaN</td>\n",
       "      <td>4.64</td>\n",
       "      <td>0.1</td>\n",
       "    </tr>\n",
       "    <tr>\n",
       "      <th>calculated_host_listings_count</th>\n",
       "      <td>6</td>\n",
       "      <td>2</td>\n",
       "      <td>1</td>\n",
       "      <td>1</td>\n",
       "      <td>1</td>\n",
       "    </tr>\n",
       "    <tr>\n",
       "      <th>availability_365</th>\n",
       "      <td>365</td>\n",
       "      <td>355</td>\n",
       "      <td>365</td>\n",
       "      <td>194</td>\n",
       "      <td>0</td>\n",
       "    </tr>\n",
       "  </tbody>\n",
       "</table>\n",
       "</div>"
      ],
      "text/plain": [
       "                                                                 0  \\\n",
       "id                                                            2539   \n",
       "name                            Clean & quiet apt home by the park   \n",
       "host_id                                                       2787   \n",
       "host_name                                                     John   \n",
       "neighbourhood_group                                       Brooklyn   \n",
       "neighbourhood                                           Kensington   \n",
       "latitude                                                  40.64749   \n",
       "longitude                                                -73.97237   \n",
       "room_type                                             Private room   \n",
       "price                                                          149   \n",
       "minimum_nights                                                   1   \n",
       "number_of_reviews                                                9   \n",
       "last_review                                             2018-10-19   \n",
       "reviews_per_month                                             0.21   \n",
       "calculated_host_listings_count                                   6   \n",
       "availability_365                                               365   \n",
       "\n",
       "                                                    1  \\\n",
       "id                                               2595   \n",
       "name                            Skylit Midtown Castle   \n",
       "host_id                                          2845   \n",
       "host_name                                    Jennifer   \n",
       "neighbourhood_group                         Manhattan   \n",
       "neighbourhood                                 Midtown   \n",
       "latitude                                     40.75362   \n",
       "longitude                                   -73.98377   \n",
       "room_type                             Entire home/apt   \n",
       "price                                             225   \n",
       "minimum_nights                                      1   \n",
       "number_of_reviews                                  45   \n",
       "last_review                                2019-05-21   \n",
       "reviews_per_month                                0.38   \n",
       "calculated_host_listings_count                      2   \n",
       "availability_365                                  355   \n",
       "\n",
       "                                                                  2  \\\n",
       "id                                                             3647   \n",
       "name                            THE VILLAGE OF HARLEM....NEW YORK !   \n",
       "host_id                                                        4632   \n",
       "host_name                                                 Elisabeth   \n",
       "neighbourhood_group                                       Manhattan   \n",
       "neighbourhood                                                Harlem   \n",
       "latitude                                                   40.80902   \n",
       "longitude                                                  -73.9419   \n",
       "room_type                                              Private room   \n",
       "price                                                           150   \n",
       "minimum_nights                                                    3   \n",
       "number_of_reviews                                                 0   \n",
       "last_review                                                     NaN   \n",
       "reviews_per_month                                               NaN   \n",
       "calculated_host_listings_count                                    1   \n",
       "availability_365                                                365   \n",
       "\n",
       "                                                              3  \\\n",
       "id                                                         3831   \n",
       "name                            Cozy Entire Floor of Brownstone   \n",
       "host_id                                                    4869   \n",
       "host_name                                           LisaRoxanne   \n",
       "neighbourhood_group                                    Brooklyn   \n",
       "neighbourhood                                      Clinton Hill   \n",
       "latitude                                               40.68514   \n",
       "longitude                                             -73.95976   \n",
       "room_type                                       Entire home/apt   \n",
       "price                                                        89   \n",
       "minimum_nights                                                1   \n",
       "number_of_reviews                                           270   \n",
       "last_review                                          2019-07-05   \n",
       "reviews_per_month                                          4.64   \n",
       "calculated_host_listings_count                                1   \n",
       "availability_365                                            194   \n",
       "\n",
       "                                                                               4  \n",
       "id                                                                          5022  \n",
       "name                            Entire Apt: Spacious Studio/Loft by central park  \n",
       "host_id                                                                     7192  \n",
       "host_name                                                                  Laura  \n",
       "neighbourhood_group                                                    Manhattan  \n",
       "neighbourhood                                                        East Harlem  \n",
       "latitude                                                                40.79851  \n",
       "longitude                                                              -73.94399  \n",
       "room_type                                                        Entire home/apt  \n",
       "price                                                                         80  \n",
       "minimum_nights                                                                10  \n",
       "number_of_reviews                                                              9  \n",
       "last_review                                                           2018-11-19  \n",
       "reviews_per_month                                                            0.1  \n",
       "calculated_host_listings_count                                                 1  \n",
       "availability_365                                                               0  "
      ]
     },
     "execution_count": 5,
     "metadata": {},
     "output_type": "execute_result"
    }
   ],
   "source": [
    "airbnb_df.head().T"
   ]
  },
  {
   "cell_type": "code",
   "execution_count": 6,
   "id": "17b1403c",
   "metadata": {},
   "outputs": [
    {
     "data": {
      "text/plain": [
       "Index(['id', 'name', 'host_id', 'host_name', 'neighbourhood_group',\n",
       "       'neighbourhood', 'latitude', 'longitude', 'room_type', 'price',\n",
       "       'minimum_nights', 'number_of_reviews', 'last_review',\n",
       "       'reviews_per_month', 'calculated_host_listings_count',\n",
       "       'availability_365'],\n",
       "      dtype='object')"
      ]
     },
     "execution_count": 6,
     "metadata": {},
     "output_type": "execute_result"
    }
   ],
   "source": [
    "airbnb_df.columns"
   ]
  },
  {
   "cell_type": "code",
   "execution_count": 7,
   "id": "2dfafc0d",
   "metadata": {},
   "outputs": [],
   "source": [
    "rename_col = {'id':'listing_id','name':'listing_name','number_of_reviews':'total_reviews','calculated_host_listings_count':'host_listings_count'}"
   ]
  },
  {
   "cell_type": "code",
   "execution_count": 8,
   "id": "a4e5daab",
   "metadata": {},
   "outputs": [
    {
     "data": {
      "text/html": [
       "<div>\n",
       "<style scoped>\n",
       "    .dataframe tbody tr th:only-of-type {\n",
       "        vertical-align: middle;\n",
       "    }\n",
       "\n",
       "    .dataframe tbody tr th {\n",
       "        vertical-align: top;\n",
       "    }\n",
       "\n",
       "    .dataframe thead th {\n",
       "        text-align: right;\n",
       "    }\n",
       "</style>\n",
       "<table border=\"1\" class=\"dataframe\">\n",
       "  <thead>\n",
       "    <tr style=\"text-align: right;\">\n",
       "      <th></th>\n",
       "      <th>listing_id</th>\n",
       "      <th>listing_name</th>\n",
       "      <th>host_id</th>\n",
       "      <th>host_name</th>\n",
       "      <th>neighbourhood_group</th>\n",
       "      <th>neighbourhood</th>\n",
       "      <th>latitude</th>\n",
       "      <th>longitude</th>\n",
       "      <th>room_type</th>\n",
       "      <th>price</th>\n",
       "      <th>minimum_nights</th>\n",
       "      <th>total_reviews</th>\n",
       "      <th>last_review</th>\n",
       "      <th>reviews_per_month</th>\n",
       "      <th>host_listings_count</th>\n",
       "      <th>availability_365</th>\n",
       "    </tr>\n",
       "  </thead>\n",
       "  <tbody>\n",
       "    <tr>\n",
       "      <th>0</th>\n",
       "      <td>2539</td>\n",
       "      <td>Clean &amp; quiet apt home by the park</td>\n",
       "      <td>2787</td>\n",
       "      <td>John</td>\n",
       "      <td>Brooklyn</td>\n",
       "      <td>Kensington</td>\n",
       "      <td>40.64749</td>\n",
       "      <td>-73.97237</td>\n",
       "      <td>Private room</td>\n",
       "      <td>149</td>\n",
       "      <td>1</td>\n",
       "      <td>9</td>\n",
       "      <td>2018-10-19</td>\n",
       "      <td>0.21</td>\n",
       "      <td>6</td>\n",
       "      <td>365</td>\n",
       "    </tr>\n",
       "    <tr>\n",
       "      <th>1</th>\n",
       "      <td>2595</td>\n",
       "      <td>Skylit Midtown Castle</td>\n",
       "      <td>2845</td>\n",
       "      <td>Jennifer</td>\n",
       "      <td>Manhattan</td>\n",
       "      <td>Midtown</td>\n",
       "      <td>40.75362</td>\n",
       "      <td>-73.98377</td>\n",
       "      <td>Entire home/apt</td>\n",
       "      <td>225</td>\n",
       "      <td>1</td>\n",
       "      <td>45</td>\n",
       "      <td>2019-05-21</td>\n",
       "      <td>0.38</td>\n",
       "      <td>2</td>\n",
       "      <td>355</td>\n",
       "    </tr>\n",
       "    <tr>\n",
       "      <th>2</th>\n",
       "      <td>3647</td>\n",
       "      <td>THE VILLAGE OF HARLEM....NEW YORK !</td>\n",
       "      <td>4632</td>\n",
       "      <td>Elisabeth</td>\n",
       "      <td>Manhattan</td>\n",
       "      <td>Harlem</td>\n",
       "      <td>40.80902</td>\n",
       "      <td>-73.94190</td>\n",
       "      <td>Private room</td>\n",
       "      <td>150</td>\n",
       "      <td>3</td>\n",
       "      <td>0</td>\n",
       "      <td>NaN</td>\n",
       "      <td>NaN</td>\n",
       "      <td>1</td>\n",
       "      <td>365</td>\n",
       "    </tr>\n",
       "    <tr>\n",
       "      <th>3</th>\n",
       "      <td>3831</td>\n",
       "      <td>Cozy Entire Floor of Brownstone</td>\n",
       "      <td>4869</td>\n",
       "      <td>LisaRoxanne</td>\n",
       "      <td>Brooklyn</td>\n",
       "      <td>Clinton Hill</td>\n",
       "      <td>40.68514</td>\n",
       "      <td>-73.95976</td>\n",
       "      <td>Entire home/apt</td>\n",
       "      <td>89</td>\n",
       "      <td>1</td>\n",
       "      <td>270</td>\n",
       "      <td>2019-07-05</td>\n",
       "      <td>4.64</td>\n",
       "      <td>1</td>\n",
       "      <td>194</td>\n",
       "    </tr>\n",
       "    <tr>\n",
       "      <th>4</th>\n",
       "      <td>5022</td>\n",
       "      <td>Entire Apt: Spacious Studio/Loft by central park</td>\n",
       "      <td>7192</td>\n",
       "      <td>Laura</td>\n",
       "      <td>Manhattan</td>\n",
       "      <td>East Harlem</td>\n",
       "      <td>40.79851</td>\n",
       "      <td>-73.94399</td>\n",
       "      <td>Entire home/apt</td>\n",
       "      <td>80</td>\n",
       "      <td>10</td>\n",
       "      <td>9</td>\n",
       "      <td>2018-11-19</td>\n",
       "      <td>0.10</td>\n",
       "      <td>1</td>\n",
       "      <td>0</td>\n",
       "    </tr>\n",
       "  </tbody>\n",
       "</table>\n",
       "</div>"
      ],
      "text/plain": [
       "   listing_id                                      listing_name  host_id  \\\n",
       "0        2539                Clean & quiet apt home by the park     2787   \n",
       "1        2595                             Skylit Midtown Castle     2845   \n",
       "2        3647               THE VILLAGE OF HARLEM....NEW YORK !     4632   \n",
       "3        3831                   Cozy Entire Floor of Brownstone     4869   \n",
       "4        5022  Entire Apt: Spacious Studio/Loft by central park     7192   \n",
       "\n",
       "     host_name neighbourhood_group neighbourhood  latitude  longitude  \\\n",
       "0         John            Brooklyn    Kensington  40.64749  -73.97237   \n",
       "1     Jennifer           Manhattan       Midtown  40.75362  -73.98377   \n",
       "2    Elisabeth           Manhattan        Harlem  40.80902  -73.94190   \n",
       "3  LisaRoxanne            Brooklyn  Clinton Hill  40.68514  -73.95976   \n",
       "4        Laura           Manhattan   East Harlem  40.79851  -73.94399   \n",
       "\n",
       "         room_type  price  minimum_nights  total_reviews last_review  \\\n",
       "0     Private room    149               1              9  2018-10-19   \n",
       "1  Entire home/apt    225               1             45  2019-05-21   \n",
       "2     Private room    150               3              0         NaN   \n",
       "3  Entire home/apt     89               1            270  2019-07-05   \n",
       "4  Entire home/apt     80              10              9  2018-11-19   \n",
       "\n",
       "   reviews_per_month  host_listings_count  availability_365  \n",
       "0               0.21                    6               365  \n",
       "1               0.38                    2               355  \n",
       "2                NaN                    1               365  \n",
       "3               4.64                    1               194  \n",
       "4               0.10                    1                 0  "
      ]
     },
     "execution_count": 8,
     "metadata": {},
     "output_type": "execute_result"
    }
   ],
   "source": [
    "airbnb_df=airbnb_df.rename(columns=rename_col)\n",
    "airbnb_df.head()"
   ]
  },
  {
   "cell_type": "code",
   "execution_count": 9,
   "id": "7d9acaf4",
   "metadata": {},
   "outputs": [
    {
     "data": {
      "text/plain": [
       "(48895, 16)"
      ]
     },
     "execution_count": 9,
     "metadata": {},
     "output_type": "execute_result"
    }
   ],
   "source": [
    "# Columns and rows\n",
    "airbnb_df.shape"
   ]
  },
  {
   "cell_type": "code",
   "execution_count": 10,
   "id": "40087457",
   "metadata": {},
   "outputs": [
    {
     "name": "stdout",
     "output_type": "stream",
     "text": [
      "<class 'pandas.core.frame.DataFrame'>\n",
      "RangeIndex: 48895 entries, 0 to 48894\n",
      "Data columns (total 16 columns):\n",
      " #   Column               Non-Null Count  Dtype  \n",
      "---  ------               --------------  -----  \n",
      " 0   listing_id           48895 non-null  int64  \n",
      " 1   listing_name         48879 non-null  object \n",
      " 2   host_id              48895 non-null  int64  \n",
      " 3   host_name            48874 non-null  object \n",
      " 4   neighbourhood_group  48895 non-null  object \n",
      " 5   neighbourhood        48895 non-null  object \n",
      " 6   latitude             48895 non-null  float64\n",
      " 7   longitude            48895 non-null  float64\n",
      " 8   room_type            48895 non-null  object \n",
      " 9   price                48895 non-null  int64  \n",
      " 10  minimum_nights       48895 non-null  int64  \n",
      " 11  total_reviews        48895 non-null  int64  \n",
      " 12  last_review          38843 non-null  object \n",
      " 13  reviews_per_month    38843 non-null  float64\n",
      " 14  host_listings_count  48895 non-null  int64  \n",
      " 15  availability_365     48895 non-null  int64  \n",
      "dtypes: float64(3), int64(7), object(6)\n",
      "memory usage: 6.0+ MB\n"
     ]
    }
   ],
   "source": [
    "# Check the info and dtypes\n",
    "airbnb_df.info()"
   ]
  },
  {
   "cell_type": "markdown",
   "id": "d75a75f9",
   "metadata": {},
   "source": [
    "**So, host_name, neighbourhood_group, neighbourhood and room_type fall into categorical variable category.**\n",
    "\n",
    "**While host_id, latitude, longitude, price, minimum_nights, number_of_reviews, last_review, reviews_per_month, host_listings_count, availability_365 are numerical variables**"
   ]
  },
  {
   "cell_type": "code",
   "execution_count": 11,
   "id": "377a3b09",
   "metadata": {},
   "outputs": [
    {
     "data": {
      "text/plain": [
       "listing_id             48895\n",
       "listing_name           47905\n",
       "host_id                37457\n",
       "host_name              11452\n",
       "neighbourhood_group        5\n",
       "neighbourhood            221\n",
       "latitude               19048\n",
       "longitude              14718\n",
       "room_type                  3\n",
       "price                    674\n",
       "minimum_nights           109\n",
       "total_reviews            394\n",
       "last_review             1764\n",
       "reviews_per_month        937\n",
       "host_listings_count       47\n",
       "availability_365         366\n",
       "dtype: int64"
      ]
     },
     "execution_count": 11,
     "metadata": {},
     "output_type": "execute_result"
    }
   ],
   "source": [
    "# Check the uniques\n",
    "airbnb_df.nunique()"
   ]
  },
  {
   "cell_type": "code",
   "execution_count": 12,
   "id": "f96bb49a",
   "metadata": {},
   "outputs": [
    {
     "data": {
      "text/plain": [
       "0"
      ]
     },
     "execution_count": 12,
     "metadata": {},
     "output_type": "execute_result"
    }
   ],
   "source": [
    "# Check the duplicate rows\n",
    "airbnb_df.duplicated().sum()\n",
    "# no duplicate"
   ]
  },
  {
   "cell_type": "code",
   "execution_count": 13,
   "id": "ec76fca0",
   "metadata": {},
   "outputs": [
    {
     "data": {
      "text/plain": [
       "listing_id                 0\n",
       "listing_name              16\n",
       "host_id                    0\n",
       "host_name                 21\n",
       "neighbourhood_group        0\n",
       "neighbourhood              0\n",
       "latitude                   0\n",
       "longitude                  0\n",
       "room_type                  0\n",
       "price                      0\n",
       "minimum_nights             0\n",
       "total_reviews              0\n",
       "last_review            10052\n",
       "reviews_per_month      10052\n",
       "host_listings_count        0\n",
       "availability_365           0\n",
       "dtype: int64"
      ]
     },
     "execution_count": 13,
     "metadata": {},
     "output_type": "execute_result"
    }
   ],
   "source": [
    "# Null Check\n",
    "airbnb_df.isnull().sum()"
   ]
  },
  {
   "cell_type": "code",
   "execution_count": 14,
   "id": "1b8e409b",
   "metadata": {},
   "outputs": [],
   "source": [
    "# Listing name host name have the null values but last review and reviews per month have the high null values"
   ]
  },
  {
   "cell_type": "code",
   "execution_count": 15,
   "id": "3a642611",
   "metadata": {},
   "outputs": [],
   "source": [
    "airbnb_df['listing_name'].fillna('unknown',inplace=True)\n",
    "airbnb_df['host_name'].fillna('no_name',inplace=True)"
   ]
  },
  {
   "cell_type": "code",
   "execution_count": 16,
   "id": "f25c5b93",
   "metadata": {},
   "outputs": [
    {
     "data": {
      "text/plain": [
       "listing_id                 0\n",
       "listing_name               0\n",
       "host_id                    0\n",
       "host_name                  0\n",
       "neighbourhood_group        0\n",
       "neighbourhood              0\n",
       "latitude                   0\n",
       "longitude                  0\n",
       "room_type                  0\n",
       "price                      0\n",
       "minimum_nights             0\n",
       "total_reviews              0\n",
       "last_review            10052\n",
       "reviews_per_month      10052\n",
       "host_listings_count        0\n",
       "availability_365           0\n",
       "dtype: int64"
      ]
     },
     "execution_count": 16,
     "metadata": {},
     "output_type": "execute_result"
    }
   ],
   "source": [
    "airbnb_df.isnull().sum()"
   ]
  },
  {
   "cell_type": "markdown",
   "id": "d326e169",
   "metadata": {},
   "source": [
    "** Last review is not required so drop this column **"
   ]
  },
  {
   "cell_type": "code",
   "execution_count": 17,
   "id": "70698c1c",
   "metadata": {},
   "outputs": [],
   "source": [
    "airbnb_df=airbnb_df.drop('last_review',axis=1)"
   ]
  },
  {
   "cell_type": "code",
   "execution_count": 18,
   "id": "633b69d0",
   "metadata": {},
   "outputs": [],
   "source": [
    "# Fill the reviews per month\n",
    "airbnb_df['reviews_per_month'].fillna(0,inplace=True)"
   ]
  },
  {
   "cell_type": "code",
   "execution_count": 19,
   "id": "2e79b68a",
   "metadata": {},
   "outputs": [],
   "source": [
    "airbnb_df['reviews_per_month'].dtype\n",
    "# change the dtypes into int\n",
    "airbnb_df['reviews_per_month']=airbnb_df['reviews_per_month'].astype(int)"
   ]
  },
  {
   "cell_type": "code",
   "execution_count": 20,
   "id": "91172dd2",
   "metadata": {},
   "outputs": [
    {
     "data": {
      "text/plain": [
       "dtype('int32')"
      ]
     },
     "execution_count": 20,
     "metadata": {},
     "output_type": "execute_result"
    }
   ],
   "source": [
    "airbnb_df['reviews_per_month'].dtype"
   ]
  },
  {
   "cell_type": "markdown",
   "id": "dcd3ff57",
   "metadata": {},
   "source": [
    "**Note** - so i think few listings/property with same names has different hosts in different areas/neighbourhoods of a neighbourhood_group"
   ]
  },
  {
   "cell_type": "code",
   "execution_count": 21,
   "id": "e7fa6ecc",
   "metadata": {},
   "outputs": [
    {
     "data": {
      "text/plain": [
       "402"
      ]
     },
     "execution_count": 21,
     "metadata": {},
     "output_type": "execute_result"
    }
   ],
   "source": [
    "airbnb_df[airbnb_df['host_name']=='David']['listing_name'].nunique()"
   ]
  },
  {
   "cell_type": "code",
   "execution_count": 22,
   "id": "0f5e45f3",
   "metadata": {},
   "outputs": [
    {
     "data": {
      "text/html": [
       "<div>\n",
       "<style scoped>\n",
       "    .dataframe tbody tr th:only-of-type {\n",
       "        vertical-align: middle;\n",
       "    }\n",
       "\n",
       "    .dataframe tbody tr th {\n",
       "        vertical-align: top;\n",
       "    }\n",
       "\n",
       "    .dataframe thead th {\n",
       "        text-align: right;\n",
       "    }\n",
       "</style>\n",
       "<table border=\"1\" class=\"dataframe\">\n",
       "  <thead>\n",
       "    <tr style=\"text-align: right;\">\n",
       "      <th></th>\n",
       "      <th>listing_id</th>\n",
       "      <th>listing_name</th>\n",
       "      <th>host_id</th>\n",
       "      <th>host_name</th>\n",
       "      <th>neighbourhood_group</th>\n",
       "      <th>neighbourhood</th>\n",
       "      <th>latitude</th>\n",
       "      <th>longitude</th>\n",
       "      <th>room_type</th>\n",
       "      <th>price</th>\n",
       "      <th>minimum_nights</th>\n",
       "      <th>total_reviews</th>\n",
       "      <th>reviews_per_month</th>\n",
       "      <th>host_listings_count</th>\n",
       "      <th>availability_365</th>\n",
       "    </tr>\n",
       "  </thead>\n",
       "  <tbody>\n",
       "    <tr>\n",
       "      <th>9473</th>\n",
       "      <td>7264659</td>\n",
       "      <td>Olivier</td>\n",
       "      <td>6994503</td>\n",
       "      <td>Olivier</td>\n",
       "      <td>Manhattan</td>\n",
       "      <td>Upper West Side</td>\n",
       "      <td>40.78931</td>\n",
       "      <td>-73.97520</td>\n",
       "      <td>Entire home/apt</td>\n",
       "      <td>200</td>\n",
       "      <td>5</td>\n",
       "      <td>12</td>\n",
       "      <td>0</td>\n",
       "      <td>1</td>\n",
       "      <td>25</td>\n",
       "    </tr>\n",
       "    <tr>\n",
       "      <th>10682</th>\n",
       "      <td>8212051</td>\n",
       "      <td>Monty</td>\n",
       "      <td>43302952</td>\n",
       "      <td>Monty</td>\n",
       "      <td>Brooklyn</td>\n",
       "      <td>East Flatbush</td>\n",
       "      <td>40.66383</td>\n",
       "      <td>-73.92706</td>\n",
       "      <td>Shared room</td>\n",
       "      <td>95</td>\n",
       "      <td>2</td>\n",
       "      <td>7</td>\n",
       "      <td>0</td>\n",
       "      <td>1</td>\n",
       "      <td>238</td>\n",
       "    </tr>\n",
       "    <tr>\n",
       "      <th>16422</th>\n",
       "      <td>13186374</td>\n",
       "      <td>Sean</td>\n",
       "      <td>35143476</td>\n",
       "      <td>Sean</td>\n",
       "      <td>Brooklyn</td>\n",
       "      <td>Windsor Terrace</td>\n",
       "      <td>40.65182</td>\n",
       "      <td>-73.98043</td>\n",
       "      <td>Entire home/apt</td>\n",
       "      <td>400</td>\n",
       "      <td>7</td>\n",
       "      <td>0</td>\n",
       "      <td>0</td>\n",
       "      <td>1</td>\n",
       "      <td>0</td>\n",
       "    </tr>\n",
       "    <tr>\n",
       "      <th>23996</th>\n",
       "      <td>19348168</td>\n",
       "      <td>Cyn</td>\n",
       "      <td>74033595</td>\n",
       "      <td>Cyn</td>\n",
       "      <td>Brooklyn</td>\n",
       "      <td>Bedford-Stuyvesant</td>\n",
       "      <td>40.67850</td>\n",
       "      <td>-73.91478</td>\n",
       "      <td>Private room</td>\n",
       "      <td>75</td>\n",
       "      <td>2</td>\n",
       "      <td>1</td>\n",
       "      <td>0</td>\n",
       "      <td>1</td>\n",
       "      <td>0</td>\n",
       "    </tr>\n",
       "    <tr>\n",
       "      <th>24152</th>\n",
       "      <td>19456810</td>\n",
       "      <td>Hillside Hotel</td>\n",
       "      <td>134184451</td>\n",
       "      <td>Hillside Hotel</td>\n",
       "      <td>Queens</td>\n",
       "      <td>Briarwood</td>\n",
       "      <td>40.70454</td>\n",
       "      <td>-73.81549</td>\n",
       "      <td>Private room</td>\n",
       "      <td>93</td>\n",
       "      <td>1</td>\n",
       "      <td>2</td>\n",
       "      <td>0</td>\n",
       "      <td>18</td>\n",
       "      <td>90</td>\n",
       "    </tr>\n",
       "  </tbody>\n",
       "</table>\n",
       "</div>"
      ],
      "text/plain": [
       "       listing_id    listing_name    host_id       host_name  \\\n",
       "9473      7264659         Olivier    6994503         Olivier   \n",
       "10682     8212051           Monty   43302952           Monty   \n",
       "16422    13186374            Sean   35143476            Sean   \n",
       "23996    19348168             Cyn   74033595             Cyn   \n",
       "24152    19456810  Hillside Hotel  134184451  Hillside Hotel   \n",
       "\n",
       "      neighbourhood_group       neighbourhood  latitude  longitude  \\\n",
       "9473            Manhattan     Upper West Side  40.78931  -73.97520   \n",
       "10682            Brooklyn       East Flatbush  40.66383  -73.92706   \n",
       "16422            Brooklyn     Windsor Terrace  40.65182  -73.98043   \n",
       "23996            Brooklyn  Bedford-Stuyvesant  40.67850  -73.91478   \n",
       "24152              Queens           Briarwood  40.70454  -73.81549   \n",
       "\n",
       "             room_type  price  minimum_nights  total_reviews  \\\n",
       "9473   Entire home/apt    200               5             12   \n",
       "10682      Shared room     95               2              7   \n",
       "16422  Entire home/apt    400               7              0   \n",
       "23996     Private room     75               2              1   \n",
       "24152     Private room     93               1              2   \n",
       "\n",
       "       reviews_per_month  host_listings_count  availability_365  \n",
       "9473                   0                    1                25  \n",
       "10682                  0                    1               238  \n",
       "16422                  0                    1                 0  \n",
       "23996                  0                    1                 0  \n",
       "24152                  0                   18                90  "
      ]
     },
     "execution_count": 22,
     "metadata": {},
     "output_type": "execute_result"
    }
   ],
   "source": [
    "# Lets check the how many names are matched with host name and listing name\n",
    "airbnb_df[airbnb_df['host_name']==airbnb_df['listing_name']].head()"
   ]
  },
  {
   "cell_type": "markdown",
   "id": "72e8bae2",
   "metadata": {},
   "source": [
    "# Descibe the dataset"
   ]
  },
  {
   "cell_type": "code",
   "execution_count": 23,
   "id": "ffe4d607",
   "metadata": {},
   "outputs": [
    {
     "data": {
      "text/html": [
       "<div>\n",
       "<style scoped>\n",
       "    .dataframe tbody tr th:only-of-type {\n",
       "        vertical-align: middle;\n",
       "    }\n",
       "\n",
       "    .dataframe tbody tr th {\n",
       "        vertical-align: top;\n",
       "    }\n",
       "\n",
       "    .dataframe thead th {\n",
       "        text-align: right;\n",
       "    }\n",
       "</style>\n",
       "<table border=\"1\" class=\"dataframe\">\n",
       "  <thead>\n",
       "    <tr style=\"text-align: right;\">\n",
       "      <th></th>\n",
       "      <th>listing_id</th>\n",
       "      <th>host_id</th>\n",
       "      <th>latitude</th>\n",
       "      <th>longitude</th>\n",
       "      <th>price</th>\n",
       "      <th>minimum_nights</th>\n",
       "      <th>total_reviews</th>\n",
       "      <th>reviews_per_month</th>\n",
       "      <th>host_listings_count</th>\n",
       "      <th>availability_365</th>\n",
       "    </tr>\n",
       "  </thead>\n",
       "  <tbody>\n",
       "    <tr>\n",
       "      <th>count</th>\n",
       "      <td>4.889500e+04</td>\n",
       "      <td>4.889500e+04</td>\n",
       "      <td>48895.000000</td>\n",
       "      <td>48895.000000</td>\n",
       "      <td>48895.000000</td>\n",
       "      <td>48895.000000</td>\n",
       "      <td>48895.000000</td>\n",
       "      <td>48895.000000</td>\n",
       "      <td>48895.000000</td>\n",
       "      <td>48895.000000</td>\n",
       "    </tr>\n",
       "    <tr>\n",
       "      <th>mean</th>\n",
       "      <td>1.901714e+07</td>\n",
       "      <td>6.762001e+07</td>\n",
       "      <td>40.728949</td>\n",
       "      <td>-73.952170</td>\n",
       "      <td>152.720687</td>\n",
       "      <td>7.029962</td>\n",
       "      <td>23.274466</td>\n",
       "      <td>0.806258</td>\n",
       "      <td>7.143982</td>\n",
       "      <td>112.781327</td>\n",
       "    </tr>\n",
       "    <tr>\n",
       "      <th>std</th>\n",
       "      <td>1.098311e+07</td>\n",
       "      <td>7.861097e+07</td>\n",
       "      <td>0.054530</td>\n",
       "      <td>0.046157</td>\n",
       "      <td>240.154170</td>\n",
       "      <td>20.510550</td>\n",
       "      <td>44.550582</td>\n",
       "      <td>1.502767</td>\n",
       "      <td>32.952519</td>\n",
       "      <td>131.622289</td>\n",
       "    </tr>\n",
       "    <tr>\n",
       "      <th>min</th>\n",
       "      <td>2.539000e+03</td>\n",
       "      <td>2.438000e+03</td>\n",
       "      <td>40.499790</td>\n",
       "      <td>-74.244420</td>\n",
       "      <td>0.000000</td>\n",
       "      <td>1.000000</td>\n",
       "      <td>0.000000</td>\n",
       "      <td>0.000000</td>\n",
       "      <td>1.000000</td>\n",
       "      <td>0.000000</td>\n",
       "    </tr>\n",
       "    <tr>\n",
       "      <th>25%</th>\n",
       "      <td>9.471945e+06</td>\n",
       "      <td>7.822033e+06</td>\n",
       "      <td>40.690100</td>\n",
       "      <td>-73.983070</td>\n",
       "      <td>69.000000</td>\n",
       "      <td>1.000000</td>\n",
       "      <td>1.000000</td>\n",
       "      <td>0.000000</td>\n",
       "      <td>1.000000</td>\n",
       "      <td>0.000000</td>\n",
       "    </tr>\n",
       "    <tr>\n",
       "      <th>50%</th>\n",
       "      <td>1.967728e+07</td>\n",
       "      <td>3.079382e+07</td>\n",
       "      <td>40.723070</td>\n",
       "      <td>-73.955680</td>\n",
       "      <td>106.000000</td>\n",
       "      <td>3.000000</td>\n",
       "      <td>5.000000</td>\n",
       "      <td>0.000000</td>\n",
       "      <td>1.000000</td>\n",
       "      <td>45.000000</td>\n",
       "    </tr>\n",
       "    <tr>\n",
       "      <th>75%</th>\n",
       "      <td>2.915218e+07</td>\n",
       "      <td>1.074344e+08</td>\n",
       "      <td>40.763115</td>\n",
       "      <td>-73.936275</td>\n",
       "      <td>175.000000</td>\n",
       "      <td>5.000000</td>\n",
       "      <td>24.000000</td>\n",
       "      <td>1.000000</td>\n",
       "      <td>2.000000</td>\n",
       "      <td>227.000000</td>\n",
       "    </tr>\n",
       "    <tr>\n",
       "      <th>max</th>\n",
       "      <td>3.648724e+07</td>\n",
       "      <td>2.743213e+08</td>\n",
       "      <td>40.913060</td>\n",
       "      <td>-73.712990</td>\n",
       "      <td>10000.000000</td>\n",
       "      <td>1250.000000</td>\n",
       "      <td>629.000000</td>\n",
       "      <td>58.000000</td>\n",
       "      <td>327.000000</td>\n",
       "      <td>365.000000</td>\n",
       "    </tr>\n",
       "  </tbody>\n",
       "</table>\n",
       "</div>"
      ],
      "text/plain": [
       "         listing_id       host_id      latitude     longitude         price  \\\n",
       "count  4.889500e+04  4.889500e+04  48895.000000  48895.000000  48895.000000   \n",
       "mean   1.901714e+07  6.762001e+07     40.728949    -73.952170    152.720687   \n",
       "std    1.098311e+07  7.861097e+07      0.054530      0.046157    240.154170   \n",
       "min    2.539000e+03  2.438000e+03     40.499790    -74.244420      0.000000   \n",
       "25%    9.471945e+06  7.822033e+06     40.690100    -73.983070     69.000000   \n",
       "50%    1.967728e+07  3.079382e+07     40.723070    -73.955680    106.000000   \n",
       "75%    2.915218e+07  1.074344e+08     40.763115    -73.936275    175.000000   \n",
       "max    3.648724e+07  2.743213e+08     40.913060    -73.712990  10000.000000   \n",
       "\n",
       "       minimum_nights  total_reviews  reviews_per_month  host_listings_count  \\\n",
       "count    48895.000000   48895.000000       48895.000000         48895.000000   \n",
       "mean         7.029962      23.274466           0.806258             7.143982   \n",
       "std         20.510550      44.550582           1.502767            32.952519   \n",
       "min          1.000000       0.000000           0.000000             1.000000   \n",
       "25%          1.000000       1.000000           0.000000             1.000000   \n",
       "50%          3.000000       5.000000           0.000000             1.000000   \n",
       "75%          5.000000      24.000000           1.000000             2.000000   \n",
       "max       1250.000000     629.000000          58.000000           327.000000   \n",
       "\n",
       "       availability_365  \n",
       "count      48895.000000  \n",
       "mean         112.781327  \n",
       "std          131.622289  \n",
       "min            0.000000  \n",
       "25%            0.000000  \n",
       "50%           45.000000  \n",
       "75%          227.000000  \n",
       "max          365.000000  "
      ]
     },
     "execution_count": 23,
     "metadata": {},
     "output_type": "execute_result"
    }
   ],
   "source": [
    "airbnb_df.describe()"
   ]
  },
  {
   "cell_type": "markdown",
   "id": "5b544d13",
   "metadata": {},
   "source": [
    "# Remove Outliers"
   ]
  },
  {
   "cell_type": "code",
   "execution_count": 24,
   "id": "5320d58a",
   "metadata": {},
   "outputs": [
    {
     "data": {
      "text/plain": [
       "<AxesSubplot:>"
      ]
     },
     "execution_count": 24,
     "metadata": {},
     "output_type": "execute_result"
    },
    {
     "data": {
      "image/png": "[encoded data removed]",
      "text/plain": [
       "<Figure size 640x480 with 1 Axes>"
      ]
     },
     "metadata": {},
     "output_type": "display_data"
    }
   ],
   "source": [
    "sns.boxplot(airbnb_df['price'])"
   ]
  },
  {
   "cell_type": "code",
   "execution_count": 25,
   "id": "6e30e70c",
   "metadata": {},
   "outputs": [],
   "source": [
    "def interQR(dfcolumn):\n",
    "    Q1=np.percentile(dfcolumn,25)\n",
    "    Q3=np.percentile(dfcolumn,75)\n",
    "    IQR=Q3-Q1\n",
    "    lower_fence=Q1-(1.5*IQR)\n",
    "    higer_fence=Q3+(1.5*IQR)\n",
    "    \n",
    "    return lower_fence,higer_fence"
   ]
  },
  {
   "cell_type": "code",
   "execution_count": 26,
   "id": "887857fb",
   "metadata": {},
   "outputs": [],
   "source": [
    "lower_fence,higher_fence=interQR(airbnb_df['price'])"
   ]
  },
  {
   "cell_type": "code",
   "execution_count": 27,
   "id": "5f6f07d2",
   "metadata": {},
   "outputs": [],
   "source": [
    "airbnb_df=airbnb_df[(airbnb_df.price>lower_fence) & (airbnb_df.price<higher_fence)]"
   ]
  },
  {
   "cell_type": "code",
   "execution_count": 28,
   "id": "b8e7b5c8",
   "metadata": {},
   "outputs": [
    {
     "data": {
      "text/plain": [
       "<AxesSubplot:>"
      ]
     },
     "execution_count": 28,
     "metadata": {},
     "output_type": "execute_result"
    },
    {
     "data": {
      "image/png": "[encoded data removed]",
      "text/plain": [
       "<Figure size 640x480 with 1 Axes>"
      ]
     },
     "metadata": {},
     "output_type": "display_data"
    }
   ],
   "source": [
    "sns.boxplot(airbnb_df['price'])"
   ]
  },
  {
   "cell_type": "code",
   "execution_count": 29,
   "id": "1a3dc24b",
   "metadata": {},
   "outputs": [
    {
     "data": {
      "text/plain": [
       "0"
      ]
     },
     "execution_count": 29,
     "metadata": {},
     "output_type": "execute_result"
    }
   ],
   "source": [
    "airbnb_df['price'].min()"
   ]
  },
  {
   "cell_type": "code",
   "execution_count": 30,
   "id": "982ace46",
   "metadata": {},
   "outputs": [
    {
     "data": {
      "text/plain": [
       "333"
      ]
     },
     "execution_count": 30,
     "metadata": {},
     "output_type": "execute_result"
    }
   ],
   "source": [
    "airbnb_df['price'].max()"
   ]
  },
  {
   "cell_type": "markdown",
   "id": "4d45801a",
   "metadata": {},
   "source": [
    "# Data Visualize"
   ]
  },
  {
   "cell_type": "markdown",
   "id": "0b197748",
   "metadata": {},
   "source": [
    "**(1) Distribution Of Airbnb Bookings Price Range Using Histogram**"
   ]
  },
  {
   "cell_type": "code",
   "execution_count": 31,
   "id": "d632b495",
   "metadata": {},
   "outputs": [
    {
     "data": {
      "text/plain": [
       "<AxesSubplot:xlabel='price', ylabel='Count'>"
      ]
     },
     "execution_count": 31,
     "metadata": {},
     "output_type": "execute_result"
    },
    {
     "data": {
      "image/png": "[encoded data removed]",
      "text/plain": [
       "<Figure size 640x480 with 1 Axes>"
      ]
     },
     "metadata": {},
     "output_type": "display_data"
    }
   ],
   "source": [
    "sns.histplot(airbnb_df['price'],kde=True)"
   ]
  },
  {
   "cell_type": "markdown",
   "id": "41746346",
   "metadata": {},
   "source": [
    "#### from above diagram we can say that the most of the price is between 30 to 300\n",
    "#### Highest bokins are 50 to 200 USD\n",
    "#### after 250 the density of booking is down"
   ]
  },
  {
   "cell_type": "markdown",
   "id": "a65886f4",
   "metadata": {},
   "source": [
    " **(2) Total Listing/Property count in Each Neighborhood Group using Count plot**"
   ]
  },
  {
   "cell_type": "code",
   "execution_count": 32,
   "id": "6150b628",
   "metadata": {},
   "outputs": [
    {
     "data": {
      "text/html": [
       "<div>\n",
       "<style scoped>\n",
       "    .dataframe tbody tr th:only-of-type {\n",
       "        vertical-align: middle;\n",
       "    }\n",
       "\n",
       "    .dataframe tbody tr th {\n",
       "        vertical-align: top;\n",
       "    }\n",
       "\n",
       "    .dataframe thead th {\n",
       "        text-align: right;\n",
       "    }\n",
       "</style>\n",
       "<table border=\"1\" class=\"dataframe\">\n",
       "  <thead>\n",
       "    <tr style=\"text-align: right;\">\n",
       "      <th></th>\n",
       "      <th>Neighborhood_Groups</th>\n",
       "      <th>Listing_Counts</th>\n",
       "    </tr>\n",
       "  </thead>\n",
       "  <tbody>\n",
       "    <tr>\n",
       "      <th>0</th>\n",
       "      <td>Manhattan</td>\n",
       "      <td>19501</td>\n",
       "    </tr>\n",
       "    <tr>\n",
       "      <th>1</th>\n",
       "      <td>Brooklyn</td>\n",
       "      <td>19415</td>\n",
       "    </tr>\n",
       "    <tr>\n",
       "      <th>2</th>\n",
       "      <td>Queens</td>\n",
       "      <td>5567</td>\n",
       "    </tr>\n",
       "    <tr>\n",
       "      <th>3</th>\n",
       "      <td>Bronx</td>\n",
       "      <td>1070</td>\n",
       "    </tr>\n",
       "    <tr>\n",
       "      <th>4</th>\n",
       "      <td>Staten Island</td>\n",
       "      <td>365</td>\n",
       "    </tr>\n",
       "  </tbody>\n",
       "</table>\n",
       "</div>"
      ],
      "text/plain": [
       "  Neighborhood_Groups  Listing_Counts\n",
       "0           Manhattan           19501\n",
       "1            Brooklyn           19415\n",
       "2              Queens            5567\n",
       "3               Bronx            1070\n",
       "4       Staten Island             365"
      ]
     },
     "execution_count": 32,
     "metadata": {},
     "output_type": "execute_result"
    }
   ],
   "source": [
    "counts=airbnb_df['neighbourhood_group'].value_counts()\n",
    "top_neighbour=counts.reset_index()\n",
    "top_neighbour.columns = ['Neighborhood_Groups', 'Listing_Counts']\n",
    "\n",
    "# display the resulting DataFrame\n",
    "top_neighbour"
   ]
  },
  {
   "cell_type": "code",
   "execution_count": 33,
   "id": "9de639fc",
   "metadata": {},
   "outputs": [
    {
     "data": {
      "text/plain": [
       "Manhattan        19501\n",
       "Brooklyn         19415\n",
       "Queens            5567\n",
       "Bronx             1070\n",
       "Staten Island      365\n",
       "Name: neighbourhood_group, dtype: int64"
      ]
     },
     "execution_count": 33,
     "metadata": {},
     "output_type": "execute_result"
    }
   ],
   "source": [
    "airbnb_df.head(2)\n",
    "airbnb_df['neighbourhood_group'].value_counts()"
   ]
  },
  {
   "cell_type": "code",
   "execution_count": 34,
   "id": "99fef098",
   "metadata": {},
   "outputs": [
    {
     "data": {
      "text/plain": [
       "Text(0, 0.5, 'total listings counts')"
      ]
     },
     "execution_count": 34,
     "metadata": {},
     "output_type": "execute_result"
    },
    {
     "data": {
      "image/png": "[encoded data removed]",
      "text/plain": [
       "<Figure size 1200x600 with 1 Axes>"
      ]
     },
     "metadata": {},
     "output_type": "display_data"
    }
   ],
   "source": [
    "\n",
    "plt.figure(figsize=(12,6))\n",
    "sns.histplot(airbnb_df['neighbourhood_group'])\n",
    "plt.title('Neighbourhood_group Listing Counts in NYC', fontsize=15)\n",
    "\n",
    "# Set the x-axis label\n",
    "plt.xlabel('Neighbourhood_Group', fontsize=14)\n",
    "\n",
    "# Set the y-axis label\n",
    "plt.ylabel('total listings counts', fontsize=14)\n"
   ]
  },
  {
   "cell_type": "markdown",
   "id": "776d53ac",
   "metadata": {},
   "source": [
    "#### manhattan has the highest listing values \n",
    "#### brooklyn have the less value 19000 \n",
    "#### Queens have the more then 5k and 5.5k\n",
    "#### bronx have the 500\n",
    "#### staten island have the lowes listing values"
   ]
  },
  {
   "cell_type": "markdown",
   "id": "0058694b",
   "metadata": {},
   "source": [
    "**(3) Average Price Of Each Neighborhood Group using Point Plot**"
   ]
  },
  {
   "cell_type": "code",
   "execution_count": 35,
   "id": "46d6559a",
   "metadata": {},
   "outputs": [],
   "source": [
    "grpd=airbnb_df.groupby('neighbourhood_group').mean()"
   ]
  },
  {
   "cell_type": "code",
   "execution_count": 36,
   "id": "11d30704",
   "metadata": {},
   "outputs": [],
   "source": [
    "neighbourhood_group_avg_price=grpd.reset_index()"
   ]
  },
  {
   "cell_type": "code",
   "execution_count": 37,
   "id": "681c8066",
   "metadata": {},
   "outputs": [
    {
     "data": {
      "text/html": [
       "<div>\n",
       "<style scoped>\n",
       "    .dataframe tbody tr th:only-of-type {\n",
       "        vertical-align: middle;\n",
       "    }\n",
       "\n",
       "    .dataframe tbody tr th {\n",
       "        vertical-align: top;\n",
       "    }\n",
       "\n",
       "    .dataframe thead th {\n",
       "        text-align: right;\n",
       "    }\n",
       "</style>\n",
       "<table border=\"1\" class=\"dataframe\">\n",
       "  <thead>\n",
       "    <tr style=\"text-align: right;\">\n",
       "      <th></th>\n",
       "      <th>neighbourhood_group</th>\n",
       "      <th>avg_price</th>\n",
       "    </tr>\n",
       "  </thead>\n",
       "  <tbody>\n",
       "    <tr>\n",
       "      <th>0</th>\n",
       "      <td>Bronx</td>\n",
       "      <td>77.37</td>\n",
       "    </tr>\n",
       "    <tr>\n",
       "      <th>1</th>\n",
       "      <td>Brooklyn</td>\n",
       "      <td>105.70</td>\n",
       "    </tr>\n",
       "    <tr>\n",
       "      <th>2</th>\n",
       "      <td>Manhattan</td>\n",
       "      <td>145.90</td>\n",
       "    </tr>\n",
       "    <tr>\n",
       "      <th>3</th>\n",
       "      <td>Queens</td>\n",
       "      <td>88.90</td>\n",
       "    </tr>\n",
       "    <tr>\n",
       "      <th>4</th>\n",
       "      <td>Staten Island</td>\n",
       "      <td>89.24</td>\n",
       "    </tr>\n",
       "  </tbody>\n",
       "</table>\n",
       "</div>"
      ],
      "text/plain": [
       "  neighbourhood_group  avg_price\n",
       "0               Bronx      77.37\n",
       "1            Brooklyn     105.70\n",
       "2           Manhattan     145.90\n",
       "3              Queens      88.90\n",
       "4       Staten Island      89.24"
      ]
     },
     "execution_count": 37,
     "metadata": {},
     "output_type": "execute_result"
    }
   ],
   "source": [
    "# Rename the \"price\" column to \"avg_price\"\n",
    "neighbourhood_group_avg_price = round(neighbourhood_group_avg_price.rename(columns={\"price\": \"avg_price\"}),2)\n",
    "\n",
    "# Select only the \"neighbourhood_group\" and \"avg_price\" columns\n",
    "neighbourhood_group_avg_price[['neighbourhood_group', 'avg_price']].head()"
   ]
  },
  {
   "cell_type": "code",
   "execution_count": 38,
   "id": "36fc7369",
   "metadata": {},
   "outputs": [
    {
     "data": {
      "text/plain": [
       "<AxesSubplot:xlabel='neighbourhood_group', ylabel='price'>"
      ]
     },
     "execution_count": 38,
     "metadata": {},
     "output_type": "execute_result"
    },
    {
     "data": {
      "image/png": "[encoded data removed]",
      "text/plain": [
       "<Figure size 640x480 with 1 Axes>"
      ]
     },
     "metadata": {},
     "output_type": "display_data"
    }
   ],
   "source": [
    "sns.pointplot(x='neighbourhood_group',y='price',data=airbnb_df, estimator = np.mean)"
   ]
  },
  {
   "cell_type": "markdown",
   "id": "db029c90",
   "metadata": {},
   "source": [
    "**(4) Price Distribution Of Each Neighborhood Group using Violin Plot**"
   ]
  },
  {
   "cell_type": "code",
   "execution_count": 39,
   "id": "75f6e612",
   "metadata": {},
   "outputs": [
    {
     "data": {
      "text/plain": [
       "<AxesSubplot:xlabel='neighbourhood_group', ylabel='price'>"
      ]
     },
     "execution_count": 39,
     "metadata": {},
     "output_type": "execute_result"
    },
    {
     "data": {
      "image/png": "[encoded data removed]",
      "text/plain": [
       "<Figure size 640x480 with 1 Axes>"
      ]
     },
     "metadata": {},
     "output_type": "display_data"
    }
   ],
   "source": [
    "sns.violinplot(x='neighbourhood_group',y='price',data=airbnb_df)"
   ]
  },
  {
   "cell_type": "markdown",
   "id": "108b5cc0",
   "metadata": {},
   "source": [
    "**(4) Top Neighborhoods by Listing/property using Bar plot**"
   ]
  },
  {
   "cell_type": "code",
   "execution_count": 40,
   "id": "4c389677",
   "metadata": {},
   "outputs": [
    {
     "data": {
      "text/html": [
       "<div>\n",
       "<style scoped>\n",
       "    .dataframe tbody tr th:only-of-type {\n",
       "        vertical-align: middle;\n",
       "    }\n",
       "\n",
       "    .dataframe tbody tr th {\n",
       "        vertical-align: top;\n",
       "    }\n",
       "\n",
       "    .dataframe thead th {\n",
       "        text-align: right;\n",
       "    }\n",
       "</style>\n",
       "<table border=\"1\" class=\"dataframe\">\n",
       "  <thead>\n",
       "    <tr style=\"text-align: right;\">\n",
       "      <th></th>\n",
       "      <th>Top_Neighborhoods</th>\n",
       "      <th>Listing_Counts</th>\n",
       "    </tr>\n",
       "  </thead>\n",
       "  <tbody>\n",
       "    <tr>\n",
       "      <th>0</th>\n",
       "      <td>Williamsburg</td>\n",
       "      <td>3732</td>\n",
       "    </tr>\n",
       "    <tr>\n",
       "      <th>1</th>\n",
       "      <td>Bedford-Stuyvesant</td>\n",
       "      <td>3638</td>\n",
       "    </tr>\n",
       "    <tr>\n",
       "      <th>2</th>\n",
       "      <td>Harlem</td>\n",
       "      <td>2585</td>\n",
       "    </tr>\n",
       "    <tr>\n",
       "      <th>3</th>\n",
       "      <td>Bushwick</td>\n",
       "      <td>2438</td>\n",
       "    </tr>\n",
       "    <tr>\n",
       "      <th>4</th>\n",
       "      <td>Upper West Side</td>\n",
       "      <td>1788</td>\n",
       "    </tr>\n",
       "    <tr>\n",
       "      <th>5</th>\n",
       "      <td>Hell's Kitchen</td>\n",
       "      <td>1731</td>\n",
       "    </tr>\n",
       "    <tr>\n",
       "      <th>6</th>\n",
       "      <td>East Village</td>\n",
       "      <td>1714</td>\n",
       "    </tr>\n",
       "    <tr>\n",
       "      <th>7</th>\n",
       "      <td>Upper East Side</td>\n",
       "      <td>1670</td>\n",
       "    </tr>\n",
       "    <tr>\n",
       "      <th>8</th>\n",
       "      <td>Crown Heights</td>\n",
       "      <td>1519</td>\n",
       "    </tr>\n",
       "    <tr>\n",
       "      <th>9</th>\n",
       "      <td>Midtown</td>\n",
       "      <td>1143</td>\n",
       "    </tr>\n",
       "  </tbody>\n",
       "</table>\n",
       "</div>"
      ],
      "text/plain": [
       "    Top_Neighborhoods  Listing_Counts\n",
       "0        Williamsburg            3732\n",
       "1  Bedford-Stuyvesant            3638\n",
       "2              Harlem            2585\n",
       "3            Bushwick            2438\n",
       "4     Upper West Side            1788\n",
       "5      Hell's Kitchen            1731\n",
       "6        East Village            1714\n",
       "7     Upper East Side            1670\n",
       "8       Crown Heights            1519\n",
       "9             Midtown            1143"
      ]
     },
     "execution_count": 40,
     "metadata": {},
     "output_type": "execute_result"
    }
   ],
   "source": [
    "topngb=airbnb_df['neighbourhood'].value_counts()[:10].reset_index()\n",
    "topngb.columns=['Top_Neighborhoods', 'Listing_Counts']\n",
    "topngb"
   ]
  },
  {
   "cell_type": "code",
   "execution_count": 41,
   "id": "88d50d60",
   "metadata": {},
   "outputs": [
    {
     "data": {
      "text/plain": [
       "<AxesSubplot:>"
      ]
     },
     "execution_count": 41,
     "metadata": {},
     "output_type": "execute_result"
    },
    {
     "data": {
      "image/png": "[encoded data removed]",
      "text/plain": [
       "<Figure size 640x480 with 1 Axes>"
      ]
     },
     "metadata": {},
     "output_type": "display_data"
    }
   ],
   "source": [
    "ak=airbnb_df['neighbourhood'].value_counts().nlargest(10)\n",
    "ak.plot(kind='bar')"
   ]
  },
  {
   "cell_type": "markdown",
   "id": "6701b967",
   "metadata": {},
   "source": [
    "# (5) Top Hosts With More Listing/Property using Bar chart"
   ]
  },
  {
   "cell_type": "code",
   "execution_count": 42,
   "id": "ea024773",
   "metadata": {},
   "outputs": [
    {
     "data": {
      "text/plain": [
       "<AxesSubplot:>"
      ]
     },
     "execution_count": 42,
     "metadata": {},
     "output_type": "execute_result"
    },
    {
     "data": {
      "image/png": "[encoded data removed]",
      "text/plain": [
       "<Figure size 640x480 with 1 Axes>"
      ]
     },
     "metadata": {},
     "output_type": "display_data"
    }
   ],
   "source": [
    "lp=airbnb_df['host_name'].value_counts().nlargest(10)\n",
    "lp.plot(kind='bar')"
   ]
  },
  {
   "cell_type": "code",
   "execution_count": 43,
   "id": "bae73f1d",
   "metadata": {},
   "outputs": [
    {
     "data": {
      "text/plain": [
       "Michael         383\n",
       "David           368\n",
       "John            276\n",
       "Sonder (NYC)    272\n",
       "Alex            253\n",
       "Sarah           221\n",
       "Daniel          212\n",
       "Maria           197\n",
       "Jessica         185\n",
       "Mike            184\n",
       "Name: host_name, dtype: int64"
      ]
     },
     "execution_count": 43,
     "metadata": {},
     "output_type": "execute_result"
    }
   ],
   "source": [
    "lp"
   ]
  },
  {
   "cell_type": "markdown",
   "id": "2d419ac9",
   "metadata": {},
   "source": [
    "# (6) Number Of Active Hosts Per Location Using Line Chart"
   ]
  },
  {
   "cell_type": "code",
   "execution_count": 44,
   "id": "8e3a7d6d",
   "metadata": {},
   "outputs": [
    {
     "data": {
      "text/html": [
       "<div>\n",
       "<style scoped>\n",
       "    .dataframe tbody tr th:only-of-type {\n",
       "        vertical-align: middle;\n",
       "    }\n",
       "\n",
       "    .dataframe tbody tr th {\n",
       "        vertical-align: top;\n",
       "    }\n",
       "\n",
       "    .dataframe thead th {\n",
       "        text-align: right;\n",
       "    }\n",
       "</style>\n",
       "<table border=\"1\" class=\"dataframe\">\n",
       "  <thead>\n",
       "    <tr style=\"text-align: right;\">\n",
       "      <th></th>\n",
       "      <th>Neighbourhood_Groups</th>\n",
       "      <th>Host_counts</th>\n",
       "    </tr>\n",
       "  </thead>\n",
       "  <tbody>\n",
       "    <tr>\n",
       "      <th>0</th>\n",
       "      <td>Bronx</td>\n",
       "      <td>1070</td>\n",
       "    </tr>\n",
       "    <tr>\n",
       "      <th>1</th>\n",
       "      <td>Brooklyn</td>\n",
       "      <td>19415</td>\n",
       "    </tr>\n",
       "    <tr>\n",
       "      <th>2</th>\n",
       "      <td>Manhattan</td>\n",
       "      <td>19501</td>\n",
       "    </tr>\n",
       "    <tr>\n",
       "      <th>3</th>\n",
       "      <td>Queens</td>\n",
       "      <td>5567</td>\n",
       "    </tr>\n",
       "    <tr>\n",
       "      <th>4</th>\n",
       "      <td>Staten Island</td>\n",
       "      <td>365</td>\n",
       "    </tr>\n",
       "  </tbody>\n",
       "</table>\n",
       "</div>"
      ],
      "text/plain": [
       "  Neighbourhood_Groups  Host_counts\n",
       "0                Bronx         1070\n",
       "1             Brooklyn        19415\n",
       "2            Manhattan        19501\n",
       "3               Queens         5567\n",
       "4        Staten Island          365"
      ]
     },
     "execution_count": 44,
     "metadata": {},
     "output_type": "execute_result"
    }
   ],
   "source": [
    "# create a new DataFrame that displays the number of hosts in each neighborhood group in the Airbnb NYC dataset\n",
    "hosts_per_location = airbnb_df.groupby('neighbourhood_group')['listing_id'].count().reset_index()\n",
    "\n",
    "# rename the columns of the resulting DataFrame to 'Neighbourhood_Groups' and 'Host_counts'\n",
    "hosts_per_location.columns = ['Neighbourhood_Groups', 'Host_counts']\n",
    "\n",
    "# display the resulting DataFrame\n",
    "hosts_per_location"
   ]
  },
  {
   "cell_type": "code",
   "execution_count": 45,
   "id": "01466b86",
   "metadata": {},
   "outputs": [],
   "source": [
    "# sns.lineplot(data=airbnb_df,x=airbnb_df.groupby('neighbourhood_group')['listing_id'].count())"
   ]
  },
  {
   "cell_type": "code",
   "execution_count": 46,
   "id": "1633690c",
   "metadata": {},
   "outputs": [
    {
     "data": {
      "text/html": [
       "<div>\n",
       "<style scoped>\n",
       "    .dataframe tbody tr th:only-of-type {\n",
       "        vertical-align: middle;\n",
       "    }\n",
       "\n",
       "    .dataframe tbody tr th {\n",
       "        vertical-align: top;\n",
       "    }\n",
       "\n",
       "    .dataframe thead th {\n",
       "        text-align: right;\n",
       "    }\n",
       "</style>\n",
       "<table border=\"1\" class=\"dataframe\">\n",
       "  <thead>\n",
       "    <tr style=\"text-align: right;\">\n",
       "      <th></th>\n",
       "      <th>listing_id</th>\n",
       "      <th>listing_name</th>\n",
       "      <th>host_id</th>\n",
       "      <th>host_name</th>\n",
       "      <th>neighbourhood_group</th>\n",
       "      <th>neighbourhood</th>\n",
       "      <th>latitude</th>\n",
       "      <th>longitude</th>\n",
       "      <th>room_type</th>\n",
       "      <th>price</th>\n",
       "      <th>minimum_nights</th>\n",
       "      <th>total_reviews</th>\n",
       "      <th>reviews_per_month</th>\n",
       "      <th>host_listings_count</th>\n",
       "      <th>availability_365</th>\n",
       "    </tr>\n",
       "  </thead>\n",
       "  <tbody>\n",
       "    <tr>\n",
       "      <th>0</th>\n",
       "      <td>2539</td>\n",
       "      <td>Clean &amp; quiet apt home by the park</td>\n",
       "      <td>2787</td>\n",
       "      <td>John</td>\n",
       "      <td>Brooklyn</td>\n",
       "      <td>Kensington</td>\n",
       "      <td>40.64749</td>\n",
       "      <td>-73.97237</td>\n",
       "      <td>Private room</td>\n",
       "      <td>149</td>\n",
       "      <td>1</td>\n",
       "      <td>9</td>\n",
       "      <td>0</td>\n",
       "      <td>6</td>\n",
       "      <td>365</td>\n",
       "    </tr>\n",
       "    <tr>\n",
       "      <th>1</th>\n",
       "      <td>2595</td>\n",
       "      <td>Skylit Midtown Castle</td>\n",
       "      <td>2845</td>\n",
       "      <td>Jennifer</td>\n",
       "      <td>Manhattan</td>\n",
       "      <td>Midtown</td>\n",
       "      <td>40.75362</td>\n",
       "      <td>-73.98377</td>\n",
       "      <td>Entire home/apt</td>\n",
       "      <td>225</td>\n",
       "      <td>1</td>\n",
       "      <td>45</td>\n",
       "      <td>0</td>\n",
       "      <td>2</td>\n",
       "      <td>355</td>\n",
       "    </tr>\n",
       "    <tr>\n",
       "      <th>2</th>\n",
       "      <td>3647</td>\n",
       "      <td>THE VILLAGE OF HARLEM....NEW YORK !</td>\n",
       "      <td>4632</td>\n",
       "      <td>Elisabeth</td>\n",
       "      <td>Manhattan</td>\n",
       "      <td>Harlem</td>\n",
       "      <td>40.80902</td>\n",
       "      <td>-73.94190</td>\n",
       "      <td>Private room</td>\n",
       "      <td>150</td>\n",
       "      <td>3</td>\n",
       "      <td>0</td>\n",
       "      <td>0</td>\n",
       "      <td>1</td>\n",
       "      <td>365</td>\n",
       "    </tr>\n",
       "    <tr>\n",
       "      <th>3</th>\n",
       "      <td>3831</td>\n",
       "      <td>Cozy Entire Floor of Brownstone</td>\n",
       "      <td>4869</td>\n",
       "      <td>LisaRoxanne</td>\n",
       "      <td>Brooklyn</td>\n",
       "      <td>Clinton Hill</td>\n",
       "      <td>40.68514</td>\n",
       "      <td>-73.95976</td>\n",
       "      <td>Entire home/apt</td>\n",
       "      <td>89</td>\n",
       "      <td>1</td>\n",
       "      <td>270</td>\n",
       "      <td>4</td>\n",
       "      <td>1</td>\n",
       "      <td>194</td>\n",
       "    </tr>\n",
       "    <tr>\n",
       "      <th>4</th>\n",
       "      <td>5022</td>\n",
       "      <td>Entire Apt: Spacious Studio/Loft by central park</td>\n",
       "      <td>7192</td>\n",
       "      <td>Laura</td>\n",
       "      <td>Manhattan</td>\n",
       "      <td>East Harlem</td>\n",
       "      <td>40.79851</td>\n",
       "      <td>-73.94399</td>\n",
       "      <td>Entire home/apt</td>\n",
       "      <td>80</td>\n",
       "      <td>10</td>\n",
       "      <td>9</td>\n",
       "      <td>0</td>\n",
       "      <td>1</td>\n",
       "      <td>0</td>\n",
       "    </tr>\n",
       "  </tbody>\n",
       "</table>\n",
       "</div>"
      ],
      "text/plain": [
       "   listing_id                                      listing_name  host_id  \\\n",
       "0        2539                Clean & quiet apt home by the park     2787   \n",
       "1        2595                             Skylit Midtown Castle     2845   \n",
       "2        3647               THE VILLAGE OF HARLEM....NEW YORK !     4632   \n",
       "3        3831                   Cozy Entire Floor of Brownstone     4869   \n",
       "4        5022  Entire Apt: Spacious Studio/Loft by central park     7192   \n",
       "\n",
       "     host_name neighbourhood_group neighbourhood  latitude  longitude  \\\n",
       "0         John            Brooklyn    Kensington  40.64749  -73.97237   \n",
       "1     Jennifer           Manhattan       Midtown  40.75362  -73.98377   \n",
       "2    Elisabeth           Manhattan        Harlem  40.80902  -73.94190   \n",
       "3  LisaRoxanne            Brooklyn  Clinton Hill  40.68514  -73.95976   \n",
       "4        Laura           Manhattan   East Harlem  40.79851  -73.94399   \n",
       "\n",
       "         room_type  price  minimum_nights  total_reviews  reviews_per_month  \\\n",
       "0     Private room    149               1              9                  0   \n",
       "1  Entire home/apt    225               1             45                  0   \n",
       "2     Private room    150               3              0                  0   \n",
       "3  Entire home/apt     89               1            270                  4   \n",
       "4  Entire home/apt     80              10              9                  0   \n",
       "\n",
       "   host_listings_count  availability_365  \n",
       "0                    6               365  \n",
       "1                    2               355  \n",
       "2                    1               365  \n",
       "3                    1               194  \n",
       "4                    1                 0  "
      ]
     },
     "execution_count": 46,
     "metadata": {},
     "output_type": "execute_result"
    }
   ],
   "source": [
    "airbnb_df.head()"
   ]
  },
  {
   "cell_type": "code",
   "execution_count": 47,
   "id": "fb2590d9",
   "metadata": {},
   "outputs": [
    {
     "data": {
      "text/html": [
       "<div>\n",
       "<style scoped>\n",
       "    .dataframe tbody tr th:only-of-type {\n",
       "        vertical-align: middle;\n",
       "    }\n",
       "\n",
       "    .dataframe tbody tr th {\n",
       "        vertical-align: top;\n",
       "    }\n",
       "\n",
       "    .dataframe thead th {\n",
       "        text-align: right;\n",
       "    }\n",
       "</style>\n",
       "<table border=\"1\" class=\"dataframe\">\n",
       "  <thead>\n",
       "    <tr style=\"text-align: right;\">\n",
       "      <th></th>\n",
       "      <th>neighbourhood_group</th>\n",
       "      <th>neighbourhood</th>\n",
       "      <th>room_type</th>\n",
       "      <th>minimum_nights</th>\n",
       "      <th>total_reviews</th>\n",
       "      <th>reviews_per_month</th>\n",
       "      <th>host_listings_count</th>\n",
       "      <th>availability_365</th>\n",
       "    </tr>\n",
       "  </thead>\n",
       "  <tbody>\n",
       "    <tr>\n",
       "      <th>0</th>\n",
       "      <td>Brooklyn</td>\n",
       "      <td>Kensington</td>\n",
       "      <td>Private room</td>\n",
       "      <td>1</td>\n",
       "      <td>9</td>\n",
       "      <td>0</td>\n",
       "      <td>6</td>\n",
       "      <td>365</td>\n",
       "    </tr>\n",
       "  </tbody>\n",
       "</table>\n",
       "</div>"
      ],
      "text/plain": [
       "  neighbourhood_group neighbourhood     room_type  minimum_nights  \\\n",
       "0            Brooklyn    Kensington  Private room               1   \n",
       "\n",
       "   total_reviews  reviews_per_month  host_listings_count  availability_365  \n",
       "0              9                  0                    6               365  "
      ]
     },
     "execution_count": 47,
     "metadata": {},
     "output_type": "execute_result"
    }
   ],
   "source": [
    "cols=['listing_id','host_id','host_name','latitude','longitude','price','listing_name']\n",
    "X=airbnb_df.drop(cols,axis=1)\n",
    "X.head(1)"
   ]
  },
  {
   "cell_type": "code",
   "execution_count": 48,
   "id": "8fa6a35a",
   "metadata": {},
   "outputs": [],
   "source": [
    "y=airbnb_df['price']"
   ]
  },
  {
   "cell_type": "code",
   "execution_count": 49,
   "id": "61d8eed0",
   "metadata": {},
   "outputs": [
    {
     "data": {
      "text/plain": [
       "listing_id             45918\n",
       "listing_name           44988\n",
       "host_id                35388\n",
       "host_name              11009\n",
       "neighbourhood_group        5\n",
       "neighbourhood            219\n",
       "latitude               18759\n",
       "longitude              14534\n",
       "room_type                  3\n",
       "price                    321\n",
       "minimum_nights           105\n",
       "total_reviews            393\n",
       "reviews_per_month         22\n",
       "host_listings_count       47\n",
       "availability_365         366\n",
       "dtype: int64"
      ]
     },
     "execution_count": 49,
     "metadata": {},
     "output_type": "execute_result"
    }
   ],
   "source": [
    "airbnb_df.nunique()"
   ]
  },
  {
   "cell_type": "code",
   "execution_count": 50,
   "id": "2214564f",
   "metadata": {},
   "outputs": [
    {
     "data": {
      "text/html": [
       "<div>\n",
       "<style scoped>\n",
       "    .dataframe tbody tr th:only-of-type {\n",
       "        vertical-align: middle;\n",
       "    }\n",
       "\n",
       "    .dataframe tbody tr th {\n",
       "        vertical-align: top;\n",
       "    }\n",
       "\n",
       "    .dataframe thead th {\n",
       "        text-align: right;\n",
       "    }\n",
       "</style>\n",
       "<table border=\"1\" class=\"dataframe\">\n",
       "  <thead>\n",
       "    <tr style=\"text-align: right;\">\n",
       "      <th></th>\n",
       "      <th>minimum_nights</th>\n",
       "      <th>total_reviews</th>\n",
       "      <th>reviews_per_month</th>\n",
       "      <th>host_listings_count</th>\n",
       "      <th>availability_365</th>\n",
       "    </tr>\n",
       "  </thead>\n",
       "  <tbody>\n",
       "    <tr>\n",
       "      <th>minimum_nights</th>\n",
       "      <td>1.000000</td>\n",
       "      <td>-0.082851</td>\n",
       "      <td>-0.117291</td>\n",
       "      <td>0.133237</td>\n",
       "      <td>0.146329</td>\n",
       "    </tr>\n",
       "    <tr>\n",
       "      <th>total_reviews</th>\n",
       "      <td>-0.082851</td>\n",
       "      <td>1.000000</td>\n",
       "      <td>0.562593</td>\n",
       "      <td>-0.070357</td>\n",
       "      <td>0.183707</td>\n",
       "    </tr>\n",
       "    <tr>\n",
       "      <th>reviews_per_month</th>\n",
       "      <td>-0.117291</td>\n",
       "      <td>0.562593</td>\n",
       "      <td>1.000000</td>\n",
       "      <td>-0.043678</td>\n",
       "      <td>0.156463</td>\n",
       "    </tr>\n",
       "    <tr>\n",
       "      <th>host_listings_count</th>\n",
       "      <td>0.133237</td>\n",
       "      <td>-0.070357</td>\n",
       "      <td>-0.043678</td>\n",
       "      <td>1.000000</td>\n",
       "      <td>0.225251</td>\n",
       "    </tr>\n",
       "    <tr>\n",
       "      <th>availability_365</th>\n",
       "      <td>0.146329</td>\n",
       "      <td>0.183707</td>\n",
       "      <td>0.156463</td>\n",
       "      <td>0.225251</td>\n",
       "      <td>1.000000</td>\n",
       "    </tr>\n",
       "  </tbody>\n",
       "</table>\n",
       "</div>"
      ],
      "text/plain": [
       "                     minimum_nights  total_reviews  reviews_per_month  \\\n",
       "minimum_nights             1.000000      -0.082851          -0.117291   \n",
       "total_reviews             -0.082851       1.000000           0.562593   \n",
       "reviews_per_month         -0.117291       0.562593           1.000000   \n",
       "host_listings_count        0.133237      -0.070357          -0.043678   \n",
       "availability_365           0.146329       0.183707           0.156463   \n",
       "\n",
       "                     host_listings_count  availability_365  \n",
       "minimum_nights                  0.133237          0.146329  \n",
       "total_reviews                  -0.070357          0.183707  \n",
       "reviews_per_month              -0.043678          0.156463  \n",
       "host_listings_count             1.000000          0.225251  \n",
       "availability_365                0.225251          1.000000  "
      ]
     },
     "execution_count": 50,
     "metadata": {},
     "output_type": "execute_result"
    }
   ],
   "source": [
    "X.corr()"
   ]
  },
  {
   "cell_type": "code",
   "execution_count": 51,
   "id": "7d397439",
   "metadata": {},
   "outputs": [],
   "source": [
    "# X['minimum_nights']"
   ]
  },
  {
   "cell_type": "code",
   "execution_count": 52,
   "id": "bc72cf8a",
   "metadata": {},
   "outputs": [],
   "source": [
    "from sklearn.preprocessing import StandardScaler\n",
    "sts=StandardScaler()"
   ]
  },
  {
   "cell_type": "code",
   "execution_count": 53,
   "id": "1b2888af",
   "metadata": {},
   "outputs": [],
   "source": [
    "X[['minimum_nights','total_reviews','reviews_per_month','host_listings_count','availability_365']]=sts.fit_transform(X[['minimum_nights','total_reviews','reviews_per_month','host_listings_count','availability_365']])"
   ]
  },
  {
   "cell_type": "code",
   "execution_count": 54,
   "id": "5a4bd8bb",
   "metadata": {},
   "outputs": [
    {
     "data": {
      "text/html": [
       "<div>\n",
       "<style scoped>\n",
       "    .dataframe tbody tr th:only-of-type {\n",
       "        vertical-align: middle;\n",
       "    }\n",
       "\n",
       "    .dataframe tbody tr th {\n",
       "        vertical-align: top;\n",
       "    }\n",
       "\n",
       "    .dataframe thead th {\n",
       "        text-align: right;\n",
       "    }\n",
       "</style>\n",
       "<table border=\"1\" class=\"dataframe\">\n",
       "  <thead>\n",
       "    <tr style=\"text-align: right;\">\n",
       "      <th></th>\n",
       "      <th>neighbourhood_group</th>\n",
       "      <th>neighbourhood</th>\n",
       "      <th>room_type</th>\n",
       "      <th>minimum_nights</th>\n",
       "      <th>total_reviews</th>\n",
       "      <th>reviews_per_month</th>\n",
       "      <th>host_listings_count</th>\n",
       "      <th>availability_365</th>\n",
       "    </tr>\n",
       "  </thead>\n",
       "  <tbody>\n",
       "    <tr>\n",
       "      <th>0</th>\n",
       "      <td>Brooklyn</td>\n",
       "      <td>Kensington</td>\n",
       "      <td>Private room</td>\n",
       "      <td>-0.298928</td>\n",
       "      <td>-0.329789</td>\n",
       "      <td>-0.539404</td>\n",
       "      <td>-0.020046</td>\n",
       "      <td>1.962367</td>\n",
       "    </tr>\n",
       "    <tr>\n",
       "      <th>1</th>\n",
       "      <td>Manhattan</td>\n",
       "      <td>Midtown</td>\n",
       "      <td>Entire home/apt</td>\n",
       "      <td>-0.298928</td>\n",
       "      <td>0.464621</td>\n",
       "      <td>-0.539404</td>\n",
       "      <td>-0.149337</td>\n",
       "      <td>1.885604</td>\n",
       "    </tr>\n",
       "    <tr>\n",
       "      <th>2</th>\n",
       "      <td>Manhattan</td>\n",
       "      <td>Harlem</td>\n",
       "      <td>Private room</td>\n",
       "      <td>-0.198211</td>\n",
       "      <td>-0.528392</td>\n",
       "      <td>-0.539404</td>\n",
       "      <td>-0.181659</td>\n",
       "      <td>1.962367</td>\n",
       "    </tr>\n",
       "  </tbody>\n",
       "</table>\n",
       "</div>"
      ],
      "text/plain": [
       "  neighbourhood_group neighbourhood        room_type  minimum_nights  \\\n",
       "0            Brooklyn    Kensington     Private room       -0.298928   \n",
       "1           Manhattan       Midtown  Entire home/apt       -0.298928   \n",
       "2           Manhattan        Harlem     Private room       -0.198211   \n",
       "\n",
       "   total_reviews  reviews_per_month  host_listings_count  availability_365  \n",
       "0      -0.329789          -0.539404            -0.020046          1.962367  \n",
       "1       0.464621          -0.539404            -0.149337          1.885604  \n",
       "2      -0.528392          -0.539404            -0.181659          1.962367  "
      ]
     },
     "execution_count": 54,
     "metadata": {},
     "output_type": "execute_result"
    }
   ],
   "source": [
    "X.head(3)"
   ]
  },
  {
   "cell_type": "code",
   "execution_count": 55,
   "id": "646d881c",
   "metadata": {},
   "outputs": [
    {
     "ename": "AttributeError",
     "evalue": "'Series' object has no attribute 'uniqueque'",
     "output_type": "error",
     "traceback": [
      "\u001b[1;31m---------------------------------------------------------------------------\u001b[0m",
      "\u001b[1;31mAttributeError\u001b[0m                            Traceback (most recent call last)",
      "\u001b[1;32m~\\AppData\\Local\\Temp\\ipykernel_1716\\269150897.py\u001b[0m in \u001b[0;36m<module>\u001b[1;34m\u001b[0m\n\u001b[1;32m----> 1\u001b[1;33m \u001b[0mX\u001b[0m\u001b[1;33m[\u001b[0m\u001b[1;34m'neighbourhood_group'\u001b[0m\u001b[1;33m]\u001b[0m\u001b[1;33m.\u001b[0m\u001b[0muniqueque\u001b[0m\u001b[1;33m(\u001b[0m\u001b[1;33m)\u001b[0m\u001b[1;33m\u001b[0m\u001b[1;33m\u001b[0m\u001b[0m\n\u001b[0m",
      "\u001b[1;32mD:\\Python\\Anaconda\\SetUp\\lib\\site-packages\\pandas\\core\\generic.py\u001b[0m in \u001b[0;36m__getattr__\u001b[1;34m(self, name)\u001b[0m\n\u001b[0;32m   5573\u001b[0m         ):\n\u001b[0;32m   5574\u001b[0m             \u001b[1;32mreturn\u001b[0m \u001b[0mself\u001b[0m\u001b[1;33m[\u001b[0m\u001b[0mname\u001b[0m\u001b[1;33m]\u001b[0m\u001b[1;33m\u001b[0m\u001b[1;33m\u001b[0m\u001b[0m\n\u001b[1;32m-> 5575\u001b[1;33m         \u001b[1;32mreturn\u001b[0m \u001b[0mobject\u001b[0m\u001b[1;33m.\u001b[0m\u001b[0m__getattribute__\u001b[0m\u001b[1;33m(\u001b[0m\u001b[0mself\u001b[0m\u001b[1;33m,\u001b[0m \u001b[0mname\u001b[0m\u001b[1;33m)\u001b[0m\u001b[1;33m\u001b[0m\u001b[1;33m\u001b[0m\u001b[0m\n\u001b[0m\u001b[0;32m   5576\u001b[0m \u001b[1;33m\u001b[0m\u001b[0m\n\u001b[0;32m   5577\u001b[0m     \u001b[1;32mdef\u001b[0m \u001b[0m__setattr__\u001b[0m\u001b[1;33m(\u001b[0m\u001b[0mself\u001b[0m\u001b[1;33m,\u001b[0m \u001b[0mname\u001b[0m\u001b[1;33m:\u001b[0m \u001b[0mstr\u001b[0m\u001b[1;33m,\u001b[0m \u001b[0mvalue\u001b[0m\u001b[1;33m)\u001b[0m \u001b[1;33m->\u001b[0m \u001b[1;32mNone\u001b[0m\u001b[1;33m:\u001b[0m\u001b[1;33m\u001b[0m\u001b[1;33m\u001b[0m\u001b[0m\n",
      "\u001b[1;31mAttributeError\u001b[0m: 'Series' object has no attribute 'uniqueque'"
     ]
    }
   ],
   "source": [
    "X['neighbourhood_group'].uniqueque()"
   ]
  },
  {
   "cell_type": "code",
   "execution_count": 56,
   "id": "d47e6551",
   "metadata": {},
   "outputs": [],
   "source": [
    "from sklearn.preprocessing import LabelEncoder\n",
    "enc=LabelEncoder()"
   ]
  },
  {
   "cell_type": "code",
   "execution_count": 57,
   "id": "701e03e0",
   "metadata": {},
   "outputs": [],
   "source": [
    "X['neighbourhood_group']=enc.fit_transform(X['neighbourhood_group'])"
   ]
  },
  {
   "cell_type": "code",
   "execution_count": 58,
   "id": "0498dc67",
   "metadata": {},
   "outputs": [
    {
     "data": {
      "text/html": [
       "<div>\n",
       "<style scoped>\n",
       "    .dataframe tbody tr th:only-of-type {\n",
       "        vertical-align: middle;\n",
       "    }\n",
       "\n",
       "    .dataframe tbody tr th {\n",
       "        vertical-align: top;\n",
       "    }\n",
       "\n",
       "    .dataframe thead th {\n",
       "        text-align: right;\n",
       "    }\n",
       "</style>\n",
       "<table border=\"1\" class=\"dataframe\">\n",
       "  <thead>\n",
       "    <tr style=\"text-align: right;\">\n",
       "      <th></th>\n",
       "      <th>neighbourhood_group</th>\n",
       "      <th>neighbourhood</th>\n",
       "      <th>room_type</th>\n",
       "      <th>minimum_nights</th>\n",
       "      <th>total_reviews</th>\n",
       "      <th>reviews_per_month</th>\n",
       "      <th>host_listings_count</th>\n",
       "      <th>availability_365</th>\n",
       "    </tr>\n",
       "  </thead>\n",
       "  <tbody>\n",
       "    <tr>\n",
       "      <th>0</th>\n",
       "      <td>1</td>\n",
       "      <td>Kensington</td>\n",
       "      <td>Private room</td>\n",
       "      <td>-0.298928</td>\n",
       "      <td>-0.329789</td>\n",
       "      <td>-0.539404</td>\n",
       "      <td>-0.020046</td>\n",
       "      <td>1.962367</td>\n",
       "    </tr>\n",
       "    <tr>\n",
       "      <th>1</th>\n",
       "      <td>2</td>\n",
       "      <td>Midtown</td>\n",
       "      <td>Entire home/apt</td>\n",
       "      <td>-0.298928</td>\n",
       "      <td>0.464621</td>\n",
       "      <td>-0.539404</td>\n",
       "      <td>-0.149337</td>\n",
       "      <td>1.885604</td>\n",
       "    </tr>\n",
       "  </tbody>\n",
       "</table>\n",
       "</div>"
      ],
      "text/plain": [
       "   neighbourhood_group neighbourhood        room_type  minimum_nights  \\\n",
       "0                    1    Kensington     Private room       -0.298928   \n",
       "1                    2       Midtown  Entire home/apt       -0.298928   \n",
       "\n",
       "   total_reviews  reviews_per_month  host_listings_count  availability_365  \n",
       "0      -0.329789          -0.539404            -0.020046          1.962367  \n",
       "1       0.464621          -0.539404            -0.149337          1.885604  "
      ]
     },
     "execution_count": 58,
     "metadata": {},
     "output_type": "execute_result"
    }
   ],
   "source": [
    "X.head(2)"
   ]
  },
  {
   "cell_type": "code",
   "execution_count": 59,
   "id": "d4c8a1af",
   "metadata": {},
   "outputs": [],
   "source": [
    "X['room_type']=enc.fit_transform(X['room_type'])"
   ]
  },
  {
   "cell_type": "code",
   "execution_count": 60,
   "id": "6c9b13be",
   "metadata": {},
   "outputs": [],
   "source": [
    "# z=X['neighbourhood']\n",
    "# X['neighbourhood']=X['neighbourhood'].astype(str)\n",
    "type(X['neighbourhood'])\n",
    "X['neighbourhood']=X['neighbourhood'].str.replace(\"'\",\"\").str.replace('.','').str.replace(' ','')"
   ]
  },
  {
   "cell_type": "code",
   "execution_count": 61,
   "id": "c12ab482",
   "metadata": {},
   "outputs": [],
   "source": [
    "X['neighbourhood']=np.array(X['neighbourhood']).reshape(-1, 1)\n"
   ]
  },
  {
   "cell_type": "code",
   "execution_count": 62,
   "id": "7dd4bef0",
   "metadata": {},
   "outputs": [
    {
     "name": "stdout",
     "output_type": "stream",
     "text": [
      "1\n"
     ]
    }
   ],
   "source": [
    "array_1d = X['neighbourhood'].to_numpy()\n",
    "\n",
    "# Reshape the array to a 2D array with one column\n",
    "array_2d = array_1d.reshape(-1, 1)\n",
    "\n",
    "# Assign the reshaped array back to the \"A\" column\n",
    "X['neighbourhood']= array_2d\n",
    "\n",
    "# Print the DataFrame\n",
    "print(X['neighbourhood'].ndim)"
   ]
  },
  {
   "cell_type": "code",
   "execution_count": 63,
   "id": "40462f41",
   "metadata": {},
   "outputs": [],
   "source": [
    "X['neighbourhood']=enc.fit_transform(X['neighbourhood'])"
   ]
  },
  {
   "cell_type": "code",
   "execution_count": 64,
   "id": "812d1dc7",
   "metadata": {},
   "outputs": [
    {
     "data": {
      "text/plain": [
       "0    149\n",
       "1    225\n",
       "Name: price, dtype: int64"
      ]
     },
     "execution_count": 64,
     "metadata": {},
     "output_type": "execute_result"
    }
   ],
   "source": [
    "y.head(2)"
   ]
  },
  {
   "cell_type": "code",
   "execution_count": 65,
   "id": "b97f8605",
   "metadata": {},
   "outputs": [],
   "source": [
    "airbnb_df['price']=sts.fit_transform(airbnb_df[['price']])"
   ]
  },
  {
   "cell_type": "code",
   "execution_count": 66,
   "id": "729676e7",
   "metadata": {},
   "outputs": [],
   "source": [
    "y=airbnb_df['price']"
   ]
  },
  {
   "cell_type": "code",
   "execution_count": 67,
   "id": "7da55d72",
   "metadata": {},
   "outputs": [
    {
     "data": {
      "text/plain": [
       "0    0.426519\n",
       "1    1.542254\n",
       "2    0.441200\n",
       "3   -0.454325\n",
       "4   -0.586451\n",
       "Name: price, dtype: float64"
      ]
     },
     "execution_count": 67,
     "metadata": {},
     "output_type": "execute_result"
    }
   ],
   "source": [
    "y.head()"
   ]
  },
  {
   "cell_type": "code",
   "execution_count": 118,
   "id": "770f96ab",
   "metadata": {},
   "outputs": [
    {
     "data": {
      "text/plain": [
       "<AxesSubplot:>"
      ]
     },
     "execution_count": 118,
     "metadata": {},
     "output_type": "execute_result"
    },
    {
     "data": {
      "image/png": "[encoded data removed]",
      "text/plain": [
       "<Figure size 640x480 with 2 Axes>"
      ]
     },
     "metadata": {},
     "output_type": "display_data"
    }
   ],
   "source": [
    "sns.heatmap(X.corr(),annot=True)"
   ]
  },
  {
   "cell_type": "code",
   "execution_count": 68,
   "id": "ab8edf57",
   "metadata": {},
   "outputs": [],
   "source": [
    "from sklearn.model_selection import train_test_split\n",
    "X_train,X_test,y_train,y_test=train_test_split(X,y,test_size=0.33,random_state=42)"
   ]
  },
  {
   "cell_type": "code",
   "execution_count": null,
   "id": "d8700be7",
   "metadata": {},
   "outputs": [],
   "source": []
  },
  {
   "cell_type": "code",
   "execution_count": 69,
   "id": "02971329",
   "metadata": {},
   "outputs": [],
   "source": [
    "from sklearn.tree import DecisionTreeRegressor\n",
    "dtr=DecisionTreeRegressor()"
   ]
  },
  {
   "cell_type": "code",
   "execution_count": 70,
   "id": "31cd635f",
   "metadata": {},
   "outputs": [
    {
     "data": {
      "text/plain": [
       "DecisionTreeRegressor()"
      ]
     },
     "execution_count": 70,
     "metadata": {},
     "output_type": "execute_result"
    }
   ],
   "source": [
    "dtr.fit(X_train,y_train)"
   ]
  },
  {
   "cell_type": "code",
   "execution_count": 71,
   "id": "f78ccf8d",
   "metadata": {},
   "outputs": [
    {
     "data": {
      "text/plain": [
       "0.9315212578053114"
      ]
     },
     "execution_count": 71,
     "metadata": {},
     "output_type": "execute_result"
    }
   ],
   "source": [
    "dtr.score(X_train,y_train)"
   ]
  },
  {
   "cell_type": "code",
   "execution_count": 72,
   "id": "b4230c47",
   "metadata": {},
   "outputs": [],
   "source": [
    "y_pred=dtr.predict(X_test)"
   ]
  },
  {
   "cell_type": "code",
   "execution_count": 73,
   "id": "f715203b",
   "metadata": {},
   "outputs": [
    {
     "data": {
      "text/plain": [
       "0.17212596233866062"
      ]
     },
     "execution_count": 73,
     "metadata": {},
     "output_type": "execute_result"
    }
   ],
   "source": [
    "from sklearn.metrics import r2_score\n",
    "r2_score(y_pred,y_test)"
   ]
  },
  {
   "cell_type": "code",
   "execution_count": 74,
   "id": "cd8ea539",
   "metadata": {},
   "outputs": [],
   "source": [
    "from sklearn.ensemble import RandomForestRegressor\n",
    "rfr=RandomForestRegressor()"
   ]
  },
  {
   "cell_type": "code",
   "execution_count": 103,
   "id": "908d3bf5",
   "metadata": {},
   "outputs": [],
   "source": [
    "params={\n",
    "    'criterion':['squared_error','friedman_mse','absolute_error','poisson'],\n",
    "    'max_depth':[6,7,8,10,11,12],\n",
    "    'max_features':['sqrt', 'log2']\n",
    "}"
   ]
  },
  {
   "cell_type": "code",
   "execution_count": null,
   "id": "03cdf5af",
   "metadata": {},
   "outputs": [],
   "source": []
  },
  {
   "cell_type": "code",
   "execution_count": 105,
   "id": "74913236",
   "metadata": {},
   "outputs": [
    {
     "data": {
      "text/plain": [
       "RandomForestRegressor()"
      ]
     },
     "execution_count": 105,
     "metadata": {},
     "output_type": "execute_result"
    }
   ],
   "source": [
    "rfr.fit(X_train,y_train)"
   ]
  },
  {
   "cell_type": "code",
   "execution_count": 99,
   "id": "81371bcc",
   "metadata": {},
   "outputs": [
    {
     "data": {
      "text/plain": [
       "0.8803503224483367"
      ]
     },
     "execution_count": 99,
     "metadata": {},
     "output_type": "execute_result"
    }
   ],
   "source": [
    "rfr.score(X_train,y_train)"
   ]
  },
  {
   "cell_type": "code",
   "execution_count": 100,
   "id": "697eba7d",
   "metadata": {},
   "outputs": [],
   "source": [
    "rf_sc=rfr.predict(X_test)"
   ]
  },
  {
   "cell_type": "code",
   "execution_count": 101,
   "id": "6e067957",
   "metadata": {},
   "outputs": [
    {
     "data": {
      "text/plain": [
       "0.22959483427940375"
      ]
     },
     "execution_count": 101,
     "metadata": {},
     "output_type": "execute_result"
    }
   ],
   "source": [
    "r2_score(rf_sc,y_test)"
   ]
  },
  {
   "cell_type": "code",
   "execution_count": 108,
   "id": "4ddd6c50",
   "metadata": {},
   "outputs": [],
   "source": [
    "from sklearn.linear_model import Ridge\n",
    "rdg=Ridge()"
   ]
  },
  {
   "cell_type": "code",
   "execution_count": 109,
   "id": "a67387e2",
   "metadata": {},
   "outputs": [
    {
     "data": {
      "text/plain": [
       "Ridge()"
      ]
     },
     "execution_count": 109,
     "metadata": {},
     "output_type": "execute_result"
    }
   ],
   "source": [
    "rdg.fit(X_train,y_train)"
   ]
  },
  {
   "cell_type": "code",
   "execution_count": 110,
   "id": "9dcbfcd1",
   "metadata": {},
   "outputs": [],
   "source": [
    "ridge_p=rdg.predict(X_test)"
   ]
  },
  {
   "cell_type": "code",
   "execution_count": 111,
   "id": "37b93339",
   "metadata": {},
   "outputs": [
    {
     "data": {
      "text/plain": [
       "-0.4806156621506199"
      ]
     },
     "execution_count": 111,
     "metadata": {},
     "output_type": "execute_result"
    }
   ],
   "source": [
    "r2_score(ridge_p,y_test)"
   ]
  },
  {
   "cell_type": "code",
   "execution_count": 112,
   "id": "e586e096",
   "metadata": {},
   "outputs": [],
   "source": [
    "from sklearn.linear_model import ElasticNet\n",
    "el=ElasticNet()"
   ]
  },
  {
   "cell_type": "code",
   "execution_count": 113,
   "id": "ce157682",
   "metadata": {},
   "outputs": [
    {
     "data": {
      "text/plain": [
       "ElasticNet()"
      ]
     },
     "execution_count": 113,
     "metadata": {},
     "output_type": "execute_result"
    }
   ],
   "source": [
    "el.fit(X_train,y_train)"
   ]
  },
  {
   "cell_type": "code",
   "execution_count": 114,
   "id": "6c371567",
   "metadata": {},
   "outputs": [],
   "source": [
    "el_P=el.predict(X_test)"
   ]
  },
  {
   "cell_type": "code",
   "execution_count": 115,
   "id": "9e40ca6c",
   "metadata": {},
   "outputs": [
    {
     "data": {
      "text/plain": [
       "-67.8147959984588"
      ]
     },
     "execution_count": 115,
     "metadata": {},
     "output_type": "execute_result"
    }
   ],
   "source": [
    "r2_score(el_P,y_test)"
   ]
  },
  {
   "cell_type": "code",
   "execution_count": null,
   "id": "091d71ad",
   "metadata": {},
   "outputs": [],
   "source": []
  }
 ],
 "metadata": {
  "kernelspec": {
   "display_name": "Python 3 (ipykernel)",
   "language": "python",
   "name": "python3"
  },
  "language_info": {
   "codemirror_mode": {
    "name": "ipython",
    "version": 3
   },
   "file_extension": ".py",
   "mimetype": "text/x-python",
   "name": "python",
   "nbconvert_exporter": "python",
   "pygments_lexer": "ipython3",
   "version": "3.9.13"
  }
 },
 "nbformat": 4,
 "nbformat_minor": 5
}
