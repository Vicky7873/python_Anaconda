{
 "cells": [
  {
   "cell_type": "code",
   "execution_count": 1,
   "id": "4ac97166-ad65-49be-9f70-1f7f2d9db1ff",
   "metadata": {},
   "outputs": [
    {
     "name": "stdout",
     "output_type": "stream",
     "text": [
      "Name: kfp\n",
      "Version: 2.7.0\n",
      "Summary: Kubeflow Pipelines SDK\n",
      "Home-page: https://github.com/kubeflow/pipelines\n",
      "Author: The Kubeflow Authors\n",
      "Author-email: \n",
      "License: \n",
      "Location: /Applications/anaconda3/lib/python3.11/site-packages\n",
      "Requires: click, docstring-parser, google-api-core, google-auth, google-cloud-storage, kfp-pipeline-spec, kfp-server-api, kubernetes, protobuf, PyYAML, requests-toolbelt, tabulate, urllib3\n",
      "Required-by: \n"
     ]
    }
   ],
   "source": [
    "!pip show kfp"
   ]
  },
  {
   "cell_type": "code",
   "execution_count": 2,
   "id": "3e5b173c-3dc4-49a9-921a-7d39a9715904",
   "metadata": {},
   "outputs": [],
   "source": [
    "import kfp\n",
    "import kfp.components as comp\n",
    "import requests\n",
    "import kfp.dsl as dsl"
   ]
  },
  {
   "cell_type": "code",
   "execution_count": 3,
   "id": "eecf8ac6-a50a-44dd-a904-b2db348be867",
   "metadata": {},
   "outputs": [
    {
     "name": "stderr",
     "output_type": "stream",
     "text": [
      "/Users/bhikipallai/Desktop/python_Anaconda/MLOps/.conda/lib/python3.11/site-packages/kfp/dsl/component_decorator.py:119: FutureWarning: Python 3.7 has reached end-of-life. The default base_image used by the @dsl.component decorator will switch from 'python:3.7' to 'python:3.8' on April 23, 2024. To ensure your existing components work with versions of the KFP SDK released after that date, you should provide an explicit base_image argument and ensure your component works as intended on Python 3.8.\n",
      "  return component_factory.create_component_from_func(\n"
     ]
    }
   ],
   "source": [
    "@dsl.component()\n",
    "def prepare_data(data_path:str):\n",
    "    import pandas as pd\n",
    "    df = pd.read_csv('iris.csv')\n",
    "    df = df.dropna()\n",
    "    df.to_csv(f'data/final_df.csv', index=False)\n",
    "    print(\"\\n ---- data csv is saved to PV location /data/final_df.csv ----\")"
   ]
  },
  {
   "cell_type": "code",
   "execution_count": 4,
   "id": "e308f42d-102b-4ea6-8d64-10441f63dcaf",
   "metadata": {},
   "outputs": [],
   "source": [
    "@dsl.component\n",
    "def train_test_split(data_path:str):\n",
    "    import pandas as pd\n",
    "    from sklearn.model_selection import train_test_split\n",
    "    import numpy as np\n",
    "    print(\"---- Inside train_test_split component ----\")\n",
    "    final_data = pd.read_csv(f'data/final_df.csv')\n",
    "    X = final_data.drop(columns='class')\n",
    "    y = final_data['class']\n",
    "    X_train,X_test,y_train,y_test = train_test_split(X,y,test_size=0.3,random_state=47)\n",
    "    np.save(f'data/X_train.npy', X_train)\n",
    "    np.save(f'data/X_train.npy', X_test)\n",
    "    np.save(f'data/X_train.npy', y_train)\n",
    "    np.save(f'data/X_train.npy', y_test)\n",
    "    print(\"\\n---- X_train ----\")\n",
    "    print(\"\\n\")\n",
    "    print(X_train)\n",
    "    \n",
    "    print(\"\\n---- X_test ----\")\n",
    "    print(\"\\n\")\n",
    "    print(X_test)\n",
    "    \n",
    "    print(\"\\n---- y_train ----\")\n",
    "    print(\"\\n\")\n",
    "    print(y_train)\n",
    "    \n",
    "    print(\"\\n---- y_test ----\")\n",
    "    print(\"\\n\")\n",
    "    print(y_test)"
   ]
  },
  {
   "cell_type": "code",
   "execution_count": 5,
   "id": "fd28bca0-6dd8-4a71-901e-b86e0beb0b79",
   "metadata": {},
   "outputs": [],
   "source": [
    "@dsl.component()\n",
    "def train_basic_classifier(data_path:str):\n",
    "    from sklearn.linear_model import LogisticRegression\n",
    "    import numpy as np\n",
    "    import pandas as pd\n",
    "\n",
    "    print(\"---- Inside training_basic_classifier component ----\")\n",
    "\n",
    "    X_train = np.load(f'data/X_train.npy')\n",
    "    y_train = np.load(f'data/y_train.npy')\n",
    "\n",
    "    classifier = LogisticRegression(max_iter=500)\n",
    "    classifier.fit(X_train,y_train)\n",
    "\n",
    "    import pickle\n",
    "    with open(f'data/model.pkl','wb') as f:\n",
    "        pickle.dump(classifier,f)\n",
    "\n",
    "    print(\"\\n logistic regression classifier is trained on iris data and saved to PV location /data/model.pkl ----\")"
   ]
  },
  {
   "cell_type": "code",
   "execution_count": 7,
   "id": "22fd2c5e-7c86-4fef-85d4-910628205678",
   "metadata": {},
   "outputs": [],
   "source": [
    "@dsl.component()\n",
    "def predict_on_test_data(data_path:str):\n",
    "    import pandas as pd\n",
    "    import numpy as np\n",
    "    import pickle\n",
    "    print(\"---- Inside predict_on_test_data component ----\")\n",
    "    with open(f'data/model.pkl','rb') as f:\n",
    "        logistic_reg_model = pickle.load(f)\n",
    "\n",
    "    X_test = np.load(f'data/X_test')\n",
    "    y_pred = logistic_reg_model.predict(X_test)\n",
    "    np.save(f'data/y_pred.npy', y_pred)\n",
    "\n",
    "    print(\"\\n---- Predicted classes ----\")\n",
    "    print(\"\\n\")\n",
    "    print(y_pred)"
   ]
  },
  {
   "cell_type": "code",
   "execution_count": 32,
   "id": "8b3062b0-1caf-4d36-9b6c-a9a97e003c8b",
   "metadata": {},
   "outputs": [],
   "source": [
    "@dsl.component()\n",
    "def predict_prob_on_test_data(data_path:str):\n",
    "    import pandas as pd\n",
    "    import numpy as np\n",
    "    import pickle\n",
    "    print(\"---- Inside predict_prob_on_test_data component ----\")\n",
    "    with open(f'data/model.pkl','rb') as f:\n",
    "        logistic_reg_model = pickle.load(f)\n",
    "    X_test = np.load(f'data/X_test.npy',allow_pickle=True)\n",
    "    y_pred_prob = logistic_reg_model.predict_proba(X_test)\n",
    "    np.save(f'data/y_pred_prob.npy', y_pred_prob)\n",
    "    \n",
    "    print(\"\\n---- Predicted Probabilities ----\")\n",
    "    print(\"\\n\")\n",
    "    print(y_pred_prob)"
   ]
  },
  {
   "cell_type": "code",
   "execution_count": 34,
   "id": "8d86df4c-55d5-4bfa-b2f9-be33a6fd50d6",
   "metadata": {},
   "outputs": [],
   "source": [
    "@dsl.component()\n",
    "def get_metrics(data_path:str):\n",
    "    import pandas as pd\n",
    "    import numpy as np\n",
    "    from sklearn.metrics import accuracy_score,precision_score,recall_score,log_loss,classification_report\n",
    "    print(\"---- Inside get_metrics component ----\")\n",
    "    y_test = np.load(f'data/y_test.npy')\n",
    "    y_pred = np.load(f'data/y_pred.npy')\n",
    "    y_pred_prob = np.load(f'data/y_pred_prob.npy')\n",
    "    acc = accuracy_score(y_pred,y_test)\n",
    "    prec = precision_score(y_pred,y_test)\n",
    "    recall = recall_score(y_pred,y_test)\n",
    "    entropy = log_loss(y_test, y_pred_prob)\n",
    "    print(classification_report(y_pred,y_test))\n",
    "    print({'Accuracy':round(acc,2),'precision': round(prec, 2), 'recall': round(recall, 2), 'entropy': round(entropy, 2)})"
   ]
  },
  {
   "cell_type": "markdown",
   "id": "283a4daa-1228-4eb3-a1f7-b0304b02be9b",
   "metadata": {},
   "source": [
    "# Kubeflow pipeline creation work start from here"
   ]
  },
  {
   "cell_type": "code",
   "execution_count": 15,
   "id": "e4b96d4b-85ee-4bd1-b9e6-97ac472071b0",
   "metadata": {},
   "outputs": [],
   "source": [
    "def create_prepare_data_pipeline(data_path:str):\n",
    "    return dsl.pipeline_component_from_func(prepare_data)"
   ]
  },
  {
   "cell_type": "code",
   "execution_count": 16,
   "id": "52b2d09d",
   "metadata": {},
   "outputs": [],
   "source": [
    "def create_train_test_split_pipeline(data_path:str):\n",
    "    return dsl.pipeline_component_from_func(train_test_split)\n",
    "def create_train_basic_classifier_pipeline(data_path:str):\n",
    "    return dsl.pipeline_component_from_func(train_basic_classifier)\n",
    "def create_predict_on_test_data_pipeline(data_path:str):\n",
    "    return dsl.pipeline_component_from_func(predict_on_test_data)\n",
    "def create_predict_prob_on_test_data_pipeline(data_path:str):\n",
    "    return dsl.pipeline_component_from_func(predict_prob_on_test_data)\n",
    "def create_get_metrics_pipeline(data_path:str):\n",
    "    return dsl.pipeline_component_from_func(get_metrics)"
   ]
  },
  {
   "cell_type": "code",
   "execution_count": 17,
   "id": "09af8f8f-5ab4-48d9-a5de-086528b35d4a",
   "metadata": {},
   "outputs": [
    {
     "ename": "AttributeError",
     "evalue": "module 'kfp.dsl' has no attribute 'pipeline_component_from_func'",
     "output_type": "error",
     "traceback": [
      "\u001b[0;31m---------------------------------------------------------------------------\u001b[0m",
      "\u001b[0;31mAttributeError\u001b[0m                            Traceback (most recent call last)",
      "Cell \u001b[0;32mIn[17], line 2\u001b[0m\n\u001b[1;32m      1\u001b[0m \u001b[38;5;66;03m# Define the pipeline\u001b[39;00m\n\u001b[0;32m----> 2\u001b[0m \u001b[38;5;129;43m@dsl\u001b[39;49m\u001b[38;5;241;43m.\u001b[39;49m\u001b[43mpipeline\u001b[49m\u001b[43m(\u001b[49m\n\u001b[1;32m      3\u001b[0m \u001b[43m   \u001b[49m\u001b[43mname\u001b[49m\u001b[38;5;241;43m=\u001b[39;49m\u001b[38;5;124;43m'\u001b[39;49m\u001b[38;5;124;43mIRIS classifier Kubeflow Demo Pipeline\u001b[39;49m\u001b[38;5;124;43m'\u001b[39;49m\u001b[43m,\u001b[49m\n\u001b[1;32m      4\u001b[0m \u001b[43m   \u001b[49m\u001b[43mdescription\u001b[49m\u001b[38;5;241;43m=\u001b[39;49m\u001b[38;5;124;43m'\u001b[39;49m\u001b[38;5;124;43mA sample pipeline that performs IRIS classifier task\u001b[39;49m\u001b[38;5;124;43m'\u001b[39;49m\n\u001b[1;32m      5\u001b[0m \u001b[43m)\u001b[49m\n\u001b[1;32m      6\u001b[0m \u001b[38;5;66;43;03m# Define parameters to be fed into pipeline\u001b[39;49;00m\n\u001b[1;32m      7\u001b[0m \u001b[38;5;28;43;01mdef\u001b[39;49;00m\u001b[43m \u001b[49m\u001b[38;5;21;43miris_classifier_pipeline\u001b[39;49m\u001b[43m(\u001b[49m\u001b[43mdata_path\u001b[49m\u001b[43m:\u001b[49m\u001b[43m \u001b[49m\u001b[38;5;28;43mstr\u001b[39;49m\u001b[43m)\u001b[49m\u001b[43m:\u001b[49m\n\u001b[1;32m      8\u001b[0m \u001b[43m    \u001b[49m\u001b[38;5;66;43;03m# Create steps and define their execution order\u001b[39;49;00m\n\u001b[1;32m      9\u001b[0m \u001b[43m    \u001b[49m\u001b[43mprepare_data_task\u001b[49m\u001b[43m \u001b[49m\u001b[38;5;241;43m=\u001b[39;49m\u001b[43m \u001b[49m\u001b[43mcreate_prepare_data_pipeline\u001b[49m\u001b[43m(\u001b[49m\u001b[43mdata_path\u001b[49m\u001b[43m)\u001b[49m\n\u001b[1;32m     10\u001b[0m \u001b[43m    \u001b[49m\u001b[43mtrain_test_split_task\u001b[49m\u001b[43m \u001b[49m\u001b[38;5;241;43m=\u001b[39;49m\u001b[43m \u001b[49m\u001b[43mcreate_train_test_split_pipeline\u001b[49m\u001b[43m(\u001b[49m\u001b[43mdata_path\u001b[49m\u001b[43m)\u001b[49m\u001b[38;5;241;43m.\u001b[39;49m\u001b[43mafter\u001b[49m\u001b[43m(\u001b[49m\u001b[43mprepare_data_task\u001b[49m\u001b[43m)\u001b[49m\n",
      "File \u001b[0;32m~/Desktop/python_Anaconda/MLOps/.conda/lib/python3.11/site-packages/kfp/dsl/pipeline_context.py:65\u001b[0m, in \u001b[0;36mpipeline\u001b[0;34m(func, name, description, pipeline_root, display_name)\u001b[0m\n\u001b[1;32m     62\u001b[0m \u001b[38;5;28;01mif\u001b[39;00m pipeline_root:\n\u001b[1;32m     63\u001b[0m     func\u001b[38;5;241m.\u001b[39mpipeline_root \u001b[38;5;241m=\u001b[39m pipeline_root\n\u001b[0;32m---> 65\u001b[0m \u001b[38;5;28;01mreturn\u001b[39;00m \u001b[43mcomponent_factory\u001b[49m\u001b[38;5;241;43m.\u001b[39;49m\u001b[43mcreate_graph_component_from_func\u001b[49m\u001b[43m(\u001b[49m\n\u001b[1;32m     66\u001b[0m \u001b[43m    \u001b[49m\u001b[43mfunc\u001b[49m\u001b[43m,\u001b[49m\n\u001b[1;32m     67\u001b[0m \u001b[43m    \u001b[49m\u001b[43mname\u001b[49m\u001b[38;5;241;43m=\u001b[39;49m\u001b[43mname\u001b[49m\u001b[43m,\u001b[49m\n\u001b[1;32m     68\u001b[0m \u001b[43m    \u001b[49m\u001b[43mdescription\u001b[49m\u001b[38;5;241;43m=\u001b[39;49m\u001b[43mdescription\u001b[49m\u001b[43m,\u001b[49m\n\u001b[1;32m     69\u001b[0m \u001b[43m    \u001b[49m\u001b[43mdisplay_name\u001b[49m\u001b[38;5;241;43m=\u001b[39;49m\u001b[43mdisplay_name\u001b[49m\u001b[43m,\u001b[49m\n\u001b[1;32m     70\u001b[0m \u001b[43m\u001b[49m\u001b[43m)\u001b[49m\n",
      "File \u001b[0;32m~/Desktop/python_Anaconda/MLOps/.conda/lib/python3.11/site-packages/kfp/dsl/component_factory.py:673\u001b[0m, in \u001b[0;36mcreate_graph_component_from_func\u001b[0;34m(func, name, description, display_name)\u001b[0m\n\u001b[1;32m    662\u001b[0m \u001b[38;5;250m\u001b[39m\u001b[38;5;124;03m\"\"\"Implementation for the @pipeline decorator.\u001b[39;00m\n\u001b[1;32m    663\u001b[0m \n\u001b[1;32m    664\u001b[0m \u001b[38;5;124;03mThe decorator is defined under pipeline_context.py. See the\u001b[39;00m\n\u001b[1;32m    665\u001b[0m \u001b[38;5;124;03mdecorator for the canonical documentation for this function.\u001b[39;00m\n\u001b[1;32m    666\u001b[0m \u001b[38;5;124;03m\"\"\"\u001b[39;00m\n\u001b[1;32m    668\u001b[0m component_spec \u001b[38;5;241m=\u001b[39m extract_component_interface(\n\u001b[1;32m    669\u001b[0m     func,\n\u001b[1;32m    670\u001b[0m     description\u001b[38;5;241m=\u001b[39mdescription,\n\u001b[1;32m    671\u001b[0m     name\u001b[38;5;241m=\u001b[39mname,\n\u001b[1;32m    672\u001b[0m )\n\u001b[0;32m--> 673\u001b[0m \u001b[38;5;28;01mreturn\u001b[39;00m \u001b[43mgraph_component\u001b[49m\u001b[38;5;241;43m.\u001b[39;49m\u001b[43mGraphComponent\u001b[49m\u001b[43m(\u001b[49m\n\u001b[1;32m    674\u001b[0m \u001b[43m    \u001b[49m\u001b[43mcomponent_spec\u001b[49m\u001b[38;5;241;43m=\u001b[39;49m\u001b[43mcomponent_spec\u001b[49m\u001b[43m,\u001b[49m\n\u001b[1;32m    675\u001b[0m \u001b[43m    \u001b[49m\u001b[43mpipeline_func\u001b[49m\u001b[38;5;241;43m=\u001b[39;49m\u001b[43mfunc\u001b[49m\u001b[43m,\u001b[49m\n\u001b[1;32m    676\u001b[0m \u001b[43m    \u001b[49m\u001b[43mdisplay_name\u001b[49m\u001b[38;5;241;43m=\u001b[39;49m\u001b[43mdisplay_name\u001b[49m\u001b[43m,\u001b[49m\n\u001b[1;32m    677\u001b[0m \u001b[43m\u001b[49m\u001b[43m)\u001b[49m\n",
      "File \u001b[0;32m~/Desktop/python_Anaconda/MLOps/.conda/lib/python3.11/site-packages/kfp/dsl/graph_component.py:58\u001b[0m, in \u001b[0;36mGraphComponent.__init__\u001b[0;34m(self, component_spec, pipeline_func, display_name)\u001b[0m\n\u001b[1;32m     49\u001b[0m     args_list\u001b[38;5;241m.\u001b[39mappend(\n\u001b[1;32m     50\u001b[0m         pipeline_channel\u001b[38;5;241m.\u001b[39mcreate_pipeline_channel(\n\u001b[1;32m     51\u001b[0m             name\u001b[38;5;241m=\u001b[39marg_name,\n\u001b[1;32m     52\u001b[0m             channel_type\u001b[38;5;241m=\u001b[39minput_spec\u001b[38;5;241m.\u001b[39mtype,\n\u001b[1;32m     53\u001b[0m             is_artifact_list\u001b[38;5;241m=\u001b[39minput_spec\u001b[38;5;241m.\u001b[39mis_artifact_list,\n\u001b[1;32m     54\u001b[0m         ))\n\u001b[1;32m     56\u001b[0m \u001b[38;5;28;01mwith\u001b[39;00m pipeline_context\u001b[38;5;241m.\u001b[39mPipeline(\n\u001b[1;32m     57\u001b[0m         \u001b[38;5;28mself\u001b[39m\u001b[38;5;241m.\u001b[39mcomponent_spec\u001b[38;5;241m.\u001b[39mname) \u001b[38;5;28;01mas\u001b[39;00m dsl_pipeline:\n\u001b[0;32m---> 58\u001b[0m     pipeline_outputs \u001b[38;5;241m=\u001b[39m \u001b[43mpipeline_func\u001b[49m\u001b[43m(\u001b[49m\u001b[38;5;241;43m*\u001b[39;49m\u001b[43margs_list\u001b[49m\u001b[43m)\u001b[49m\n\u001b[1;32m     60\u001b[0m \u001b[38;5;28;01mif\u001b[39;00m \u001b[38;5;129;01mnot\u001b[39;00m dsl_pipeline\u001b[38;5;241m.\u001b[39mtasks:\n\u001b[1;32m     61\u001b[0m     \u001b[38;5;28;01mraise\u001b[39;00m \u001b[38;5;167;01mValueError\u001b[39;00m(\u001b[38;5;124m'\u001b[39m\u001b[38;5;124mTask is missing from pipeline.\u001b[39m\u001b[38;5;124m'\u001b[39m)\n",
      "Cell \u001b[0;32mIn[17], line 9\u001b[0m, in \u001b[0;36miris_classifier_pipeline\u001b[0;34m(data_path)\u001b[0m\n\u001b[1;32m      2\u001b[0m \u001b[38;5;129m@dsl\u001b[39m\u001b[38;5;241m.\u001b[39mpipeline(\n\u001b[1;32m      3\u001b[0m    name\u001b[38;5;241m=\u001b[39m\u001b[38;5;124m'\u001b[39m\u001b[38;5;124mIRIS classifier Kubeflow Demo Pipeline\u001b[39m\u001b[38;5;124m'\u001b[39m,\n\u001b[1;32m      4\u001b[0m    description\u001b[38;5;241m=\u001b[39m\u001b[38;5;124m'\u001b[39m\u001b[38;5;124mA sample pipeline that performs IRIS classifier task\u001b[39m\u001b[38;5;124m'\u001b[39m\n\u001b[0;32m   (...)\u001b[0m\n\u001b[1;32m      7\u001b[0m \u001b[38;5;28;01mdef\u001b[39;00m \u001b[38;5;21miris_classifier_pipeline\u001b[39m(data_path: \u001b[38;5;28mstr\u001b[39m):\n\u001b[1;32m      8\u001b[0m     \u001b[38;5;66;03m# Create steps and define their execution order\u001b[39;00m\n\u001b[0;32m----> 9\u001b[0m     prepare_data_task \u001b[38;5;241m=\u001b[39m \u001b[43mcreate_prepare_data_pipeline\u001b[49m\u001b[43m(\u001b[49m\u001b[43mdata_path\u001b[49m\u001b[43m)\u001b[49m\n\u001b[1;32m     10\u001b[0m     train_test_split_task \u001b[38;5;241m=\u001b[39m create_train_test_split_pipeline(data_path)\u001b[38;5;241m.\u001b[39mafter(prepare_data_task)\n\u001b[1;32m     11\u001b[0m     train_basic_classifier_task \u001b[38;5;241m=\u001b[39m create_train_basic_classifier_pipeline(data_path)\u001b[38;5;241m.\u001b[39mafter(train_test_split_task)\n",
      "Cell \u001b[0;32mIn[15], line 2\u001b[0m, in \u001b[0;36mcreate_prepare_data_pipeline\u001b[0;34m(data_path)\u001b[0m\n\u001b[1;32m      1\u001b[0m \u001b[38;5;28;01mdef\u001b[39;00m \u001b[38;5;21mcreate_prepare_data_pipeline\u001b[39m(data_path:\u001b[38;5;28mstr\u001b[39m):\n\u001b[0;32m----> 2\u001b[0m     \u001b[38;5;28;01mreturn\u001b[39;00m \u001b[43mdsl\u001b[49m\u001b[38;5;241;43m.\u001b[39;49m\u001b[43mpipeline_component_from_func\u001b[49m(prepare_data)\n",
      "\u001b[0;31mAttributeError\u001b[0m: module 'kfp.dsl' has no attribute 'pipeline_component_from_func'"
     ]
    }
   ],
   "source": [
    "# Define the pipeline\n",
    "@dsl.pipeline(\n",
    "   name='IRIS classifier Kubeflow Demo Pipeline',\n",
    "   description='A sample pipeline that performs IRIS classifier task'\n",
    ")\n",
    "# Define parameters to be fed into pipeline\n",
    "def iris_classifier_pipeline(data_path: str):\n",
    "    # Create steps and define their execution order\n",
    "    prepare_data_task = create_prepare_data_pipeline(data_path)\n",
    "    train_test_split_task = create_train_test_split_pipeline(data_path).after(prepare_data_task)\n",
    "    train_basic_classifier_task = create_train_basic_classifier_pipeline(data_path).after(train_test_split_task)\n",
    "    predict_on_test_data_task = create_predict_on_test_data_pipeline(data_path).after(train_basic_classifier_task)\n",
    "    predict_prob_on_test_data_task = create_predict_prob_on_test_data_pipeline(data_path).after(train_basic_classifier_task)\n",
    "    get_metrics_task = create_get_metrics_pipeline(data_path).after(predict_on_test_data_task)\n",
    "    \n",
    "    prepare_data_task >> train_test_split_task >> train_basic_classifier_task >> predict_on_test_data_task >> predict_prob_on_test_data_task >> get_metrics_task\n",
    "\n",
    "    \n",
    "    \n",
    "    "
   ]
  },
  {
   "cell_type": "code",
   "execution_count": null,
   "id": "082f0ed5-d89b-4ce4-a939-04fd70e8a0b7",
   "metadata": {},
   "outputs": [],
   "source": []
  }
 ],
 "metadata": {
  "kernelspec": {
   "display_name": "Python 3",
   "language": "python",
   "name": "python3"
  },
  "language_info": {
   "codemirror_mode": {
    "name": "ipython",
    "version": 3
   },
   "file_extension": ".py",
   "mimetype": "text/x-python",
   "name": "python",
   "nbconvert_exporter": "python",
   "pygments_lexer": "ipython3",
   "version": "3.11.9"
  }
 },
 "nbformat": 4,
 "nbformat_minor": 5
}
