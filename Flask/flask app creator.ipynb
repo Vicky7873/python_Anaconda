{
 "cells": [
  {
   "cell_type": "code",
   "execution_count": 15,
   "id": "a858b3e5",
   "metadata": {},
   "outputs": [
    {
     "name": "stdout",
     "output_type": "stream",
     "text": [
      " * Serving Flask app \"__main__\" (lazy loading)\n",
      " * Environment: production\n",
      "\u001b[31m   WARNING: This is a development server. Do not use it in a production deployment.\u001b[0m\n",
      "\u001b[2m   Use a production WSGI server instead.\u001b[0m\n",
      " * Debug mode: off\n"
     ]
    },
    {
     "name": "stderr",
     "output_type": "stream",
     "text": [
      " * Running on all addresses.\n",
      "   WARNING: This is a development server. Do not use it in a production deployment.\n",
      " * Running on http://192.168.144.225:5000/ (Press CTRL+C to quit)\n",
      "192.168.144.225 - - [05/Aug/2023 22:25:54] \"GET / HTTP/1.1\" 200 -\n",
      "192.168.144.225 - - [05/Aug/2023 22:26:01] \"POST /math HTTP/1.1\" 200 -\n",
      "192.168.144.225 - - [05/Aug/2023 22:26:01] \"GET /style.css HTTP/1.1\" 404 -\n"
     ]
    }
   ],
   "source": [
    "from flask import Flask,render_template,request,jsonify\n",
    "app = Flask(__name__)\n",
    "\n",
    "@app.route('/',methods = ['GET','POST'])\n",
    "def home_page():\n",
    "    return render_template('F:/AI & ML/L_python/flask_app_a-main/templates/index.html')\n",
    "\n",
    "@app.route('/math',methods = ['POST'])\n",
    "def math_operation():\n",
    "    if(request.method=='POST'):\n",
    "        ops = request.form['operation']\n",
    "        num1=int(request.form['num1'])\n",
    "        num2=int(request.form['num2'])\n",
    "    if(ops=='add'):\n",
    "        r=num1+num2\n",
    "        result = 'the sum of '+str(num1)+' and '+str(num2)+' is '+str(r)\n",
    "        \n",
    "    if(ops=='subtract'):\n",
    "        r=num1-num2\n",
    "        result = 'the subtract of '+str(num1)+' and '+str(num2)+' is '+str(r)\n",
    "    if(ops=='multiply'):\n",
    "        r=num1*num2\n",
    "        result = 'the multiply of '+str(num1)+' and '+str(num2)+' is '+str(r)\n",
    "    if(ops=='divide'):\n",
    "        r=num1/num2\n",
    "        result = 'the divide of '+str(num1)+' and '+str(num2)+' is '+str(r)\n",
    "    return render_template('F:/AI & ML/L_python/flask_app_a-main/templates/results.html',result=result)\n",
    "    \n",
    "@app.route('/test')\n",
    "def hello_wolrd():\n",
    "    return \"</h>Hello, Wolrd!</h>\"\n",
    "\n",
    "if __name__==\"__main__\":\n",
    "    app.run(host=\"0.0.0.0\")"
   ]
  },
  {
   "cell_type": "code",
   "execution_count": null,
   "id": "747c0d22",
   "metadata": {},
   "outputs": [],
   "source": []
  },
  {
   "cell_type": "code",
   "execution_count": null,
   "id": "5b7480aa",
   "metadata": {},
   "outputs": [],
   "source": []
  },
  {
   "cell_type": "code",
   "execution_count": null,
   "id": "06328aa2",
   "metadata": {},
   "outputs": [],
   "source": []
  }
 ],
 "metadata": {
  "kernelspec": {
   "display_name": "Python 3 (ipykernel)",
   "language": "python",
   "name": "python3"
  },
  "language_info": {
   "codemirror_mode": {
    "name": "ipython",
    "version": 3
   },
   "file_extension": ".py",
   "mimetype": "text/x-python",
   "name": "python",
   "nbconvert_exporter": "python",
   "pygments_lexer": "ipython3",
   "version": "3.9.13"
  }
 },
 "nbformat": 4,
 "nbformat_minor": 5
}
