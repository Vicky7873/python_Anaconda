{
 "cells": [
  {
   "cell_type": "markdown",
   "id": "576558d3",
   "metadata": {},
   "source": [
    "# Web Scraping"
   ]
  },
  {
   "cell_type": "code",
   "execution_count": 11,
   "id": "015d1139",
   "metadata": {},
   "outputs": [],
   "source": [
    "import requests\n",
    "from bs4 import BeautifulSoup as bs\n",
    "from urllib.request import urlopen\n",
    "import logging"
   ]
  },
  {
   "cell_type": "code",
   "execution_count": 78,
   "id": "ac880721",
   "metadata": {},
   "outputs": [],
   "source": [
    "flipcart_url='https://www.flipkart.com/search?q='+\"iphone11\""
   ]
  },
  {
   "cell_type": "code",
   "execution_count": 79,
   "id": "4987d462",
   "metadata": {},
   "outputs": [
    {
     "data": {
      "text/plain": [
       "'https://www.flipkart.com/search?q=iphone11'"
      ]
     },
     "execution_count": 79,
     "metadata": {},
     "output_type": "execute_result"
    }
   ],
   "source": [
    "flipcart_url"
   ]
  },
  {
   "cell_type": "code",
   "execution_count": 80,
   "id": "97d581b1",
   "metadata": {},
   "outputs": [],
   "source": [
    "urlc = urlopen(flipcart_url)"
   ]
  },
  {
   "cell_type": "code",
   "execution_count": 81,
   "id": "603179d0",
   "metadata": {},
   "outputs": [
    {
     "data": {
      "text/plain": [
       "<http.client.HTTPResponse at 0x1a2cc5632b0>"
      ]
     },
     "execution_count": 81,
     "metadata": {},
     "output_type": "execute_result"
    }
   ],
   "source": [
    "urlc"
   ]
  },
  {
   "cell_type": "code",
   "execution_count": 82,
   "id": "c831cad7",
   "metadata": {},
   "outputs": [],
   "source": [
    "flipcart_page = urlc.read()"
   ]
  },
  {
   "cell_type": "code",
   "execution_count": 83,
   "id": "af69868d",
   "metadata": {},
   "outputs": [],
   "source": [
    "# beautify the flipcart data dump"
   ]
  },
  {
   "cell_type": "code",
   "execution_count": 84,
   "id": "7eddb54b",
   "metadata": {},
   "outputs": [],
   "source": [
    "flipcart_html = bs(flipcart_page,\"html.parser\")"
   ]
  },
  {
   "cell_type": "code",
   "execution_count": 85,
   "id": "67258435",
   "metadata": {},
   "outputs": [],
   "source": [
    "# going inside to the product"
   ]
  },
  {
   "cell_type": "code",
   "execution_count": 86,
   "id": "dfbef3d2",
   "metadata": {},
   "outputs": [
    {
     "data": {
      "text/plain": [
       "'https://www.flipkart.com/apple-iphone-11-white-128-gb/p/itme32df47ea6742?pid=MOBFWQ6B7KKRXDDS&lid=LSTMOBFWQ6B7KKRXDDSULUZ0N&marketplace=FLIPKART&q=iphone+11&store=tyy%2F4io&srno=s_1_1&otracker=search&otracker1=search&fm=organic&iid=2422f155-d464-4569-9d36-46cb77ba1aaa.MOBFWQ6B7KKRXDDS.SEARCH&ppt=hp&ppn=homepage&ssid=ocxlzzrnkw0000001691261076078&qH=f6cdfdaa9f3c23f3'"
      ]
     },
     "execution_count": 86,
     "metadata": {},
     "output_type": "execute_result"
    }
   ],
   "source": [
    "\"https://www.flipkart.com\"+\"/apple-iphone-11-white-128-gb/p/itme32df47ea6742?pid=MOBFWQ6B7KKRXDDS&lid=LSTMOBFWQ6B7KKRXDDSULUZ0N&marketplace=FLIPKART&q=iphone+11&store=tyy%2F4io&srno=s_1_1&otracker=search&otracker1=search&fm=organic&iid=2422f155-d464-4569-9d36-46cb77ba1aaa.MOBFWQ6B7KKRXDDS.SEARCH&ppt=hp&ppn=homepage&ssid=ocxlzzrnkw0000001691261076078&qH=f6cdfdaa9f3c23f3\""
   ]
  },
  {
   "cell_type": "code",
   "execution_count": 109,
   "id": "cc6c8137",
   "metadata": {},
   "outputs": [],
   "source": [
    "bb = flipcart_html.findAll(\"div\", {\"class\": \"_1AtVbE col-12-12\"})"
   ]
  },
  {
   "cell_type": "code",
   "execution_count": 110,
   "id": "47732427",
   "metadata": {},
   "outputs": [
    {
     "data": {
      "text/plain": [
       "30"
      ]
     },
     "execution_count": 110,
     "metadata": {},
     "output_type": "execute_result"
    }
   ],
   "source": [
    "len(bb)"
   ]
  },
  {
   "cell_type": "code",
   "execution_count": 111,
   "id": "2b7c853f",
   "metadata": {},
   "outputs": [],
   "source": [
    "del bb[0:3]"
   ]
  },
  {
   "cell_type": "code",
   "execution_count": 112,
   "id": "af71c479",
   "metadata": {},
   "outputs": [],
   "source": [
    "product_link = \"https://www.flipkart.com\"+bb[3].div.div.div.a['href']"
   ]
  },
  {
   "cell_type": "code",
   "execution_count": 113,
   "id": "02e16d1f",
   "metadata": {},
   "outputs": [],
   "source": [
    "product_req = requests.get(product_link)"
   ]
  },
  {
   "cell_type": "code",
   "execution_count": 114,
   "id": "17674582",
   "metadata": {},
   "outputs": [],
   "source": [
    "phtml=bs(product_req.text,'html.parser')"
   ]
  },
  {
   "cell_type": "code",
   "execution_count": 117,
   "id": "13adc573",
   "metadata": {},
   "outputs": [],
   "source": [
    "comment_box = phtml.find_all(\"div\", {\"class\":\"_16PBlm\"})"
   ]
  },
  {
   "cell_type": "code",
   "execution_count": 118,
   "id": "e6e42ed7",
   "metadata": {},
   "outputs": [
    {
     "data": {
      "text/plain": [
       "11"
      ]
     },
     "execution_count": 118,
     "metadata": {},
     "output_type": "execute_result"
    }
   ],
   "source": [
    "len(comment_box)"
   ]
  },
  {
   "cell_type": "code",
   "execution_count": 120,
   "id": "4bc1a088",
   "metadata": {},
   "outputs": [
    {
     "data": {
      "text/plain": [
       "'Vishnu Ramakrishnan'"
      ]
     },
     "execution_count": 120,
     "metadata": {},
     "output_type": "execute_result"
    }
   ],
   "source": [
    "comment_box[0].div.div.find_all('p',{\"class\":\"_2sc7ZR _2V5EHH\"})[0].text"
   ]
  },
  {
   "cell_type": "code",
   "execution_count": 121,
   "id": "4ca79514",
   "metadata": {},
   "outputs": [
    {
     "name": "stdout",
     "output_type": "stream",
     "text": [
      "Vishnu Ramakrishnan\n",
      "Flipkart Customer\n",
      "Manish  Deshlahare\n",
      "Vikram rapolu\n",
      "vikash  Yadav\n",
      "Kuldeep Kumar\n",
      "Abhishek Sachdeva\n",
      "Steevan Rattra \n",
      "Dev\n",
      "Flipkart Customer\n"
     ]
    },
    {
     "ename": "AttributeError",
     "evalue": "'NoneType' object has no attribute 'div'",
     "output_type": "error",
     "traceback": [
      "\u001b[1;31m---------------------------------------------------------------------------\u001b[0m",
      "\u001b[1;31mAttributeError\u001b[0m                            Traceback (most recent call last)",
      "\u001b[1;32m~\\AppData\\Local\\Temp\\ipykernel_3308\\3561436409.py\u001b[0m in \u001b[0;36m<module>\u001b[1;34m\u001b[0m\n\u001b[0;32m      1\u001b[0m \u001b[1;32mfor\u001b[0m \u001b[0mi\u001b[0m \u001b[1;32min\u001b[0m \u001b[0mcomment_box\u001b[0m\u001b[1;33m:\u001b[0m\u001b[1;33m\u001b[0m\u001b[1;33m\u001b[0m\u001b[0m\n\u001b[1;32m----> 2\u001b[1;33m     \u001b[0mprint\u001b[0m\u001b[1;33m(\u001b[0m\u001b[0mi\u001b[0m\u001b[1;33m.\u001b[0m\u001b[0mdiv\u001b[0m\u001b[1;33m.\u001b[0m\u001b[0mdiv\u001b[0m\u001b[1;33m.\u001b[0m\u001b[0mfind_all\u001b[0m\u001b[1;33m(\u001b[0m\u001b[1;34m'p'\u001b[0m\u001b[1;33m,\u001b[0m\u001b[1;33m{\u001b[0m\u001b[1;34m\"class\"\u001b[0m\u001b[1;33m:\u001b[0m\u001b[1;34m\"_2sc7ZR _2V5EHH\"\u001b[0m\u001b[1;33m}\u001b[0m\u001b[1;33m)\u001b[0m\u001b[1;33m[\u001b[0m\u001b[1;36m0\u001b[0m\u001b[1;33m]\u001b[0m\u001b[1;33m.\u001b[0m\u001b[0mtext\u001b[0m\u001b[1;33m)\u001b[0m\u001b[1;33m\u001b[0m\u001b[1;33m\u001b[0m\u001b[0m\n\u001b[0m",
      "\u001b[1;31mAttributeError\u001b[0m: 'NoneType' object has no attribute 'div'"
     ]
    }
   ],
   "source": [
    "for i in comment_box:\n",
    "    print(i.div.div.find_all('p',{\"class\":\"_2sc7ZR _2V5EHH\"})[0].text)"
   ]
  },
  {
   "cell_type": "code",
   "execution_count": 126,
   "id": "32d6bce0",
   "metadata": {},
   "outputs": [
    {
     "name": "stdout",
     "output_type": "stream",
     "text": [
      "5\n",
      "5\n",
      "5\n",
      "5\n",
      "5\n",
      "5\n",
      "5\n",
      "5\n",
      "5\n",
      "5\n"
     ]
    },
    {
     "ename": "AttributeError",
     "evalue": "'NoneType' object has no attribute 'div'",
     "output_type": "error",
     "traceback": [
      "\u001b[1;31m---------------------------------------------------------------------------\u001b[0m",
      "\u001b[1;31mAttributeError\u001b[0m                            Traceback (most recent call last)",
      "\u001b[1;32m~\\AppData\\Local\\Temp\\ipykernel_3308\\2621339938.py\u001b[0m in \u001b[0;36m<module>\u001b[1;34m\u001b[0m\n\u001b[0;32m      1\u001b[0m \u001b[1;32mfor\u001b[0m \u001b[0mi\u001b[0m \u001b[1;32min\u001b[0m \u001b[0mcomment_box\u001b[0m\u001b[1;33m:\u001b[0m\u001b[1;33m\u001b[0m\u001b[1;33m\u001b[0m\u001b[0m\n\u001b[1;32m----> 2\u001b[1;33m     \u001b[0mprint\u001b[0m\u001b[1;33m(\u001b[0m\u001b[0mi\u001b[0m\u001b[1;33m.\u001b[0m\u001b[0mdiv\u001b[0m\u001b[1;33m.\u001b[0m\u001b[0mdiv\u001b[0m\u001b[1;33m.\u001b[0m\u001b[0mdiv\u001b[0m\u001b[1;33m.\u001b[0m\u001b[0mdiv\u001b[0m\u001b[1;33m.\u001b[0m\u001b[0mtext\u001b[0m\u001b[1;33m)\u001b[0m\u001b[1;33m\u001b[0m\u001b[1;33m\u001b[0m\u001b[0m\n\u001b[0m",
      "\u001b[1;31mAttributeError\u001b[0m: 'NoneType' object has no attribute 'div'"
     ]
    }
   ],
   "source": [
    "for i in comment_box:\n",
    "    print(i.div.div.div.div.text)"
   ]
  },
  {
   "cell_type": "code",
   "execution_count": 129,
   "id": "296c6ace",
   "metadata": {},
   "outputs": [
    {
     "name": "stdout",
     "output_type": "stream",
     "text": [
      "Classy product\n",
      "Wonderful\n",
      "Terrific\n",
      "Just wow!\n",
      "Must buy!\n",
      "Perfect product!\n",
      "Worth every penny\n",
      "Best in the market!\n",
      "Terrific purchase\n",
      "Must buy!\n"
     ]
    },
    {
     "ename": "AttributeError",
     "evalue": "'NoneType' object has no attribute 'div'",
     "output_type": "error",
     "traceback": [
      "\u001b[1;31m---------------------------------------------------------------------------\u001b[0m",
      "\u001b[1;31mAttributeError\u001b[0m                            Traceback (most recent call last)",
      "\u001b[1;32m~\\AppData\\Local\\Temp\\ipykernel_3308\\4044681715.py\u001b[0m in \u001b[0;36m<module>\u001b[1;34m\u001b[0m\n\u001b[0;32m      1\u001b[0m \u001b[1;32mfor\u001b[0m \u001b[0mi\u001b[0m \u001b[1;32min\u001b[0m \u001b[0mcomment_box\u001b[0m\u001b[1;33m:\u001b[0m\u001b[1;33m\u001b[0m\u001b[1;33m\u001b[0m\u001b[0m\n\u001b[1;32m----> 2\u001b[1;33m     \u001b[0mprint\u001b[0m\u001b[1;33m(\u001b[0m\u001b[0mi\u001b[0m\u001b[1;33m.\u001b[0m\u001b[0mdiv\u001b[0m\u001b[1;33m.\u001b[0m\u001b[0mdiv\u001b[0m\u001b[1;33m.\u001b[0m\u001b[0mdiv\u001b[0m\u001b[1;33m.\u001b[0m\u001b[0mp\u001b[0m\u001b[1;33m.\u001b[0m\u001b[0mtext\u001b[0m\u001b[1;33m)\u001b[0m\u001b[1;33m\u001b[0m\u001b[1;33m\u001b[0m\u001b[0m\n\u001b[0m",
      "\u001b[1;31mAttributeError\u001b[0m: 'NoneType' object has no attribute 'div'"
     ]
    }
   ],
   "source": [
    "for i in comment_box:\n",
    "    print(i.div.div.div.p.text)"
   ]
  },
  {
   "cell_type": "code",
   "execution_count": 132,
   "id": "ec8f9efb",
   "metadata": {},
   "outputs": [
    {
     "name": "stdout",
     "output_type": "stream",
     "text": [
      "Camera is awesomeBest battery backupA performer 👌🏻It will be a real value for money if they provide charger and earphone inbox!\n",
      "This is amazing at all\n",
      "Very very good\n",
      "Perfect Product!!\n",
      "It’s really awesome\n",
      "V Good all\n",
      "Feeling awesome after getting the delivery of my phone. Dual speakers makes the sound quality very loud. Amazing!!\n",
      "Good Camera\n",
      "Value for money 😍\n",
      "Go for iPhone 11 , if confused between iPhone 11 or iPhone 12 mini.Battery Life is enhanced , it worked for complete 2 days without charging it. Explored new features of taking screenshot by clicking on apple logo by Haptic Touch , Portrait mode with stage effect enhanced & slow motion selfie.\n"
     ]
    },
    {
     "ename": "AttributeError",
     "evalue": "'NoneType' object has no attribute 'div'",
     "output_type": "error",
     "traceback": [
      "\u001b[1;31m---------------------------------------------------------------------------\u001b[0m",
      "\u001b[1;31mAttributeError\u001b[0m                            Traceback (most recent call last)",
      "\u001b[1;32m~\\AppData\\Local\\Temp\\ipykernel_3308\\2414529855.py\u001b[0m in \u001b[0;36m<module>\u001b[1;34m\u001b[0m\n\u001b[0;32m      1\u001b[0m \u001b[1;32mfor\u001b[0m \u001b[0mi\u001b[0m \u001b[1;32min\u001b[0m \u001b[0mcomment_box\u001b[0m\u001b[1;33m:\u001b[0m\u001b[1;33m\u001b[0m\u001b[1;33m\u001b[0m\u001b[0m\n\u001b[1;32m----> 2\u001b[1;33m     \u001b[0mprint\u001b[0m\u001b[1;33m(\u001b[0m\u001b[0mi\u001b[0m\u001b[1;33m.\u001b[0m\u001b[0mdiv\u001b[0m\u001b[1;33m.\u001b[0m\u001b[0mdiv\u001b[0m\u001b[1;33m.\u001b[0m\u001b[0mfind_all\u001b[0m\u001b[1;33m(\u001b[0m\u001b[1;34m'div'\u001b[0m\u001b[1;33m,\u001b[0m\u001b[1;33m{\u001b[0m\u001b[1;34m\"class\"\u001b[0m\u001b[1;33m:\u001b[0m\u001b[1;34m''\u001b[0m\u001b[1;33m}\u001b[0m\u001b[1;33m)\u001b[0m\u001b[1;33m[\u001b[0m\u001b[1;36m0\u001b[0m\u001b[1;33m]\u001b[0m\u001b[1;33m.\u001b[0m\u001b[0mdiv\u001b[0m\u001b[1;33m.\u001b[0m\u001b[0mtext\u001b[0m\u001b[1;33m)\u001b[0m\u001b[1;33m\u001b[0m\u001b[1;33m\u001b[0m\u001b[0m\n\u001b[0m",
      "\u001b[1;31mAttributeError\u001b[0m: 'NoneType' object has no attribute 'div'"
     ]
    }
   ],
   "source": [
    "for i in comment_box:\n",
    "    print(i.div.div.find_all('div',{\"class\":''})[0].div.text)"
   ]
  },
  {
   "cell_type": "code",
   "execution_count": null,
   "id": "ff7c07c4",
   "metadata": {},
   "outputs": [],
   "source": []
  },
  {
   "cell_type": "code",
   "execution_count": null,
   "id": "d9cf0cbc",
   "metadata": {},
   "outputs": [],
   "source": []
  },
  {
   "cell_type": "code",
   "execution_count": 116,
   "id": "d23e2d5b",
   "metadata": {},
   "outputs": [
    {
     "name": "stdout",
     "output_type": "stream",
     "text": [
      "https://www.flipkart.com/apple-iphone-11-black-128-gb/p/itm8244e8d955aba?pid=MOBFWQ6BKRYBP5X8&lid=LSTMOBFWQ6BKRYBP5X8HS0EXP&marketplace=FLIPKART&q=iphone11&store=tyy%2F4io&srno=s_1_2&otracker=search&fm=organic&iid=d0fbe9a9-73d5-4ea8-87c0-39cd1588340d.MOBFWQ6BKRYBP5X8.SEARCH&ppt=None&ppn=None&ssid=l7hervkxps0000001691264150742&qH=d6db477051465f9a\n",
      "https://www.flipkart.com/apple-iphone-11-white-64-gb/p/itmfc6a7091eb20b?pid=MOBFWQ6BVWVEH3XE&lid=LSTMOBFWQ6BVWVEH3XEMXQMLO&marketplace=FLIPKART&q=iphone11&store=tyy%2F4io&srno=s_1_3&otracker=search&fm=organic&iid=d0fbe9a9-73d5-4ea8-87c0-39cd1588340d.MOBFWQ6BVWVEH3XE.SEARCH&ppt=None&ppn=None&ssid=l7hervkxps0000001691264150742&qH=d6db477051465f9a\n",
      "https://www.flipkart.com/apple-iphone-11-black-64-gb/p/itm4e5041ba101fd?pid=MOBFWQ6BXGJCEYNY&lid=LSTMOBFWQ6BXGJCEYNYZE3ENS&marketplace=FLIPKART&q=iphone11&store=tyy%2F4io&srno=s_1_4&otracker=search&fm=organic&iid=d0fbe9a9-73d5-4ea8-87c0-39cd1588340d.MOBFWQ6BXGJCEYNY.SEARCH&ppt=None&ppn=None&ssid=l7hervkxps0000001691264150742&qH=d6db477051465f9a\n",
      "https://www.flipkart.com/apple-iphone-11-red-64-gb/p/itmc3935326f2feb?pid=MOBFWQ6BYYV3FCU7&lid=LSTMOBFWQ6BYYV3FCU7ZCY7Y9&marketplace=FLIPKART&q=iphone11&store=tyy%2F4io&srno=s_1_5&otracker=search&fm=organic&iid=d0fbe9a9-73d5-4ea8-87c0-39cd1588340d.MOBFWQ6BYYV3FCU7.SEARCH&ppt=None&ppn=None&ssid=l7hervkxps0000001691264150742&qH=d6db477051465f9a\n",
      "https://www.flipkart.com/apple-iphone-11-purple-64-gb/p/itm2b8d03427ddac?pid=MOBFWQ6BTFFJKGKE&lid=LSTMOBFWQ6BTFFJKGKEPGQVOJ&marketplace=FLIPKART&q=iphone11&store=tyy%2F4io&srno=s_1_6&otracker=search&fm=organic&iid=d0fbe9a9-73d5-4ea8-87c0-39cd1588340d.MOBFWQ6BTFFJKGKE.SEARCH&ppt=None&ppn=None&ssid=l7hervkxps0000001691264150742&qH=d6db477051465f9a\n",
      "https://www.flipkart.com/apple-iphone-11-green-64-gb/p/itm386a85013a3d1?pid=MOBFWQ6BHPMG29QM&lid=LSTMOBFWQ6BHPMG29QMMGHL6F&marketplace=FLIPKART&q=iphone11&store=tyy%2F4io&srno=s_1_7&otracker=search&fm=organic&iid=d0fbe9a9-73d5-4ea8-87c0-39cd1588340d.MOBFWQ6BHPMG29QM.SEARCH&ppt=None&ppn=None&ssid=l7hervkxps0000001691264150742&qH=d6db477051465f9a\n",
      "https://www.flipkart.com/apple-iphone-11-red-128-gb/p/itm8d14bd0e33a1c?pid=MOBFWQ6BEZTNK59G&lid=LSTMOBFWQ6BEZTNK59G4PTPDM&marketplace=FLIPKART&q=iphone11&store=tyy%2F4io&srno=s_1_8&otracker=search&fm=organic&iid=d0fbe9a9-73d5-4ea8-87c0-39cd1588340d.MOBFWQ6BEZTNK59G.SEARCH&ppt=None&ppn=None&ssid=l7hervkxps0000001691264150742&qH=d6db477051465f9a\n",
      "https://www.flipkart.com/apple-iphone-11-pro-max-space-grey-64-gb/p/itme0101031155f8?pid=MOBFKCTSKDMKCGQS&lid=LSTMOBFKCTSKDMKCGQSOYFAJN&marketplace=FLIPKART&q=iphone11&store=tyy%2F4io&srno=s_1_9&otracker=search&fm=organic&iid=d0fbe9a9-73d5-4ea8-87c0-39cd1588340d.MOBFKCTSKDMKCGQS.SEARCH&ppt=None&ppn=None&ssid=l7hervkxps0000001691264150742&qH=d6db477051465f9a\n",
      "https://www.flipkart.com/apple-iphone-11-pro-max-midnight-green-64-gb/p/itmab1763b5ca244?pid=MOBFKCTSRYPAQNYT&lid=LSTMOBFKCTSRYPAQNYTHDWEGY&marketplace=FLIPKART&q=iphone11&store=tyy%2F4io&srno=s_1_10&otracker=search&fm=organic&iid=d0fbe9a9-73d5-4ea8-87c0-39cd1588340d.MOBFKCTSRYPAQNYT.SEARCH&ppt=None&ppn=None&ssid=l7hervkxps0000001691264150742&qH=d6db477051465f9a\n",
      "https://www.flipkart.com/apple-iphone-11-green-128-gb/p/itm97529bbf640ca?pid=MOBFWQ6BHBKMH4BF&lid=LSTMOBFWQ6BHBKMH4BFPOHIFL&marketplace=FLIPKART&q=iphone11&store=tyy%2F4io&srno=s_1_11&otracker=search&fm=organic&iid=d0fbe9a9-73d5-4ea8-87c0-39cd1588340d.MOBFWQ6BHBKMH4BF.SEARCH&ppt=None&ppn=None&ssid=l7hervkxps0000001691264150742&qH=d6db477051465f9a\n",
      "https://www.flipkart.com/apple-iphone-11-yellow-64-gb/p/itm39b1a0ba9ddcb?pid=MOBFWQ6BWGX9VRFS&lid=LSTMOBFWQ6BWGX9VRFSRCZZAI&marketplace=FLIPKART&q=iphone11&store=tyy%2F4io&srno=s_1_12&otracker=search&fm=organic&iid=d0fbe9a9-73d5-4ea8-87c0-39cd1588340d.MOBFWQ6BWGX9VRFS.SEARCH&ppt=None&ppn=None&ssid=l7hervkxps0000001691264150742&qH=d6db477051465f9a\n",
      "https://www.flipkart.com/apple-iphone-11-pro-max-space-grey-256-gb/p/itm2b63a650e32f7?pid=MOBFKCTSSXTRZZJD&lid=LSTMOBFKCTSSXTRZZJDH1HTO4&marketplace=FLIPKART&q=iphone11&store=tyy%2F4io&srno=s_1_13&otracker=search&fm=organic&iid=d0fbe9a9-73d5-4ea8-87c0-39cd1588340d.MOBFKCTSSXTRZZJD.SEARCH&ppt=None&ppn=None&ssid=l7hervkxps0000001691264150742&qH=d6db477051465f9a\n",
      "https://www.flipkart.com/apple-iphone-11-yellow-128-gb/p/itm7030edc9e100e?pid=MOBFWQ6BWTSBJSHY&lid=LSTMOBFWQ6BWTSBJSHYJG1Q5J&marketplace=FLIPKART&q=iphone11&store=tyy%2F4io&srno=s_1_14&otracker=search&fm=organic&iid=d0fbe9a9-73d5-4ea8-87c0-39cd1588340d.MOBFWQ6BWTSBJSHY.SEARCH&ppt=None&ppn=None&ssid=l7hervkxps0000001691264150742&qH=d6db477051465f9a\n",
      "https://www.flipkart.com/apple-iphone-11-pro-max-midnight-green-256-gb/p/itm68e0db18f9ecc?pid=MOBFKCTSCAAKGQV7&lid=LSTMOBFKCTSCAAKGQV7U5QXV6&marketplace=FLIPKART&q=iphone11&store=tyy%2F4io&srno=s_1_15&otracker=search&fm=organic&iid=d0fbe9a9-73d5-4ea8-87c0-39cd1588340d.MOBFKCTSCAAKGQV7.SEARCH&ppt=None&ppn=None&ssid=l7hervkxps0000001691264150742&qH=d6db477051465f9a\n",
      "https://www.flipkart.com/apple-iphone-11-pro-max-silver-64-gb/p/itm9cd54210a8047?pid=MOBFKCTSTETGYFKZ&lid=LSTMOBFKCTSTETGYFKZZHWDT6&marketplace=FLIPKART&q=iphone11&store=tyy%2F4io&srno=s_1_16&otracker=search&fm=organic&iid=d0fbe9a9-73d5-4ea8-87c0-39cd1588340d.MOBFKCTSTETGYFKZ.SEARCH&ppt=None&ppn=None&ssid=l7hervkxps0000001691264150742&qH=d6db477051465f9a\n",
      "https://www.flipkart.com/apple-iphone-11-pro-max-silver-256-gb/p/itm90a95d4c7bfb4?pid=MOBFKCTSVH4EWXBV&lid=LSTMOBFKCTSVH4EWXBVDOFYMD&marketplace=FLIPKART&q=iphone11&store=tyy%2F4io&srno=s_1_17&otracker=search&fm=organic&iid=d0fbe9a9-73d5-4ea8-87c0-39cd1588340d.MOBFKCTSVH4EWXBV.SEARCH&ppt=None&ppn=None&ssid=l7hervkxps0000001691264150742&qH=d6db477051465f9a\n",
      "https://www.flipkart.com/apple-iphone-11-pro-max-gold-256-gb/p/itm94c6536eefc46?pid=MOBFKCTS7HCHSPFH&lid=LSTMOBFKCTS7HCHSPFH8FVBCX&marketplace=FLIPKART&q=iphone11&store=tyy%2F4io&srno=s_1_18&otracker=search&fm=organic&iid=d0fbe9a9-73d5-4ea8-87c0-39cd1588340d.MOBFKCTS7HCHSPFH.SEARCH&ppt=None&ppn=None&ssid=l7hervkxps0000001691264150742&qH=d6db477051465f9a\n",
      "https://www.flipkart.com/apple-iphone-11-purple-128-gb/p/itmb7ca0b05522ff?pid=MOBFWQ6BEHFXGXGB&lid=LSTMOBFWQ6BEHFXGXGBIS2J2K&marketplace=FLIPKART&q=iphone11&store=tyy%2F4io&srno=s_1_19&otracker=search&fm=organic&iid=d0fbe9a9-73d5-4ea8-87c0-39cd1588340d.MOBFWQ6BEHFXGXGB.SEARCH&ppt=None&ppn=None&ssid=l7hervkxps0000001691264150742&qH=d6db477051465f9a\n",
      "https://www.flipkart.com/apple-iphone-11-pro-max-gold-64-gb/p/itm6ef18218efdf6?pid=MOBFKCTSAPAYNSGG&lid=LSTMOBFKCTSAPAYNSGGQSSR46&marketplace=FLIPKART&q=iphone11&store=tyy%2F4io&srno=s_1_20&otracker=search&fm=organic&iid=d0fbe9a9-73d5-4ea8-87c0-39cd1588340d.MOBFKCTSAPAYNSGG.SEARCH&ppt=None&ppn=None&ssid=l7hervkxps0000001691264150742&qH=d6db477051465f9a\n",
      "https://www.flipkart.com/apple-iphone-11-pro-silver-512-gb/p/itmb5a9e1ed61050?pid=MOBFKCTSGSPD57DD&lid=LSTMOBFKCTSGSPD57DDNXGVJ7&marketplace=FLIPKART&q=iphone11&store=tyy%2F4io&srno=s_1_21&otracker=search&fm=organic&iid=d0fbe9a9-73d5-4ea8-87c0-39cd1588340d.MOBFKCTSGSPD57DD.SEARCH&ppt=None&ppn=None&ssid=l7hervkxps0000001691264150742&qH=d6db477051465f9a\n",
      "https://www.flipkart.com/apple-iphone-11-pro-gold-512-gb/p/itm29ba3b4eeb4d5?pid=MOBFKCTS7CGXBRYE&lid=LSTMOBFKCTS7CGXBRYEVDPFSF&marketplace=FLIPKART&q=iphone11&store=tyy%2F4io&srno=s_1_22&otracker=search&fm=organic&iid=d0fbe9a9-73d5-4ea8-87c0-39cd1588340d.MOBFKCTS7CGXBRYE.SEARCH&ppt=None&ppn=None&ssid=l7hervkxps0000001691264150742&qH=d6db477051465f9a\n",
      "https://www.flipkart.com/apple-iphone-11-pro-max-midnight-green-512-gb/p/itm47ba29bf364fe?pid=MOBFKCTSG2PWQGCK&lid=LSTMOBFKCTSG2PWQGCKANZW0C&marketplace=FLIPKART&q=iphone11&store=tyy%2F4io&srno=s_1_23&otracker=search&fm=organic&iid=d0fbe9a9-73d5-4ea8-87c0-39cd1588340d.MOBFKCTSG2PWQGCK.SEARCH&ppt=None&ppn=None&ssid=l7hervkxps0000001691264150742&qH=d6db477051465f9a\n",
      "https://www.flipkart.com/apple-iphone-11-pro-max-space-grey-512-gb/p/itm4f43529009139?pid=MOBFKCTSNNTDCW36&lid=LSTMOBFKCTSNNTDCW36RZNOUN&marketplace=FLIPKART&q=iphone11&store=tyy%2F4io&srno=s_1_24&otracker=search&fm=organic&iid=d0fbe9a9-73d5-4ea8-87c0-39cd1588340d.MOBFKCTSNNTDCW36.SEARCH&ppt=None&ppn=None&ssid=l7hervkxps0000001691264150742&qH=d6db477051465f9a\n"
     ]
    },
    {
     "ename": "AttributeError",
     "evalue": "'NoneType' object has no attribute 'a'",
     "output_type": "error",
     "traceback": [
      "\u001b[1;31m---------------------------------------------------------------------------\u001b[0m",
      "\u001b[1;31mAttributeError\u001b[0m                            Traceback (most recent call last)",
      "\u001b[1;32m~\\AppData\\Local\\Temp\\ipykernel_3308\\4002891627.py\u001b[0m in \u001b[0;36m<module>\u001b[1;34m\u001b[0m\n\u001b[0;32m      1\u001b[0m \u001b[0mstring\u001b[0m \u001b[1;33m=\u001b[0m \u001b[1;34m\"https://www.flipkart.com\"\u001b[0m\u001b[1;33m\u001b[0m\u001b[1;33m\u001b[0m\u001b[0m\n\u001b[0;32m      2\u001b[0m \u001b[1;32mfor\u001b[0m \u001b[0mi\u001b[0m \u001b[1;32min\u001b[0m \u001b[0mbb\u001b[0m\u001b[1;33m:\u001b[0m\u001b[1;33m\u001b[0m\u001b[1;33m\u001b[0m\u001b[0m\n\u001b[1;32m----> 3\u001b[1;33m     \u001b[0mprint\u001b[0m\u001b[1;33m(\u001b[0m\u001b[0mstring\u001b[0m\u001b[1;33m+\u001b[0m\u001b[0mi\u001b[0m\u001b[1;33m.\u001b[0m\u001b[0mdiv\u001b[0m\u001b[1;33m.\u001b[0m\u001b[0mdiv\u001b[0m\u001b[1;33m.\u001b[0m\u001b[0mdiv\u001b[0m\u001b[1;33m.\u001b[0m\u001b[0ma\u001b[0m\u001b[1;33m[\u001b[0m\u001b[1;34m'href'\u001b[0m\u001b[1;33m]\u001b[0m\u001b[1;33m)\u001b[0m\u001b[1;33m\u001b[0m\u001b[1;33m\u001b[0m\u001b[0m\n\u001b[0m",
      "\u001b[1;31mAttributeError\u001b[0m: 'NoneType' object has no attribute 'a'"
     ]
    }
   ],
   "source": [
    "string = \"https://www.flipkart.com\"\n",
    "for i in bb:\n",
    "    print(string+i.div.div.div.a['href'])"
   ]
  },
  {
   "cell_type": "code",
   "execution_count": null,
   "id": "01ea7a10",
   "metadata": {},
   "outputs": [],
   "source": []
  },
  {
   "cell_type": "code",
   "execution_count": null,
   "id": "e5460aec",
   "metadata": {},
   "outputs": [],
   "source": []
  }
 ],
 "metadata": {
  "kernelspec": {
   "display_name": "Python 3 (ipykernel)",
   "language": "python",
   "name": "python3"
  },
  "language_info": {
   "codemirror_mode": {
    "name": "ipython",
    "version": 3
   },
   "file_extension": ".py",
   "mimetype": "text/x-python",
   "name": "python",
   "nbconvert_exporter": "python",
   "pygments_lexer": "ipython3",
   "version": "3.9.13"
  }
 },
 "nbformat": 4,
 "nbformat_minor": 5
}
