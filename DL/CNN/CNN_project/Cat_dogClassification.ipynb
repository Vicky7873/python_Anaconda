{
 "cells": [
  {
   "cell_type": "code",
   "execution_count": 1,
   "id": "82be64a8",
   "metadata": {},
   "outputs": [],
   "source": [
    "import tensorflow as tf"
   ]
  },
  {
   "cell_type": "code",
   "execution_count": 7,
   "id": "e8a7ac30",
   "metadata": {},
   "outputs": [],
   "source": [
    "from keras.layers import Conv2D,Dropout,MaxPooling2D,Flatten,Dense,Convolution2D"
   ]
  },
  {
   "cell_type": "code",
   "execution_count": 3,
   "id": "7ea78d56",
   "metadata": {},
   "outputs": [],
   "source": [
    "from keras.models import Sequential"
   ]
  },
  {
   "cell_type": "code",
   "execution_count": 5,
   "id": "9413b3ae",
   "metadata": {},
   "outputs": [],
   "source": [
    "input_size=(128,128)"
   ]
  },
  {
   "cell_type": "code",
   "execution_count": 19,
   "id": "798f3e6a",
   "metadata": {},
   "outputs": [],
   "source": [
    "from tensorflow.keras.preprocessing.image import ImageDataGenerator"
   ]
  },
  {
   "cell_type": "code",
   "execution_count": 20,
   "id": "ec4ef39d",
   "metadata": {},
   "outputs": [],
   "source": [
    "train_datagen = ImageDataGenerator(rescale = 1./255,\n",
    "                                   shear_range = 0.2,\n",
    "                                   zoom_range = 0.2,\n",
    "                                   horizontal_flip = True)"
   ]
  },
  {
   "cell_type": "code",
   "execution_count": 21,
   "id": "144b0758",
   "metadata": {},
   "outputs": [],
   "source": [
    "batch_size=32"
   ]
  },
  {
   "cell_type": "code",
   "execution_count": 22,
   "id": "a1b38538",
   "metadata": {},
   "outputs": [],
   "source": [
    "test_datagen=ImageDataGenerator(rescale=1./255)"
   ]
  },
  {
   "cell_type": "code",
   "execution_count": 24,
   "id": "ea0ec327",
   "metadata": {},
   "outputs": [],
   "source": [
    "path=r'C:\\Users\\User\\Downloads\\CNN-for-image-Classification-master\\CNN-for-image-Classification-master\\dataset\\training_set'"
   ]
  },
  {
   "cell_type": "code",
   "execution_count": 51,
   "id": "87415813",
   "metadata": {},
   "outputs": [
    {
     "name": "stdout",
     "output_type": "stream",
     "text": [
      "Found 8000 images belonging to 2 classes.\n"
     ]
    }
   ],
   "source": [
    "train_data=train_datagen.flow_from_directory(path,batch_size=batch_size,target_size=input_size,class_mode='binary')"
   ]
  },
  {
   "cell_type": "code",
   "execution_count": 27,
   "id": "574d3a51",
   "metadata": {},
   "outputs": [],
   "source": [
    "path_test=r'C:\\Users\\User\\Downloads\\CNN-for-image-Classification-master\\CNN-for-image-Classification-master\\dataset\\test_set'"
   ]
  },
  {
   "cell_type": "code",
   "execution_count": 52,
   "id": "695146ab",
   "metadata": {},
   "outputs": [
    {
     "name": "stdout",
     "output_type": "stream",
     "text": [
      "Found 2000 images belonging to 2 classes.\n"
     ]
    }
   ],
   "source": [
    "test_data=test_datagen.flow_from_directory(path_test,batch_size=batch_size,target_size=input_size,class_mode='binary')"
   ]
  },
  {
   "cell_type": "markdown",
   "id": "1dfb892f",
   "metadata": {},
   "source": [
    "# Model Building"
   ]
  },
  {
   "cell_type": "code",
   "execution_count": 30,
   "id": "b6f104dd",
   "metadata": {},
   "outputs": [],
   "source": [
    "model=Sequential()"
   ]
  },
  {
   "cell_type": "code",
   "execution_count": 31,
   "id": "8266d17b",
   "metadata": {},
   "outputs": [
    {
     "name": "stderr",
     "output_type": "stream",
     "text": [
      "C:\\Users\\User\\anaconda3\\Lib\\site-packages\\keras\\src\\layers\\convolutional\\base_conv.py:107: UserWarning: Do not pass an `input_shape`/`input_dim` argument to a layer. When using Sequential models, prefer using an `Input(shape)` object as the first layer in the model instead.\n",
      "  super().__init__(activity_regularizer=activity_regularizer, **kwargs)\n"
     ]
    }
   ],
   "source": [
    "model.add(Conv2D(32,3,3,input_shape=(*input_size,3),activation='relu'))"
   ]
  },
  {
   "cell_type": "code",
   "execution_count": 32,
   "id": "f119b780",
   "metadata": {},
   "outputs": [],
   "source": [
    "model.add(MaxPooling2D(pool_size=(2, 2)))"
   ]
  },
  {
   "cell_type": "code",
   "execution_count": 33,
   "id": "1cd422b5",
   "metadata": {},
   "outputs": [],
   "source": [
    "model.add(Conv2D(32,3,3,activation='relu'))"
   ]
  },
  {
   "cell_type": "code",
   "execution_count": 34,
   "id": "3416309b",
   "metadata": {},
   "outputs": [],
   "source": [
    "model.add(MaxPooling2D(pool_size=(2,2)))"
   ]
  },
  {
   "cell_type": "code",
   "execution_count": 35,
   "id": "7ca537f6",
   "metadata": {},
   "outputs": [],
   "source": [
    "# Add the flatteren layer"
   ]
  },
  {
   "cell_type": "code",
   "execution_count": 36,
   "id": "b1f73ebf",
   "metadata": {},
   "outputs": [],
   "source": [
    "# The \"Flatten\" layer in a neural network is used to convert the multi-dimensional data into a one-dimensional array"
   ]
  },
  {
   "cell_type": "code",
   "execution_count": 37,
   "id": "9a73abbf",
   "metadata": {},
   "outputs": [],
   "source": [
    "# Adding the fully connected layer"
   ]
  },
  {
   "cell_type": "code",
   "execution_count": 60,
   "id": "4322f63d",
   "metadata": {},
   "outputs": [],
   "source": [
    "model.add(Flatten())"
   ]
  },
  {
   "cell_type": "code",
   "execution_count": 61,
   "id": "e01ff5ee",
   "metadata": {},
   "outputs": [],
   "source": [
    "model.add(Dense(64,activation='relu',))\n",
    "model.add(Dropout(0.25))\n",
    "model.add(Dense(1,activation='sigmoid'))"
   ]
  },
  {
   "cell_type": "code",
   "execution_count": 62,
   "id": "c7f31740",
   "metadata": {},
   "outputs": [],
   "source": [
    "model.compile(optimizer='adam',loss='binary_crossentropy',metrics=['accuracy'])"
   ]
  },
  {
   "cell_type": "code",
   "execution_count": null,
   "id": "69b6a12c",
   "metadata": {},
   "outputs": [],
   "source": []
  },
  {
   "cell_type": "markdown",
   "id": "2523f3a3",
   "metadata": {},
   "source": [
    "# train the model"
   ]
  },
  {
   "cell_type": "code",
   "execution_count": 63,
   "id": "f2e09bac",
   "metadata": {},
   "outputs": [],
   "source": [
    "steps_per_epoch = int(8000 / batch_size)\n",
    "validation_steps = int(2000 / batch_size)"
   ]
  },
  {
   "cell_type": "code",
   "execution_count": 64,
   "id": "a3c252f1",
   "metadata": {},
   "outputs": [
    {
     "name": "stdout",
     "output_type": "stream",
     "text": [
      "Epoch 1/35\n"
     ]
    },
    {
     "name": "stderr",
     "output_type": "stream",
     "text": [
      "C:\\Users\\User\\anaconda3\\Lib\\site-packages\\keras\\src\\trainers\\data_adapters\\py_dataset_adapter.py:121: UserWarning: Your `PyDataset` class should call `super().__init__(**kwargs)` in its constructor. `**kwargs` can include `workers`, `use_multiprocessing`, `max_queue_size`. Do not pass these arguments to `fit()`, as they will be ignored.\n",
      "  self._warn_if_super_not_called()\n"
     ]
    },
    {
     "name": "stdout",
     "output_type": "stream",
     "text": [
      "\u001b[1m250/250\u001b[0m \u001b[32m━━━━━━━━━━━━━━━━━━━━\u001b[0m\u001b[37m\u001b[0m \u001b[1m259s\u001b[0m 974ms/step - accuracy: 0.5020 - loss: 0.6962 - val_accuracy: 0.5585 - val_loss: 0.6900\n",
      "Epoch 2/35\n"
     ]
    },
    {
     "name": "stderr",
     "output_type": "stream",
     "text": [
      "C:\\Users\\User\\anaconda3\\Lib\\contextlib.py:158: UserWarning: Your input ran out of data; interrupting training. Make sure that your dataset or generator can generate at least `steps_per_epoch * epochs` batches. You may need to use the `.repeat()` function when building your dataset.\n",
      "  self.gen.throw(typ, value, traceback)\n"
     ]
    },
    {
     "name": "stdout",
     "output_type": "stream",
     "text": [
      "\u001b[1m250/250\u001b[0m \u001b[32m━━━━━━━━━━━━━━━━━━━━\u001b[0m\u001b[37m\u001b[0m \u001b[1m1s\u001b[0m 3ms/step - accuracy: 0.0000e+00 - loss: 0.0000e+00 - val_accuracy: 0.5000 - val_loss: 0.6956\n",
      "Epoch 3/35\n",
      "\u001b[1m250/250\u001b[0m \u001b[32m━━━━━━━━━━━━━━━━━━━━\u001b[0m\u001b[37m\u001b[0m \u001b[1m127s\u001b[0m 499ms/step - accuracy: 0.5438 - loss: 0.6903 - val_accuracy: 0.5680 - val_loss: 0.6842\n",
      "Epoch 4/35\n",
      "\u001b[1m250/250\u001b[0m \u001b[32m━━━━━━━━━━━━━━━━━━━━\u001b[0m\u001b[37m\u001b[0m \u001b[1m0s\u001b[0m 760us/step - accuracy: 0.0000e+00 - loss: 0.0000e+00 - val_accuracy: 0.5000 - val_loss: 0.6984\n",
      "Epoch 5/35\n",
      "\u001b[1m250/250\u001b[0m \u001b[32m━━━━━━━━━━━━━━━━━━━━\u001b[0m\u001b[37m\u001b[0m \u001b[1m128s\u001b[0m 502ms/step - accuracy: 0.5617 - loss: 0.6847 - val_accuracy: 0.5675 - val_loss: 0.6805\n",
      "Epoch 6/35\n",
      "\u001b[1m250/250\u001b[0m \u001b[32m━━━━━━━━━━━━━━━━━━━━\u001b[0m\u001b[37m\u001b[0m \u001b[1m0s\u001b[0m 688us/step - accuracy: 0.0000e+00 - loss: 0.0000e+00 - val_accuracy: 0.3125 - val_loss: 0.7410\n",
      "Epoch 7/35\n",
      "\u001b[1m250/250\u001b[0m \u001b[32m━━━━━━━━━━━━━━━━━━━━\u001b[0m\u001b[37m\u001b[0m \u001b[1m138s\u001b[0m 538ms/step - accuracy: 0.5679 - loss: 0.6816 - val_accuracy: 0.5751 - val_loss: 0.6784\n",
      "Epoch 8/35\n",
      "\u001b[1m250/250\u001b[0m \u001b[32m━━━━━━━━━━━━━━━━━━━━\u001b[0m\u001b[37m\u001b[0m \u001b[1m0s\u001b[0m 687us/step - accuracy: 0.0000e+00 - loss: 0.0000e+00 - val_accuracy: 0.6250 - val_loss: 0.6900\n",
      "Epoch 9/35\n",
      "\u001b[1m250/250\u001b[0m \u001b[32m━━━━━━━━━━━━━━━━━━━━\u001b[0m\u001b[37m\u001b[0m \u001b[1m139s\u001b[0m 543ms/step - accuracy: 0.5618 - loss: 0.6814 - val_accuracy: 0.5897 - val_loss: 0.6739\n",
      "Epoch 10/35\n",
      "\u001b[1m250/250\u001b[0m \u001b[32m━━━━━━━━━━━━━━━━━━━━\u001b[0m\u001b[37m\u001b[0m \u001b[1m0s\u001b[0m 742us/step - accuracy: 0.0000e+00 - loss: 0.0000e+00 - val_accuracy: 0.5625 - val_loss: 0.7180\n",
      "Epoch 11/35\n",
      "\u001b[1m250/250\u001b[0m \u001b[32m━━━━━━━━━━━━━━━━━━━━\u001b[0m\u001b[37m\u001b[0m \u001b[1m134s\u001b[0m 520ms/step - accuracy: 0.5834 - loss: 0.6737 - val_accuracy: 0.6280 - val_loss: 0.6578\n",
      "Epoch 12/35\n",
      "\u001b[1m250/250\u001b[0m \u001b[32m━━━━━━━━━━━━━━━━━━━━\u001b[0m\u001b[37m\u001b[0m \u001b[1m0s\u001b[0m 722us/step - accuracy: 0.0000e+00 - loss: 0.0000e+00 - val_accuracy: 0.5000 - val_loss: 0.6931\n",
      "Epoch 13/35\n",
      "\u001b[1m250/250\u001b[0m \u001b[32m━━━━━━━━━━━━━━━━━━━━\u001b[0m\u001b[37m\u001b[0m \u001b[1m127s\u001b[0m 497ms/step - accuracy: 0.6012 - loss: 0.6662 - val_accuracy: 0.6401 - val_loss: 0.6432\n",
      "Epoch 14/35\n",
      "\u001b[1m250/250\u001b[0m \u001b[32m━━━━━━━━━━━━━━━━━━━━\u001b[0m\u001b[37m\u001b[0m \u001b[1m0s\u001b[0m 783us/step - accuracy: 0.0000e+00 - loss: 0.0000e+00 - val_accuracy: 0.7500 - val_loss: 0.6335\n",
      "Epoch 15/35\n",
      "\u001b[1m250/250\u001b[0m \u001b[32m━━━━━━━━━━━━━━━━━━━━\u001b[0m\u001b[37m\u001b[0m \u001b[1m131s\u001b[0m 514ms/step - accuracy: 0.6186 - loss: 0.6576 - val_accuracy: 0.6190 - val_loss: 0.6514\n",
      "Epoch 16/35\n",
      "\u001b[1m250/250\u001b[0m \u001b[32m━━━━━━━━━━━━━━━━━━━━\u001b[0m\u001b[37m\u001b[0m \u001b[1m0s\u001b[0m 757us/step - accuracy: 0.0000e+00 - loss: 0.0000e+00 - val_accuracy: 0.3750 - val_loss: 0.8042\n",
      "Epoch 17/35\n",
      "\u001b[1m250/250\u001b[0m \u001b[32m━━━━━━━━━━━━━━━━━━━━\u001b[0m\u001b[37m\u001b[0m \u001b[1m128s\u001b[0m 499ms/step - accuracy: 0.6270 - loss: 0.6511 - val_accuracy: 0.6124 - val_loss: 0.6566\n",
      "Epoch 18/35\n",
      "\u001b[1m250/250\u001b[0m \u001b[32m━━━━━━━━━━━━━━━━━━━━\u001b[0m\u001b[37m\u001b[0m \u001b[1m0s\u001b[0m 734us/step - accuracy: 0.0000e+00 - loss: 0.0000e+00 - val_accuracy: 0.5000 - val_loss: 0.7720\n",
      "Epoch 19/35\n",
      "\u001b[1m250/250\u001b[0m \u001b[32m━━━━━━━━━━━━━━━━━━━━\u001b[0m\u001b[37m\u001b[0m \u001b[1m128s\u001b[0m 499ms/step - accuracy: 0.6366 - loss: 0.6418 - val_accuracy: 0.6452 - val_loss: 0.6328\n",
      "Epoch 20/35\n",
      "\u001b[1m250/250\u001b[0m \u001b[32m━━━━━━━━━━━━━━━━━━━━\u001b[0m\u001b[37m\u001b[0m \u001b[1m0s\u001b[0m 726us/step - accuracy: 0.0000e+00 - loss: 0.0000e+00 - val_accuracy: 0.6250 - val_loss: 0.5610\n",
      "Epoch 21/35\n",
      "\u001b[1m250/250\u001b[0m \u001b[32m━━━━━━━━━━━━━━━━━━━━\u001b[0m\u001b[37m\u001b[0m \u001b[1m129s\u001b[0m 504ms/step - accuracy: 0.6362 - loss: 0.6381 - val_accuracy: 0.6038 - val_loss: 0.6636\n",
      "Epoch 22/35\n",
      "\u001b[1m250/250\u001b[0m \u001b[32m━━━━━━━━━━━━━━━━━━━━\u001b[0m\u001b[37m\u001b[0m \u001b[1m0s\u001b[0m 878us/step - accuracy: 0.0000e+00 - loss: 0.0000e+00 - val_accuracy: 0.6250 - val_loss: 0.7112\n",
      "Epoch 23/35\n",
      "\u001b[1m250/250\u001b[0m \u001b[32m━━━━━━━━━━━━━━━━━━━━\u001b[0m\u001b[37m\u001b[0m \u001b[1m128s\u001b[0m 500ms/step - accuracy: 0.6447 - loss: 0.6294 - val_accuracy: 0.6502 - val_loss: 0.6283\n",
      "Epoch 24/35\n",
      "\u001b[1m250/250\u001b[0m \u001b[32m━━━━━━━━━━━━━━━━━━━━\u001b[0m\u001b[37m\u001b[0m \u001b[1m0s\u001b[0m 709us/step - accuracy: 0.0000e+00 - loss: 0.0000e+00 - val_accuracy: 0.5625 - val_loss: 0.6357\n",
      "Epoch 25/35\n",
      "\u001b[1m250/250\u001b[0m \u001b[32m━━━━━━━━━━━━━━━━━━━━\u001b[0m\u001b[37m\u001b[0m \u001b[1m134s\u001b[0m 521ms/step - accuracy: 0.6596 - loss: 0.6172 - val_accuracy: 0.6648 - val_loss: 0.6128\n",
      "Epoch 26/35\n",
      "\u001b[1m250/250\u001b[0m \u001b[32m━━━━━━━━━━━━━━━━━━━━\u001b[0m\u001b[37m\u001b[0m \u001b[1m0s\u001b[0m 895us/step - accuracy: 0.0000e+00 - loss: 0.0000e+00 - val_accuracy: 0.6250 - val_loss: 0.6465\n",
      "Epoch 27/35\n",
      "\u001b[1m250/250\u001b[0m \u001b[32m━━━━━━━━━━━━━━━━━━━━\u001b[0m\u001b[37m\u001b[0m \u001b[1m128s\u001b[0m 498ms/step - accuracy: 0.6608 - loss: 0.6179 - val_accuracy: 0.6769 - val_loss: 0.6051\n",
      "Epoch 28/35\n",
      "\u001b[1m250/250\u001b[0m \u001b[32m━━━━━━━━━━━━━━━━━━━━\u001b[0m\u001b[37m\u001b[0m \u001b[1m0s\u001b[0m 704us/step - accuracy: 0.0000e+00 - loss: 0.0000e+00 - val_accuracy: 0.7500 - val_loss: 0.6407\n",
      "Epoch 29/35\n",
      "\u001b[1m250/250\u001b[0m \u001b[32m━━━━━━━━━━━━━━━━━━━━\u001b[0m\u001b[37m\u001b[0m \u001b[1m129s\u001b[0m 503ms/step - accuracy: 0.6735 - loss: 0.6111 - val_accuracy: 0.6411 - val_loss: 0.6295\n",
      "Epoch 30/35\n",
      "\u001b[1m250/250\u001b[0m \u001b[32m━━━━━━━━━━━━━━━━━━━━\u001b[0m\u001b[37m\u001b[0m \u001b[1m0s\u001b[0m 845us/step - accuracy: 0.0000e+00 - loss: 0.0000e+00 - val_accuracy: 0.5000 - val_loss: 0.7476\n",
      "Epoch 31/35\n",
      "\u001b[1m250/250\u001b[0m \u001b[32m━━━━━━━━━━━━━━━━━━━━\u001b[0m\u001b[37m\u001b[0m \u001b[1m128s\u001b[0m 499ms/step - accuracy: 0.6810 - loss: 0.5994 - val_accuracy: 0.6376 - val_loss: 0.6371\n",
      "Epoch 32/35\n",
      "\u001b[1m250/250\u001b[0m \u001b[32m━━━━━━━━━━━━━━━━━━━━\u001b[0m\u001b[37m\u001b[0m \u001b[1m0s\u001b[0m 913us/step - accuracy: 0.0000e+00 - loss: 0.0000e+00 - val_accuracy: 0.6875 - val_loss: 0.6059\n",
      "Epoch 33/35\n",
      "\u001b[1m250/250\u001b[0m \u001b[32m━━━━━━━━━━━━━━━━━━━━\u001b[0m\u001b[37m\u001b[0m \u001b[1m128s\u001b[0m 500ms/step - accuracy: 0.6788 - loss: 0.5985 - val_accuracy: 0.6784 - val_loss: 0.6029\n",
      "Epoch 34/35\n",
      "\u001b[1m250/250\u001b[0m \u001b[32m━━━━━━━━━━━━━━━━━━━━\u001b[0m\u001b[37m\u001b[0m \u001b[1m0s\u001b[0m 951us/step - accuracy: 0.0000e+00 - loss: 0.0000e+00 - val_accuracy: 0.7500 - val_loss: 0.4653\n",
      "Epoch 35/35\n",
      "\u001b[1m250/250\u001b[0m \u001b[32m━━━━━━━━━━━━━━━━━━━━\u001b[0m\u001b[37m\u001b[0m \u001b[1m132s\u001b[0m 515ms/step - accuracy: 0.6913 - loss: 0.5917 - val_accuracy: 0.7016 - val_loss: 0.5825\n"
     ]
    },
    {
     "data": {
      "text/plain": [
       "<keras.src.callbacks.history.History at 0x245b65a1c50>"
      ]
     },
     "execution_count": 64,
     "metadata": {},
     "output_type": "execute_result"
    }
   ],
   "source": [
    "model.fit(train_data,\n",
    "          steps_per_epoch = steps_per_epoch,\n",
    "          epochs = 35,\n",
    "          validation_data = test_data,\n",
    "          validation_steps = validation_steps)"
   ]
  },
  {
   "cell_type": "markdown",
   "id": "4488757a",
   "metadata": {},
   "source": [
    "# test the model"
   ]
  },
  {
   "cell_type": "code",
   "execution_count": 92,
   "id": "dea46234",
   "metadata": {},
   "outputs": [],
   "source": [
    "from keras.preprocessing import image"
   ]
  },
  {
   "cell_type": "code",
   "execution_count": 93,
   "id": "1e6fbc86",
   "metadata": {},
   "outputs": [
    {
     "data": {
      "text/plain": [
       "{'cats': 0, 'dogs': 1}"
      ]
     },
     "execution_count": 93,
     "metadata": {},
     "output_type": "execute_result"
    }
   ],
   "source": [
    "train_data.class_indices"
   ]
  },
  {
   "cell_type": "code",
   "execution_count": 94,
   "id": "7a349ada",
   "metadata": {},
   "outputs": [],
   "source": [
    "import numpy as np"
   ]
  },
  {
   "cell_type": "code",
   "execution_count": 113,
   "id": "5928b3b8",
   "metadata": {},
   "outputs": [],
   "source": [
    "testp=r'C:\\Users\\User\\Downloads\\CNN-for-image-Classification-master\\CNN-for-image-Classification-master\\dataset\\pi.jpg'"
   ]
  },
  {
   "cell_type": "code",
   "execution_count": null,
   "id": "58a20c06",
   "metadata": {},
   "outputs": [],
   "source": []
  },
  {
   "cell_type": "code",
   "execution_count": null,
   "id": "3021e679",
   "metadata": {},
   "outputs": [],
   "source": []
  },
  {
   "cell_type": "code",
   "execution_count": 114,
   "id": "c26fe58c",
   "metadata": {},
   "outputs": [
    {
     "name": "stdout",
     "output_type": "stream",
     "text": [
      "\u001b[1m1/1\u001b[0m \u001b[32m━━━━━━━━━━━━━━━━━━━━\u001b[0m\u001b[37m\u001b[0m \u001b[1m0s\u001b[0m 47ms/step\n",
      "Predicted label: dog\n"
     ]
    }
   ],
   "source": [
    "# new_image_path = 'path_to_your_new_image.jpg'\n",
    "new_image = image.load_img(testp, target_size=(128, 128))\n",
    "new_image_array = image.img_to_array(new_image)\n",
    "new_image_array = np.expand_dims(new_image_array, axis=0)\n",
    "new_image_array = new_image_array / 255.0  # Normalize pixel values\n",
    "\n",
    "# Make predictions\n",
    "predictions = model.predict(new_image_array)\n",
    "\n",
    "# Interpret predictions\n",
    "if predictions[0][0] > 0.5:\n",
    "    prediction_label = 'dog'\n",
    "else:\n",
    "    prediction_label = 'cat'\n",
    "\n",
    "print(\"Predicted label:\", prediction_label)"
   ]
  },
  {
   "cell_type": "markdown",
   "id": "8ac1ab0c",
   "metadata": {},
   "source": [
    "<!-- for better accuracy we nned to the hyperparameter tunning or we can add the more conv2d -->\n"
   ]
  },
  {
   "cell_type": "code",
   "execution_count": null,
   "id": "95c550ce",
   "metadata": {},
   "outputs": [],
   "source": []
  },
  {
   "cell_type": "code",
   "execution_count": null,
   "id": "cb00b020",
   "metadata": {},
   "outputs": [],
   "source": []
  }
 ],
 "metadata": {
  "kernelspec": {
   "display_name": "Python 3 (ipykernel)",
   "language": "python",
   "name": "python3"
  },
  "language_info": {
   "codemirror_mode": {
    "name": "ipython",
    "version": 3
   },
   "file_extension": ".py",
   "mimetype": "text/x-python",
   "name": "python",
   "nbconvert_exporter": "python",
   "pygments_lexer": "ipython3",
   "version": "3.11.7"
  }
 },
 "nbformat": 4,
 "nbformat_minor": 5
}
