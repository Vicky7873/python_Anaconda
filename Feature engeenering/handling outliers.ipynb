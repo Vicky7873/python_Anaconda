{
 "cells": [
  {
   "cell_type": "markdown",
   "id": "f0ca489e",
   "metadata": {},
   "source": [
    "# Handling outliers"
   ]
  },
  {
   "cell_type": "markdown",
   "id": "383e6b98",
   "metadata": {},
   "source": [
    "# 5 Number summary\n",
    "1. Minimum value present in the dataset\n",
    "2. Q1 = 25% of the dataset\n",
    "3. Median\n",
    "4. Q3 = 75% of the dataset\n",
    "5. Maximum [highest value present in the data set]"
   ]
  },
  {
   "cell_type": "code",
   "execution_count": 5,
   "id": "b02f3b1f",
   "metadata": {},
   "outputs": [],
   "source": [
    "import numpy as np"
   ]
  },
  {
   "cell_type": "code",
   "execution_count": 6,
   "id": "a20ebc42",
   "metadata": {},
   "outputs": [],
   "source": [
    "lst_marks=[45,32,56,75,89,54,32,89,90,87,67,54,45,98,99,67,74,1000,1200]"
   ]
  },
  {
   "cell_type": "code",
   "execution_count": 10,
   "id": "8e4aa1b3",
   "metadata": {},
   "outputs": [],
   "source": [
    "Q1=np.percentile(lst_marks,[25])\n",
    "# findout the 25% of the particular data"
   ]
  },
  {
   "cell_type": "code",
   "execution_count": 11,
   "id": "be2e9fab",
   "metadata": {},
   "outputs": [
    {
     "data": {
      "text/plain": [
       "array([54.])"
      ]
     },
     "execution_count": 11,
     "metadata": {},
     "output_type": "execute_result"
    }
   ],
   "source": [
    "Q1"
   ]
  },
  {
   "cell_type": "code",
   "execution_count": 12,
   "id": "6d79bd43",
   "metadata": {},
   "outputs": [],
   "source": [
    "# their is inbuilt function to get the all percentage at a time"
   ]
  },
  {
   "cell_type": "code",
   "execution_count": 13,
   "id": "5e1cb76b",
   "metadata": {},
   "outputs": [],
   "source": [
    "minimum,Q1,Q2,Q3,maximum=np.quantile(lst_marks,[0,0.25,0.50,0.75,1.0])"
   ]
  },
  {
   "cell_type": "code",
   "execution_count": 14,
   "id": "9fff47b6",
   "metadata": {},
   "outputs": [
    {
     "data": {
      "text/plain": [
       "(32.0, 54.0, 74.0, 89.5, 1200.0)"
      ]
     },
     "execution_count": 14,
     "metadata": {},
     "output_type": "execute_result"
    }
   ],
   "source": [
    "minimum,Q1,Q2,Q3,maximum"
   ]
  },
  {
   "cell_type": "code",
   "execution_count": 15,
   "id": "e6a82680",
   "metadata": {},
   "outputs": [],
   "source": [
    "IQR=Q3-Q1"
   ]
  },
  {
   "cell_type": "code",
   "execution_count": 16,
   "id": "3416b04d",
   "metadata": {},
   "outputs": [
    {
     "data": {
      "text/plain": [
       "35.5"
      ]
     },
     "execution_count": 16,
     "metadata": {},
     "output_type": "execute_result"
    }
   ],
   "source": [
    "IQR"
   ]
  },
  {
   "cell_type": "code",
   "execution_count": 17,
   "id": "9fac8e44",
   "metadata": {},
   "outputs": [],
   "source": [
    "lower_fence=Q1-1.5*IQR"
   ]
  },
  {
   "cell_type": "code",
   "execution_count": 18,
   "id": "4fce20db",
   "metadata": {},
   "outputs": [],
   "source": [
    "higer_fence=Q3+1.5*IQR"
   ]
  },
  {
   "cell_type": "code",
   "execution_count": 19,
   "id": "c20acab4",
   "metadata": {},
   "outputs": [
    {
     "data": {
      "text/plain": [
       "(0.75, 142.75)"
      ]
     },
     "execution_count": 19,
     "metadata": {},
     "output_type": "execute_result"
    }
   ],
   "source": [
    "lower_fence,higer_fence"
   ]
  },
  {
   "cell_type": "code",
   "execution_count": 20,
   "id": "11728699",
   "metadata": {},
   "outputs": [],
   "source": [
    "outliers=[]"
   ]
  },
  {
   "cell_type": "code",
   "execution_count": 28,
   "id": "1e21d219",
   "metadata": {},
   "outputs": [
    {
     "name": "stdout",
     "output_type": "stream",
     "text": [
      "this is not an outliers\n",
      "this is not an outliers\n",
      "this is not an outliers\n",
      "this is not an outliers\n",
      "this is not an outliers\n",
      "this is not an outliers\n",
      "this is not an outliers\n",
      "this is not an outliers\n",
      "this is not an outliers\n",
      "this is not an outliers\n",
      "this is not an outliers\n",
      "this is not an outliers\n",
      "this is not an outliers\n",
      "this is not an outliers\n",
      "this is not an outliers\n",
      "this is not an outliers\n",
      "this is not an outliers\n"
     ]
    }
   ],
   "source": [
    "for i in lst_marks:\n",
    "    if i>=0.75 and i<=142.75:\n",
    "        print(\"this is not an outliers\")\n",
    "    else:\n",
    "        outliers.append(i)"
   ]
  },
  {
   "cell_type": "code",
   "execution_count": 30,
   "id": "7aaaafcb",
   "metadata": {},
   "outputs": [
    {
     "data": {
      "text/plain": [
       "[1000, 1200, 1000, 1200, 1000, 1200]"
      ]
     },
     "execution_count": 30,
     "metadata": {},
     "output_type": "execute_result"
    }
   ],
   "source": [
    "outliers"
   ]
  },
  {
   "cell_type": "code",
   "execution_count": 31,
   "id": "589e2d88",
   "metadata": {},
   "outputs": [],
   "source": [
    "import seaborn as sns"
   ]
  },
  {
   "cell_type": "code",
   "execution_count": 32,
   "id": "f03154da",
   "metadata": {},
   "outputs": [
    {
     "data": {
      "text/plain": [
       "<AxesSubplot:>"
      ]
     },
     "execution_count": 32,
     "metadata": {},
     "output_type": "execute_result"
    },
    {
     "data": {
      "image/png": "[encoded data removed]",
      "text/plain": [
       "<Figure size 640x480 with 1 Axes>"
      ]
     },
     "metadata": {},
     "output_type": "display_data"
    }
   ],
   "source": [
    "sns.boxplot(lst_marks)"
   ]
  },
  {
   "cell_type": "code",
   "execution_count": 34,
   "id": "0714f7f5",
   "metadata": {},
   "outputs": [
    {
     "data": {
      "text/plain": [
       "<AxesSubplot:>"
      ]
     },
     "execution_count": 34,
     "metadata": {},
     "output_type": "execute_result"
    },
    {
     "data": {
      "image/png": "[encoded data removed]",
      "text/plain": [
       "<Figure size 640x480 with 1 Axes>"
      ]
     },
     "metadata": {},
     "output_type": "display_data"
    }
   ],
   "source": [
    "sns.boxplot(lst_marks,orient='h')"
   ]
  },
  {
   "cell_type": "code",
   "execution_count": 35,
   "id": "d22cdaa3",
   "metadata": {},
   "outputs": [],
   "source": [
    "lst_ma=[45,32,56,75,89,54,32,89,90,87,67,54,45,98,99,67,74]"
   ]
  },
  {
   "cell_type": "code",
   "execution_count": 36,
   "id": "e382a796",
   "metadata": {},
   "outputs": [
    {
     "data": {
      "text/plain": [
       "<AxesSubplot:>"
      ]
     },
     "execution_count": 36,
     "metadata": {},
     "output_type": "execute_result"
    },
    {
     "data": {
      "image/png": "[encoded data removed]",
      "text/plain": [
       "<Figure size 640x480 with 1 Axes>"
      ]
     },
     "metadata": {},
     "output_type": "display_data"
    }
   ],
   "source": [
    "sns.boxplot(lst_ma,orient='h')"
   ]
  },
  {
   "cell_type": "code",
   "execution_count": null,
   "id": "17c0bd86",
   "metadata": {},
   "outputs": [],
   "source": []
  }
 ],
 "metadata": {
  "kernelspec": {
   "display_name": "Python 3 (ipykernel)",
   "language": "python",
   "name": "python3"
  },
  "language_info": {
   "codemirror_mode": {
    "name": "ipython",
    "version": 3
   },
   "file_extension": ".py",
   "mimetype": "text/x-python",
   "name": "python",
   "nbconvert_exporter": "python",
   "pygments_lexer": "ipython3",
   "version": "3.9.13"
  }
 },
 "nbformat": 4,
 "nbformat_minor": 5
}
