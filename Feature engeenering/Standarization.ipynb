{
 "cells": [
  {
   "cell_type": "code",
   "execution_count": 1,
   "id": "5275ca3d",
   "metadata": {},
   "outputs": [],
   "source": [
    "import seaborn as sns"
   ]
  },
  {
   "cell_type": "code",
   "execution_count": 4,
   "id": "ff74739d",
   "metadata": {},
   "outputs": [],
   "source": [
    "import pandas as pd"
   ]
  },
  {
   "cell_type": "code",
   "execution_count": 6,
   "id": "45c4acdd",
   "metadata": {},
   "outputs": [],
   "source": [
    "df = pd.read_csv('tips.csv')"
   ]
  },
  {
   "cell_type": "code",
   "execution_count": 7,
   "id": "659a31a4",
   "metadata": {},
   "outputs": [
    {
     "data": {
      "text/html": [
       "<div>\n",
       "<style scoped>\n",
       "    .dataframe tbody tr th:only-of-type {\n",
       "        vertical-align: middle;\n",
       "    }\n",
       "\n",
       "    .dataframe tbody tr th {\n",
       "        vertical-align: top;\n",
       "    }\n",
       "\n",
       "    .dataframe thead th {\n",
       "        text-align: right;\n",
       "    }\n",
       "</style>\n",
       "<table border=\"1\" class=\"dataframe\">\n",
       "  <thead>\n",
       "    <tr style=\"text-align: right;\">\n",
       "      <th></th>\n",
       "      <th>total_bill</th>\n",
       "      <th>tip</th>\n",
       "      <th>sex</th>\n",
       "      <th>smoker</th>\n",
       "      <th>day</th>\n",
       "      <th>time</th>\n",
       "      <th>size</th>\n",
       "    </tr>\n",
       "  </thead>\n",
       "  <tbody>\n",
       "    <tr>\n",
       "      <th>0</th>\n",
       "      <td>16.99</td>\n",
       "      <td>1.01</td>\n",
       "      <td>Female</td>\n",
       "      <td>No</td>\n",
       "      <td>Sun</td>\n",
       "      <td>Dinner</td>\n",
       "      <td>2</td>\n",
       "    </tr>\n",
       "    <tr>\n",
       "      <th>1</th>\n",
       "      <td>10.34</td>\n",
       "      <td>1.66</td>\n",
       "      <td>Male</td>\n",
       "      <td>No</td>\n",
       "      <td>Sun</td>\n",
       "      <td>Dinner</td>\n",
       "      <td>3</td>\n",
       "    </tr>\n",
       "    <tr>\n",
       "      <th>2</th>\n",
       "      <td>21.01</td>\n",
       "      <td>3.50</td>\n",
       "      <td>Male</td>\n",
       "      <td>No</td>\n",
       "      <td>Sun</td>\n",
       "      <td>Dinner</td>\n",
       "      <td>3</td>\n",
       "    </tr>\n",
       "    <tr>\n",
       "      <th>3</th>\n",
       "      <td>23.68</td>\n",
       "      <td>3.31</td>\n",
       "      <td>Male</td>\n",
       "      <td>No</td>\n",
       "      <td>Sun</td>\n",
       "      <td>Dinner</td>\n",
       "      <td>2</td>\n",
       "    </tr>\n",
       "    <tr>\n",
       "      <th>4</th>\n",
       "      <td>24.59</td>\n",
       "      <td>3.61</td>\n",
       "      <td>Female</td>\n",
       "      <td>No</td>\n",
       "      <td>Sun</td>\n",
       "      <td>Dinner</td>\n",
       "      <td>4</td>\n",
       "    </tr>\n",
       "  </tbody>\n",
       "</table>\n",
       "</div>"
      ],
      "text/plain": [
       "   total_bill   tip     sex smoker  day    time  size\n",
       "0       16.99  1.01  Female     No  Sun  Dinner     2\n",
       "1       10.34  1.66    Male     No  Sun  Dinner     3\n",
       "2       21.01  3.50    Male     No  Sun  Dinner     3\n",
       "3       23.68  3.31    Male     No  Sun  Dinner     2\n",
       "4       24.59  3.61  Female     No  Sun  Dinner     4"
      ]
     },
     "execution_count": 7,
     "metadata": {},
     "output_type": "execute_result"
    }
   ],
   "source": [
    "df.head()"
   ]
  },
  {
   "cell_type": "code",
   "execution_count": 8,
   "id": "8c40e9e8",
   "metadata": {},
   "outputs": [],
   "source": [
    "total_bill=df['total_bill']"
   ]
  },
  {
   "cell_type": "code",
   "execution_count": 9,
   "id": "35d2137b",
   "metadata": {},
   "outputs": [
    {
     "data": {
      "text/plain": [
       "0      16.99\n",
       "1      10.34\n",
       "2      21.01\n",
       "3      23.68\n",
       "4      24.59\n",
       "       ...  \n",
       "239    29.03\n",
       "240    27.18\n",
       "241    22.67\n",
       "242    17.82\n",
       "243    18.78\n",
       "Name: total_bill, Length: 244, dtype: float64"
      ]
     },
     "execution_count": 9,
     "metadata": {},
     "output_type": "execute_result"
    }
   ],
   "source": [
    "total_bill"
   ]
  },
  {
   "cell_type": "code",
   "execution_count": 10,
   "id": "0f64c583",
   "metadata": {},
   "outputs": [
    {
     "data": {
      "text/plain": [
       "<AxesSubplot:xlabel='total_bill', ylabel='Count'>"
      ]
     },
     "execution_count": 10,
     "metadata": {},
     "output_type": "execute_result"
    },
    {
     "data": {
      "image/png": "[encoded data removed]",
      "text/plain": [
       "<Figure size 640x480 with 1 Axes>"
      ]
     },
     "metadata": {},
     "output_type": "display_data"
    }
   ],
   "source": [
    "sns.histplot(total_bill)"
   ]
  },
  {
   "cell_type": "code",
   "execution_count": 11,
   "id": "b15262f9",
   "metadata": {},
   "outputs": [
    {
     "data": {
      "text/plain": [
       "pandas.core.series.Series"
      ]
     },
     "execution_count": 11,
     "metadata": {},
     "output_type": "execute_result"
    }
   ],
   "source": [
    "type(total_bill)"
   ]
  },
  {
   "cell_type": "code",
   "execution_count": 12,
   "id": "5bb493aa",
   "metadata": {},
   "outputs": [],
   "source": [
    "import numpy as np"
   ]
  },
  {
   "cell_type": "code",
   "execution_count": 15,
   "id": "708940f1",
   "metadata": {},
   "outputs": [],
   "source": [
    "mean = np.mean(total_bill)"
   ]
  },
  {
   "cell_type": "code",
   "execution_count": 16,
   "id": "0598543f",
   "metadata": {},
   "outputs": [],
   "source": [
    "std = np.std(total_bill)"
   ]
  },
  {
   "cell_type": "code",
   "execution_count": 17,
   "id": "bc1fb890",
   "metadata": {},
   "outputs": [
    {
     "data": {
      "text/plain": [
       "(19.785942622950824, 8.88415057777113)"
      ]
     },
     "execution_count": 17,
     "metadata": {},
     "output_type": "execute_result"
    }
   ],
   "source": [
    "mean,std"
   ]
  },
  {
   "cell_type": "code",
   "execution_count": 18,
   "id": "1cf7cb9f",
   "metadata": {},
   "outputs": [],
   "source": [
    "standrization = []\n",
    "for i in total_bill:\n",
    "    z_score = (i-mean)/std\n",
    "    standrization.append(z_score)"
   ]
  },
  {
   "cell_type": "code",
   "execution_count": 19,
   "id": "d8899189",
   "metadata": {},
   "outputs": [
    {
     "data": {
      "text/plain": [
       "[-0.3147113050904947,\n",
       " -1.0632353132988699,\n",
       " 0.13777989987156108,\n",
       " 0.4383151031672544,\n",
       " 0.5407447042905058,\n",
       " 0.6195367051545452,\n",
       " -1.239954515236787,\n",
       " 0.7985071071171492,\n",
       " -0.5342033074974618,\n",
       " -0.5634689078183908,\n",
       " -1.071114513385274,\n",
       " 1.7417599174609364,\n",
       " -0.49143050702841173,\n",
       " -0.15262490331304188,\n",
       " -0.5578409077566736,\n",
       " 0.20193910057513573,\n",
       " -1.0643609133112133,\n",
       " -0.39350330595453414,\n",
       " -0.31696250511518154,\n",
       " 0.09725829942719756,\n",
       " -0.21003050394255615,\n",
       " 0.056736698982834455,\n",
       " -0.45203450659639205,\n",
       " 2.2100095225958003,\n",
       " 0.003833498402693769,\n",
       " -0.22241210407833414,\n",
       " -0.7221785095588132,\n",
       " -0.7987193103981659,\n",
       " 0.2154463007232569,\n",
       " -0.01530170180714459,\n",
       " -1.152157714274,\n",
       " -0.16162970341178906,\n",
       " -0.5319521074727749,\n",
       " 0.10176069947657156,\n",
       " -0.22578890411536412,\n",
       " 0.4810879036363043,\n",
       " -0.3912521059298474,\n",
       " -0.3214649051645551,\n",
       " -0.12335930299211276,\n",
       " 1.2926455125359113,\n",
       " -0.4216433062631197,\n",
       " -0.26180810451035363,\n",
       " -0.6580193088552382,\n",
       " -1.1375249141135357,\n",
       " 1.1947183114620337,\n",
       " -0.16838330348584984,\n",
       " 0.27510310137745836,\n",
       " 1.4198383139307178,\n",
       " 0.9864823091785008,\n",
       " -0.1965233037944354,\n",
       " -0.8156033105833173,\n",
       " -1.0688633133605872,\n",
       " 1.6911079169054828,\n",
       " -1.108259313792607,\n",
       " 0.6499279054878175,\n",
       " -0.03331130200463935,\n",
       " 2.0512999208553775,\n",
       " 0.7456039065370086,\n",
       " -0.9619313121879619,\n",
       " 3.2061655335197283,\n",
       " 0.056736698982834455,\n",
       " -0.6726521090157025,\n",
       " -0.9866945124595172,\n",
       " -0.16838330348584984,\n",
       " -0.24717530434988927,\n",
       " 0.0330990987236225,\n",
       " -0.3754937057570394,\n",
       " -1.8815465222725374,\n",
       " 0.049983098908774067,\n",
       " -0.537580107534492,\n",
       " -0.8741345112251752,\n",
       " -0.3057065049917472,\n",
       " 0.7962559070924624,\n",
       " 0.618411105142202,\n",
       " -0.5690969078801078,\n",
       " -1.0441001130890317,\n",
       " -0.21003050394255615,\n",
       " 0.8345263075121387,\n",
       " 0.33475990203165984,\n",
       " -0.280943304720192,\n",
       " -0.03893930206635614,\n",
       " -0.3518561054978275,\n",
       " -1.0936265136321421,\n",
       " 1.451355114276334,\n",
       " -0.4283969063371801,\n",
       " 1.6933591169301692,\n",
       " -0.7604489099784896,\n",
       " -0.16950890349819306,\n",
       " 0.5542519044386269,\n",
       " 0.15466390005671224,\n",
       " 1.0337575096969243,\n",
       " 0.3043687016983871,\n",
       " -1.5798857189645004,\n",
       " -0.39012650591750375,\n",
       " 0.33363430201931626,\n",
       " 2.294429523521557,\n",
       " 0.8435311076108863,\n",
       " -0.8730089112128318,\n",
       " 0.13777989987156108,\n",
       " -0.8246081106820644,\n",
       " -0.9495497120521843,\n",
       " -0.4959329070777853,\n",
       " 2.7593023286193894,\n",
       " 0.2964895016119835,\n",
       " 0.1276494997604703,\n",
       " -0.49818410710247235,\n",
       " 0.0792486992297028,\n",
       " 0.610531905055798,\n",
       " -0.17401130354756705,\n",
       " -0.6163721083985315,\n",
       " -0.6512657087811776,\n",
       " -1.411045717112987,\n",
       " 2.058053520929438,\n",
       " 0.4687063035005267,\n",
       " 0.6668119056729691,\n",
       " -0.2786921046955052,\n",
       " 1.1418151108818928,\n",
       " -1.0283417129162238,\n",
       " -0.8279849107190949,\n",
       " 0.48333910366099114,\n",
       " -0.911279311632508,\n",
       " -0.7165505094970961,\n",
       " -0.6220001084602487,\n",
       " -0.4317737063742105,\n",
       " -0.8223569106573776,\n",
       " 1.1271823107214285,\n",
       " -1.2680945155453727,\n",
       " -0.5927345081393197,\n",
       " -0.946172912015154,\n",
       " 0.34151350210572023,\n",
       " -0.07946090251071965,\n",
       " 0.05448549895814766,\n",
       " -0.9698105122743659,\n",
       " -0.8471201109289329,\n",
       " -0.17176010352287985,\n",
       " -1.269220115557716,\n",
       " -1.0643609133112133,\n",
       " -0.6343817085960263,\n",
       " -0.42614570631249327,\n",
       " -0.745816109818025,\n",
       " -0.26068250449801045,\n",
       " 1.6337023162759678,\n",
       " 2.4092407247805854,\n",
       " 0.8176423073269876,\n",
       " -0.3777449057817262,\n",
       " -1.2872297157552108,\n",
       " -0.12898730305382994,\n",
       " -0.8910185114103265,\n",
       " -1.1262689139901016,\n",
       " -1.3817801167920583,\n",
       " -0.6433865086947737,\n",
       " -0.7491929098550552,\n",
       " -0.284320104757222,\n",
       " 0.5362423042411322,\n",
       " -0.001794501659023419,\n",
       " 1.1328103107831458,\n",
       " 3.194909533396294,\n",
       " 0.5868943047965861,\n",
       " -0.7199273095341262,\n",
       " -0.3709913057076658,\n",
       " 0.19293430047638854,\n",
       " -0.802096110435196,\n",
       " -0.40250810605328136,\n",
       " -0.6726521090157025,\n",
       " -0.2561801044486365,\n",
       " 0.5328655042041018,\n",
       " 0.10963989956297554,\n",
       " 1.342171913079022,\n",
       " -1.0350953129902845,\n",
       " -1.0305929129409106,\n",
       " 3.492067936654957,\n",
       " -0.44753210654701825,\n",
       " -1.411045717112987,\n",
       " 1.35793031325183,\n",
       " -0.33384650530033266,\n",
       " 1.4761183145478889,\n",
       " -0.21340730397958654,\n",
       " -0.5972369081886933,\n",
       " -1.146529714212283,\n",
       " 1.6708471166833012,\n",
       " 1.6730983167079878,\n",
       " 0.3989191027352345,\n",
       " 2.877490329915449,\n",
       " 0.38090950253774014,\n",
       " 2.3372023239906063,\n",
       " 0.10176069947657156,\n",
       " 0.1253982997357831,\n",
       " 1.2014719115360943,\n",
       " -0.1841417036586578,\n",
       " 0.37303030245133617,\n",
       " -0.46103930669513943,\n",
       " 0.0027078983903501713,\n",
       " 0.9741007090427233,\n",
       " -0.48467690695435117,\n",
       " -0.360860905596575,\n",
       " -1.3761521167303412,\n",
       " -1.0632353132988699,\n",
       " 2.6253559271505225,\n",
       " -0.7638257100155198,\n",
       " -0.7064201093860053,\n",
       " -0.12110810296742595,\n",
       " -0.7930913103364486,\n",
       " -0.7638257100155198,\n",
       " -0.3811217058187566,\n",
       " 0.0837510992790768,\n",
       " -0.3732425057323526,\n",
       " 0.76586470675919,\n",
       " 2.1323431217441033,\n",
       " 0.5047255038955163,\n",
       " -0.7908401103117619,\n",
       " 1.1564479110423573,\n",
       " 0.6870727058951507,\n",
       " 3.2129191335937883,\n",
       " -0.7334345096822474,\n",
       " 0.9437095087094509,\n",
       " -0.7750817101389539,\n",
       " 0.9414583086847638,\n",
       " -0.9225353117559422,\n",
       " -1.3558913165081594,\n",
       " 1.1654527111411048,\n",
       " -0.8583761110523671,\n",
       " -0.7165505094970961,\n",
       " -1.261340915471312,\n",
       " -0.4283969063371801,\n",
       " -0.7165505094970961,\n",
       " -0.39575450597922096,\n",
       " -1.0913753136074553,\n",
       " 0.07474629918032921,\n",
       " -0.732308909669904,\n",
       " 0.2627215012416808,\n",
       " 0.47545990357458756,\n",
       " -0.46103930669513943,\n",
       " -0.9202841117312553,\n",
       " -1.0148345127681029,\n",
       " -0.4790489068926342,\n",
       " -1.0936265136321421,\n",
       " -0.8088497105092567,\n",
       " 1.468239114461485,\n",
       " 1.8059191181645113,\n",
       " 1.0405111097709852,\n",
       " 0.8322751074874519,\n",
       " 0.32462950192056905,\n",
       " -0.22128650406599054,\n",
       " -0.11322890288102197]"
      ]
     },
     "execution_count": 19,
     "metadata": {},
     "output_type": "execute_result"
    }
   ],
   "source": [
    "standrization"
   ]
  },
  {
   "cell_type": "code",
   "execution_count": 20,
   "id": "0043d2f0",
   "metadata": {},
   "outputs": [
    {
     "data": {
      "text/plain": [
       "<AxesSubplot:ylabel='Count'>"
      ]
     },
     "execution_count": 20,
     "metadata": {},
     "output_type": "execute_result"
    },
    {
     "data": {
      "image/png": "[encoded data removed]",
      "text/plain": [
       "<Figure size 640x480 with 1 Axes>"
      ]
     },
     "metadata": {},
     "output_type": "display_data"
    }
   ],
   "source": [
    "sns.histplot(standrization)"
   ]
  },
  {
   "cell_type": "code",
   "execution_count": 21,
   "id": "70fefa5a",
   "metadata": {},
   "outputs": [],
   "source": [
    "from sklearn.preprocessing import StandardScaler"
   ]
  },
  {
   "cell_type": "code",
   "execution_count": 22,
   "id": "48deaaf0",
   "metadata": {},
   "outputs": [
    {
     "data": {
      "text/html": [
       "<div>\n",
       "<style scoped>\n",
       "    .dataframe tbody tr th:only-of-type {\n",
       "        vertical-align: middle;\n",
       "    }\n",
       "\n",
       "    .dataframe tbody tr th {\n",
       "        vertical-align: top;\n",
       "    }\n",
       "\n",
       "    .dataframe thead th {\n",
       "        text-align: right;\n",
       "    }\n",
       "</style>\n",
       "<table border=\"1\" class=\"dataframe\">\n",
       "  <thead>\n",
       "    <tr style=\"text-align: right;\">\n",
       "      <th></th>\n",
       "      <th>total_bill</th>\n",
       "      <th>tip</th>\n",
       "      <th>sex</th>\n",
       "      <th>smoker</th>\n",
       "      <th>day</th>\n",
       "      <th>time</th>\n",
       "      <th>size</th>\n",
       "    </tr>\n",
       "  </thead>\n",
       "  <tbody>\n",
       "    <tr>\n",
       "      <th>0</th>\n",
       "      <td>16.99</td>\n",
       "      <td>1.01</td>\n",
       "      <td>Female</td>\n",
       "      <td>No</td>\n",
       "      <td>Sun</td>\n",
       "      <td>Dinner</td>\n",
       "      <td>2</td>\n",
       "    </tr>\n",
       "    <tr>\n",
       "      <th>1</th>\n",
       "      <td>10.34</td>\n",
       "      <td>1.66</td>\n",
       "      <td>Male</td>\n",
       "      <td>No</td>\n",
       "      <td>Sun</td>\n",
       "      <td>Dinner</td>\n",
       "      <td>3</td>\n",
       "    </tr>\n",
       "    <tr>\n",
       "      <th>2</th>\n",
       "      <td>21.01</td>\n",
       "      <td>3.50</td>\n",
       "      <td>Male</td>\n",
       "      <td>No</td>\n",
       "      <td>Sun</td>\n",
       "      <td>Dinner</td>\n",
       "      <td>3</td>\n",
       "    </tr>\n",
       "    <tr>\n",
       "      <th>3</th>\n",
       "      <td>23.68</td>\n",
       "      <td>3.31</td>\n",
       "      <td>Male</td>\n",
       "      <td>No</td>\n",
       "      <td>Sun</td>\n",
       "      <td>Dinner</td>\n",
       "      <td>2</td>\n",
       "    </tr>\n",
       "    <tr>\n",
       "      <th>4</th>\n",
       "      <td>24.59</td>\n",
       "      <td>3.61</td>\n",
       "      <td>Female</td>\n",
       "      <td>No</td>\n",
       "      <td>Sun</td>\n",
       "      <td>Dinner</td>\n",
       "      <td>4</td>\n",
       "    </tr>\n",
       "  </tbody>\n",
       "</table>\n",
       "</div>"
      ],
      "text/plain": [
       "   total_bill   tip     sex smoker  day    time  size\n",
       "0       16.99  1.01  Female     No  Sun  Dinner     2\n",
       "1       10.34  1.66    Male     No  Sun  Dinner     3\n",
       "2       21.01  3.50    Male     No  Sun  Dinner     3\n",
       "3       23.68  3.31    Male     No  Sun  Dinner     2\n",
       "4       24.59  3.61  Female     No  Sun  Dinner     4"
      ]
     },
     "execution_count": 22,
     "metadata": {},
     "output_type": "execute_result"
    }
   ],
   "source": [
    "df.head()"
   ]
  },
  {
   "cell_type": "code",
   "execution_count": 24,
   "id": "954feba7",
   "metadata": {},
   "outputs": [],
   "source": [
    "scaler = StandardScaler()"
   ]
  },
  {
   "cell_type": "code",
   "execution_count": 25,
   "id": "717cefb8",
   "metadata": {},
   "outputs": [
    {
     "data": {
      "text/plain": [
       "StandardScaler()"
      ]
     },
     "execution_count": 25,
     "metadata": {},
     "output_type": "execute_result"
    }
   ],
   "source": [
    "scaler"
   ]
  },
  {
   "cell_type": "code",
   "execution_count": 27,
   "id": "95c5a60e",
   "metadata": {},
   "outputs": [
    {
     "data": {
      "text/plain": [
       "StandardScaler()"
      ]
     },
     "execution_count": 27,
     "metadata": {},
     "output_type": "execute_result"
    }
   ],
   "source": [
    "scaler.fit(df[['total_bill','tip']])"
   ]
  },
  {
   "cell_type": "code",
   "execution_count": 30,
   "id": "2ad35a4e",
   "metadata": {},
   "outputs": [
    {
     "data": {
      "text/html": [
       "<div>\n",
       "<style scoped>\n",
       "    .dataframe tbody tr th:only-of-type {\n",
       "        vertical-align: middle;\n",
       "    }\n",
       "\n",
       "    .dataframe tbody tr th {\n",
       "        vertical-align: top;\n",
       "    }\n",
       "\n",
       "    .dataframe thead th {\n",
       "        text-align: right;\n",
       "    }\n",
       "</style>\n",
       "<table border=\"1\" class=\"dataframe\">\n",
       "  <thead>\n",
       "    <tr style=\"text-align: right;\">\n",
       "      <th></th>\n",
       "      <th>total_bill</th>\n",
       "      <th>tips</th>\n",
       "    </tr>\n",
       "  </thead>\n",
       "  <tbody>\n",
       "    <tr>\n",
       "      <th>0</th>\n",
       "      <td>-0.314711</td>\n",
       "      <td>-1.439947</td>\n",
       "    </tr>\n",
       "    <tr>\n",
       "      <th>1</th>\n",
       "      <td>-1.063235</td>\n",
       "      <td>-0.969205</td>\n",
       "    </tr>\n",
       "    <tr>\n",
       "      <th>2</th>\n",
       "      <td>0.137780</td>\n",
       "      <td>0.363356</td>\n",
       "    </tr>\n",
       "    <tr>\n",
       "      <th>3</th>\n",
       "      <td>0.438315</td>\n",
       "      <td>0.225754</td>\n",
       "    </tr>\n",
       "    <tr>\n",
       "      <th>4</th>\n",
       "      <td>0.540745</td>\n",
       "      <td>0.443020</td>\n",
       "    </tr>\n",
       "    <tr>\n",
       "      <th>...</th>\n",
       "      <td>...</td>\n",
       "      <td>...</td>\n",
       "    </tr>\n",
       "    <tr>\n",
       "      <th>239</th>\n",
       "      <td>1.040511</td>\n",
       "      <td>2.115963</td>\n",
       "    </tr>\n",
       "    <tr>\n",
       "      <th>240</th>\n",
       "      <td>0.832275</td>\n",
       "      <td>-0.722971</td>\n",
       "    </tr>\n",
       "    <tr>\n",
       "      <th>241</th>\n",
       "      <td>0.324630</td>\n",
       "      <td>-0.722971</td>\n",
       "    </tr>\n",
       "    <tr>\n",
       "      <th>242</th>\n",
       "      <td>-0.221287</td>\n",
       "      <td>-0.904026</td>\n",
       "    </tr>\n",
       "    <tr>\n",
       "      <th>243</th>\n",
       "      <td>-0.113229</td>\n",
       "      <td>0.001247</td>\n",
       "    </tr>\n",
       "  </tbody>\n",
       "</table>\n",
       "<p>244 rows × 2 columns</p>\n",
       "</div>"
      ],
      "text/plain": [
       "     total_bill      tips\n",
       "0     -0.314711 -1.439947\n",
       "1     -1.063235 -0.969205\n",
       "2      0.137780  0.363356\n",
       "3      0.438315  0.225754\n",
       "4      0.540745  0.443020\n",
       "..          ...       ...\n",
       "239    1.040511  2.115963\n",
       "240    0.832275 -0.722971\n",
       "241    0.324630 -0.722971\n",
       "242   -0.221287 -0.904026\n",
       "243   -0.113229  0.001247\n",
       "\n",
       "[244 rows x 2 columns]"
      ]
     },
     "execution_count": 30,
     "metadata": {},
     "output_type": "execute_result"
    }
   ],
   "source": [
    "pd.DataFrame(scaler.transform(df[['total_bill','tip']]),columns = ['total_bill','tips'])"
   ]
  },
  {
   "cell_type": "code",
   "execution_count": null,
   "id": "30fd8bca",
   "metadata": {},
   "outputs": [],
   "source": []
  }
 ],
 "metadata": {
  "kernelspec": {
   "display_name": "Python 3 (ipykernel)",
   "language": "python",
   "name": "python3"
  },
  "language_info": {
   "codemirror_mode": {
    "name": "ipython",
    "version": 3
   },
   "file_extension": ".py",
   "mimetype": "text/x-python",
   "name": "python",
   "nbconvert_exporter": "python",
   "pygments_lexer": "ipython3",
   "version": "3.9.13"
  }
 },
 "nbformat": 4,
 "nbformat_minor": 5
}
