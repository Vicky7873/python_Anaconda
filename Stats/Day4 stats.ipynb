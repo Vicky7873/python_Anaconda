{
 "cells": [
  {
   "cell_type": "code",
   "execution_count": 8,
   "id": "6d655c72",
   "metadata": {},
   "outputs": [],
   "source": [
    "import numpy as np\n",
    "import pandas as pd\n",
    "import seaborn as sns\n",
    "import matplotlib.pyplot as plt\n",
    "%matplotlib inline "
   ]
  },
  {
   "cell_type": "code",
   "execution_count": 6,
   "id": "6ef42a71",
   "metadata": {},
   "outputs": [],
   "source": [
    "dataset=[11,10,12,14,12,15,14,13,14,102,12,14,17,19,107,10,10,12,14,12,108,12,11,14,13,15,10,15,12,10,14,13,15,10]"
   ]
  },
  {
   "cell_type": "code",
   "execution_count": 12,
   "id": "ae03977e",
   "metadata": {},
   "outputs": [],
   "source": [
    "# z_score computation\n",
    "outliers=[]\n",
    "\n",
    "def detect_outliers(data):\n",
    "    threshold=3 ## 3 rd standard deviation\n",
    "    mean=np.mean(data)\n",
    "    std=np.std(data)\n",
    "    \n",
    "    for i in data:\n",
    "        z_score=(i-mean)/std\n",
    "        if np.abs(z_score)>threshold:\n",
    "#       it is an outlier\n",
    "            outliers.append(i)\n",
    "    \n",
    "    return outliers"
   ]
  },
  {
   "cell_type": "code",
   "execution_count": 13,
   "id": "2ecffa05",
   "metadata": {},
   "outputs": [
    {
     "data": {
      "text/plain": [
       "[102, 107, 108]"
      ]
     },
     "execution_count": 13,
     "metadata": {},
     "output_type": "execute_result"
    }
   ],
   "source": [
    "detect_outliers(dataset)"
   ]
  },
  {
   "cell_type": "code",
   "execution_count": 15,
   "id": "9749a1c8",
   "metadata": {},
   "outputs": [],
   "source": [
    "# IQR inter quartile range\n",
    "# 1. sort the data\n",
    "# 2.calculate Q1 and Q3\n",
    "# 3.IQR=Q3-Q1\n",
    "# 4.find the lower fence (Q1-1.5(IQR))\n",
    "# 5.find the upper fence (Q1+1.5(IQR))"
   ]
  },
  {
   "cell_type": "code",
   "execution_count": 20,
   "id": "d9737dd5",
   "metadata": {},
   "outputs": [],
   "source": [
    "# 1. sort the data\n",
    "data=sorted(dataset)"
   ]
  },
  {
   "cell_type": "code",
   "execution_count": 19,
   "id": "7181da33",
   "metadata": {},
   "outputs": [
    {
     "name": "stdout",
     "output_type": "stream",
     "text": [
      "12.0 14.75\n"
     ]
    }
   ],
   "source": [
    "# 2.calculate Q1 and Q3\n",
    "q1,q3=np.percentile(dataset,[25,75])\n",
    "print(q1,q3)"
   ]
  },
  {
   "cell_type": "code",
   "execution_count": 21,
   "id": "ee5e3940",
   "metadata": {},
   "outputs": [],
   "source": [
    "# 3.IQR=Q3-Q1\n",
    "iqr=q3-q1"
   ]
  },
  {
   "cell_type": "code",
   "execution_count": 22,
   "id": "77a1aaaf",
   "metadata": {},
   "outputs": [
    {
     "name": "stdout",
     "output_type": "stream",
     "text": [
      "2.75\n"
     ]
    }
   ],
   "source": [
    "print(iqr)"
   ]
  },
  {
   "cell_type": "code",
   "execution_count": 25,
   "id": "0a7e87bb",
   "metadata": {},
   "outputs": [
    {
     "data": {
      "text/plain": [
       "7.875"
      ]
     },
     "execution_count": 25,
     "metadata": {},
     "output_type": "execute_result"
    }
   ],
   "source": [
    "# 4.find the lower fence (Q1-1.5(IQR))\n",
    "lf=q1-1.5*iqr\n",
    "lf"
   ]
  },
  {
   "cell_type": "code",
   "execution_count": 26,
   "id": "305cb3f1",
   "metadata": {},
   "outputs": [
    {
     "data": {
      "text/plain": [
       "18.875"
      ]
     },
     "execution_count": 26,
     "metadata": {},
     "output_type": "execute_result"
    }
   ],
   "source": [
    "# 5.find the upper fence (Q1+1.5(IQR))\n",
    "uf=q3+1.5*iqr\n",
    "uf"
   ]
  },
  {
   "cell_type": "code",
   "execution_count": 27,
   "id": "c017c3c1",
   "metadata": {},
   "outputs": [
    {
     "data": {
      "text/plain": [
       "<AxesSubplot:>"
      ]
     },
     "execution_count": 27,
     "metadata": {},
     "output_type": "execute_result"
    },
    {
     "data": {
      "image/png": "[encoded data removed]",
      "text/plain": [
       "<Figure size 640x480 with 1 Axes>"
      ]
     },
     "metadata": {},
     "output_type": "display_data"
    }
   ],
   "source": [
    "sns.boxplot(dataset)"
   ]
  },
  {
   "cell_type": "code",
   "execution_count": null,
   "id": "ebd971bf",
   "metadata": {},
   "outputs": [],
   "source": []
  }
 ],
 "metadata": {
  "kernelspec": {
   "display_name": "Python 3 (ipykernel)",
   "language": "python",
   "name": "python3"
  },
  "language_info": {
   "codemirror_mode": {
    "name": "ipython",
    "version": 3
   },
   "file_extension": ".py",
   "mimetype": "text/x-python",
   "name": "python",
   "nbconvert_exporter": "python",
   "pygments_lexer": "ipython3",
   "version": "3.9.13"
  }
 },
 "nbformat": 4,
 "nbformat_minor": 5
}
