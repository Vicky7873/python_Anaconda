{
 "cells": [
  {
   "cell_type": "code",
   "execution_count": 1,
   "id": "ccdadc82",
   "metadata": {},
   "outputs": [],
   "source": [
    "a=\"123\""
   ]
  },
  {
   "cell_type": "code",
   "execution_count": 8,
   "id": "1252968f",
   "metadata": {},
   "outputs": [
    {
     "name": "stdout",
     "output_type": "stream",
     "text": [
      "1\n",
      "2\n",
      "3\n"
     ]
    }
   ],
   "source": [
    "index = 0  # Initialize an index variable\n",
    "\n",
    "while index < len(a):\n",
    "    # Access the character at the current index and convert it to an integer\n",
    "    digit = int(a[index])\n",
    "    print(digit)\n",
    "    index += 1  # Move to the next character"
   ]
  },
  {
   "cell_type": "code",
   "execution_count": 7,
   "id": "d50130de",
   "metadata": {},
   "outputs": [
    {
     "data": {
      "text/plain": [
       "['123']"
      ]
     },
     "execution_count": 7,
     "metadata": {},
     "output_type": "execute_result"
    }
   ],
   "source": [
    "b"
   ]
  },
  {
   "cell_type": "code",
   "execution_count": 15,
   "id": "0be81efc",
   "metadata": {},
   "outputs": [],
   "source": [
    "class biki:\n",
    "    def add(self,*args):\n",
    "        return a+b\n",
    "    def add(self,x, y):\n",
    "        return x*y"
   ]
  },
  {
   "cell_type": "code",
   "execution_count": 16,
   "id": "efddd667",
   "metadata": {},
   "outputs": [],
   "source": [
    "b=biki()"
   ]
  },
  {
   "cell_type": "code",
   "execution_count": 17,
   "id": "0ae51e45",
   "metadata": {},
   "outputs": [
    {
     "data": {
      "text/plain": [
       "6"
      ]
     },
     "execution_count": 17,
     "metadata": {},
     "output_type": "execute_result"
    }
   ],
   "source": [
    "b.add(2,3)"
   ]
  },
  {
   "cell_type": "code",
   "execution_count": 30,
   "id": "55c57883",
   "metadata": {},
   "outputs": [],
   "source": [
    "a=0\n",
    "def localv():\n",
    "    b=+10\n",
    "    print(b)"
   ]
  },
  {
   "cell_type": "code",
   "execution_count": 32,
   "id": "5e334351",
   "metadata": {},
   "outputs": [
    {
     "name": "stdout",
     "output_type": "stream",
     "text": [
      "10\n"
     ]
    }
   ],
   "source": [
    "localv()"
   ]
  },
  {
   "cell_type": "code",
   "execution_count": null,
   "id": "2d334a1e",
   "metadata": {},
   "outputs": [],
   "source": []
  },
  {
   "cell_type": "code",
   "execution_count": null,
   "id": "b7a9e4bc",
   "metadata": {},
   "outputs": [],
   "source": []
  },
  {
   "cell_type": "code",
   "execution_count": null,
   "id": "5b5a27cf",
   "metadata": {},
   "outputs": [],
   "source": []
  }
 ],
 "metadata": {
  "kernelspec": {
   "display_name": "Python 3 (ipykernel)",
   "language": "python",
   "name": "python3"
  },
  "language_info": {
   "codemirror_mode": {
    "name": "ipython",
    "version": 3
   },
   "file_extension": ".py",
   "mimetype": "text/x-python",
   "name": "python",
   "nbconvert_exporter": "python",
   "pygments_lexer": "ipython3",
   "version": "3.9.13"
  }
 },
 "nbformat": 4,
 "nbformat_minor": 5
}
