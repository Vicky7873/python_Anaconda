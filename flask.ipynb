{
 "cells": [
  {
   "cell_type": "code",
   "execution_count": 1,
   "id": "a16e9e2e",
   "metadata": {},
   "outputs": [
    {
     "name": "stdout",
     "output_type": "stream",
     "text": [
      "Defaulting to user installation because normal site-packages is not writeable\n",
      "Collecting pyngrok\n",
      "  Downloading pyngrok-6.0.0.tar.gz (681 kB)\n",
      "     ------------------------------------ 681.2/681.2 kB 596.4 kB/s eta 0:00:00\n",
      "  Preparing metadata (setup.py): started\n",
      "  Preparing metadata (setup.py): finished with status 'done'\n",
      "Requirement already satisfied: PyYAML in d:\\python\\anaconda\\setup\\lib\\site-packages (from pyngrok) (6.0)\n",
      "Building wheels for collected packages: pyngrok\n",
      "  Building wheel for pyngrok (setup.py): started\n",
      "  Building wheel for pyngrok (setup.py): finished with status 'done'\n",
      "  Created wheel for pyngrok: filename=pyngrok-6.0.0-py3-none-any.whl size=19868 sha256=f99ef023befd083c515c791114456c2863098119b20fcbe5f3474fda76f52b01\n",
      "  Stored in directory: c:\\users\\user\\appdata\\local\\pip\\cache\\wheels\\31\\49\\9c\\44b13823eb256a3b4dff34b972f7a3c7d9910bfef269e59bd7\n",
      "Successfully built pyngrok\n",
      "Installing collected packages: pyngrok\n",
      "Successfully installed pyngrok-6.0.0\n"
     ]
    },
    {
     "name": "stderr",
     "output_type": "stream",
     "text": [
      "  WARNING: The scripts ngrok.exe and pyngrok.exe are installed in 'C:\\Users\\User\\AppData\\Roaming\\Python\\Python39\\Scripts' which is not on PATH.\n",
      "  Consider adding this directory to PATH or, if you prefer to suppress this warning, use --no-warn-script-location.\n"
     ]
    }
   ],
   "source": [
    "!pip install pyngrok"
   ]
  },
  {
   "cell_type": "code",
   "execution_count": 9,
   "id": "2538d5d8",
   "metadata": {},
   "outputs": [
    {
     "name": "stdout",
     "output_type": "stream",
     "text": [
      " * Serving Flask app \"__main__\" (lazy loading)\n",
      " * Environment: production\n",
      "\u001b[31m   WARNING: This is a development server. Do not use it in a production deployment.\u001b[0m\n",
      "\u001b[2m   Use a production WSGI server instead.\u001b[0m\n",
      " * Debug mode: off\n"
     ]
    },
    {
     "name": "stderr",
     "output_type": "stream",
     "text": [
      " * Running on all addresses.\n",
      "   WARNING: This is a development server. Do not use it in a production deployment.\n",
      " * Running on http://192.168.144.225:5000/ (Press CTRL+C to quit)\n",
      "192.168.144.225 - - [05/Aug/2023 13:23:22] \"GET /input HTTP/1.1\" 200 -\n",
      "192.168.144.225 - - [05/Aug/2023 13:23:38] \"GET /input?d=9858 HTTP/1.1\" 200 -\n",
      "192.168.144.225 - - [05/Aug/2023 13:24:21] \"GET /input?d=bhiki HTTP/1.1\" 200 -\n"
     ]
    }
   ],
   "source": [
    "from flask import Flask\n",
    "from flask import request\n",
    "\n",
    "app = Flask(__name__)\n",
    "\n",
    "@app.route('/')\n",
    "def hello():\n",
    "    return \"Hello, World!\"\n",
    "\n",
    "@app.route('/hello1')\n",
    "def hello1():\n",
    "    return \"Hello, World1!\"\n",
    "\n",
    "@app.route('/hello2')\n",
    "def hello2():\n",
    "    return \"Hello, World2!\"\n",
    "\n",
    "@app.route('/test')\n",
    "def test():\n",
    "    a = 5+6\n",
    "    return \"this is my internal code {}\".format(a)\n",
    "# for input data from the url\n",
    "@app.route('/input')\n",
    "def input():\n",
    "    data= request.args.get('d')\n",
    "    return 'this is the data from my url {}'.format(data)\n",
    "\n",
    "if __name__ == '__main__':\n",
    "    app.run(host='0.0.0.0')"
   ]
  },
  {
   "cell_type": "code",
   "execution_count": null,
   "id": "7b22d103",
   "metadata": {},
   "outputs": [],
   "source": []
  },
  {
   "cell_type": "code",
   "execution_count": null,
   "id": "3b978b56",
   "metadata": {},
   "outputs": [],
   "source": []
  }
 ],
 "metadata": {
  "kernelspec": {
   "display_name": "Python 3 (ipykernel)",
   "language": "python",
   "name": "python3"
  },
  "language_info": {
   "codemirror_mode": {
    "name": "ipython",
    "version": 3
   },
   "file_extension": ".py",
   "mimetype": "text/x-python",
   "name": "python",
   "nbconvert_exporter": "python",
   "pygments_lexer": "ipython3",
   "version": "3.9.13"
  }
 },
 "nbformat": 4,
 "nbformat_minor": 5
}
