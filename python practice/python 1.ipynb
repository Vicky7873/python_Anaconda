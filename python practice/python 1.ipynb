{
 "cells": [
  {
   "cell_type": "code",
   "execution_count": null,
   "id": "980fc44b",
   "metadata": {},
   "outputs": [],
   "source": [
    "# Python "
   ]
  },
  {
   "cell_type": "markdown",
   "id": "6f41754c",
   "metadata": {},
   "source": [
    "# python syntax"
   ]
  },
  {
   "cell_type": "code",
   "execution_count": 1,
   "id": "51516b9e",
   "metadata": {},
   "outputs": [
    {
     "name": "stdout",
     "output_type": "stream",
     "text": [
      "Hello,World!\n"
     ]
    }
   ],
   "source": [
    "print('Hello,World!')"
   ]
  },
  {
   "cell_type": "code",
   "execution_count": 2,
   "id": "4c8931d6",
   "metadata": {},
   "outputs": [
    {
     "name": "stdout",
     "output_type": "stream",
     "text": [
      "its true\n"
     ]
    }
   ],
   "source": [
    "if 5>2:\n",
    "    print('its true')"
   ]
  },
  {
   "cell_type": "code",
   "execution_count": 3,
   "id": "72d29870",
   "metadata": {},
   "outputs": [],
   "source": [
    "# python variables"
   ]
  },
  {
   "cell_type": "code",
   "execution_count": 4,
   "id": "c341f4f9",
   "metadata": {},
   "outputs": [],
   "source": [
    "x=5\n",
    "y=\"hello world\""
   ]
  },
  {
   "cell_type": "code",
   "execution_count": 5,
   "id": "a5007d2b",
   "metadata": {},
   "outputs": [
    {
     "data": {
      "text/plain": [
       "5"
      ]
     },
     "execution_count": 5,
     "metadata": {},
     "output_type": "execute_result"
    }
   ],
   "source": [
    "x"
   ]
  },
  {
   "cell_type": "code",
   "execution_count": 6,
   "id": "26e53e2f",
   "metadata": {},
   "outputs": [
    {
     "data": {
      "text/plain": [
       "'hello world'"
      ]
     },
     "execution_count": 6,
     "metadata": {},
     "output_type": "execute_result"
    }
   ],
   "source": [
    "y"
   ]
  },
  {
   "cell_type": "code",
   "execution_count": 7,
   "id": "cafc3613",
   "metadata": {},
   "outputs": [],
   "source": [
    "# casting in python"
   ]
  },
  {
   "cell_type": "code",
   "execution_count": 8,
   "id": "73148f99",
   "metadata": {},
   "outputs": [],
   "source": [
    "x=str(3)"
   ]
  },
  {
   "cell_type": "code",
   "execution_count": 10,
   "id": "a0fe909b",
   "metadata": {},
   "outputs": [
    {
     "data": {
      "text/plain": [
       "'3'"
      ]
     },
     "execution_count": 10,
     "metadata": {},
     "output_type": "execute_result"
    }
   ],
   "source": [
    "x"
   ]
  },
  {
   "cell_type": "code",
   "execution_count": 11,
   "id": "2260815d",
   "metadata": {},
   "outputs": [
    {
     "data": {
      "text/plain": [
       "str"
      ]
     },
     "execution_count": 11,
     "metadata": {},
     "output_type": "execute_result"
    }
   ],
   "source": [
    "type(x)"
   ]
  },
  {
   "cell_type": "code",
   "execution_count": 13,
   "id": "31427782",
   "metadata": {},
   "outputs": [],
   "source": [
    "y=int(5)"
   ]
  },
  {
   "cell_type": "code",
   "execution_count": 14,
   "id": "709e0aa8",
   "metadata": {},
   "outputs": [
    {
     "data": {
      "text/plain": [
       "int"
      ]
     },
     "execution_count": 14,
     "metadata": {},
     "output_type": "execute_result"
    }
   ],
   "source": [
    "type(y)"
   ]
  },
  {
   "cell_type": "code",
   "execution_count": 15,
   "id": "e209ef3e",
   "metadata": {},
   "outputs": [
    {
     "data": {
      "text/plain": [
       "5"
      ]
     },
     "execution_count": 15,
     "metadata": {},
     "output_type": "execute_result"
    }
   ],
   "source": [
    "y"
   ]
  },
  {
   "cell_type": "code",
   "execution_count": 16,
   "id": "73f7e229",
   "metadata": {},
   "outputs": [],
   "source": [
    "z=float(5)"
   ]
  },
  {
   "cell_type": "code",
   "execution_count": 17,
   "id": "5107c26f",
   "metadata": {},
   "outputs": [
    {
     "data": {
      "text/plain": [
       "5.0"
      ]
     },
     "execution_count": 17,
     "metadata": {},
     "output_type": "execute_result"
    }
   ],
   "source": [
    "z"
   ]
  },
  {
   "cell_type": "code",
   "execution_count": 18,
   "id": "7b60f3a9",
   "metadata": {},
   "outputs": [
    {
     "data": {
      "text/plain": [
       "float"
      ]
     },
     "execution_count": 18,
     "metadata": {},
     "output_type": "execute_result"
    }
   ],
   "source": [
    "type(z)"
   ]
  },
  {
   "cell_type": "code",
   "execution_count": 19,
   "id": "0d9d7bdf",
   "metadata": {},
   "outputs": [],
   "source": [
    "# assign multiple variable"
   ]
  },
  {
   "cell_type": "code",
   "execution_count": 20,
   "id": "28132fd2",
   "metadata": {},
   "outputs": [],
   "source": [
    "x,y,z=\"ram\",'Krishna','siva'"
   ]
  },
  {
   "cell_type": "code",
   "execution_count": 21,
   "id": "19639cc4",
   "metadata": {},
   "outputs": [
    {
     "data": {
      "text/plain": [
       "'ram'"
      ]
     },
     "execution_count": 21,
     "metadata": {},
     "output_type": "execute_result"
    }
   ],
   "source": [
    "x"
   ]
  },
  {
   "cell_type": "code",
   "execution_count": 22,
   "id": "307aa58e",
   "metadata": {},
   "outputs": [
    {
     "data": {
      "text/plain": [
       "'Krishna'"
      ]
     },
     "execution_count": 22,
     "metadata": {},
     "output_type": "execute_result"
    }
   ],
   "source": [
    "y"
   ]
  },
  {
   "cell_type": "code",
   "execution_count": 23,
   "id": "08444b34",
   "metadata": {},
   "outputs": [
    {
     "data": {
      "text/plain": [
       "'siva'"
      ]
     },
     "execution_count": 23,
     "metadata": {},
     "output_type": "execute_result"
    }
   ],
   "source": [
    "z"
   ]
  },
  {
   "cell_type": "code",
   "execution_count": 24,
   "id": "0522d790",
   "metadata": {},
   "outputs": [],
   "source": [
    "# one value to mutliple var"
   ]
  },
  {
   "cell_type": "code",
   "execution_count": 25,
   "id": "13a999a8",
   "metadata": {},
   "outputs": [],
   "source": [
    "x = y = z =\"Krishna\""
   ]
  },
  {
   "cell_type": "code",
   "execution_count": 26,
   "id": "9fd6cc85",
   "metadata": {},
   "outputs": [
    {
     "data": {
      "text/plain": [
       "'Krishna'"
      ]
     },
     "execution_count": 26,
     "metadata": {},
     "output_type": "execute_result"
    }
   ],
   "source": [
    "x"
   ]
  },
  {
   "cell_type": "code",
   "execution_count": 27,
   "id": "8609d33a",
   "metadata": {},
   "outputs": [
    {
     "data": {
      "text/plain": [
       "'Krishna'"
      ]
     },
     "execution_count": 27,
     "metadata": {},
     "output_type": "execute_result"
    }
   ],
   "source": [
    "y"
   ]
  },
  {
   "cell_type": "code",
   "execution_count": 28,
   "id": "fb64aa3b",
   "metadata": {},
   "outputs": [
    {
     "data": {
      "text/plain": [
       "'Krishna'"
      ]
     },
     "execution_count": 28,
     "metadata": {},
     "output_type": "execute_result"
    }
   ],
   "source": [
    "z"
   ]
  },
  {
   "cell_type": "code",
   "execution_count": 34,
   "id": "1c4cdadc",
   "metadata": {},
   "outputs": [],
   "source": [
    "# unpack a collection"
   ]
  },
  {
   "cell_type": "code",
   "execution_count": 29,
   "id": "92b792d4",
   "metadata": {},
   "outputs": [],
   "source": [
    "god = ['Ram','krishna','shiva']"
   ]
  },
  {
   "cell_type": "code",
   "execution_count": 30,
   "id": "ca94a29c",
   "metadata": {},
   "outputs": [],
   "source": [
    "x,y,z=god"
   ]
  },
  {
   "cell_type": "code",
   "execution_count": 31,
   "id": "0709c97f",
   "metadata": {},
   "outputs": [
    {
     "data": {
      "text/plain": [
       "'Ram'"
      ]
     },
     "execution_count": 31,
     "metadata": {},
     "output_type": "execute_result"
    }
   ],
   "source": [
    "x"
   ]
  },
  {
   "cell_type": "code",
   "execution_count": 32,
   "id": "1c112995",
   "metadata": {},
   "outputs": [
    {
     "data": {
      "text/plain": [
       "'krishna'"
      ]
     },
     "execution_count": 32,
     "metadata": {},
     "output_type": "execute_result"
    }
   ],
   "source": [
    "y"
   ]
  },
  {
   "cell_type": "code",
   "execution_count": 33,
   "id": "1e0c1cb6",
   "metadata": {},
   "outputs": [
    {
     "data": {
      "text/plain": [
       "'shiva'"
      ]
     },
     "execution_count": 33,
     "metadata": {},
     "output_type": "execute_result"
    }
   ],
   "source": [
    "z"
   ]
  },
  {
   "cell_type": "code",
   "execution_count": 35,
   "id": "2487d0ff",
   "metadata": {},
   "outputs": [],
   "source": [
    "# output variables"
   ]
  },
  {
   "cell_type": "code",
   "execution_count": 41,
   "id": "7b606052",
   "metadata": {},
   "outputs": [],
   "source": [
    "x=5\n",
    "y='john'"
   ]
  },
  {
   "cell_type": "code",
   "execution_count": 42,
   "id": "ff776ec9",
   "metadata": {},
   "outputs": [
    {
     "ename": "TypeError",
     "evalue": "unsupported operand type(s) for +: 'int' and 'str'",
     "output_type": "error",
     "traceback": [
      "\u001b[1;31m---------------------------------------------------------------------------\u001b[0m",
      "\u001b[1;31mTypeError\u001b[0m                                 Traceback (most recent call last)",
      "\u001b[1;32m~\\AppData\\Local\\Temp\\ipykernel_1552\\1525011898.py\u001b[0m in \u001b[0;36m<module>\u001b[1;34m\u001b[0m\n\u001b[1;32m----> 1\u001b[1;33m \u001b[0mx\u001b[0m\u001b[1;33m+\u001b[0m\u001b[0my\u001b[0m\u001b[1;33m\u001b[0m\u001b[1;33m\u001b[0m\u001b[0m\n\u001b[0m",
      "\u001b[1;31mTypeError\u001b[0m: unsupported operand type(s) for +: 'int' and 'str'"
     ]
    }
   ],
   "source": [
    "x+y"
   ]
  },
  {
   "cell_type": "code",
   "execution_count": 43,
   "id": "7740f58c",
   "metadata": {},
   "outputs": [
    {
     "data": {
      "text/plain": [
       "15"
      ]
     },
     "execution_count": 43,
     "metadata": {},
     "output_type": "execute_result"
    }
   ],
   "source": [
    "x=10\n",
    "y=5\n",
    "x+y"
   ]
  },
  {
   "cell_type": "code",
   "execution_count": 44,
   "id": "8b5a8778",
   "metadata": {},
   "outputs": [],
   "source": [
    "a='apple'\n",
    "b='ball'"
   ]
  },
  {
   "cell_type": "code",
   "execution_count": 45,
   "id": "9bc4bd39",
   "metadata": {},
   "outputs": [
    {
     "name": "stdout",
     "output_type": "stream",
     "text": [
      "appleball\n"
     ]
    }
   ],
   "source": [
    "print(a+b)"
   ]
  },
  {
   "cell_type": "code",
   "execution_count": 46,
   "id": "bacae71d",
   "metadata": {},
   "outputs": [
    {
     "name": "stdout",
     "output_type": "stream",
     "text": [
      "apple ball\n"
     ]
    }
   ],
   "source": [
    "print(a,b)"
   ]
  },
  {
   "cell_type": "code",
   "execution_count": 47,
   "id": "d93d25c7",
   "metadata": {},
   "outputs": [],
   "source": [
    "# global Variables"
   ]
  },
  {
   "cell_type": "code",
   "execution_count": 50,
   "id": "e1b38b2f",
   "metadata": {},
   "outputs": [
    {
     "name": "stdout",
     "output_type": "stream",
     "text": [
      "bhiki my name\n"
     ]
    }
   ],
   "source": [
    "x='bhiki'\n",
    "def myfunc():\n",
    "    print(x+\" my name\")\n",
    "    \n",
    "myfunc()"
   ]
  },
  {
   "cell_type": "markdown",
   "id": "b3e6cefa",
   "metadata": {},
   "source": [
    " x = \"awesome\"\n",
    "\n",
    "def myfunc():\n",
    "  x = \"fantastic\"\n",
    "  print(\"Python is \" + x)\n",
    "\n",
    "myfunc()\n",
    "\n",
    "print(\"Python is \" + x)"
   ]
  },
  {
   "cell_type": "code",
   "execution_count": 52,
   "id": "7d545d66",
   "metadata": {},
   "outputs": [],
   "source": [
    "# If you use the global keyword, the variable belongs to the global scope:"
   ]
  },
  {
   "cell_type": "code",
   "execution_count": 54,
   "id": "ae42ac15",
   "metadata": {},
   "outputs": [],
   "source": [
    "def myfunc():\n",
    "    global x\n",
    "    x='krishna'"
   ]
  },
  {
   "cell_type": "code",
   "execution_count": 58,
   "id": "828deee7",
   "metadata": {},
   "outputs": [
    {
     "data": {
      "text/plain": [
       "'krishna'"
      ]
     },
     "execution_count": 58,
     "metadata": {},
     "output_type": "execute_result"
    }
   ],
   "source": [
    "myfunc()\n",
    "# global mean u can call it anywhere\n",
    "x"
   ]
  },
  {
   "cell_type": "code",
   "execution_count": 59,
   "id": "ccf0ffc4",
   "metadata": {},
   "outputs": [
    {
     "name": "stdout",
     "output_type": "stream",
     "text": [
      "python is krishna\n"
     ]
    }
   ],
   "source": [
    "print(\"python is \"+x)"
   ]
  },
  {
   "cell_type": "markdown",
   "id": "de1a9531",
   "metadata": {},
   "source": [
    "# python data types"
   ]
  },
  {
   "cell_type": "code",
   "execution_count": 60,
   "id": "9c628acb",
   "metadata": {},
   "outputs": [],
   "source": [
    "# setting the specific data type"
   ]
  },
  {
   "cell_type": "code",
   "execution_count": 61,
   "id": "12f3f1e7",
   "metadata": {},
   "outputs": [],
   "source": [
    "x=str(\"bhiki\")"
   ]
  },
  {
   "cell_type": "code",
   "execution_count": 62,
   "id": "c852f8e0",
   "metadata": {},
   "outputs": [
    {
     "data": {
      "text/plain": [
       "'bhiki'"
      ]
     },
     "execution_count": 62,
     "metadata": {},
     "output_type": "execute_result"
    }
   ],
   "source": [
    "x"
   ]
  },
  {
   "cell_type": "code",
   "execution_count": 63,
   "id": "45cc0286",
   "metadata": {},
   "outputs": [
    {
     "data": {
      "text/plain": [
       "str"
      ]
     },
     "execution_count": 63,
     "metadata": {},
     "output_type": "execute_result"
    }
   ],
   "source": [
    "type(x)"
   ]
  },
  {
   "cell_type": "code",
   "execution_count": 64,
   "id": "2f21bd29",
   "metadata": {},
   "outputs": [],
   "source": [
    "x=int(5)"
   ]
  },
  {
   "cell_type": "code",
   "execution_count": 65,
   "id": "811bd192",
   "metadata": {},
   "outputs": [
    {
     "data": {
      "text/plain": [
       "5"
      ]
     },
     "execution_count": 65,
     "metadata": {},
     "output_type": "execute_result"
    }
   ],
   "source": [
    "x"
   ]
  },
  {
   "cell_type": "code",
   "execution_count": 66,
   "id": "5ebbd035",
   "metadata": {},
   "outputs": [
    {
     "data": {
      "text/plain": [
       "int"
      ]
     },
     "execution_count": 66,
     "metadata": {},
     "output_type": "execute_result"
    }
   ],
   "source": [
    "type(x)"
   ]
  },
  {
   "cell_type": "code",
   "execution_count": 72,
   "id": "f463686a",
   "metadata": {},
   "outputs": [],
   "source": [
    "x=float(20)"
   ]
  },
  {
   "cell_type": "code",
   "execution_count": 73,
   "id": "f5484315",
   "metadata": {},
   "outputs": [
    {
     "data": {
      "text/plain": [
       "20.0"
      ]
     },
     "execution_count": 73,
     "metadata": {},
     "output_type": "execute_result"
    }
   ],
   "source": [
    "x"
   ]
  },
  {
   "cell_type": "code",
   "execution_count": 74,
   "id": "88494cb8",
   "metadata": {},
   "outputs": [
    {
     "data": {
      "text/plain": [
       "float"
      ]
     },
     "execution_count": 74,
     "metadata": {},
     "output_type": "execute_result"
    }
   ],
   "source": [
    "type(x)"
   ]
  },
  {
   "cell_type": "code",
   "execution_count": 70,
   "id": "325dcaa2",
   "metadata": {},
   "outputs": [],
   "source": [
    "x=20.5"
   ]
  },
  {
   "cell_type": "code",
   "execution_count": 71,
   "id": "7260dfde",
   "metadata": {},
   "outputs": [
    {
     "data": {
      "text/plain": [
       "float"
      ]
     },
     "execution_count": 71,
     "metadata": {},
     "output_type": "execute_result"
    }
   ],
   "source": [
    "type(x)"
   ]
  },
  {
   "cell_type": "code",
   "execution_count": 75,
   "id": "0565cc17",
   "metadata": {},
   "outputs": [],
   "source": [
    "x = list((\"apple\", \"banana\", \"cherry\"))"
   ]
  },
  {
   "cell_type": "code",
   "execution_count": 76,
   "id": "57ef436b",
   "metadata": {},
   "outputs": [
    {
     "data": {
      "text/plain": [
       "['apple', 'banana', 'cherry']"
      ]
     },
     "execution_count": 76,
     "metadata": {},
     "output_type": "execute_result"
    }
   ],
   "source": [
    "x"
   ]
  },
  {
   "cell_type": "code",
   "execution_count": 77,
   "id": "2a880d3a",
   "metadata": {},
   "outputs": [
    {
     "data": {
      "text/plain": [
       "list"
      ]
     },
     "execution_count": 77,
     "metadata": {},
     "output_type": "execute_result"
    }
   ],
   "source": [
    "type(x)"
   ]
  },
  {
   "cell_type": "code",
   "execution_count": 78,
   "id": "1d83663e",
   "metadata": {},
   "outputs": [],
   "source": [
    "x=1j"
   ]
  },
  {
   "cell_type": "code",
   "execution_count": 79,
   "id": "cd98fef2",
   "metadata": {},
   "outputs": [
    {
     "data": {
      "text/plain": [
       "1j"
      ]
     },
     "execution_count": 79,
     "metadata": {},
     "output_type": "execute_result"
    }
   ],
   "source": [
    "x"
   ]
  },
  {
   "cell_type": "code",
   "execution_count": 80,
   "id": "2132c7aa",
   "metadata": {},
   "outputs": [
    {
     "data": {
      "text/plain": [
       "complex"
      ]
     },
     "execution_count": 80,
     "metadata": {},
     "output_type": "execute_result"
    }
   ],
   "source": [
    "type(x)"
   ]
  },
  {
   "cell_type": "code",
   "execution_count": 81,
   "id": "9d77e09c",
   "metadata": {},
   "outputs": [],
   "source": [
    "x=(\"apple\", \"banana\", \"cherry\")"
   ]
  },
  {
   "cell_type": "code",
   "execution_count": 82,
   "id": "86a242cd",
   "metadata": {},
   "outputs": [
    {
     "data": {
      "text/plain": [
       "('apple', 'banana', 'cherry')"
      ]
     },
     "execution_count": 82,
     "metadata": {},
     "output_type": "execute_result"
    }
   ],
   "source": [
    "x"
   ]
  },
  {
   "cell_type": "code",
   "execution_count": 83,
   "id": "9c0b8d43",
   "metadata": {},
   "outputs": [
    {
     "data": {
      "text/plain": [
       "tuple"
      ]
     },
     "execution_count": 83,
     "metadata": {},
     "output_type": "execute_result"
    }
   ],
   "source": [
    "type(x)"
   ]
  },
  {
   "cell_type": "code",
   "execution_count": 84,
   "id": "1e5ddd2d",
   "metadata": {},
   "outputs": [],
   "source": [
    "x = tuple((\"apple\", \"banana\", \"cherry\"))"
   ]
  },
  {
   "cell_type": "code",
   "execution_count": 85,
   "id": "86500e69",
   "metadata": {},
   "outputs": [
    {
     "data": {
      "text/plain": [
       "('apple', 'banana', 'cherry')"
      ]
     },
     "execution_count": 85,
     "metadata": {},
     "output_type": "execute_result"
    }
   ],
   "source": [
    "x"
   ]
  },
  {
   "cell_type": "code",
   "execution_count": 86,
   "id": "faf066a2",
   "metadata": {},
   "outputs": [
    {
     "data": {
      "text/plain": [
       "tuple"
      ]
     },
     "execution_count": 86,
     "metadata": {},
     "output_type": "execute_result"
    }
   ],
   "source": [
    "type(x)"
   ]
  },
  {
   "cell_type": "code",
   "execution_count": 87,
   "id": "71591ad8",
   "metadata": {},
   "outputs": [],
   "source": [
    "x=range(6)"
   ]
  },
  {
   "cell_type": "code",
   "execution_count": 88,
   "id": "ed125ff3",
   "metadata": {},
   "outputs": [
    {
     "data": {
      "text/plain": [
       "range(0, 6)"
      ]
     },
     "execution_count": 88,
     "metadata": {},
     "output_type": "execute_result"
    }
   ],
   "source": [
    "x"
   ]
  },
  {
   "cell_type": "code",
   "execution_count": 89,
   "id": "9c251c9e",
   "metadata": {},
   "outputs": [
    {
     "data": {
      "text/plain": [
       "range"
      ]
     },
     "execution_count": 89,
     "metadata": {},
     "output_type": "execute_result"
    }
   ],
   "source": [
    "type(x)"
   ]
  },
  {
   "cell_type": "code",
   "execution_count": 90,
   "id": "c9b33279",
   "metadata": {},
   "outputs": [],
   "source": [
    "x=dict(name='john',age=25)"
   ]
  },
  {
   "cell_type": "code",
   "execution_count": 91,
   "id": "1abbf0f8",
   "metadata": {},
   "outputs": [
    {
     "data": {
      "text/plain": [
       "{'name': 'john', 'age': 25}"
      ]
     },
     "execution_count": 91,
     "metadata": {},
     "output_type": "execute_result"
    }
   ],
   "source": [
    "x"
   ]
  },
  {
   "cell_type": "code",
   "execution_count": 92,
   "id": "403ce1f5",
   "metadata": {},
   "outputs": [
    {
     "data": {
      "text/plain": [
       "dict"
      ]
     },
     "execution_count": 92,
     "metadata": {},
     "output_type": "execute_result"
    }
   ],
   "source": [
    "type(x)"
   ]
  },
  {
   "cell_type": "code",
   "execution_count": 93,
   "id": "0b8da074",
   "metadata": {},
   "outputs": [],
   "source": [
    "x={'ram','krishna','siva'}"
   ]
  },
  {
   "cell_type": "code",
   "execution_count": 94,
   "id": "327e1519",
   "metadata": {},
   "outputs": [
    {
     "data": {
      "text/plain": [
       "{'krishna', 'ram', 'siva'}"
      ]
     },
     "execution_count": 94,
     "metadata": {},
     "output_type": "execute_result"
    }
   ],
   "source": [
    "x"
   ]
  },
  {
   "cell_type": "code",
   "execution_count": 95,
   "id": "b245653e",
   "metadata": {},
   "outputs": [
    {
     "data": {
      "text/plain": [
       "set"
      ]
     },
     "execution_count": 95,
     "metadata": {},
     "output_type": "execute_result"
    }
   ],
   "source": [
    "type(x)"
   ]
  },
  {
   "cell_type": "code",
   "execution_count": 96,
   "id": "7ba92562",
   "metadata": {},
   "outputs": [],
   "source": [
    "x=set(('krishna', 'ram', 'siva'))"
   ]
  },
  {
   "cell_type": "code",
   "execution_count": 97,
   "id": "ed965b60",
   "metadata": {},
   "outputs": [
    {
     "data": {
      "text/plain": [
       "{'krishna', 'ram', 'siva'}"
      ]
     },
     "execution_count": 97,
     "metadata": {},
     "output_type": "execute_result"
    }
   ],
   "source": [
    "x"
   ]
  },
  {
   "cell_type": "code",
   "execution_count": 98,
   "id": "e3ef0188",
   "metadata": {},
   "outputs": [
    {
     "data": {
      "text/plain": [
       "set"
      ]
     },
     "execution_count": 98,
     "metadata": {},
     "output_type": "execute_result"
    }
   ],
   "source": [
    "type(x)"
   ]
  },
  {
   "cell_type": "code",
   "execution_count": 99,
   "id": "e2daa674",
   "metadata": {},
   "outputs": [],
   "source": [
    "x=bool(5)"
   ]
  },
  {
   "cell_type": "code",
   "execution_count": 100,
   "id": "0797ac7a",
   "metadata": {},
   "outputs": [
    {
     "data": {
      "text/plain": [
       "True"
      ]
     },
     "execution_count": 100,
     "metadata": {},
     "output_type": "execute_result"
    }
   ],
   "source": [
    "x"
   ]
  },
  {
   "cell_type": "code",
   "execution_count": 101,
   "id": "fd5fdde0",
   "metadata": {},
   "outputs": [
    {
     "data": {
      "text/plain": [
       "bool"
      ]
     },
     "execution_count": 101,
     "metadata": {},
     "output_type": "execute_result"
    }
   ],
   "source": [
    "type(x)"
   ]
  },
  {
   "cell_type": "code",
   "execution_count": 102,
   "id": "b3d3eb05",
   "metadata": {},
   "outputs": [],
   "source": [
    "x=bytes(5)"
   ]
  },
  {
   "cell_type": "code",
   "execution_count": 103,
   "id": "63c435ba",
   "metadata": {},
   "outputs": [
    {
     "data": {
      "text/plain": [
       "b'\\x00\\x00\\x00\\x00\\x00'"
      ]
     },
     "execution_count": 103,
     "metadata": {},
     "output_type": "execute_result"
    }
   ],
   "source": [
    "x"
   ]
  },
  {
   "cell_type": "markdown",
   "id": "250cf854",
   "metadata": {},
   "source": [
    "# python numbers"
   ]
  },
  {
   "cell_type": "code",
   "execution_count": 104,
   "id": "b118a930",
   "metadata": {},
   "outputs": [
    {
     "name": "stdout",
     "output_type": "stream",
     "text": [
      "<class 'int'>\n",
      "<class 'float'>\n",
      "<class 'complex'>\n"
     ]
    }
   ],
   "source": [
    "x=1\n",
    "y=2.9\n",
    "z=1j\n",
    "print(type(x))\n",
    "print(type(y))\n",
    "print(type(z))"
   ]
  },
  {
   "cell_type": "code",
   "execution_count": 105,
   "id": "327ee9d8",
   "metadata": {},
   "outputs": [
    {
     "name": "stdout",
     "output_type": "stream",
     "text": [
      "<class 'int'>\n",
      "<class 'int'>\n",
      "<class 'int'>\n"
     ]
    }
   ],
   "source": [
    "x=1\n",
    "y=2343444444231323\n",
    "z=-23232\n",
    "print(type(x))\n",
    "print(type(y))\n",
    "print(type(z))"
   ]
  },
  {
   "cell_type": "code",
   "execution_count": 106,
   "id": "e0c377c7",
   "metadata": {},
   "outputs": [
    {
     "name": "stdout",
     "output_type": "stream",
     "text": [
      "<class 'float'>\n",
      "<class 'float'>\n",
      "<class 'float'>\n"
     ]
    }
   ],
   "source": [
    "x=1.50\n",
    "y=23.34\n",
    "z=-2.34\n",
    "print(type(x))\n",
    "print(type(y))\n",
    "print(type(z))"
   ]
  },
  {
   "cell_type": "code",
   "execution_count": 107,
   "id": "d389c17a",
   "metadata": {},
   "outputs": [],
   "source": [
    "# type conversion"
   ]
  },
  {
   "cell_type": "code",
   "execution_count": 108,
   "id": "df289522",
   "metadata": {},
   "outputs": [
    {
     "name": "stdout",
     "output_type": "stream",
     "text": [
      "1.0\n",
      "23\n",
      "(1+0j)\n",
      "<class 'float'>\n",
      "<class 'int'>\n",
      "<class 'complex'>\n"
     ]
    }
   ],
   "source": [
    "x=1\n",
    "y=23.34\n",
    "z=1j\n",
    "\n",
    "a=float(x)\n",
    "b=int(y)\n",
    "c=complex(x)\n",
    "\n",
    "print(a)\n",
    "print(b)\n",
    "print(c)\n",
    "\n",
    "print(type(a))\n",
    "print(type(b))\n",
    "print(type(c))"
   ]
  },
  {
   "cell_type": "code",
   "execution_count": 109,
   "id": "6d105092",
   "metadata": {},
   "outputs": [],
   "source": [
    "# random numbers"
   ]
  },
  {
   "cell_type": "code",
   "execution_count": 110,
   "id": "6a2833ae",
   "metadata": {},
   "outputs": [],
   "source": [
    "import random"
   ]
  },
  {
   "cell_type": "code",
   "execution_count": 111,
   "id": "0928215d",
   "metadata": {},
   "outputs": [
    {
     "name": "stdout",
     "output_type": "stream",
     "text": [
      "7\n"
     ]
    }
   ],
   "source": [
    "print(random.randrange(1,10))"
   ]
  },
  {
   "cell_type": "code",
   "execution_count": 112,
   "id": "04f3f494",
   "metadata": {},
   "outputs": [
    {
     "data": {
      "text/plain": [
       "9"
      ]
     },
     "execution_count": 112,
     "metadata": {},
     "output_type": "execute_result"
    }
   ],
   "source": [
    "random.randint(1,10)"
   ]
  },
  {
   "cell_type": "code",
   "execution_count": 116,
   "id": "efd7fe28",
   "metadata": {},
   "outputs": [
    {
     "data": {
      "text/plain": [
       "0.4894846164777318"
      ]
     },
     "execution_count": 116,
     "metadata": {},
     "output_type": "execute_result"
    }
   ],
   "source": [
    "random.random()"
   ]
  },
  {
   "cell_type": "code",
   "execution_count": 118,
   "id": "d7d72dee",
   "metadata": {},
   "outputs": [
    {
     "data": {
      "text/plain": [
       "b'\\x03\\xb3{\\xf8\\xde'"
      ]
     },
     "execution_count": 118,
     "metadata": {},
     "output_type": "execute_result"
    }
   ],
   "source": [
    "random.randbytes(5)"
   ]
  },
  {
   "cell_type": "markdown",
   "id": "e9a93faa",
   "metadata": {},
   "source": [
    "# python string "
   ]
  },
  {
   "cell_type": "code",
   "execution_count": 120,
   "id": "e6d65f5d",
   "metadata": {},
   "outputs": [],
   "source": [
    "a='hello'"
   ]
  },
  {
   "cell_type": "code",
   "execution_count": 121,
   "id": "af8490ab",
   "metadata": {},
   "outputs": [
    {
     "data": {
      "text/plain": [
       "'hello'"
      ]
     },
     "execution_count": 121,
     "metadata": {},
     "output_type": "execute_result"
    }
   ],
   "source": [
    "a"
   ]
  },
  {
   "cell_type": "code",
   "execution_count": 122,
   "id": "ccd16d96",
   "metadata": {},
   "outputs": [],
   "source": [
    "a=\"\"\"my name is bhiki\n",
    "whats your name\n",
    "Krishna is the god father\"\"\""
   ]
  },
  {
   "cell_type": "code",
   "execution_count": 123,
   "id": "04f2a17b",
   "metadata": {},
   "outputs": [
    {
     "data": {
      "text/plain": [
       "'my name is bhiki\\nwhats your name\\nKrishna is the god father'"
      ]
     },
     "execution_count": 123,
     "metadata": {},
     "output_type": "execute_result"
    }
   ],
   "source": [
    "a"
   ]
  },
  {
   "cell_type": "code",
   "execution_count": 124,
   "id": "b4fe8764",
   "metadata": {},
   "outputs": [
    {
     "name": "stdout",
     "output_type": "stream",
     "text": [
      "my name is bhiki\n",
      "whats your name\n",
      "Krishna is the god father\n"
     ]
    }
   ],
   "source": [
    "print(a)"
   ]
  },
  {
   "cell_type": "code",
   "execution_count": 126,
   "id": "826f934e",
   "metadata": {},
   "outputs": [
    {
     "data": {
      "text/plain": [
       "str"
      ]
     },
     "execution_count": 126,
     "metadata": {},
     "output_type": "execute_result"
    }
   ],
   "source": [
    "type(a)"
   ]
  },
  {
   "cell_type": "code",
   "execution_count": 127,
   "id": "8bad57a1",
   "metadata": {},
   "outputs": [],
   "source": [
    "a=\"hello world\""
   ]
  },
  {
   "cell_type": "code",
   "execution_count": 129,
   "id": "53f41eaf",
   "metadata": {},
   "outputs": [
    {
     "name": "stdout",
     "output_type": "stream",
     "text": [
      "e\n"
     ]
    }
   ],
   "source": [
    "print(a[1])"
   ]
  },
  {
   "cell_type": "code",
   "execution_count": 130,
   "id": "4491905d",
   "metadata": {},
   "outputs": [],
   "source": [
    "# looping through a string"
   ]
  },
  {
   "cell_type": "code",
   "execution_count": 131,
   "id": "49c6e7b7",
   "metadata": {},
   "outputs": [
    {
     "name": "stdout",
     "output_type": "stream",
     "text": [
      "b\n",
      "h\n",
      "i\n",
      "k\n",
      "i\n"
     ]
    }
   ],
   "source": [
    "for x in \"bhiki\":\n",
    "    print(x)"
   ]
  },
  {
   "cell_type": "code",
   "execution_count": 132,
   "id": "1d5b8773",
   "metadata": {},
   "outputs": [],
   "source": [
    "# String length"
   ]
  },
  {
   "cell_type": "code",
   "execution_count": 133,
   "id": "5db765a3",
   "metadata": {},
   "outputs": [],
   "source": [
    "a='bhiki'"
   ]
  },
  {
   "cell_type": "code",
   "execution_count": 134,
   "id": "69721b72",
   "metadata": {},
   "outputs": [
    {
     "name": "stdout",
     "output_type": "stream",
     "text": [
      "5\n"
     ]
    }
   ],
   "source": [
    "print(len(a))"
   ]
  },
  {
   "cell_type": "code",
   "execution_count": 135,
   "id": "05856438",
   "metadata": {},
   "outputs": [],
   "source": [
    "# check string"
   ]
  },
  {
   "cell_type": "code",
   "execution_count": 136,
   "id": "b8b77df5",
   "metadata": {},
   "outputs": [],
   "source": [
    "txt = \"the best things i love vishnu bhagwan\""
   ]
  },
  {
   "cell_type": "code",
   "execution_count": 138,
   "id": "14ee7a15",
   "metadata": {},
   "outputs": [
    {
     "name": "stdout",
     "output_type": "stream",
     "text": [
      "True\n"
     ]
    }
   ],
   "source": [
    "print(\"vishnu\" in txt)"
   ]
  },
  {
   "cell_type": "code",
   "execution_count": 139,
   "id": "71ffe870",
   "metadata": {},
   "outputs": [],
   "source": [
    "# get the vishnu is their or not"
   ]
  },
  {
   "cell_type": "code",
   "execution_count": 140,
   "id": "b9009bb1",
   "metadata": {},
   "outputs": [],
   "source": [
    "god='vishnu bhagwan is their'"
   ]
  },
  {
   "cell_type": "code",
   "execution_count": 142,
   "id": "0009cedf",
   "metadata": {},
   "outputs": [
    {
     "name": "stdout",
     "output_type": "stream",
     "text": [
      "True\n"
     ]
    }
   ],
   "source": [
    "print('vishnu' in god)"
   ]
  },
  {
   "cell_type": "code",
   "execution_count": 143,
   "id": "66fc9fe5",
   "metadata": {},
   "outputs": [],
   "source": [
    "# use if statement is "
   ]
  },
  {
   "cell_type": "code",
   "execution_count": 144,
   "id": "59cc5470",
   "metadata": {},
   "outputs": [
    {
     "name": "stdout",
     "output_type": "stream",
     "text": [
      "yes he is supreme of the god\n"
     ]
    }
   ],
   "source": [
    "god='vishnu bhagwan is their'\n",
    "if 'vishnu' in god:\n",
    "    print('yes he is supreme of the god')"
   ]
  },
  {
   "cell_type": "code",
   "execution_count": 145,
   "id": "67b712c3",
   "metadata": {},
   "outputs": [],
   "source": [
    "# check not"
   ]
  },
  {
   "cell_type": "code",
   "execution_count": 146,
   "id": "159f701b",
   "metadata": {},
   "outputs": [
    {
     "name": "stdout",
     "output_type": "stream",
     "text": [
      "True\n"
     ]
    }
   ],
   "source": [
    "txt = \"The best things in life are free!\"\n",
    "print(\"expensive\" not in txt)"
   ]
  },
  {
   "cell_type": "code",
   "execution_count": 147,
   "id": "7e4c2d59",
   "metadata": {},
   "outputs": [],
   "source": [
    "# cehck if not"
   ]
  },
  {
   "cell_type": "code",
   "execution_count": 148,
   "id": "0350c845",
   "metadata": {},
   "outputs": [
    {
     "name": "stdout",
     "output_type": "stream",
     "text": [
      "yes vishnu god\n"
     ]
    }
   ],
   "source": [
    "god='vishnu bhagwan is their'\n",
    "if 'asur' not in god:\n",
    "    print('yes vishnu god')"
   ]
  },
  {
   "cell_type": "code",
   "execution_count": 149,
   "id": "bea42f81",
   "metadata": {},
   "outputs": [],
   "source": [
    "# string slicing"
   ]
  },
  {
   "cell_type": "code",
   "execution_count": 150,
   "id": "4349757b",
   "metadata": {},
   "outputs": [],
   "source": [
    "b='hello world'"
   ]
  },
  {
   "cell_type": "code",
   "execution_count": 151,
   "id": "2eba0fe3",
   "metadata": {},
   "outputs": [
    {
     "name": "stdout",
     "output_type": "stream",
     "text": [
      "llo world\n"
     ]
    }
   ],
   "source": [
    "print(b[2:])"
   ]
  },
  {
   "cell_type": "code",
   "execution_count": 152,
   "id": "7bc0b76d",
   "metadata": {},
   "outputs": [],
   "source": [
    "# -ve indexing"
   ]
  },
  {
   "cell_type": "code",
   "execution_count": 153,
   "id": "672faf69",
   "metadata": {},
   "outputs": [
    {
     "name": "stdout",
     "output_type": "stream",
     "text": [
      "wor\n"
     ]
    }
   ],
   "source": [
    "print(b[-5:-2])"
   ]
  },
  {
   "cell_type": "code",
   "execution_count": 154,
   "id": "18e92404",
   "metadata": {},
   "outputs": [
    {
     "name": "stdout",
     "output_type": "stream",
     "text": [
      "hello world\n"
     ]
    }
   ],
   "source": [
    "print(b[:])"
   ]
  },
  {
   "cell_type": "code",
   "execution_count": 155,
   "id": "fca60a44",
   "metadata": {},
   "outputs": [
    {
     "name": "stdout",
     "output_type": "stream",
     "text": [
      "hello\n"
     ]
    }
   ],
   "source": [
    "print(b[:5])"
   ]
  },
  {
   "cell_type": "code",
   "execution_count": 156,
   "id": "e1bd816a",
   "metadata": {},
   "outputs": [
    {
     "name": "stdout",
     "output_type": "stream",
     "text": [
      "llo world\n"
     ]
    }
   ],
   "source": [
    "print(b[2:])"
   ]
  },
  {
   "cell_type": "code",
   "execution_count": 157,
   "id": "527206d9",
   "metadata": {},
   "outputs": [],
   "source": [
    "# mosify string"
   ]
  },
  {
   "cell_type": "code",
   "execution_count": 158,
   "id": "1fa1b6e6",
   "metadata": {},
   "outputs": [],
   "source": [
    "b='Hello World'"
   ]
  },
  {
   "cell_type": "code",
   "execution_count": 159,
   "id": "fe909858",
   "metadata": {},
   "outputs": [
    {
     "name": "stdout",
     "output_type": "stream",
     "text": [
      "HELLO WORLD\n"
     ]
    }
   ],
   "source": [
    "print(b.upper())"
   ]
  },
  {
   "cell_type": "code",
   "execution_count": 160,
   "id": "ff2a773f",
   "metadata": {},
   "outputs": [
    {
     "name": "stdout",
     "output_type": "stream",
     "text": [
      "hello world\n"
     ]
    }
   ],
   "source": [
    "print(b.lower())"
   ]
  },
  {
   "cell_type": "code",
   "execution_count": 162,
   "id": "05aceeac",
   "metadata": {},
   "outputs": [
    {
     "data": {
      "text/plain": [
       "'bhiki pallai'"
      ]
     },
     "execution_count": 162,
     "metadata": {},
     "output_type": "execute_result"
    }
   ],
   "source": [
    "# remove space\n",
    "b=\" bhiki pallai\"\n",
    "b.strip()"
   ]
  },
  {
   "cell_type": "code",
   "execution_count": 163,
   "id": "4f99d183",
   "metadata": {},
   "outputs": [],
   "source": [
    "# replace string"
   ]
  },
  {
   "cell_type": "code",
   "execution_count": 164,
   "id": "a515a422",
   "metadata": {},
   "outputs": [],
   "source": [
    "a='bhiki pallai'"
   ]
  },
  {
   "cell_type": "code",
   "execution_count": 165,
   "id": "f8b5e8c6",
   "metadata": {},
   "outputs": [
    {
     "name": "stdout",
     "output_type": "stream",
     "text": [
      "baiki pallai\n"
     ]
    }
   ],
   "source": [
    "print(a.replace('h','a'))"
   ]
  },
  {
   "cell_type": "code",
   "execution_count": 166,
   "id": "ddc22bee",
   "metadata": {},
   "outputs": [],
   "source": [
    "# /split string"
   ]
  },
  {
   "cell_type": "code",
   "execution_count": 167,
   "id": "76040ec3",
   "metadata": {},
   "outputs": [
    {
     "name": "stdout",
     "output_type": "stream",
     "text": [
      "['hello', 'world']\n"
     ]
    }
   ],
   "source": [
    "a=\"hello world\"\n",
    "print(a.split(' '))"
   ]
  },
  {
   "cell_type": "code",
   "execution_count": 169,
   "id": "018123a3",
   "metadata": {},
   "outputs": [],
   "source": [
    "# concatination"
   ]
  },
  {
   "cell_type": "code",
   "execution_count": 170,
   "id": "568f01d2",
   "metadata": {},
   "outputs": [],
   "source": [
    "a='hello'\n",
    "b='bhiki'\n",
    "c=a+b"
   ]
  },
  {
   "cell_type": "code",
   "execution_count": 171,
   "id": "bc7bcbf5",
   "metadata": {},
   "outputs": [
    {
     "data": {
      "text/plain": [
       "'hellobhiki'"
      ]
     },
     "execution_count": 171,
     "metadata": {},
     "output_type": "execute_result"
    }
   ],
   "source": [
    "c"
   ]
  },
  {
   "cell_type": "code",
   "execution_count": 172,
   "id": "a5e85c0a",
   "metadata": {},
   "outputs": [
    {
     "name": "stdout",
     "output_type": "stream",
     "text": [
      "hello bhiki\n"
     ]
    }
   ],
   "source": [
    "print(a+' '+b)"
   ]
  },
  {
   "cell_type": "markdown",
   "id": "6df7588c",
   "metadata": {},
   "source": [
    "## string format"
   ]
  },
  {
   "cell_type": "code",
   "execution_count": 173,
   "id": "1b4c9f2e",
   "metadata": {},
   "outputs": [
    {
     "name": "stdout",
     "output_type": "stream",
     "text": [
      "my name is bhiki ad i am 36\n"
     ]
    }
   ],
   "source": [
    "age=36\n",
    "txt=\"my name is bhiki ad i am {}\"\n",
    "print(txt.format(age))"
   ]
  },
  {
   "cell_type": "code",
   "execution_count": 174,
   "id": "26f1c8b1",
   "metadata": {},
   "outputs": [],
   "source": [
    "a=45\n",
    "b=50\n",
    "c=60\n",
    "myorder=\"the price mango is {} ,apple price is {}, cherry is {}\""
   ]
  },
  {
   "cell_type": "code",
   "execution_count": 177,
   "id": "ed23a332",
   "metadata": {},
   "outputs": [
    {
     "name": "stdout",
     "output_type": "stream",
     "text": [
      "the price mango is 45 ,apple price is 50, cherry is 60\n"
     ]
    }
   ],
   "source": [
    "print(myorder.format(a,b,c))"
   ]
  },
  {
   "cell_type": "code",
   "execution_count": 178,
   "id": "b751a476",
   "metadata": {},
   "outputs": [
    {
     "name": "stdout",
     "output_type": "stream",
     "text": [
      "I want to pay 49.95 dollars for 3 pieces of item 567.\n"
     ]
    }
   ],
   "source": [
    "quantity = 3\n",
    "itemno = 567\n",
    "price = 49.95\n",
    "myorder = \"I want to pay {2} dollars for {0} pieces of item {1}.\"\n",
    "print(myorder.format(quantity, itemno, price))"
   ]
  },
  {
   "cell_type": "code",
   "execution_count": 179,
   "id": "d27eb0a6",
   "metadata": {},
   "outputs": [],
   "source": [
    "# escape char"
   ]
  },
  {
   "cell_type": "markdown",
   "id": "3fe57e8d",
   "metadata": {},
   "source": [
    "# Python divides the operators in the following groups:\n",
    "\n",
    "1. Arithmetic operators\n",
    "2. Assignment operators\n",
    "3. Comparison operators\n",
    "4. Logical operators\n",
    "5. Identity operators\n",
    "6. Membership operators\n",
    "7. Bitwise operators"
   ]
  },
  {
   "cell_type": "code",
   "execution_count": 181,
   "id": "1cad5dd1",
   "metadata": {},
   "outputs": [
    {
     "name": "stdout",
     "output_type": "stream",
     "text": [
      "true\n"
     ]
    }
   ],
   "source": [
    "fruit=['aple','cherry']\n",
    "if 'aple' in fruit:\n",
    "    print('true')"
   ]
  },
  {
   "cell_type": "code",
   "execution_count": 183,
   "id": "207fe71c",
   "metadata": {},
   "outputs": [
    {
     "name": "stdout",
     "output_type": "stream",
     "text": [
      "true\n"
     ]
    }
   ],
   "source": [
    "fruit=['aple','cherry']\n",
    "if 'apple' not in fruit:\n",
    "    print('true')"
   ]
  },
  {
   "cell_type": "markdown",
   "id": "57ccff7c",
   "metadata": {},
   "source": [
    "# lists"
   ]
  },
  {
   "cell_type": "code",
   "execution_count": 185,
   "id": "9819538d",
   "metadata": {},
   "outputs": [],
   "source": [
    "mylist=['apple','banana','cherry']"
   ]
  },
  {
   "cell_type": "code",
   "execution_count": 186,
   "id": "b7b514ae",
   "metadata": {},
   "outputs": [
    {
     "data": {
      "text/plain": [
       "['apple', 'banana', 'cherry']"
      ]
     },
     "execution_count": 186,
     "metadata": {},
     "output_type": "execute_result"
    }
   ],
   "source": [
    "mylist"
   ]
  },
  {
   "cell_type": "code",
   "execution_count": 187,
   "id": "a8f38e3f",
   "metadata": {},
   "outputs": [
    {
     "data": {
      "text/plain": [
       "list"
      ]
     },
     "execution_count": 187,
     "metadata": {},
     "output_type": "execute_result"
    }
   ],
   "source": [
    "type(mylist)"
   ]
  },
  {
   "cell_type": "code",
   "execution_count": 188,
   "id": "abf52793",
   "metadata": {},
   "outputs": [],
   "source": [
    "# allow duplicates"
   ]
  },
  {
   "cell_type": "code",
   "execution_count": 189,
   "id": "b1b6a1e4",
   "metadata": {},
   "outputs": [],
   "source": [
    "this=['a','b','c','a','b']"
   ]
  },
  {
   "cell_type": "code",
   "execution_count": 190,
   "id": "6df426a4",
   "metadata": {},
   "outputs": [
    {
     "data": {
      "text/plain": [
       "['a', 'b', 'c', 'a', 'b']"
      ]
     },
     "execution_count": 190,
     "metadata": {},
     "output_type": "execute_result"
    }
   ],
   "source": [
    "this"
   ]
  },
  {
   "cell_type": "code",
   "execution_count": 191,
   "id": "2e8d3472",
   "metadata": {},
   "outputs": [],
   "source": [
    "# list length"
   ]
  },
  {
   "cell_type": "code",
   "execution_count": 192,
   "id": "1c2520eb",
   "metadata": {},
   "outputs": [
    {
     "data": {
      "text/plain": [
       "5"
      ]
     },
     "execution_count": 192,
     "metadata": {},
     "output_type": "execute_result"
    }
   ],
   "source": [
    "len(this)"
   ]
  },
  {
   "cell_type": "code",
   "execution_count": 193,
   "id": "d57b9e58",
   "metadata": {},
   "outputs": [],
   "source": [
    "# list data types"
   ]
  },
  {
   "cell_type": "code",
   "execution_count": 194,
   "id": "a4899f6f",
   "metadata": {},
   "outputs": [],
   "source": [
    "a = ['bhiki',40,True,30.00]"
   ]
  },
  {
   "cell_type": "code",
   "execution_count": 195,
   "id": "335f2990",
   "metadata": {},
   "outputs": [
    {
     "data": {
      "text/plain": [
       "['bhiki', 40, True, 30.0]"
      ]
     },
     "execution_count": 195,
     "metadata": {},
     "output_type": "execute_result"
    }
   ],
   "source": [
    "a"
   ]
  },
  {
   "cell_type": "code",
   "execution_count": 196,
   "id": "9a3cb176",
   "metadata": {},
   "outputs": [],
   "source": [
    "# the list constructor"
   ]
  },
  {
   "cell_type": "code",
   "execution_count": 198,
   "id": "5e64fa79",
   "metadata": {},
   "outputs": [],
   "source": [
    "the=list(('a','b','c'))"
   ]
  },
  {
   "cell_type": "code",
   "execution_count": 199,
   "id": "a9f73d60",
   "metadata": {},
   "outputs": [
    {
     "data": {
      "text/plain": [
       "['a', 'b', 'c']"
      ]
     },
     "execution_count": 199,
     "metadata": {},
     "output_type": "execute_result"
    }
   ],
   "source": [
    "the"
   ]
  },
  {
   "cell_type": "code",
   "execution_count": 200,
   "id": "9f8d351c",
   "metadata": {},
   "outputs": [
    {
     "data": {
      "text/plain": [
       "list"
      ]
     },
     "execution_count": 200,
     "metadata": {},
     "output_type": "execute_result"
    }
   ],
   "source": [
    "type(the)"
   ]
  },
  {
   "cell_type": "markdown",
   "id": "2b0bce40",
   "metadata": {},
   "source": [
    "# Access list items"
   ]
  },
  {
   "cell_type": "code",
   "execution_count": 201,
   "id": "4c31e4fc",
   "metadata": {},
   "outputs": [],
   "source": [
    "this=['a','b','c','a','b']"
   ]
  },
  {
   "cell_type": "code",
   "execution_count": 202,
   "id": "9e798b8e",
   "metadata": {},
   "outputs": [
    {
     "data": {
      "text/plain": [
       "'b'"
      ]
     },
     "execution_count": 202,
     "metadata": {},
     "output_type": "execute_result"
    }
   ],
   "source": [
    "this[1]"
   ]
  },
  {
   "cell_type": "code",
   "execution_count": 203,
   "id": "4a80b120",
   "metadata": {},
   "outputs": [
    {
     "data": {
      "text/plain": [
       "['c', 'a', 'b']"
      ]
     },
     "execution_count": 203,
     "metadata": {},
     "output_type": "execute_result"
    }
   ],
   "source": [
    "this[2:5]"
   ]
  },
  {
   "cell_type": "code",
   "execution_count": 204,
   "id": "a724efdb",
   "metadata": {},
   "outputs": [
    {
     "data": {
      "text/plain": [
       "['a', 'b', 'c']"
      ]
     },
     "execution_count": 204,
     "metadata": {},
     "output_type": "execute_result"
    }
   ],
   "source": [
    "this[:3]"
   ]
  },
  {
   "cell_type": "code",
   "execution_count": 205,
   "id": "15d913ed",
   "metadata": {},
   "outputs": [
    {
     "data": {
      "text/plain": [
       "['c', 'a', 'b']"
      ]
     },
     "execution_count": 205,
     "metadata": {},
     "output_type": "execute_result"
    }
   ],
   "source": [
    "this[2:]"
   ]
  },
  {
   "cell_type": "code",
   "execution_count": 206,
   "id": "1b8f7943",
   "metadata": {},
   "outputs": [
    {
     "data": {
      "text/plain": [
       "['b', 'c', 'a']"
      ]
     },
     "execution_count": 206,
     "metadata": {},
     "output_type": "execute_result"
    }
   ],
   "source": [
    "this[-4:-1]"
   ]
  },
  {
   "cell_type": "code",
   "execution_count": 207,
   "id": "7cee8c65",
   "metadata": {},
   "outputs": [
    {
     "name": "stdout",
     "output_type": "stream",
     "text": [
      "Yes, 'apple' is in the fruits list\n"
     ]
    }
   ],
   "source": [
    "thislist = [\"apple\", \"banana\", \"cherry\"]\n",
    "if \"apple\" in thislist:\n",
    "  print(\"Yes, 'apple' is in the fruits list\")"
   ]
  },
  {
   "cell_type": "code",
   "execution_count": 208,
   "id": "4b81d333",
   "metadata": {},
   "outputs": [],
   "source": [
    "# change list items"
   ]
  },
  {
   "cell_type": "code",
   "execution_count": 215,
   "id": "a0d0a737",
   "metadata": {},
   "outputs": [],
   "source": [
    "thislist = [\"apple\", \"banana\", \"cherry\"]\n",
    "thislist[0]='Karela'"
   ]
  },
  {
   "cell_type": "code",
   "execution_count": 216,
   "id": "eb3dbb68",
   "metadata": {},
   "outputs": [
    {
     "data": {
      "text/plain": [
       "['Karela', 'banana', 'cherry']"
      ]
     },
     "execution_count": 216,
     "metadata": {},
     "output_type": "execute_result"
    }
   ],
   "source": [
    "thislist"
   ]
  },
  {
   "cell_type": "code",
   "execution_count": 217,
   "id": "fef38291",
   "metadata": {},
   "outputs": [],
   "source": [
    "# thislist = [\"apple\", \"banana\", \"cherry\", \"orange\", \"kiwi\", \"mango\"]\n",
    "# thislist[1:3] = [\"blackcurrant\", \"watermelon\"]\n",
    "# print(thislist)"
   ]
  },
  {
   "cell_type": "code",
   "execution_count": 218,
   "id": "2476bda0",
   "metadata": {},
   "outputs": [],
   "source": [
    "thislist[1:2]=['orange','cake']"
   ]
  },
  {
   "cell_type": "code",
   "execution_count": 219,
   "id": "38d11502",
   "metadata": {},
   "outputs": [
    {
     "data": {
      "text/plain": [
       "['Karela', 'orange', 'cake', 'cherry']"
      ]
     },
     "execution_count": 219,
     "metadata": {},
     "output_type": "execute_result"
    }
   ],
   "source": [
    "thislist"
   ]
  },
  {
   "cell_type": "code",
   "execution_count": 220,
   "id": "a52b9065",
   "metadata": {},
   "outputs": [
    {
     "name": "stdout",
     "output_type": "stream",
     "text": [
      "['apple', 'watermelon']\n"
     ]
    }
   ],
   "source": [
    "thislist = [\"apple\", \"banana\", \"cherry\"]\n",
    "thislist[1:3] = [\"watermelon\"]\n",
    "print(thislist)"
   ]
  },
  {
   "cell_type": "code",
   "execution_count": 221,
   "id": "e564ccfb",
   "metadata": {},
   "outputs": [],
   "source": [
    "# insert items in the list"
   ]
  },
  {
   "cell_type": "code",
   "execution_count": 222,
   "id": "3b81bc02",
   "metadata": {},
   "outputs": [],
   "source": [
    "thislist = [\"apple\", \"banana\", \"cherry\"]\n",
    "thislist.insert(2,'watermelon')"
   ]
  },
  {
   "cell_type": "code",
   "execution_count": 223,
   "id": "75b3eeb7",
   "metadata": {},
   "outputs": [
    {
     "data": {
      "text/plain": [
       "['apple', 'banana', 'watermelon', 'cherry']"
      ]
     },
     "execution_count": 223,
     "metadata": {},
     "output_type": "execute_result"
    }
   ],
   "source": [
    "thislist"
   ]
  },
  {
   "cell_type": "code",
   "execution_count": 224,
   "id": "88ce43f8",
   "metadata": {},
   "outputs": [],
   "source": [
    "# add list items"
   ]
  },
  {
   "cell_type": "code",
   "execution_count": 225,
   "id": "cd7f4f23",
   "metadata": {},
   "outputs": [],
   "source": [
    "the = [\"apple\", \"banana\", \"cherry\"]"
   ]
  },
  {
   "cell_type": "code",
   "execution_count": 226,
   "id": "07f97d76",
   "metadata": {},
   "outputs": [],
   "source": [
    "the.append('bhiki')"
   ]
  },
  {
   "cell_type": "code",
   "execution_count": 227,
   "id": "581df67e",
   "metadata": {},
   "outputs": [
    {
     "data": {
      "text/plain": [
       "['apple', 'banana', 'cherry', 'bhiki']"
      ]
     },
     "execution_count": 227,
     "metadata": {},
     "output_type": "execute_result"
    }
   ],
   "source": [
    "the"
   ]
  },
  {
   "cell_type": "code",
   "execution_count": 228,
   "id": "d0519b12",
   "metadata": {},
   "outputs": [],
   "source": [
    "the.insert(1,'pallai')"
   ]
  },
  {
   "cell_type": "code",
   "execution_count": 229,
   "id": "07a2e0b5",
   "metadata": {},
   "outputs": [
    {
     "data": {
      "text/plain": [
       "['apple', 'pallai', 'banana', 'cherry', 'bhiki']"
      ]
     },
     "execution_count": 229,
     "metadata": {},
     "output_type": "execute_result"
    }
   ],
   "source": [
    "the"
   ]
  },
  {
   "cell_type": "code",
   "execution_count": 230,
   "id": "8e32ce65",
   "metadata": {},
   "outputs": [],
   "source": [
    "# append another list with the list"
   ]
  },
  {
   "cell_type": "code",
   "execution_count": 231,
   "id": "eb4e837b",
   "metadata": {},
   "outputs": [],
   "source": [
    "the1 = ['kk','bk','gk']"
   ]
  },
  {
   "cell_type": "code",
   "execution_count": 232,
   "id": "610c7d91",
   "metadata": {},
   "outputs": [],
   "source": [
    "the.extend(the1)"
   ]
  },
  {
   "cell_type": "code",
   "execution_count": 233,
   "id": "686799ab",
   "metadata": {},
   "outputs": [
    {
     "data": {
      "text/plain": [
       "['apple', 'pallai', 'banana', 'cherry', 'bhiki', 'kk', 'bk', 'gk']"
      ]
     },
     "execution_count": 233,
     "metadata": {},
     "output_type": "execute_result"
    }
   ],
   "source": [
    "the"
   ]
  },
  {
   "cell_type": "code",
   "execution_count": 234,
   "id": "7c9795c9",
   "metadata": {},
   "outputs": [],
   "source": [
    "# add tuple\n",
    "tup=('ikea','kia','mango')"
   ]
  },
  {
   "cell_type": "code",
   "execution_count": 235,
   "id": "e7e85e12",
   "metadata": {},
   "outputs": [],
   "source": [
    "the.extend(tup)"
   ]
  },
  {
   "cell_type": "code",
   "execution_count": 236,
   "id": "8cd703bf",
   "metadata": {},
   "outputs": [
    {
     "data": {
      "text/plain": [
       "['apple',\n",
       " 'pallai',\n",
       " 'banana',\n",
       " 'cherry',\n",
       " 'bhiki',\n",
       " 'kk',\n",
       " 'bk',\n",
       " 'gk',\n",
       " 'ikea',\n",
       " 'kia',\n",
       " 'mango']"
      ]
     },
     "execution_count": 236,
     "metadata": {},
     "output_type": "execute_result"
    }
   ],
   "source": [
    "the"
   ]
  },
  {
   "cell_type": "code",
   "execution_count": 237,
   "id": "25867438",
   "metadata": {},
   "outputs": [
    {
     "data": {
      "text/plain": [
       "list"
      ]
     },
     "execution_count": 237,
     "metadata": {},
     "output_type": "execute_result"
    }
   ],
   "source": [
    "type(the)"
   ]
  },
  {
   "cell_type": "code",
   "execution_count": 238,
   "id": "29d609fb",
   "metadata": {},
   "outputs": [],
   "source": [
    "# remove items"
   ]
  },
  {
   "cell_type": "code",
   "execution_count": 239,
   "id": "828ae679",
   "metadata": {},
   "outputs": [],
   "source": [
    "the.remove('pallai')"
   ]
  },
  {
   "cell_type": "code",
   "execution_count": 240,
   "id": "8c1dfd75",
   "metadata": {},
   "outputs": [
    {
     "data": {
      "text/plain": [
       "['apple',\n",
       " 'banana',\n",
       " 'cherry',\n",
       " 'bhiki',\n",
       " 'kk',\n",
       " 'bk',\n",
       " 'gk',\n",
       " 'ikea',\n",
       " 'kia',\n",
       " 'mango']"
      ]
     },
     "execution_count": 240,
     "metadata": {},
     "output_type": "execute_result"
    }
   ],
   "source": [
    "the"
   ]
  },
  {
   "cell_type": "code",
   "execution_count": 242,
   "id": "65733301",
   "metadata": {},
   "outputs": [],
   "source": [
    "# remove specific index"
   ]
  },
  {
   "cell_type": "code",
   "execution_count": 243,
   "id": "4a95c61b",
   "metadata": {},
   "outputs": [
    {
     "data": {
      "text/plain": [
       "'banana'"
      ]
     },
     "execution_count": 243,
     "metadata": {},
     "output_type": "execute_result"
    }
   ],
   "source": [
    "the.pop(1)"
   ]
  },
  {
   "cell_type": "code",
   "execution_count": 244,
   "id": "359afc41",
   "metadata": {},
   "outputs": [
    {
     "data": {
      "text/plain": [
       "['apple', 'cherry', 'bhiki', 'kk', 'bk', 'gk', 'ikea', 'kia', 'mango']"
      ]
     },
     "execution_count": 244,
     "metadata": {},
     "output_type": "execute_result"
    }
   ],
   "source": [
    "the"
   ]
  },
  {
   "cell_type": "code",
   "execution_count": 245,
   "id": "580e4aeb",
   "metadata": {},
   "outputs": [
    {
     "data": {
      "text/plain": [
       "'mango'"
      ]
     },
     "execution_count": 245,
     "metadata": {},
     "output_type": "execute_result"
    }
   ],
   "source": [
    "the.pop()"
   ]
  },
  {
   "cell_type": "code",
   "execution_count": 246,
   "id": "0cca69a6",
   "metadata": {},
   "outputs": [
    {
     "data": {
      "text/plain": [
       "['apple', 'cherry', 'bhiki', 'kk', 'bk', 'gk', 'ikea', 'kia']"
      ]
     },
     "execution_count": 246,
     "metadata": {},
     "output_type": "execute_result"
    }
   ],
   "source": [
    "the"
   ]
  },
  {
   "cell_type": "code",
   "execution_count": 247,
   "id": "c3726504",
   "metadata": {},
   "outputs": [],
   "source": [
    "del the[0]"
   ]
  },
  {
   "cell_type": "code",
   "execution_count": 248,
   "id": "37ae644d",
   "metadata": {},
   "outputs": [
    {
     "data": {
      "text/plain": [
       "['cherry', 'bhiki', 'kk', 'bk', 'gk', 'ikea', 'kia']"
      ]
     },
     "execution_count": 248,
     "metadata": {},
     "output_type": "execute_result"
    }
   ],
   "source": [
    "the"
   ]
  },
  {
   "cell_type": "code",
   "execution_count": 249,
   "id": "11d16d2c",
   "metadata": {},
   "outputs": [],
   "source": [
    "the.clear()"
   ]
  },
  {
   "cell_type": "code",
   "execution_count": 250,
   "id": "50ffdd42",
   "metadata": {},
   "outputs": [
    {
     "data": {
      "text/plain": [
       "[]"
      ]
     },
     "execution_count": 250,
     "metadata": {},
     "output_type": "execute_result"
    }
   ],
   "source": [
    "the"
   ]
  },
  {
   "cell_type": "code",
   "execution_count": 251,
   "id": "2335e666",
   "metadata": {},
   "outputs": [],
   "source": [
    "# loop list"
   ]
  },
  {
   "cell_type": "code",
   "execution_count": 252,
   "id": "679e657b",
   "metadata": {},
   "outputs": [],
   "source": [
    "the = [\"apple\", \"banana\", \"cherry\"]"
   ]
  },
  {
   "cell_type": "code",
   "execution_count": 253,
   "id": "f35e6dab",
   "metadata": {},
   "outputs": [
    {
     "name": "stdout",
     "output_type": "stream",
     "text": [
      "['apple', 'banana', 'cherry']\n",
      "['apple', 'banana', 'cherry']\n",
      "['apple', 'banana', 'cherry']\n"
     ]
    }
   ],
   "source": [
    "for i in the:\n",
    "    print(the)"
   ]
  },
  {
   "cell_type": "code",
   "execution_count": 254,
   "id": "bb0272a6",
   "metadata": {},
   "outputs": [],
   "source": [
    "# loop through index numbers"
   ]
  },
  {
   "cell_type": "code",
   "execution_count": 257,
   "id": "85cb0d77",
   "metadata": {},
   "outputs": [
    {
     "name": "stdout",
     "output_type": "stream",
     "text": [
      "apple\n",
      "banana\n",
      "cherry\n"
     ]
    }
   ],
   "source": [
    "for i in range(len(the)):\n",
    "    print(the[i])"
   ]
  },
  {
   "cell_type": "code",
   "execution_count": 259,
   "id": "55fc9ae0",
   "metadata": {},
   "outputs": [
    {
     "name": "stdout",
     "output_type": "stream",
     "text": [
      "apple\n",
      "banana\n",
      "cherry\n"
     ]
    }
   ],
   "source": [
    "i=0\n",
    "while i<len(the):\n",
    "    print(the[i])\n",
    "    i=i+1"
   ]
  },
  {
   "cell_type": "code",
   "execution_count": 260,
   "id": "5e9b7289",
   "metadata": {},
   "outputs": [],
   "source": [
    "# looping comprehension"
   ]
  },
  {
   "cell_type": "code",
   "execution_count": 261,
   "id": "85c02bdb",
   "metadata": {},
   "outputs": [
    {
     "name": "stdout",
     "output_type": "stream",
     "text": [
      "apple\n",
      "banana\n",
      "cherry\n"
     ]
    },
    {
     "data": {
      "text/plain": [
       "[None, None, None]"
      ]
     },
     "execution_count": 261,
     "metadata": {},
     "output_type": "execute_result"
    }
   ],
   "source": [
    "[print(x) for x in the]"
   ]
  },
  {
   "cell_type": "code",
   "execution_count": 262,
   "id": "a5fc8dd7",
   "metadata": {},
   "outputs": [],
   "source": [
    "# list comopherension"
   ]
  },
  {
   "cell_type": "code",
   "execution_count": 263,
   "id": "b498d129",
   "metadata": {},
   "outputs": [],
   "source": [
    "fruits = [\"apple\", \"banana\", \"cherry\", \"kiwi\", \"mango\"]\n",
    "newlist=[]\n",
    "\n",
    "for x in fruits:\n",
    "    if 'a' in x:\n",
    "        newlist.append(x)"
   ]
  },
  {
   "cell_type": "code",
   "execution_count": 264,
   "id": "596d63dc",
   "metadata": {},
   "outputs": [
    {
     "data": {
      "text/plain": [
       "['apple', 'banana', 'mango']"
      ]
     },
     "execution_count": 264,
     "metadata": {},
     "output_type": "execute_result"
    }
   ],
   "source": [
    "newlist"
   ]
  },
  {
   "cell_type": "code",
   "execution_count": 265,
   "id": "d796a447",
   "metadata": {},
   "outputs": [],
   "source": [
    "fruits = [\"apple\", \"banana\", \"cherry\", \"kiwi\", \"mango\"]\n",
    "newlist2=[x for x in fruits if 'a' in x]"
   ]
  },
  {
   "cell_type": "code",
   "execution_count": 266,
   "id": "df37b1b3",
   "metadata": {},
   "outputs": [
    {
     "data": {
      "text/plain": [
       "['apple', 'banana', 'mango']"
      ]
     },
     "execution_count": 266,
     "metadata": {},
     "output_type": "execute_result"
    }
   ],
   "source": [
    "newlist2"
   ]
  },
  {
   "cell_type": "code",
   "execution_count": 267,
   "id": "3690664b",
   "metadata": {},
   "outputs": [],
   "source": [
    "li3=[x for x in fruits]"
   ]
  },
  {
   "cell_type": "code",
   "execution_count": 268,
   "id": "98edf290",
   "metadata": {},
   "outputs": [
    {
     "data": {
      "text/plain": [
       "['apple', 'banana', 'cherry', 'kiwi', 'mango']"
      ]
     },
     "execution_count": 268,
     "metadata": {},
     "output_type": "execute_result"
    }
   ],
   "source": [
    "li3"
   ]
  },
  {
   "cell_type": "code",
   "execution_count": 269,
   "id": "a204dd30",
   "metadata": {},
   "outputs": [],
   "source": [
    "# newlist = [expression for item in iterable if condition == True]"
   ]
  },
  {
   "cell_type": "code",
   "execution_count": 270,
   "id": "6b2bd497",
   "metadata": {},
   "outputs": [
    {
     "data": {
      "text/plain": [
       "['banana', 'cherry', 'kiwi', 'mango']"
      ]
     },
     "execution_count": 270,
     "metadata": {},
     "output_type": "execute_result"
    }
   ],
   "source": [
    "li4=[x for x in fruits if x!='apple']\n",
    "li4"
   ]
  },
  {
   "cell_type": "code",
   "execution_count": 271,
   "id": "b693e306",
   "metadata": {},
   "outputs": [],
   "source": [
    "li5=['bhiki' for x in fruits]"
   ]
  },
  {
   "cell_type": "code",
   "execution_count": 272,
   "id": "a916d90d",
   "metadata": {},
   "outputs": [
    {
     "data": {
      "text/plain": [
       "['bhiki', 'bhiki', 'bhiki', 'bhiki', 'bhiki']"
      ]
     },
     "execution_count": 272,
     "metadata": {},
     "output_type": "execute_result"
    }
   ],
   "source": [
    "li5"
   ]
  },
  {
   "cell_type": "code",
   "execution_count": 273,
   "id": "5547867b",
   "metadata": {},
   "outputs": [],
   "source": [
    "# sort list"
   ]
  },
  {
   "cell_type": "code",
   "execution_count": 274,
   "id": "93d055a3",
   "metadata": {},
   "outputs": [
    {
     "data": {
      "text/plain": [
       "['banana', 'kiwi', 'mango', 'orange', 'pineapple']"
      ]
     },
     "execution_count": 274,
     "metadata": {},
     "output_type": "execute_result"
    }
   ],
   "source": [
    "thislist = [\"orange\", \"mango\", \"kiwi\", \"pineapple\", \"banana\"]\n",
    "thislist.sort()\n",
    "thislist"
   ]
  },
  {
   "cell_type": "code",
   "execution_count": 275,
   "id": "e39d327d",
   "metadata": {},
   "outputs": [
    {
     "data": {
      "text/plain": [
       "[50, 56, 65, 82, 100]"
      ]
     },
     "execution_count": 275,
     "metadata": {},
     "output_type": "execute_result"
    }
   ],
   "source": [
    "the = [100,50,65,82,56]\n",
    "the.sort()\n",
    "the"
   ]
  },
  {
   "cell_type": "code",
   "execution_count": 276,
   "id": "beb012f5",
   "metadata": {},
   "outputs": [],
   "source": [
    "# sort is descending"
   ]
  },
  {
   "cell_type": "code",
   "execution_count": 278,
   "id": "365dffda",
   "metadata": {},
   "outputs": [
    {
     "data": {
      "text/plain": [
       "[100, 82, 65, 56, 50]"
      ]
     },
     "execution_count": 278,
     "metadata": {},
     "output_type": "execute_result"
    }
   ],
   "source": [
    "the.sort(reverse=True)\n",
    "the"
   ]
  },
  {
   "cell_type": "code",
   "execution_count": 279,
   "id": "af4a3053",
   "metadata": {},
   "outputs": [],
   "source": [
    "# customize sort fnction"
   ]
  },
  {
   "cell_type": "code",
   "execution_count": 280,
   "id": "731e8959",
   "metadata": {},
   "outputs": [
    {
     "data": {
      "text/plain": [
       "[50, 56, 65, 82, 100]"
      ]
     },
     "execution_count": 280,
     "metadata": {},
     "output_type": "execute_result"
    }
   ],
   "source": [
    "def myunc(n):\n",
    "    return abs(n-50)\n",
    "\n",
    "the.sort(key=myunc)\n",
    "the"
   ]
  },
  {
   "cell_type": "code",
   "execution_count": 281,
   "id": "ca68e080",
   "metadata": {},
   "outputs": [],
   "source": [
    "# case sesitive"
   ]
  },
  {
   "cell_type": "code",
   "execution_count": 282,
   "id": "1e635e33",
   "metadata": {},
   "outputs": [],
   "source": [
    "thislist.sort(key=str.lower)"
   ]
  },
  {
   "cell_type": "code",
   "execution_count": 283,
   "id": "cedbe6c0",
   "metadata": {},
   "outputs": [
    {
     "data": {
      "text/plain": [
       "['banana', 'kiwi', 'mango', 'orange', 'pineapple']"
      ]
     },
     "execution_count": 283,
     "metadata": {},
     "output_type": "execute_result"
    }
   ],
   "source": [
    "thislist"
   ]
  },
  {
   "cell_type": "code",
   "execution_count": 284,
   "id": "4f3ce492",
   "metadata": {},
   "outputs": [],
   "source": [
    "# reverse order"
   ]
  },
  {
   "cell_type": "code",
   "execution_count": 285,
   "id": "586e9b15",
   "metadata": {},
   "outputs": [
    {
     "data": {
      "text/plain": [
       "['pineapple', 'orange', 'mango', 'kiwi', 'banana']"
      ]
     },
     "execution_count": 285,
     "metadata": {},
     "output_type": "execute_result"
    }
   ],
   "source": [
    "thislist.reverse()\n",
    "thislist"
   ]
  },
  {
   "cell_type": "code",
   "execution_count": 286,
   "id": "46b7469c",
   "metadata": {},
   "outputs": [],
   "source": [
    "# copy list"
   ]
  },
  {
   "cell_type": "code",
   "execution_count": 287,
   "id": "0cb90cc6",
   "metadata": {},
   "outputs": [
    {
     "data": {
      "text/plain": [
       "['pineapple', 'orange', 'mango', 'kiwi', 'banana']"
      ]
     },
     "execution_count": 287,
     "metadata": {},
     "output_type": "execute_result"
    }
   ],
   "source": [
    "thislist"
   ]
  },
  {
   "cell_type": "code",
   "execution_count": 288,
   "id": "480d6506",
   "metadata": {},
   "outputs": [],
   "source": [
    "new=thislist.copy()"
   ]
  },
  {
   "cell_type": "code",
   "execution_count": 289,
   "id": "c046d6b9",
   "metadata": {},
   "outputs": [
    {
     "data": {
      "text/plain": [
       "['pineapple', 'orange', 'mango', 'kiwi', 'banana']"
      ]
     },
     "execution_count": 289,
     "metadata": {},
     "output_type": "execute_result"
    }
   ],
   "source": [
    "new"
   ]
  },
  {
   "cell_type": "code",
   "execution_count": 290,
   "id": "2f77571b",
   "metadata": {},
   "outputs": [],
   "source": [
    "new2=list(thislist)"
   ]
  },
  {
   "cell_type": "code",
   "execution_count": 291,
   "id": "4d2911d9",
   "metadata": {},
   "outputs": [
    {
     "data": {
      "text/plain": [
       "['pineapple', 'orange', 'mango', 'kiwi', 'banana']"
      ]
     },
     "execution_count": 291,
     "metadata": {},
     "output_type": "execute_result"
    }
   ],
   "source": [
    "new2"
   ]
  },
  {
   "cell_type": "code",
   "execution_count": 292,
   "id": "86d55774",
   "metadata": {},
   "outputs": [],
   "source": [
    "# join list"
   ]
  },
  {
   "cell_type": "code",
   "execution_count": 293,
   "id": "8b4926dd",
   "metadata": {},
   "outputs": [],
   "source": [
    "li1=['a','b','c']\n",
    "li2=[2,3,4]"
   ]
  },
  {
   "cell_type": "code",
   "execution_count": 294,
   "id": "1dd09ae6",
   "metadata": {},
   "outputs": [
    {
     "data": {
      "text/plain": [
       "['a', 'b', 'c', 2, 3, 4]"
      ]
     },
     "execution_count": 294,
     "metadata": {},
     "output_type": "execute_result"
    }
   ],
   "source": [
    "li1+li2"
   ]
  },
  {
   "cell_type": "code",
   "execution_count": 295,
   "id": "3a19c7ca",
   "metadata": {},
   "outputs": [],
   "source": [
    "li2.append(li1)"
   ]
  },
  {
   "cell_type": "code",
   "execution_count": 300,
   "id": "56220b8b",
   "metadata": {},
   "outputs": [
    {
     "name": "stdout",
     "output_type": "stream",
     "text": [
      "[2, 3, 4, ['a', 'b', 'c'], 'mango', 'mango', 'mango', 'mango', 'mango', 'mango']\n"
     ]
    }
   ],
   "source": [
    "print(li2)"
   ]
  },
  {
   "cell_type": "code",
   "execution_count": 298,
   "id": "bbb6f50d",
   "metadata": {},
   "outputs": [
    {
     "data": {
      "text/plain": [
       "[2,\n",
       " 3,\n",
       " 4,\n",
       " ['a', 'b', 'c'],\n",
       " 'mango',\n",
       " 'mango',\n",
       " 'mango',\n",
       " 'mango',\n",
       " 'mango',\n",
       " 'mango']"
      ]
     },
     "execution_count": 298,
     "metadata": {},
     "output_type": "execute_result"
    }
   ],
   "source": [
    "for s in li1:\n",
    "    li2.append(x)\n",
    "    \n",
    "li2"
   ]
  },
  {
   "cell_type": "code",
   "execution_count": 299,
   "id": "880850a6",
   "metadata": {},
   "outputs": [
    {
     "name": "stdout",
     "output_type": "stream",
     "text": [
      "['a', 'b', 'c', 1, 2, 3]\n"
     ]
    }
   ],
   "source": [
    "list1 = [\"a\", \"b\" , \"c\"]\n",
    "list2 = [1, 2, 3]\n",
    "\n",
    "for x in list2:\n",
    "  list1.append(x)\n",
    "\n",
    "print(list1)"
   ]
  },
  {
   "cell_type": "code",
   "execution_count": 301,
   "id": "d4bd7a91",
   "metadata": {},
   "outputs": [
    {
     "name": "stdout",
     "output_type": "stream",
     "text": [
      "['a', 'b', 'c', 1, 2, 3]\n"
     ]
    }
   ],
   "source": [
    "list1 = [\"a\", \"b\" , \"c\"]\n",
    "list2 = [1, 2, 3]\n",
    "\n",
    "list1.extend(list2)\n",
    "print(list1)"
   ]
  },
  {
   "cell_type": "markdown",
   "id": "9e5445ab",
   "metadata": {},
   "source": [
    "# python tuples"
   ]
  },
  {
   "cell_type": "code",
   "execution_count": 1,
   "id": "072d07a6",
   "metadata": {},
   "outputs": [],
   "source": [
    "mytuple=('apple','banana','cherry')"
   ]
  },
  {
   "cell_type": "code",
   "execution_count": 2,
   "id": "7fe33661",
   "metadata": {},
   "outputs": [
    {
     "data": {
      "text/plain": [
       "('apple', 'banana', 'cherry')"
      ]
     },
     "execution_count": 2,
     "metadata": {},
     "output_type": "execute_result"
    }
   ],
   "source": [
    "mytuple"
   ]
  },
  {
   "cell_type": "code",
   "execution_count": 3,
   "id": "dad50009",
   "metadata": {},
   "outputs": [
    {
     "data": {
      "text/plain": [
       "tuple"
      ]
     },
     "execution_count": 3,
     "metadata": {},
     "output_type": "execute_result"
    }
   ],
   "source": [
    "type(mytuple)"
   ]
  },
  {
   "cell_type": "code",
   "execution_count": 4,
   "id": "8d35ec31",
   "metadata": {},
   "outputs": [],
   "source": [
    "thistuple = (\"apple\", \"banana\", \"cherry\", \"apple\", \"cherry\")"
   ]
  },
  {
   "cell_type": "code",
   "execution_count": 5,
   "id": "e78c61eb",
   "metadata": {},
   "outputs": [
    {
     "data": {
      "text/plain": [
       "('apple', 'banana', 'cherry', 'apple', 'cherry')"
      ]
     },
     "execution_count": 5,
     "metadata": {},
     "output_type": "execute_result"
    }
   ],
   "source": [
    "thistuple"
   ]
  },
  {
   "cell_type": "code",
   "execution_count": 6,
   "id": "1b85f477",
   "metadata": {},
   "outputs": [],
   "source": [
    "# allow duplicates"
   ]
  },
  {
   "cell_type": "code",
   "execution_count": 7,
   "id": "66e70b48",
   "metadata": {},
   "outputs": [
    {
     "data": {
      "text/plain": [
       "3"
      ]
     },
     "execution_count": 7,
     "metadata": {},
     "output_type": "execute_result"
    }
   ],
   "source": [
    "len(mytuple)"
   ]
  },
  {
   "cell_type": "code",
   "execution_count": 8,
   "id": "d701b46d",
   "metadata": {},
   "outputs": [],
   "source": [
    "# cerate a one tuple"
   ]
  },
  {
   "cell_type": "code",
   "execution_count": 9,
   "id": "debd2a68",
   "metadata": {},
   "outputs": [],
   "source": [
    "tp1=('bhiki',)"
   ]
  },
  {
   "cell_type": "code",
   "execution_count": 10,
   "id": "cf76992a",
   "metadata": {},
   "outputs": [
    {
     "data": {
      "text/plain": [
       "tuple"
      ]
     },
     "execution_count": 10,
     "metadata": {},
     "output_type": "execute_result"
    }
   ],
   "source": [
    "type(tp1)"
   ]
  },
  {
   "cell_type": "code",
   "execution_count": 11,
   "id": "9ff13131",
   "metadata": {},
   "outputs": [],
   "source": [
    "tp2=('biki')"
   ]
  },
  {
   "cell_type": "code",
   "execution_count": 12,
   "id": "f2d9b823",
   "metadata": {},
   "outputs": [
    {
     "data": {
      "text/plain": [
       "str"
      ]
     },
     "execution_count": 12,
     "metadata": {},
     "output_type": "execute_result"
    }
   ],
   "source": [
    "type(tp2)"
   ]
  },
  {
   "cell_type": "code",
   "execution_count": 13,
   "id": "d6737ed6",
   "metadata": {},
   "outputs": [],
   "source": [
    "tuple1 = (\"apple\", \"banana\", \"cherry\")\n",
    "tuple2 = (1, 5, 7, 9, 3)\n",
    "tuple3 = (True, False, False)"
   ]
  },
  {
   "cell_type": "code",
   "execution_count": 15,
   "id": "7918a423",
   "metadata": {},
   "outputs": [
    {
     "data": {
      "text/plain": [
       "tuple"
      ]
     },
     "execution_count": 15,
     "metadata": {},
     "output_type": "execute_result"
    }
   ],
   "source": [
    "type(tuple2)"
   ]
  },
  {
   "cell_type": "code",
   "execution_count": 16,
   "id": "0784c79d",
   "metadata": {},
   "outputs": [],
   "source": [
    "# tuple constructor"
   ]
  },
  {
   "cell_type": "code",
   "execution_count": 17,
   "id": "d7b6dd89",
   "metadata": {},
   "outputs": [],
   "source": [
    "tup3=tuple(('a','b','c'))"
   ]
  },
  {
   "cell_type": "code",
   "execution_count": 18,
   "id": "64668733",
   "metadata": {},
   "outputs": [
    {
     "data": {
      "text/plain": [
       "('a', 'b', 'c')"
      ]
     },
     "execution_count": 18,
     "metadata": {},
     "output_type": "execute_result"
    }
   ],
   "source": [
    "tup3"
   ]
  },
  {
   "cell_type": "code",
   "execution_count": 19,
   "id": "9a133988",
   "metadata": {},
   "outputs": [],
   "source": [
    "# access tuple"
   ]
  },
  {
   "cell_type": "code",
   "execution_count": 20,
   "id": "60be69a5",
   "metadata": {},
   "outputs": [
    {
     "data": {
      "text/plain": [
       "('apple', 'banana', 'cherry')"
      ]
     },
     "execution_count": 20,
     "metadata": {},
     "output_type": "execute_result"
    }
   ],
   "source": [
    "tuple1"
   ]
  },
  {
   "cell_type": "code",
   "execution_count": 21,
   "id": "007ef0d6",
   "metadata": {},
   "outputs": [
    {
     "data": {
      "text/plain": [
       "'cherry'"
      ]
     },
     "execution_count": 21,
     "metadata": {},
     "output_type": "execute_result"
    }
   ],
   "source": [
    "tuple1[2]"
   ]
  },
  {
   "cell_type": "code",
   "execution_count": 22,
   "id": "98618931",
   "metadata": {},
   "outputs": [
    {
     "data": {
      "text/plain": [
       "'banana'"
      ]
     },
     "execution_count": 22,
     "metadata": {},
     "output_type": "execute_result"
    }
   ],
   "source": [
    "tuple1[-2]"
   ]
  },
  {
   "cell_type": "code",
   "execution_count": 24,
   "id": "f6487af3",
   "metadata": {},
   "outputs": [
    {
     "data": {
      "text/plain": [
       "('banana', 'cherry')"
      ]
     },
     "execution_count": 24,
     "metadata": {},
     "output_type": "execute_result"
    }
   ],
   "source": [
    "tuple1[1:3]"
   ]
  },
  {
   "cell_type": "code",
   "execution_count": 25,
   "id": "9318ded1",
   "metadata": {},
   "outputs": [
    {
     "data": {
      "text/plain": [
       "('apple', 'banana')"
      ]
     },
     "execution_count": 25,
     "metadata": {},
     "output_type": "execute_result"
    }
   ],
   "source": [
    "tuple1[-3:-1]"
   ]
  },
  {
   "cell_type": "code",
   "execution_count": 28,
   "id": "db553065",
   "metadata": {},
   "outputs": [
    {
     "data": {
      "text/plain": [
       "()"
      ]
     },
     "execution_count": 28,
     "metadata": {},
     "output_type": "execute_result"
    }
   ],
   "source": [
    "tuple1[-1:-3]"
   ]
  },
  {
   "cell_type": "code",
   "execution_count": 29,
   "id": "93e356c1",
   "metadata": {},
   "outputs": [
    {
     "data": {
      "text/plain": [
       "('cherry', 'banana', 'apple')"
      ]
     },
     "execution_count": 29,
     "metadata": {},
     "output_type": "execute_result"
    }
   ],
   "source": [
    "tuple1[::-1]"
   ]
  },
  {
   "cell_type": "code",
   "execution_count": 30,
   "id": "6fb82c45",
   "metadata": {},
   "outputs": [],
   "source": [
    "# check if statement"
   ]
  },
  {
   "cell_type": "code",
   "execution_count": 32,
   "id": "366e7d52",
   "metadata": {},
   "outputs": [
    {
     "name": "stdout",
     "output_type": "stream",
     "text": [
      "yes its present\n"
     ]
    }
   ],
   "source": [
    "if 'apple' in tuple1:\n",
    "    print('yes its present')"
   ]
  },
  {
   "cell_type": "code",
   "execution_count": 33,
   "id": "c1ba83c2",
   "metadata": {},
   "outputs": [],
   "source": [
    "# update tuples"
   ]
  },
  {
   "cell_type": "code",
   "execution_count": 34,
   "id": "7bbe7046",
   "metadata": {},
   "outputs": [],
   "source": [
    "x=tuple1"
   ]
  },
  {
   "cell_type": "code",
   "execution_count": 35,
   "id": "c5db5935",
   "metadata": {},
   "outputs": [
    {
     "data": {
      "text/plain": [
       "('apple', 'banana', 'cherry')"
      ]
     },
     "execution_count": 35,
     "metadata": {},
     "output_type": "execute_result"
    }
   ],
   "source": [
    "x"
   ]
  },
  {
   "cell_type": "code",
   "execution_count": 36,
   "id": "0d7c9f84",
   "metadata": {},
   "outputs": [
    {
     "data": {
      "text/plain": [
       "'banana'"
      ]
     },
     "execution_count": 36,
     "metadata": {},
     "output_type": "execute_result"
    }
   ],
   "source": [
    "x[1]"
   ]
  },
  {
   "cell_type": "code",
   "execution_count": 37,
   "id": "f1cd6839",
   "metadata": {},
   "outputs": [
    {
     "ename": "TypeError",
     "evalue": "'tuple' object does not support item assignment",
     "output_type": "error",
     "traceback": [
      "\u001b[1;31m---------------------------------------------------------------------------\u001b[0m",
      "\u001b[1;31mTypeError\u001b[0m                                 Traceback (most recent call last)",
      "\u001b[1;32m~\\AppData\\Local\\Temp\\ipykernel_8808\\948606370.py\u001b[0m in \u001b[0;36m<module>\u001b[1;34m\u001b[0m\n\u001b[1;32m----> 1\u001b[1;33m \u001b[0mx\u001b[0m\u001b[1;33m[\u001b[0m\u001b[1;36m1\u001b[0m\u001b[1;33m]\u001b[0m\u001b[1;33m=\u001b[0m\u001b[1;34m'kiwi'\u001b[0m\u001b[1;33m\u001b[0m\u001b[1;33m\u001b[0m\u001b[0m\n\u001b[0m",
      "\u001b[1;31mTypeError\u001b[0m: 'tuple' object does not support item assignment"
     ]
    }
   ],
   "source": [
    "x[1]='kiwi'"
   ]
  },
  {
   "cell_type": "code",
   "execution_count": 38,
   "id": "abaf8a6c",
   "metadata": {},
   "outputs": [],
   "source": [
    "y=list(x)"
   ]
  },
  {
   "cell_type": "code",
   "execution_count": 39,
   "id": "a94f1294",
   "metadata": {},
   "outputs": [
    {
     "data": {
      "text/plain": [
       "'banana'"
      ]
     },
     "execution_count": 39,
     "metadata": {},
     "output_type": "execute_result"
    }
   ],
   "source": [
    "y[1]"
   ]
  },
  {
   "cell_type": "code",
   "execution_count": 40,
   "id": "46c95006",
   "metadata": {},
   "outputs": [],
   "source": [
    "y[1]='kiwi'"
   ]
  },
  {
   "cell_type": "code",
   "execution_count": 41,
   "id": "9e9b1e82",
   "metadata": {},
   "outputs": [],
   "source": [
    "x=tuple(y)"
   ]
  },
  {
   "cell_type": "code",
   "execution_count": 42,
   "id": "a1c5706c",
   "metadata": {},
   "outputs": [
    {
     "data": {
      "text/plain": [
       "('apple', 'kiwi', 'cherry')"
      ]
     },
     "execution_count": 42,
     "metadata": {},
     "output_type": "execute_result"
    }
   ],
   "source": [
    "x"
   ]
  },
  {
   "cell_type": "code",
   "execution_count": 43,
   "id": "004d79d8",
   "metadata": {},
   "outputs": [
    {
     "data": {
      "text/plain": [
       "list"
      ]
     },
     "execution_count": 43,
     "metadata": {},
     "output_type": "execute_result"
    }
   ],
   "source": [
    "type(y)"
   ]
  },
  {
   "cell_type": "code",
   "execution_count": 44,
   "id": "684ffcb9",
   "metadata": {},
   "outputs": [],
   "source": [
    "y.append('bhiki')"
   ]
  },
  {
   "cell_type": "code",
   "execution_count": 45,
   "id": "0b19b99a",
   "metadata": {},
   "outputs": [],
   "source": [
    "x=tuple(y)"
   ]
  },
  {
   "cell_type": "code",
   "execution_count": 46,
   "id": "b026b4f9",
   "metadata": {},
   "outputs": [
    {
     "data": {
      "text/plain": [
       "('apple', 'kiwi', 'cherry', 'bhiki')"
      ]
     },
     "execution_count": 46,
     "metadata": {},
     "output_type": "execute_result"
    }
   ],
   "source": [
    "x"
   ]
  },
  {
   "cell_type": "code",
   "execution_count": 47,
   "id": "878ce8c4",
   "metadata": {},
   "outputs": [],
   "source": [
    "z=('ram','krishna')"
   ]
  },
  {
   "cell_type": "code",
   "execution_count": 48,
   "id": "b5453bf7",
   "metadata": {},
   "outputs": [
    {
     "data": {
      "text/plain": [
       "tuple"
      ]
     },
     "execution_count": 48,
     "metadata": {},
     "output_type": "execute_result"
    }
   ],
   "source": [
    "type(z)"
   ]
  },
  {
   "cell_type": "code",
   "execution_count": 49,
   "id": "4b8ba12b",
   "metadata": {},
   "outputs": [],
   "source": [
    "x+=z"
   ]
  },
  {
   "cell_type": "code",
   "execution_count": 50,
   "id": "f95bc24b",
   "metadata": {},
   "outputs": [
    {
     "data": {
      "text/plain": [
       "('apple', 'kiwi', 'cherry', 'bhiki', 'ram', 'krishna')"
      ]
     },
     "execution_count": 50,
     "metadata": {},
     "output_type": "execute_result"
    }
   ],
   "source": [
    "x"
   ]
  },
  {
   "cell_type": "code",
   "execution_count": 51,
   "id": "a46f6147",
   "metadata": {},
   "outputs": [],
   "source": [
    "# remove item from tuples"
   ]
  },
  {
   "cell_type": "code",
   "execution_count": 54,
   "id": "1e284bfc",
   "metadata": {},
   "outputs": [
    {
     "data": {
      "text/plain": [
       "('apple', 'kiwi', 'cherry', 'bhiki', 'ram', 'krishna')"
      ]
     },
     "execution_count": 54,
     "metadata": {},
     "output_type": "execute_result"
    }
   ],
   "source": [
    "x"
   ]
  },
  {
   "cell_type": "code",
   "execution_count": 55,
   "id": "1b6148cb",
   "metadata": {},
   "outputs": [],
   "source": [
    "y=list(x)"
   ]
  },
  {
   "cell_type": "code",
   "execution_count": 56,
   "id": "222b3606",
   "metadata": {},
   "outputs": [
    {
     "data": {
      "text/plain": [
       "['apple', 'kiwi', 'cherry', 'bhiki', 'ram', 'krishna']"
      ]
     },
     "execution_count": 56,
     "metadata": {},
     "output_type": "execute_result"
    }
   ],
   "source": [
    "y"
   ]
  },
  {
   "cell_type": "code",
   "execution_count": 59,
   "id": "f825335a",
   "metadata": {},
   "outputs": [],
   "source": [
    "y.remove('bhiki')"
   ]
  },
  {
   "cell_type": "code",
   "execution_count": 61,
   "id": "dffcb591",
   "metadata": {},
   "outputs": [
    {
     "data": {
      "text/plain": [
       "['apple', 'kiwi', 'cherry', 'ram', 'krishna']"
      ]
     },
     "execution_count": 61,
     "metadata": {},
     "output_type": "execute_result"
    }
   ],
   "source": [
    "y"
   ]
  },
  {
   "cell_type": "code",
   "execution_count": 62,
   "id": "d8958f87",
   "metadata": {},
   "outputs": [],
   "source": [
    "x=tuple(y)"
   ]
  },
  {
   "cell_type": "code",
   "execution_count": 63,
   "id": "dc54aa12",
   "metadata": {},
   "outputs": [
    {
     "data": {
      "text/plain": [
       "('apple', 'kiwi', 'cherry', 'ram', 'krishna')"
      ]
     },
     "execution_count": 63,
     "metadata": {},
     "output_type": "execute_result"
    }
   ],
   "source": [
    "x"
   ]
  },
  {
   "cell_type": "code",
   "execution_count": 64,
   "id": "bd766a99",
   "metadata": {},
   "outputs": [],
   "source": [
    "# delete keyword"
   ]
  },
  {
   "cell_type": "code",
   "execution_count": 65,
   "id": "8ffe32c1",
   "metadata": {},
   "outputs": [],
   "source": [
    "del x"
   ]
  },
  {
   "cell_type": "code",
   "execution_count": 67,
   "id": "8a237f3a",
   "metadata": {},
   "outputs": [],
   "source": [
    "# unpack tuple"
   ]
  },
  {
   "cell_type": "code",
   "execution_count": 78,
   "id": "315ead52",
   "metadata": {},
   "outputs": [],
   "source": [
    "fruits = (\"apple\", \"banana\", \"cherry\")"
   ]
  },
  {
   "cell_type": "code",
   "execution_count": 69,
   "id": "02b36c16",
   "metadata": {},
   "outputs": [],
   "source": [
    "(green,yellw,red)=fruits"
   ]
  },
  {
   "cell_type": "code",
   "execution_count": 70,
   "id": "913bb802",
   "metadata": {},
   "outputs": [
    {
     "name": "stdout",
     "output_type": "stream",
     "text": [
      "apple\n",
      "banana\n",
      "cherry\n"
     ]
    }
   ],
   "source": [
    "print(green)\n",
    "print(yellw)\n",
    "print(red)"
   ]
  },
  {
   "cell_type": "code",
   "execution_count": 71,
   "id": "ec19318a",
   "metadata": {},
   "outputs": [],
   "source": [
    "fruits = (\"apple\", \"banana\", \"cherry\", \"strawberry\", \"raspberry\")"
   ]
  },
  {
   "cell_type": "code",
   "execution_count": 72,
   "id": "90962578",
   "metadata": {},
   "outputs": [],
   "source": [
    "(green,yellw,*red)=fruits"
   ]
  },
  {
   "cell_type": "code",
   "execution_count": 73,
   "id": "154bf64c",
   "metadata": {},
   "outputs": [
    {
     "name": "stdout",
     "output_type": "stream",
     "text": [
      "apple\n",
      "banana\n",
      "['cherry', 'strawberry', 'raspberry']\n"
     ]
    }
   ],
   "source": [
    "print(green)\n",
    "print(yellw)\n",
    "print(red)"
   ]
  },
  {
   "cell_type": "code",
   "execution_count": 74,
   "id": "c51628c8",
   "metadata": {},
   "outputs": [],
   "source": [
    "# if you add asttrik then the other values get added to the list"
   ]
  },
  {
   "cell_type": "code",
   "execution_count": 75,
   "id": "9890fcac",
   "metadata": {},
   "outputs": [],
   "source": [
    "(green,*yellw,red)=fruits"
   ]
  },
  {
   "cell_type": "code",
   "execution_count": 76,
   "id": "82647a3a",
   "metadata": {},
   "outputs": [
    {
     "name": "stdout",
     "output_type": "stream",
     "text": [
      "apple\n",
      "['banana', 'cherry', 'strawberry']\n",
      "raspberry\n"
     ]
    }
   ],
   "source": [
    "print(green)\n",
    "print(yellw)\n",
    "print(red)"
   ]
  },
  {
   "cell_type": "code",
   "execution_count": 77,
   "id": "42f2ba20",
   "metadata": {},
   "outputs": [],
   "source": [
    "# loop tuples"
   ]
  },
  {
   "cell_type": "code",
   "execution_count": 79,
   "id": "c51c9ba2",
   "metadata": {},
   "outputs": [
    {
     "data": {
      "text/plain": [
       "('apple', 'banana', 'cherry')"
      ]
     },
     "execution_count": 79,
     "metadata": {},
     "output_type": "execute_result"
    }
   ],
   "source": [
    "fruits"
   ]
  },
  {
   "cell_type": "code",
   "execution_count": 81,
   "id": "869a94a9",
   "metadata": {},
   "outputs": [
    {
     "name": "stdout",
     "output_type": "stream",
     "text": [
      "apple\n",
      "banana\n",
      "cherry\n"
     ]
    }
   ],
   "source": [
    "for x in fruits:\n",
    "    print(x)"
   ]
  },
  {
   "cell_type": "code",
   "execution_count": 83,
   "id": "0b8b226c",
   "metadata": {},
   "outputs": [
    {
     "name": "stdout",
     "output_type": "stream",
     "text": [
      "apple\n",
      "banana\n",
      "cherry\n"
     ]
    }
   ],
   "source": [
    "for i in range(len(fruits)):\n",
    "    print(fruits[i])"
   ]
  },
  {
   "cell_type": "code",
   "execution_count": 84,
   "id": "f30e671c",
   "metadata": {},
   "outputs": [
    {
     "name": "stdout",
     "output_type": "stream",
     "text": [
      "apple\n",
      "banana\n",
      "cherry\n"
     ]
    }
   ],
   "source": [
    "i=0\n",
    "while i<len(fruits):\n",
    "    print(fruits[i])\n",
    "    i=i+1"
   ]
  },
  {
   "cell_type": "code",
   "execution_count": 85,
   "id": "acbd9da9",
   "metadata": {},
   "outputs": [
    {
     "data": {
      "text/plain": [
       "'cherry'"
      ]
     },
     "execution_count": 85,
     "metadata": {},
     "output_type": "execute_result"
    }
   ],
   "source": [
    "x"
   ]
  },
  {
   "cell_type": "code",
   "execution_count": 87,
   "id": "f0558816",
   "metadata": {},
   "outputs": [
    {
     "data": {
      "text/plain": [
       "('apple', 'banana', 'cherry')"
      ]
     },
     "execution_count": 87,
     "metadata": {},
     "output_type": "execute_result"
    }
   ],
   "source": [
    "tuple1"
   ]
  },
  {
   "cell_type": "code",
   "execution_count": 88,
   "id": "c3c6f186",
   "metadata": {},
   "outputs": [
    {
     "data": {
      "text/plain": [
       "(1, 5, 7, 9, 3)"
      ]
     },
     "execution_count": 88,
     "metadata": {},
     "output_type": "execute_result"
    }
   ],
   "source": [
    "tuple2"
   ]
  },
  {
   "cell_type": "code",
   "execution_count": 89,
   "id": "281f6a6e",
   "metadata": {},
   "outputs": [],
   "source": [
    "tt=tuple1+tuple2"
   ]
  },
  {
   "cell_type": "code",
   "execution_count": 90,
   "id": "0576c081",
   "metadata": {},
   "outputs": [
    {
     "data": {
      "text/plain": [
       "('apple', 'banana', 'cherry', 1, 5, 7, 9, 3)"
      ]
     },
     "execution_count": 90,
     "metadata": {},
     "output_type": "execute_result"
    }
   ],
   "source": [
    "tt"
   ]
  },
  {
   "cell_type": "code",
   "execution_count": 93,
   "id": "dacaa65d",
   "metadata": {},
   "outputs": [],
   "source": [
    "s=fruits*2"
   ]
  },
  {
   "cell_type": "code",
   "execution_count": 95,
   "id": "62637c51",
   "metadata": {},
   "outputs": [
    {
     "data": {
      "text/plain": [
       "2"
      ]
     },
     "execution_count": 95,
     "metadata": {},
     "output_type": "execute_result"
    }
   ],
   "source": [
    "s.count('apple')"
   ]
  },
  {
   "cell_type": "code",
   "execution_count": 98,
   "id": "96d2d29f",
   "metadata": {},
   "outputs": [
    {
     "data": {
      "text/plain": [
       "0"
      ]
     },
     "execution_count": 98,
     "metadata": {},
     "output_type": "execute_result"
    }
   ],
   "source": [
    "fruits.index('apple')"
   ]
  },
  {
   "cell_type": "markdown",
   "id": "b66baa1b",
   "metadata": {},
   "source": [
    "# sets"
   ]
  },
  {
   "cell_type": "code",
   "execution_count": 99,
   "id": "f3de46ed",
   "metadata": {},
   "outputs": [],
   "source": [
    "myset = {\"apple\", \"banana\", \"cherry\"}"
   ]
  },
  {
   "cell_type": "code",
   "execution_count": 100,
   "id": "0ae96e2d",
   "metadata": {},
   "outputs": [
    {
     "data": {
      "text/plain": [
       "set"
      ]
     },
     "execution_count": 100,
     "metadata": {},
     "output_type": "execute_result"
    }
   ],
   "source": [
    "type(myset)"
   ]
  },
  {
   "cell_type": "code",
   "execution_count": 101,
   "id": "816e7faf",
   "metadata": {},
   "outputs": [
    {
     "data": {
      "text/plain": [
       "3"
      ]
     },
     "execution_count": 101,
     "metadata": {},
     "output_type": "execute_result"
    }
   ],
   "source": [
    "len(myset)"
   ]
  },
  {
   "cell_type": "code",
   "execution_count": 102,
   "id": "f6ecad44",
   "metadata": {},
   "outputs": [],
   "source": [
    "thisset = {\"apple\", \"banana\", \"cherry\", \"apple\"}"
   ]
  },
  {
   "cell_type": "code",
   "execution_count": 103,
   "id": "b963ef5e",
   "metadata": {},
   "outputs": [
    {
     "data": {
      "text/plain": [
       "{'apple', 'banana', 'cherry'}"
      ]
     },
     "execution_count": 103,
     "metadata": {},
     "output_type": "execute_result"
    }
   ],
   "source": [
    "thisset"
   ]
  },
  {
   "cell_type": "code",
   "execution_count": 104,
   "id": "7ec83829",
   "metadata": {},
   "outputs": [],
   "source": [
    "# dosenot allow dupliactes"
   ]
  },
  {
   "cell_type": "code",
   "execution_count": 105,
   "id": "c0614939",
   "metadata": {},
   "outputs": [],
   "source": [
    "set1 = {\"abc\", 34, True, 40, \"male\"}\n"
   ]
  },
  {
   "cell_type": "code",
   "execution_count": 106,
   "id": "dc497b22",
   "metadata": {},
   "outputs": [
    {
     "data": {
      "text/plain": [
       "{34, 40, True, 'abc', 'male'}"
      ]
     },
     "execution_count": 106,
     "metadata": {},
     "output_type": "execute_result"
    }
   ],
   "source": [
    "set1"
   ]
  },
  {
   "cell_type": "code",
   "execution_count": 107,
   "id": "a9da4c40",
   "metadata": {},
   "outputs": [],
   "source": [
    "# displayed above in ascending oreders"
   ]
  },
  {
   "cell_type": "code",
   "execution_count": 109,
   "id": "094fec76",
   "metadata": {},
   "outputs": [],
   "source": [
    "set2=set((\"apple\", \"banana\", \"cherry\"))"
   ]
  },
  {
   "cell_type": "code",
   "execution_count": 110,
   "id": "2f68ee2f",
   "metadata": {},
   "outputs": [
    {
     "data": {
      "text/plain": [
       "set"
      ]
     },
     "execution_count": 110,
     "metadata": {},
     "output_type": "execute_result"
    }
   ],
   "source": [
    "type(set2)"
   ]
  },
  {
   "cell_type": "markdown",
   "id": "1b1550cb",
   "metadata": {},
   "source": [
    "1. List is a collection which is ordered and changeable. Allows duplicate members.\n",
    "2. Tuple is a collection which is ordered and unchangeable. Allows duplicate members.\n",
    "3. Set is a collection which is unordered, unchangeable*, and unindexed. No duplicate members.\n",
    "4. Dictionary is a collection which is ordered** and changeable. No duplicate members."
   ]
  },
  {
   "cell_type": "code",
   "execution_count": 112,
   "id": "982463fe",
   "metadata": {},
   "outputs": [],
   "source": [
    "# access items"
   ]
  },
  {
   "cell_type": "code",
   "execution_count": 113,
   "id": "78d32150",
   "metadata": {},
   "outputs": [
    {
     "data": {
      "text/plain": [
       "{'apple', 'banana', 'cherry'}"
      ]
     },
     "execution_count": 113,
     "metadata": {},
     "output_type": "execute_result"
    }
   ],
   "source": [
    "thisset"
   ]
  },
  {
   "cell_type": "code",
   "execution_count": 114,
   "id": "320e0ce8",
   "metadata": {},
   "outputs": [
    {
     "name": "stdout",
     "output_type": "stream",
     "text": [
      "apple\n",
      "banana\n",
      "cherry\n"
     ]
    }
   ],
   "source": [
    "for x in thisset:\n",
    "    print(x)"
   ]
  },
  {
   "cell_type": "code",
   "execution_count": 115,
   "id": "d7089873",
   "metadata": {},
   "outputs": [
    {
     "name": "stdout",
     "output_type": "stream",
     "text": [
      "True\n"
     ]
    }
   ],
   "source": [
    "print('apple' in thisset)"
   ]
  },
  {
   "cell_type": "code",
   "execution_count": 116,
   "id": "8a0fb14b",
   "metadata": {},
   "outputs": [
    {
     "data": {
      "text/plain": [
       "{'apple', 'banana', 'cherry'}"
      ]
     },
     "execution_count": 116,
     "metadata": {},
     "output_type": "execute_result"
    }
   ],
   "source": [
    "thisset"
   ]
  },
  {
   "cell_type": "code",
   "execution_count": 117,
   "id": "2c93d538",
   "metadata": {},
   "outputs": [],
   "source": [
    "thisset.add('orange')"
   ]
  },
  {
   "cell_type": "code",
   "execution_count": 118,
   "id": "691125f0",
   "metadata": {},
   "outputs": [
    {
     "data": {
      "text/plain": [
       "{'apple', 'banana', 'cherry', 'orange'}"
      ]
     },
     "execution_count": 118,
     "metadata": {},
     "output_type": "execute_result"
    }
   ],
   "source": [
    "thisset"
   ]
  },
  {
   "cell_type": "code",
   "execution_count": 119,
   "id": "6c9c3e94",
   "metadata": {},
   "outputs": [],
   "source": [
    "# To add items from another set into the current set, use the update() method."
   ]
  },
  {
   "cell_type": "code",
   "execution_count": 120,
   "id": "7d46a096",
   "metadata": {},
   "outputs": [],
   "source": [
    "thisset = {\"apple\", \"banana\", \"cherry\"}\n",
    "tropical = {\"pineapple\", \"mango\", \"papaya\"}"
   ]
  },
  {
   "cell_type": "code",
   "execution_count": 121,
   "id": "82b6536c",
   "metadata": {},
   "outputs": [],
   "source": [
    "thisset.update(tropical)"
   ]
  },
  {
   "cell_type": "code",
   "execution_count": 122,
   "id": "b11cc91c",
   "metadata": {},
   "outputs": [
    {
     "data": {
      "text/plain": [
       "{'apple', 'banana', 'cherry', 'mango', 'papaya', 'pineapple'}"
      ]
     },
     "execution_count": 122,
     "metadata": {},
     "output_type": "execute_result"
    }
   ],
   "source": [
    "thisset"
   ]
  },
  {
   "cell_type": "code",
   "execution_count": 123,
   "id": "95e42c18",
   "metadata": {},
   "outputs": [],
   "source": [
    "ll=['kiwi','orange']"
   ]
  },
  {
   "cell_type": "code",
   "execution_count": 124,
   "id": "98f57a06",
   "metadata": {},
   "outputs": [],
   "source": [
    "thisset.update(ll)"
   ]
  },
  {
   "cell_type": "code",
   "execution_count": 125,
   "id": "b75ef9e7",
   "metadata": {},
   "outputs": [
    {
     "data": {
      "text/plain": [
       "{'apple', 'banana', 'cherry', 'kiwi', 'mango', 'orange', 'papaya', 'pineapple'}"
      ]
     },
     "execution_count": 125,
     "metadata": {},
     "output_type": "execute_result"
    }
   ],
   "source": [
    "thisset"
   ]
  },
  {
   "cell_type": "code",
   "execution_count": 126,
   "id": "d709815b",
   "metadata": {},
   "outputs": [],
   "source": [
    "# remove set items"
   ]
  },
  {
   "cell_type": "code",
   "execution_count": 127,
   "id": "9b4f15f8",
   "metadata": {},
   "outputs": [],
   "source": [
    "thisset = {\"apple\", \"banana\", \"cherry\"}"
   ]
  },
  {
   "cell_type": "code",
   "execution_count": 128,
   "id": "ba06ffe1",
   "metadata": {},
   "outputs": [],
   "source": [
    "thisset.remove('banana')"
   ]
  },
  {
   "cell_type": "code",
   "execution_count": 129,
   "id": "a188be9c",
   "metadata": {},
   "outputs": [
    {
     "data": {
      "text/plain": [
       "{'apple', 'cherry'}"
      ]
     },
     "execution_count": 129,
     "metadata": {},
     "output_type": "execute_result"
    }
   ],
   "source": [
    "thisset"
   ]
  },
  {
   "cell_type": "code",
   "execution_count": 131,
   "id": "7e0a3a82",
   "metadata": {},
   "outputs": [
    {
     "name": "stdout",
     "output_type": "stream",
     "text": [
      "{'apple', 'cherry'}\n"
     ]
    }
   ],
   "source": [
    "thisset = {\"apple\", \"banana\", \"cherry\"}\n",
    "\n",
    "thisset.discard(\"banana\")\n",
    "\n",
    "print(thisset)"
   ]
  },
  {
   "cell_type": "code",
   "execution_count": 132,
   "id": "976db94a",
   "metadata": {},
   "outputs": [],
   "source": [
    "thisset = {\"apple\", \"banana\", \"cherry\"}"
   ]
  },
  {
   "cell_type": "code",
   "execution_count": 137,
   "id": "14fe1559",
   "metadata": {},
   "outputs": [],
   "source": [
    "x=thisset.pop()"
   ]
  },
  {
   "cell_type": "code",
   "execution_count": 134,
   "id": "9b840954",
   "metadata": {},
   "outputs": [
    {
     "data": {
      "text/plain": [
       "'apple'"
      ]
     },
     "execution_count": 134,
     "metadata": {},
     "output_type": "execute_result"
    }
   ],
   "source": [
    "x"
   ]
  },
  {
   "cell_type": "code",
   "execution_count": 135,
   "id": "7c5e06b7",
   "metadata": {},
   "outputs": [
    {
     "data": {
      "text/plain": [
       "{'banana', 'cherry'}"
      ]
     },
     "execution_count": 135,
     "metadata": {},
     "output_type": "execute_result"
    }
   ],
   "source": [
    "thisset"
   ]
  },
  {
   "cell_type": "code",
   "execution_count": 138,
   "id": "4a08ecb3",
   "metadata": {},
   "outputs": [],
   "source": [
    "thisset.clear()"
   ]
  },
  {
   "cell_type": "code",
   "execution_count": 139,
   "id": "619a61e0",
   "metadata": {},
   "outputs": [
    {
     "data": {
      "text/plain": [
       "set()"
      ]
     },
     "execution_count": 139,
     "metadata": {},
     "output_type": "execute_result"
    }
   ],
   "source": [
    "thisset"
   ]
  },
  {
   "cell_type": "code",
   "execution_count": 140,
   "id": "fde33ee7",
   "metadata": {},
   "outputs": [],
   "source": [
    "del thisset"
   ]
  },
  {
   "cell_type": "code",
   "execution_count": 141,
   "id": "4440f8aa",
   "metadata": {},
   "outputs": [
    {
     "ename": "NameError",
     "evalue": "name 'thiset' is not defined",
     "output_type": "error",
     "traceback": [
      "\u001b[1;31m---------------------------------------------------------------------------\u001b[0m",
      "\u001b[1;31mNameError\u001b[0m                                 Traceback (most recent call last)",
      "\u001b[1;32m~\\AppData\\Local\\Temp\\ipykernel_8808\\3371468383.py\u001b[0m in \u001b[0;36m<module>\u001b[1;34m\u001b[0m\n\u001b[1;32m----> 1\u001b[1;33m \u001b[0mthiset\u001b[0m\u001b[1;33m\u001b[0m\u001b[1;33m\u001b[0m\u001b[0m\n\u001b[0m",
      "\u001b[1;31mNameError\u001b[0m: name 'thiset' is not defined"
     ]
    }
   ],
   "source": [
    "thiset"
   ]
  },
  {
   "cell_type": "code",
   "execution_count": 142,
   "id": "eafbdf42",
   "metadata": {},
   "outputs": [
    {
     "name": "stdout",
     "output_type": "stream",
     "text": [
      "apple\n",
      "banana\n",
      "cherry\n"
     ]
    }
   ],
   "source": [
    "thisset = {\"apple\", \"banana\", \"cherry\"}\n",
    "\n",
    "for x in thisset:\n",
    "  print(x)\n"
   ]
  },
  {
   "cell_type": "code",
   "execution_count": 143,
   "id": "e47f9411",
   "metadata": {},
   "outputs": [],
   "source": [
    "# join sets"
   ]
  },
  {
   "cell_type": "code",
   "execution_count": 144,
   "id": "e2dc2e8a",
   "metadata": {},
   "outputs": [],
   "source": [
    "set1={'a','b','c'}\n",
    "set2={1,2,3}"
   ]
  },
  {
   "cell_type": "code",
   "execution_count": 147,
   "id": "0ad34a44",
   "metadata": {},
   "outputs": [],
   "source": [
    "set3=set1.union(set2)"
   ]
  },
  {
   "cell_type": "code",
   "execution_count": 148,
   "id": "b693f1cc",
   "metadata": {},
   "outputs": [
    {
     "data": {
      "text/plain": [
       "{1, 2, 3, 'a', 'b', 'c'}"
      ]
     },
     "execution_count": 148,
     "metadata": {},
     "output_type": "execute_result"
    }
   ],
   "source": [
    "set3"
   ]
  },
  {
   "cell_type": "code",
   "execution_count": 155,
   "id": "0bce195f",
   "metadata": {},
   "outputs": [],
   "source": [
    "set1.update(set2)"
   ]
  },
  {
   "cell_type": "code",
   "execution_count": 156,
   "id": "d3c9c1cd",
   "metadata": {},
   "outputs": [
    {
     "name": "stdout",
     "output_type": "stream",
     "text": [
      "{1, 2, 3, 'b', 'c', 'a'}\n"
     ]
    }
   ],
   "source": [
    "print(set1)"
   ]
  },
  {
   "cell_type": "code",
   "execution_count": 154,
   "id": "549463ce",
   "metadata": {},
   "outputs": [
    {
     "name": "stdout",
     "output_type": "stream",
     "text": [
      "{1, 'c', 2, 3, 'b', 'a'}\n"
     ]
    }
   ],
   "source": [
    "set1 = {\"a\", \"b\" , \"c\"}\n",
    "set2 = {1, 2, 3}\n",
    "\n",
    "set1.update(set2)\n",
    "print(set1)"
   ]
  },
  {
   "cell_type": "code",
   "execution_count": 157,
   "id": "bff56dc5",
   "metadata": {},
   "outputs": [],
   "source": [
    "x = {\"apple\", \"banana\", \"cherry\"}\n",
    "y = {\"google\", \"microsoft\", \"apple\"}\n",
    "set4=x.union(y)"
   ]
  },
  {
   "cell_type": "code",
   "execution_count": 158,
   "id": "b8542bac",
   "metadata": {},
   "outputs": [
    {
     "data": {
      "text/plain": [
       "{'apple', 'banana', 'cherry', 'google', 'microsoft'}"
      ]
     },
     "execution_count": 158,
     "metadata": {},
     "output_type": "execute_result"
    }
   ],
   "source": [
    "set4"
   ]
  },
  {
   "cell_type": "code",
   "execution_count": 159,
   "id": "d991c5d0",
   "metadata": {},
   "outputs": [],
   "source": [
    "# union and update are remove the duplicates"
   ]
  },
  {
   "cell_type": "code",
   "execution_count": 160,
   "id": "7455df1f",
   "metadata": {},
   "outputs": [],
   "source": [
    "# insertion_update() is used to save the duplicates"
   ]
  },
  {
   "cell_type": "code",
   "execution_count": 167,
   "id": "f28c7c18",
   "metadata": {},
   "outputs": [],
   "source": [
    "x = {\"apple\", \"banana\", \"cherry\"}\n",
    "y = {\"google\", \"microsoft\", \"apple\"}"
   ]
  },
  {
   "cell_type": "code",
   "execution_count": 162,
   "id": "8df57d77",
   "metadata": {},
   "outputs": [],
   "source": [
    "# x.intersection_update(y)"
   ]
  },
  {
   "cell_type": "code",
   "execution_count": 168,
   "id": "972b1aa4",
   "metadata": {},
   "outputs": [
    {
     "data": {
      "text/plain": [
       "{'apple', 'banana', 'cherry'}"
      ]
     },
     "execution_count": 168,
     "metadata": {},
     "output_type": "execute_result"
    }
   ],
   "source": [
    "x"
   ]
  },
  {
   "cell_type": "code",
   "execution_count": 169,
   "id": "d65aaa89",
   "metadata": {},
   "outputs": [],
   "source": [
    "z=x.intersection(y)"
   ]
  },
  {
   "cell_type": "code",
   "execution_count": 170,
   "id": "1f4badd7",
   "metadata": {},
   "outputs": [
    {
     "data": {
      "text/plain": [
       "{'apple'}"
      ]
     },
     "execution_count": 170,
     "metadata": {},
     "output_type": "execute_result"
    }
   ],
   "source": [
    "z"
   ]
  },
  {
   "cell_type": "code",
   "execution_count": 172,
   "id": "413df26b",
   "metadata": {},
   "outputs": [
    {
     "data": {
      "text/plain": [
       "{'banana', 'cherry', 'google', 'microsoft'}"
      ]
     },
     "execution_count": 172,
     "metadata": {},
     "output_type": "execute_result"
    }
   ],
   "source": [
    "x = {\"apple\", \"banana\", \"cherry\"}\n",
    "y = {\"google\", \"microsoft\", \"apple\"}\n",
    "\n",
    "x.symmetric_difference_update(y)\n",
    "# keep all but remove the duplicates\n",
    "x"
   ]
  },
  {
   "cell_type": "code",
   "execution_count": 173,
   "id": "16183d3f",
   "metadata": {},
   "outputs": [
    {
     "name": "stdout",
     "output_type": "stream",
     "text": [
      "{'banana', 'microsoft', 'google', 'cherry'}\n"
     ]
    }
   ],
   "source": [
    "x = {\"apple\", \"banana\", \"cherry\"}\n",
    "y = {\"google\", \"microsoft\", \"apple\"}\n",
    "\n",
    "z = x.symmetric_difference(y)\n",
    "\n",
    "print(z)"
   ]
  },
  {
   "cell_type": "code",
   "execution_count": 174,
   "id": "36cb1c09",
   "metadata": {},
   "outputs": [],
   "source": [
    "x = {\"apple\", \"banana\", \"cherry\", True}\n",
    "y = {\"google\", 1, \"apple\", 2}\n",
    "\n",
    "z = x.symmetric_difference(y)"
   ]
  },
  {
   "cell_type": "code",
   "execution_count": 175,
   "id": "f63faf1f",
   "metadata": {},
   "outputs": [
    {
     "data": {
      "text/plain": [
       "{2, 'banana', 'cherry', 'google'}"
      ]
     },
     "execution_count": 175,
     "metadata": {},
     "output_type": "execute_result"
    }
   ],
   "source": [
    "z"
   ]
  },
  {
   "cell_type": "code",
   "execution_count": null,
   "id": "73a6e1c2",
   "metadata": {},
   "outputs": [],
   "source": []
  }
 ],
 "metadata": {
  "kernelspec": {
   "display_name": "Python 3 (ipykernel)",
   "language": "python",
   "name": "python3"
  },
  "language_info": {
   "codemirror_mode": {
    "name": "ipython",
    "version": 3
   },
   "file_extension": ".py",
   "mimetype": "text/x-python",
   "name": "python",
   "nbconvert_exporter": "python",
   "pygments_lexer": "ipython3",
   "version": "3.9.13"
  }
 },
 "nbformat": 4,
 "nbformat_minor": 5
}
