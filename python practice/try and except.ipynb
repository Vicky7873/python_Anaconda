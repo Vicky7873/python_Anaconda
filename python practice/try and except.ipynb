{
 "cells": [
  {
   "cell_type": "code",
   "execution_count": 1,
   "id": "4c99c541",
   "metadata": {},
   "outputs": [
    {
     "name": "stdout",
     "output_type": "stream",
     "text": [
      "an exception occured\n"
     ]
    }
   ],
   "source": [
    "try:\n",
    "    print(x)\n",
    "except:\n",
    "    print(\"an exception occured\")"
   ]
  },
  {
   "cell_type": "code",
   "execution_count": 3,
   "id": "a73303c9",
   "metadata": {},
   "outputs": [
    {
     "name": "stdout",
     "output_type": "stream",
     "text": [
      "variable x is not defined\n"
     ]
    }
   ],
   "source": [
    "try:\n",
    "    print(x)\n",
    "except NameError:\n",
    "    print('variable x is not defined')\n",
    "except:\n",
    "    print('somethinf else went wrong')"
   ]
  },
  {
   "cell_type": "code",
   "execution_count": 4,
   "id": "7ca95c27",
   "metadata": {},
   "outputs": [],
   "source": [
    "# else method"
   ]
  },
  {
   "cell_type": "code",
   "execution_count": 6,
   "id": "8e697602",
   "metadata": {},
   "outputs": [
    {
     "name": "stdout",
     "output_type": "stream",
     "text": [
      "hello\n",
      "nothing went wrong\n"
     ]
    }
   ],
   "source": [
    "try:\n",
    "    print('hello')\n",
    "except:\n",
    "    print('something went wrong')\n",
    "else:\n",
    "    print('nothing went wrong')"
   ]
  },
  {
   "cell_type": "code",
   "execution_count": 7,
   "id": "ded6e47a",
   "metadata": {},
   "outputs": [
    {
     "name": "stdout",
     "output_type": "stream",
     "text": [
      "something went wrong\n"
     ]
    }
   ],
   "source": [
    "try:\n",
    "    print(x)\n",
    "except:\n",
    "    print('something went wrong')\n",
    "else:\n",
    "    print('nothing went wrong')"
   ]
  },
  {
   "cell_type": "code",
   "execution_count": 8,
   "id": "f59e961c",
   "metadata": {},
   "outputs": [],
   "source": [
    "# finally"
   ]
  },
  {
   "cell_type": "code",
   "execution_count": 9,
   "id": "52b3b801",
   "metadata": {},
   "outputs": [
    {
     "name": "stdout",
     "output_type": "stream",
     "text": [
      "something went wrong\n",
      "the try except is finished\n"
     ]
    }
   ],
   "source": [
    "try:\n",
    "    print(x)\n",
    "except:\n",
    "    print('something went wrong')\n",
    "finally:\n",
    "    print(\"the try except is finished\")"
   ]
  },
  {
   "cell_type": "code",
   "execution_count": 12,
   "id": "04a3030d",
   "metadata": {},
   "outputs": [
    {
     "name": "stdout",
     "output_type": "stream",
     "text": [
      "Something went wrong when opening the file\n"
     ]
    }
   ],
   "source": [
    "try:\n",
    "    f = open(\"demofile.txt\")\n",
    "    try:\n",
    "        f.write(\"Lorum Ipsum\")\n",
    "    except:\n",
    "        print(\"Something went wrong when writing to the file\")\n",
    "    finally:\n",
    "        f.close()\n",
    "except:\n",
    "    print(\"Something went wrong when opening the file\")"
   ]
  },
  {
   "cell_type": "code",
   "execution_count": 13,
   "id": "54f3d019",
   "metadata": {},
   "outputs": [],
   "source": [
    "# raise an exception"
   ]
  },
  {
   "cell_type": "code",
   "execution_count": 15,
   "id": "e5bcbcaf",
   "metadata": {},
   "outputs": [
    {
     "ename": "Exception",
     "evalue": "sorry no numbers below zero",
     "output_type": "error",
     "traceback": [
      "\u001b[1;31m---------------------------------------------------------------------------\u001b[0m",
      "\u001b[1;31mException\u001b[0m                                 Traceback (most recent call last)",
      "\u001b[1;32m~\\AppData\\Local\\Temp\\ipykernel_5520\\944743137.py\u001b[0m in \u001b[0;36m<module>\u001b[1;34m\u001b[0m\n\u001b[0;32m      1\u001b[0m \u001b[0mx\u001b[0m\u001b[1;33m=\u001b[0m\u001b[1;33m-\u001b[0m\u001b[1;36m1\u001b[0m\u001b[1;33m\u001b[0m\u001b[1;33m\u001b[0m\u001b[0m\n\u001b[0;32m      2\u001b[0m \u001b[1;32mif\u001b[0m \u001b[0mx\u001b[0m\u001b[1;33m<\u001b[0m\u001b[1;36m0\u001b[0m\u001b[1;33m:\u001b[0m\u001b[1;33m\u001b[0m\u001b[1;33m\u001b[0m\u001b[0m\n\u001b[1;32m----> 3\u001b[1;33m     \u001b[1;32mraise\u001b[0m \u001b[0mException\u001b[0m\u001b[1;33m(\u001b[0m\u001b[1;34m\"sorry no numbers below zero\"\u001b[0m\u001b[1;33m)\u001b[0m\u001b[1;33m\u001b[0m\u001b[1;33m\u001b[0m\u001b[0m\n\u001b[0m\u001b[0;32m      4\u001b[0m \u001b[1;31m#     raise keyword is used to raise an exception\u001b[0m\u001b[1;33m\u001b[0m\u001b[1;33m\u001b[0m\u001b[0m\n",
      "\u001b[1;31mException\u001b[0m: sorry no numbers below zero"
     ]
    }
   ],
   "source": [
    "x=-1\n",
    "if x<0:\n",
    "    raise Exception(\"sorry no numbers below zero\")\n",
    "#     raise keyword is used to raise an exception"
   ]
  },
  {
   "cell_type": "code",
   "execution_count": 16,
   "id": "8601efed",
   "metadata": {},
   "outputs": [],
   "source": [
    "x = 'hello'"
   ]
  },
  {
   "cell_type": "code",
   "execution_count": 17,
   "id": "e9055a12",
   "metadata": {},
   "outputs": [
    {
     "ename": "TypeError",
     "evalue": "ony int are allowed",
     "output_type": "error",
     "traceback": [
      "\u001b[1;31m---------------------------------------------------------------------------\u001b[0m",
      "\u001b[1;31mTypeError\u001b[0m                                 Traceback (most recent call last)",
      "\u001b[1;32m~\\AppData\\Local\\Temp\\ipykernel_5520\\2042934448.py\u001b[0m in \u001b[0;36m<module>\u001b[1;34m\u001b[0m\n\u001b[0;32m      1\u001b[0m \u001b[1;32mif\u001b[0m \u001b[1;32mnot\u001b[0m \u001b[0mtype\u001b[0m\u001b[1;33m(\u001b[0m\u001b[0mx\u001b[0m\u001b[1;33m)\u001b[0m \u001b[1;32mis\u001b[0m \u001b[0mint\u001b[0m\u001b[1;33m:\u001b[0m\u001b[1;33m\u001b[0m\u001b[1;33m\u001b[0m\u001b[0m\n\u001b[1;32m----> 2\u001b[1;33m     \u001b[1;32mraise\u001b[0m \u001b[0mTypeError\u001b[0m\u001b[1;33m(\u001b[0m\u001b[1;34m'ony int are allowed'\u001b[0m\u001b[1;33m)\u001b[0m\u001b[1;33m\u001b[0m\u001b[1;33m\u001b[0m\u001b[0m\n\u001b[0m",
      "\u001b[1;31mTypeError\u001b[0m: ony int are allowed"
     ]
    }
   ],
   "source": [
    "if not type(x) is int:\n",
    "    raise TypeError('ony int are allowed')"
   ]
  },
  {
   "cell_type": "code",
   "execution_count": null,
   "id": "22c6e513",
   "metadata": {},
   "outputs": [],
   "source": []
  }
 ],
 "metadata": {
  "kernelspec": {
   "display_name": "Python 3 (ipykernel)",
   "language": "python",
   "name": "python3"
  },
  "language_info": {
   "codemirror_mode": {
    "name": "ipython",
    "version": 3
   },
   "file_extension": ".py",
   "mimetype": "text/x-python",
   "name": "python",
   "nbconvert_exporter": "python",
   "pygments_lexer": "ipython3",
   "version": "3.9.13"
  }
 },
 "nbformat": 4,
 "nbformat_minor": 5
}
