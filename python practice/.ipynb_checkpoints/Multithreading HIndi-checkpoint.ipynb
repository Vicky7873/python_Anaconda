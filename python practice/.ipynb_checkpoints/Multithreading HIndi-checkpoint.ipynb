{
 "cells": [
  {
   "cell_type": "code",
   "execution_count": null,
   "id": "417bb189-3667-4edd-9b73-ea362dc760b2",
   "metadata": {
    "id": "417bb189-3667-4edd-9b73-ea362dc760b2"
   },
   "outputs": [],
   "source": [
    "import threading"
   ]
  },
  {
   "cell_type": "code",
   "execution_count": null,
   "id": "8e0e2a36-01af-43df-b241-0470f9fc845f",
   "metadata": {
    "id": "8e0e2a36-01af-43df-b241-0470f9fc845f"
   },
   "outputs": [],
   "source": [
    "def test(id):\n",
    "    print(\"prog start %d \"% id)"
   ]
  },
  {
   "cell_type": "code",
   "execution_count": null,
   "id": "8e6b6868-c42f-452e-b4ee-8d62d818f6f0",
   "metadata": {
    "id": "8e6b6868-c42f-452e-b4ee-8d62d818f6f0",
    "outputId": "728afb70-9c1d-4dda-cbad-95a58014fd80"
   },
   "outputs": [
    {
     "name": "stdout",
     "output_type": "stream",
     "text": [
      "prog start 45 \n"
     ]
    }
   ],
   "source": [
    "test(45)"
   ]
  },
  {
   "cell_type": "code",
   "execution_count": null,
   "id": "cd6d0222-fd31-4779-bea8-2ba44abf9892",
   "metadata": {
    "id": "cd6d0222-fd31-4779-bea8-2ba44abf9892"
   },
   "outputs": [],
   "source": [
    "thread = [threading.Thread(target=test , args=(i,) )for i in range(10)]"
   ]
  },
  {
   "cell_type": "code",
   "execution_count": null,
   "id": "4471fbd5-1ed9-4cfe-b14d-4556555739f9",
   "metadata": {
    "id": "4471fbd5-1ed9-4cfe-b14d-4556555739f9",
    "outputId": "b92781c6-fe22-4038-a2bd-0d1b8c678633"
   },
   "outputs": [
    {
     "name": "stdout",
     "output_type": "stream",
     "text": [
      "prog start 0 \n",
      "prog start 1 \n",
      "prog start 2 \n",
      "prog start 3 \n",
      "prog start 4 \n",
      "prog start 5 \n",
      "prog start 6 \n",
      "prog start 7 \n",
      "prog start 8 \n",
      "prog start 9 \n"
     ]
    }
   ],
   "source": [
    "for t in thread :\n",
    "    t.start()"
   ]
  },
  {
   "cell_type": "code",
   "execution_count": null,
   "id": "3488c0d8-4abe-40c7-979c-226b45bfeef3",
   "metadata": {
    "id": "3488c0d8-4abe-40c7-979c-226b45bfeef3",
    "outputId": "d7176699-7d30-47ee-bd2f-ee31405a6d9d"
   },
   "outputs": [
    {
     "data": {
      "text/plain": [
       "[0, 1, 2, 3, 4, 5, 6, 7, 8, 9]"
      ]
     },
     "execution_count": 11,
     "metadata": {},
     "output_type": "execute_result"
    }
   ],
   "source": [
    "list(range(10))"
   ]
  },
  {
   "cell_type": "code",
   "execution_count": null,
   "id": "01909aef-8a41-4d95-ae30-e53ca4d20497",
   "metadata": {
    "id": "01909aef-8a41-4d95-ae30-e53ca4d20497",
    "outputId": "34d209fa-bca4-4098-fc17-f0317b60b6ee"
   },
   "outputs": [
    {
     "data": {
      "text/plain": [
       "[<Thread(Thread-15 (test), stopped 140410037978688)>,\n",
       " <Thread(Thread-16 (test), stopped 140410037978688)>,\n",
       " <Thread(Thread-17 (test), stopped 140410037978688)>,\n",
       " <Thread(Thread-18 (test), stopped 140410037978688)>,\n",
       " <Thread(Thread-19 (test), stopped 140410037978688)>,\n",
       " <Thread(Thread-20 (test), stopped 140410037978688)>,\n",
       " <Thread(Thread-21 (test), stopped 140410037978688)>,\n",
       " <Thread(Thread-22 (test), stopped 140410037978688)>,\n",
       " <Thread(Thread-23 (test), stopped 140410037978688)>,\n",
       " <Thread(Thread-24 (test), stopped 140410037978688)>]"
      ]
     },
     "execution_count": 12,
     "metadata": {},
     "output_type": "execute_result"
    }
   ],
   "source": [
    "thread"
   ]
  },
  {
   "cell_type": "code",
   "execution_count": null,
   "id": "abc83092-ce36-4938-b770-5bcacda4202f",
   "metadata": {
    "id": "abc83092-ce36-4938-b770-5bcacda4202f",
    "outputId": "cd6a8804-66f0-4474-b95c-48b72443d964"
   },
   "outputs": [
    {
     "data": {
      "text/plain": [
       "140410039834752"
      ]
     },
     "execution_count": 13,
     "metadata": {},
     "output_type": "execute_result"
    }
   ],
   "source": [
    "id(thread)"
   ]
  },
  {
   "cell_type": "code",
   "execution_count": null,
   "id": "9376dcc8-36c8-4e46-b36d-2105a949399f",
   "metadata": {
    "id": "9376dcc8-36c8-4e46-b36d-2105a949399f"
   },
   "outputs": [],
   "source": [
    "import threading\n",
    "import urllib.request\n",
    "\n",
    "def file_downlaod(url , filname) :\n",
    "    urllib.request.urlretrieve(url,filname)\n",
    ""
   ]
  },
  {
   "cell_type": "code",
   "execution_count": null,
   "id": "92684ee5-7bea-4ad3-87f3-920b613d22bf",
   "metadata": {
    "id": "92684ee5-7bea-4ad3-87f3-920b613d22bf"
   },
   "outputs": [],
   "source": [
    "file_downlaod('https://raw.githubusercontent.com/itsfoss/text-files/master/agatha.txt' , \"test.txt\")"
   ]
  },
  {
   "cell_type": "code",
   "execution_count": null,
   "id": "1386bd4f-f7a9-44e6-8fea-41586da9fabd",
   "metadata": {
    "id": "1386bd4f-f7a9-44e6-8fea-41586da9fabd"
   },
   "outputs": [],
   "source": [
    "url_list  = ['https://raw.githubusercontent.com/itsfoss/text-files/master/agatha.txt','https://raw.githubusercontent.com/itsfoss/text-files/master/sherlock.txt','https://raw.githubusercontent.com/itsfoss/text-files/master/sample_log_file.txt']"
   ]
  },
  {
   "cell_type": "code",
   "execution_count": null,
   "id": "df436a8a-ef1b-4e09-9119-69b1457a631b",
   "metadata": {
    "id": "df436a8a-ef1b-4e09-9119-69b1457a631b",
    "outputId": "530be2a8-6293-45a1-f624-71c10807197e"
   },
   "outputs": [
    {
     "data": {
      "text/plain": [
       "['https://raw.githubusercontent.com/itsfoss/text-files/master/agatha.txt',\n",
       " 'https://raw.githubusercontent.com/itsfoss/text-files/master/sherlock.txt',\n",
       " 'https://raw.githubusercontent.com/itsfoss/text-files/master/sample_log_file.txt']"
      ]
     },
     "execution_count": 18,
     "metadata": {},
     "output_type": "execute_result"
    }
   ],
   "source": [
    "url_list"
   ]
  },
  {
   "cell_type": "code",
   "execution_count": null,
   "id": "de20107e-ecba-44d6-9cbc-5b77afde35c5",
   "metadata": {
    "id": "de20107e-ecba-44d6-9cbc-5b77afde35c5"
   },
   "outputs": [],
   "source": [
    "file_name_list = ['data1.txt' , 'data2.txt' , 'data3.txt']"
   ]
  },
  {
   "cell_type": "code",
   "execution_count": null,
   "id": "34958198-b522-4342-80dd-8a26d525c009",
   "metadata": {
    "id": "34958198-b522-4342-80dd-8a26d525c009"
   },
   "outputs": [],
   "source": [
    "ther = [threading.Thread(target=file_downlaod , args = (url_list[i] , file_name_list[i]) ) for i in range(len(url_list))]"
   ]
  },
  {
   "cell_type": "code",
   "execution_count": null,
   "id": "3ec112b5-bcca-4961-b3c5-c58abea72205",
   "metadata": {
    "id": "3ec112b5-bcca-4961-b3c5-c58abea72205",
    "outputId": "0d542a29-d853-40ee-d349-d0165d4dc9f8"
   },
   "outputs": [
    {
     "data": {
      "text/plain": [
       "[<Thread(Thread-25 (file_downlaod), initial)>,\n",
       " <Thread(Thread-26 (file_downlaod), initial)>,\n",
       " <Thread(Thread-27 (file_downlaod), initial)>]"
      ]
     },
     "execution_count": 24,
     "metadata": {},
     "output_type": "execute_result"
    }
   ],
   "source": [
    "ther"
   ]
  },
  {
   "cell_type": "code",
   "execution_count": null,
   "id": "aa9c77ea-3938-4078-904f-29fc5b671671",
   "metadata": {
    "id": "aa9c77ea-3938-4078-904f-29fc5b671671"
   },
   "outputs": [],
   "source": [
    "for t in ther :\n",
    "    t.start()"
   ]
  },
  {
   "cell_type": "code",
   "execution_count": null,
   "id": "5cd98d1c-cfa9-4b4c-99d3-605ca0ec9924",
   "metadata": {
    "id": "5cd98d1c-cfa9-4b4c-99d3-605ca0ec9924",
    "outputId": "59853ec1-3e9a-41ab-e918-319e2323980b"
   },
   "outputs": [
    {
     "data": {
      "text/plain": [
       "[<Thread(Thread-25 (file_downlaod), stopped 140410037978688)>,\n",
       " <Thread(Thread-26 (file_downlaod), stopped 140410019100224)>,\n",
       " <Thread(Thread-27 (file_downlaod), stopped 140410010707520)>]"
      ]
     },
     "execution_count": 26,
     "metadata": {},
     "output_type": "execute_result"
    }
   ],
   "source": [
    "ther"
   ]
  },
  {
   "cell_type": "code",
   "execution_count": null,
   "id": "306564fb-6298-468a-baa5-88474d42c9fc",
   "metadata": {
    "id": "306564fb-6298-468a-baa5-88474d42c9fc"
   },
   "outputs": [],
   "source": [
    "import time"
   ]
  },
  {
   "cell_type": "code",
   "execution_count": null,
   "id": "b25120cd-66a8-4d48-b8b1-2e369e45e951",
   "metadata": {
    "id": "b25120cd-66a8-4d48-b8b1-2e369e45e951"
   },
   "outputs": [],
   "source": [
    "def test1(id) :\n",
    "    for i in range(10) :\n",
    "        print(\"test1 %d printing %d %s\" %(id,i,time.ctime()))\n",
    "        time.sleep(1)"
   ]
  },
  {
   "cell_type": "code",
   "execution_count": null,
   "id": "a745e0df-9b64-4f12-a865-e6658985d1f1",
   "metadata": {
    "id": "a745e0df-9b64-4f12-a865-e6658985d1f1",
    "outputId": "f8ea5767-c9d4-4c65-8baa-7a2f7f1f86dd"
   },
   "outputs": [
    {
     "name": "stdout",
     "output_type": "stream",
     "text": [
      "test1 0 printing 0 Tue Feb 14 12:06:02 2023\n",
      "test1 0 printing 1 Tue Feb 14 12:06:03 2023\n",
      "test1 0 printing 2 Tue Feb 14 12:06:04 2023\n",
      "test1 0 printing 3 Tue Feb 14 12:06:05 2023\n",
      "test1 0 printing 4 Tue Feb 14 12:06:06 2023\n",
      "test1 0 printing 5 Tue Feb 14 12:06:07 2023\n",
      "test1 0 printing 6 Tue Feb 14 12:06:08 2023\n",
      "test1 0 printing 7 Tue Feb 14 12:06:09 2023\n",
      "test1 0 printing 8 Tue Feb 14 12:06:10 2023\n",
      "test1 0 printing 9 Tue Feb 14 12:06:11 2023\n"
     ]
    }
   ],
   "source": [
    "test1(0)"
   ]
  },
  {
   "cell_type": "code",
   "execution_count": null,
   "id": "6c6d7de4-ef7d-49e3-b743-7f99c9e54051",
   "metadata": {
    "id": "6c6d7de4-ef7d-49e3-b743-7f99c9e54051"
   },
   "outputs": [],
   "source": [
    "thread1 = [threading.Thread(target=test1 , args  = (i,)) for i in range(3)]"
   ]
  },
  {
   "cell_type": "code",
   "execution_count": null,
   "id": "b856dbc0-49cf-4827-afe4-a0c93a6c266f",
   "metadata": {
    "id": "b856dbc0-49cf-4827-afe4-a0c93a6c266f",
    "outputId": "40c3f021-1c20-49f1-b480-cd39da2ba381"
   },
   "outputs": [
    {
     "name": "stdout",
     "output_type": "stream",
     "text": [
      "test1 0 printing 0 Tue Feb 14 12:06:12 2023\n",
      "test1 1 printing 0 Tue Feb 14 12:06:12 2023\n",
      "test1 2 printing 0 Tue Feb 14 12:06:12 2023\n",
      "test1 1 printing 1 Tue Feb 14 12:06:13 2023test1 0 printing 1 Tue Feb 14 12:06:13 2023\n",
      "\n",
      "test1 2 printing 1 Tue Feb 14 12:06:13 2023\n",
      "test1 0 printing 2 Tue Feb 14 12:06:14 2023test1 1 printing 2 Tue Feb 14 12:06:14 2023\n",
      "\n",
      "test1 2 printing 2 Tue Feb 14 12:06:14 2023\n",
      "test1 1 printing 3 Tue Feb 14 12:06:15 2023test1 2 printing 3 Tue Feb 14 12:06:15 2023\n",
      "\n",
      "test1 0 printing 3 Tue Feb 14 12:06:15 2023\n",
      "test1 1 printing 4 Tue Feb 14 12:06:16 2023\n",
      "test1 2 printing 4 Tue Feb 14 12:06:16 2023\n",
      "test1 0 printing 4 Tue Feb 14 12:06:16 2023\n",
      "test1 1 printing 5 Tue Feb 14 12:06:17 2023\n",
      "test1 2 printing 5 Tue Feb 14 12:06:17 2023\n",
      "test1 0 printing 5 Tue Feb 14 12:06:17 2023\n",
      "test1 1 printing 6 Tue Feb 14 12:06:18 2023\n",
      "test1 2 printing 6 Tue Feb 14 12:06:18 2023\n",
      "test1 0 printing 6 Tue Feb 14 12:06:18 2023\n",
      "test1 1 printing 7 Tue Feb 14 12:06:19 2023\n",
      "test1 2 printing 7 Tue Feb 14 12:06:19 2023\n",
      "test1 0 printing 7 Tue Feb 14 12:06:19 2023\n",
      "test1 1 printing 8 Tue Feb 14 12:06:20 2023\n",
      "test1 2 printing 8 Tue Feb 14 12:06:20 2023\n",
      "test1 0 printing 8 Tue Feb 14 12:06:20 2023\n",
      "test1 1 printing 9 Tue Feb 14 12:06:21 2023\n",
      "test1 2 printing 9 Tue Feb 14 12:06:21 2023\n",
      "test1 0 printing 9 Tue Feb 14 12:06:21 2023\n"
     ]
    }
   ],
   "source": [
    "for t in thread1:\n",
    "    t.start()"
   ]
  },
  {
   "cell_type": "code",
   "execution_count": null,
   "id": "aef2cd10-ec7e-474e-87f9-c085119ec98e",
   "metadata": {
    "id": "aef2cd10-ec7e-474e-87f9-c085119ec98e"
   },
   "outputs": [],
   "source": [
    "shared_var = 0\n",
    "lock_var = threading.Lock()"
   ]
  },
  {
   "cell_type": "code",
   "execution_count": null,
   "id": "b80065b1-7239-47ec-93f1-cf95bb1a38ac",
   "metadata": {
    "id": "b80065b1-7239-47ec-93f1-cf95bb1a38ac",
    "outputId": "b46d5bbf-86b2-423f-a2f1-507a2abc6d51"
   },
   "outputs": [
    {
     "name": "stdout",
     "output_type": "stream",
     "text": [
      "test2 is 0 has increased the shared variable by 1 \n",
      "test2 is 1 has increased the shared variable by 2 \n",
      "test2 is 2 has increased the shared variable by 3 \n"
     ]
    }
   ],
   "source": [
    "shared_var = 0\n",
    "lock_var = threading.Lock()\n",
    "def test2(id) :\n",
    "    global shared_var\n",
    "    with lock_var:\n",
    "        shared_var = shared_var+1\n",
    "        print(\"test2 is %d has increased the shared variable by %d \" % (id ,shared_var) )\n",
    "        time.sleep(1)\n",
    "ther3 = [threading.Thread(target=test2 , args = (i,) ) for i in range(3)]\n",
    "for t in ther3:\n",
    "    t.start()"
   ]
  },
  {
   "cell_type": "code",
   "execution_count": null,
   "id": "1f62ed5f-dd3b-4fe5-ad29-bd68a78d0bd2",
   "metadata": {
    "id": "1f62ed5f-dd3b-4fe5-ad29-bd68a78d0bd2",
    "outputId": "d4c52e3a-6bd8-4901-aae6-acb21978985d"
   },
   "outputs": [
    {
     "name": "stdout",
     "output_type": "stream",
     "text": [
      "test2 is 0 has increased the shared variable by 1 \n",
      "test2 is 1 has increased the shared variable by 2 \n",
      "test2 is 2 has increased the shared variable by 3 \n"
     ]
    }
   ],
   "source": [
    "shared_var = 0\n",
    "#lock_var = threading.Lock()\n",
    "def test2(id) :\n",
    "    global shared_var\n",
    "    #with lock_var:\n",
    "    shared_var = shared_var+1\n",
    "    print(\"test2 is %d has increased the shared variable by %d \" % (id ,shared_var) )\n",
    "    time.sleep(1)\n",
    "\n",
    "ther4 = [threading.Thread(target=test2 , args = (i,) ) for i in range(3)]\n",
    "for t in ther4:\n",
    "    t.start()"
   ]
  },
  {
   "cell_type": "code",
   "execution_count": null,
   "id": "bd541d85-20fc-43a3-8429-ca0be2b318d0",
   "metadata": {
    "id": "bd541d85-20fc-43a3-8429-ca0be2b318d0",
    "outputId": "787b48a4-bdf8-4cf5-ee66-5ba0698a2896"
   },
   "outputs": [
    {
     "name": "stdout",
     "output_type": "stream",
     "text": [
      "test2 id is 0 has increased the shared variable by 1 \n"
     ]
    }
   ],
   "source": [
    "test2(0)"
   ]
  },
  {
   "cell_type": "code",
   "execution_count": null,
   "id": "6a153b43-a970-431d-b5f5-5b90afdc40d7",
   "metadata": {
    "id": "6a153b43-a970-431d-b5f5-5b90afdc40d7",
    "outputId": "2e5008e9-46d8-4b57-9ea5-200b5f66ca20"
   },
   "outputs": [
    {
     "data": {
      "text/plain": [
       "1"
      ]
     },
     "execution_count": 60,
     "metadata": {},
     "output_type": "execute_result"
    }
   ],
   "source": [
    "shared_var"
   ]
  },
  {
   "cell_type": "code",
   "execution_count": null,
   "id": "c6f9a966-0f87-496c-8ebc-515a39551717",
   "metadata": {
    "id": "c6f9a966-0f87-496c-8ebc-515a39551717"
   },
   "outputs": [],
   "source": []
  }
 ],
 "metadata": {
  "colab": {
   "provenance": []
  },
  "kernelspec": {
   "display_name": "Python 3 (ipykernel)",
   "language": "python",
   "name": "python3"
  },
  "language_info": {
   "codemirror_mode": {
    "name": "ipython",
    "version": 3
   },
   "file_extension": ".py",
   "mimetype": "text/x-python",
   "name": "python",
   "nbconvert_exporter": "python",
   "pygments_lexer": "ipython3",
   "version": "3.10.8"
  }
 },
 "nbformat": 4,
 "nbformat_minor": 5
}
