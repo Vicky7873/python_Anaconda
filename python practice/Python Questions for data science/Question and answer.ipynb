{
 "cells": [
  {
   "cell_type": "markdown",
   "id": "82f9c7f1",
   "metadata": {},
   "source": [
    "#### Q1: Given two arrays, write a python function to return the intersection of the two? For example, X = [1,5,9,0] and Y = [3,0,2,9] it should return [9,0]"
   ]
  },
  {
   "cell_type": "code",
   "execution_count": 37,
   "id": "429c6f92",
   "metadata": {},
   "outputs": [
    {
     "name": "stdout",
     "output_type": "stream",
     "text": [
      "9\n",
      "0\n"
     ]
    }
   ],
   "source": [
    "X=[1,5,9,0]\n",
    "Y=[3,0,2,9]\n",
    "for i in X:\n",
    "    for j in Y:\n",
    "        if i==j:\n",
    "            print(i)"
   ]
  },
  {
   "cell_type": "code",
   "execution_count": 38,
   "id": "ec76c921",
   "metadata": {},
   "outputs": [
    {
     "data": {
      "text/plain": [
       "{0, 9}"
      ]
     },
     "execution_count": 38,
     "metadata": {},
     "output_type": "execute_result"
    }
   ],
   "source": [
    "set(X).intersection(set(Y))"
   ]
  },
  {
   "cell_type": "markdown",
   "id": "1704556b",
   "metadata": {},
   "source": [
    "#### Q2: Given an array, find all the duplicates in this array? For example: input: [1,2,3,1,3,6,5] output: [1,3]"
   ]
  },
  {
   "cell_type": "code",
   "execution_count": 39,
   "id": "d729a2a8",
   "metadata": {},
   "outputs": [
    {
     "name": "stdout",
     "output_type": "stream",
     "text": [
      "{1, 3}\n"
     ]
    }
   ],
   "source": [
    "v=[1,2,3,1,3,6,5]\n",
    "set1=set()\n",
    "res=set()\n",
    "for i in v:\n",
    "    if i in set1:\n",
    "        res.add(i)\n",
    "    else:\n",
    "        set1.add(i)\n",
    "print(res)\n",
    "# Set is to identigy the unique elements"
   ]
  },
  {
   "cell_type": "code",
   "execution_count": 40,
   "id": "7a23f079",
   "metadata": {},
   "outputs": [
    {
     "name": "stdout",
     "output_type": "stream",
     "text": [
      "Duplicate elements: [1, 3]\n"
     ]
    }
   ],
   "source": [
    "v = [1, 2, 3, 1, 3, 6, 5]\n",
    "\n",
    "# Create an empty set to store unique elements\n",
    "unique_elements = set()\n",
    "\n",
    "# Create an empty list to store duplicate elements\n",
    "duplicates = []\n",
    "\n",
    "# Iterate through the list\n",
    "for element in v:\n",
    "    # If the element is not in the set, add it\n",
    "    # If it is already in the set, it's a duplicate\n",
    "    if element not in unique_elements:\n",
    "        unique_elements.add(element)\n",
    "    else:\n",
    "        duplicates.append(element)\n",
    "\n",
    "# Print the duplicate elements\n",
    "print(\"Duplicate elements:\", duplicates)"
   ]
  },
  {
   "cell_type": "code",
   "execution_count": 41,
   "id": "9a5a9aa0",
   "metadata": {},
   "outputs": [
    {
     "name": "stdout",
     "output_type": "stream",
     "text": [
      "{8, 1, 5}\n"
     ]
    }
   ],
   "source": [
    "v=[1,1,5,6,5,8,4,8,7,8,5]\n",
    "unique=set()\n",
    "duplicate=set()\n",
    "for i in adad:\n",
    "    if i not in unique:\n",
    "        unique.add(i)\n",
    "    else:\n",
    "        duplicate.add(i)\n",
    "print(duplicate)"
   ]
  },
  {
   "cell_type": "markdown",
   "id": "6280689b",
   "metadata": {},
   "source": [
    "#### Q3: check the no of words in sentences"
   ]
  },
  {
   "cell_type": "code",
   "execution_count": 42,
   "id": "5d0a390f",
   "metadata": {},
   "outputs": [
    {
     "data": {
      "text/plain": [
       "5"
      ]
     },
     "execution_count": 42,
     "metadata": {},
     "output_type": "execute_result"
    }
   ],
   "source": [
    "S=\"my name is bhiki pallai\"\n",
    "b=S.split(' ')\n",
    "len(b)"
   ]
  },
  {
   "cell_type": "markdown",
   "id": "09c364ef",
   "metadata": {},
   "source": [
    "#### Q4: Char occurance in a string"
   ]
  },
  {
   "cell_type": "code",
   "execution_count": 43,
   "id": "9787e7ce",
   "metadata": {},
   "outputs": [
    {
     "name": "stdout",
     "output_type": "stream",
     "text": [
      "Character 'b' occurs 1 times in the string.\n",
      "Character 'h' occurs 1 times in the string.\n",
      "Character 'i' occurs 2 times in the string.\n",
      "Character 'k' occurs 1 times in the string.\n"
     ]
    }
   ],
   "source": [
    "s = 'bhiki'\n",
    "\n",
    "# Create an empty dictionary to store character counts\n",
    "char_count = {}\n",
    "\n",
    "# Iterate through each character in the string\n",
    "for char in s:\n",
    "    # If the character is already in the dictionary, increment its count\n",
    "    if char in char_count:\n",
    "        char_count[char] += 1\n",
    "    # If the character is not in the dictionary, add it with count 1\n",
    "    else:\n",
    "        char_count[char] = 1\n",
    "\n",
    "# Print the character counts\n",
    "for char, count in char_count.items():\n",
    "    print(f\"Character '{char}' occurs {count} times in the string.\")"
   ]
  },
  {
   "cell_type": "markdown",
   "id": "849accc3",
   "metadata": {},
   "source": [
    "#### Q5: Reverse a string"
   ]
  },
  {
   "cell_type": "code",
   "execution_count": 56,
   "id": "b8942adc",
   "metadata": {},
   "outputs": [
    {
     "data": {
      "text/plain": [
       "'ikihb'"
      ]
     },
     "execution_count": 56,
     "metadata": {},
     "output_type": "execute_result"
    }
   ],
   "source": [
    "s1='bhiki'\n",
    "s1[::-1]"
   ]
  },
  {
   "cell_type": "code",
   "execution_count": 57,
   "id": "e749d1f0",
   "metadata": {},
   "outputs": [
    {
     "name": "stdout",
     "output_type": "stream",
     "text": [
      "olleh\n"
     ]
    }
   ],
   "source": [
    "original_string = \"hello\"\n",
    "reversed_string = ''\n",
    "for char in original_string:\n",
    "    reversed_string = char + reversed_string\n",
    "print(reversed_string)"
   ]
  },
  {
   "cell_type": "markdown",
   "id": "4540d1a9",
   "metadata": {},
   "source": [
    "#### Q6: reverse a int"
   ]
  },
  {
   "cell_type": "code",
   "execution_count": 59,
   "id": "69665387",
   "metadata": {},
   "outputs": [
    {
     "data": {
      "text/plain": [
       "54321"
      ]
     },
     "execution_count": 59,
     "metadata": {},
     "output_type": "execute_result"
    }
   ],
   "source": [
    "a=12345\n",
    "rev=int(str(a)[::-1])\n",
    "rev"
   ]
  },
  {
   "cell_type": "code",
   "execution_count": null,
   "id": "80d7f2b8",
   "metadata": {},
   "outputs": [],
   "source": []
  }
 ],
 "metadata": {
  "kernelspec": {
   "display_name": "Python 3 (ipykernel)",
   "language": "python",
   "name": "python3"
  },
  "language_info": {
   "codemirror_mode": {
    "name": "ipython",
    "version": 3
   },
   "file_extension": ".py",
   "mimetype": "text/x-python",
   "name": "python",
   "nbconvert_exporter": "python",
   "pygments_lexer": "ipython3",
   "version": "3.11.7"
  }
 },
 "nbformat": 4,
 "nbformat_minor": 5
}
