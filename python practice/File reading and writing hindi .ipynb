{
 "cells": [
  {
   "cell_type": "code",
   "execution_count": 1,
   "id": "69bb4cc3-3bd9-4448-b761-2dfa9a677192",
   "metadata": {
    "executionInfo": {
     "elapsed": 16,
     "status": "ok",
     "timestamp": 1690307873993,
     "user": {
      "displayName": "Radheshyam Vishwakarma",
      "userId": "13824352053732149487"
     },
     "user_tz": -330
    },
    "id": "69bb4cc3-3bd9-4448-b761-2dfa9a677192"
   },
   "outputs": [],
   "source": [
    "data= {\n",
    "    \"name\" : \"sudh\",\n",
    "    \"mail_id\" : \"sudh@gmail.com\",\n",
    "    \"phone number\" : 956456546,\n",
    "    \"subject\" : [\"data science \" , \"big data \" , \"data analytics\" ]\n",
    "}"
   ]
  },
  {
   "cell_type": "code",
   "execution_count": 2,
   "id": "ad899eeb-355b-4097-a70c-27803788fb30",
   "metadata": {
    "executionInfo": {
     "elapsed": 14,
     "status": "ok",
     "timestamp": 1690307873993,
     "user": {
      "displayName": "Radheshyam Vishwakarma",
      "userId": "13824352053732149487"
     },
     "user_tz": -330
    },
    "id": "ad899eeb-355b-4097-a70c-27803788fb30"
   },
   "outputs": [],
   "source": [
    "import json"
   ]
  },
  {
   "cell_type": "code",
   "execution_count": 3,
   "id": "0b6e9b1f-24c6-4180-a957-a9e62092c2ea",
   "metadata": {
    "executionInfo": {
     "elapsed": 14,
     "status": "ok",
     "timestamp": 1690307873994,
     "user": {
      "displayName": "Radheshyam Vishwakarma",
      "userId": "13824352053732149487"
     },
     "user_tz": -330
    },
    "id": "0b6e9b1f-24c6-4180-a957-a9e62092c2ea"
   },
   "outputs": [],
   "source": [
    "with open(\"data.json\" , \"w\" ) as f :\n",
    "    json.dump(data , f)"
   ]
  },
  {
   "cell_type": "code",
   "execution_count": 4,
   "id": "1bc8850c-184c-4dcf-aa16-d19132da670d",
   "metadata": {
    "executionInfo": {
     "elapsed": 14,
     "status": "ok",
     "timestamp": 1690307873994,
     "user": {
      "displayName": "Radheshyam Vishwakarma",
      "userId": "13824352053732149487"
     },
     "user_tz": -330
    },
    "id": "1bc8850c-184c-4dcf-aa16-d19132da670d"
   },
   "outputs": [],
   "source": [
    "with open(\"data.json\" , \"r\") as f :\n",
    "    data1 = json.load(f)"
   ]
  },
  {
   "cell_type": "code",
   "execution_count": 5,
   "id": "ed04089f-cffa-43b6-9e9d-bfbe2e1542b7",
   "metadata": {
    "colab": {
     "base_uri": "https://localhost:8080/"
    },
    "executionInfo": {
     "elapsed": 13,
     "status": "ok",
     "timestamp": 1690307873994,
     "user": {
      "displayName": "Radheshyam Vishwakarma",
      "userId": "13824352053732149487"
     },
     "user_tz": -330
    },
    "id": "ed04089f-cffa-43b6-9e9d-bfbe2e1542b7",
    "outputId": "7bbf95eb-4889-4a1d-c836-d36e0a06476c"
   },
   "outputs": [
    {
     "data": {
      "text/plain": [
       "{'name': 'sudh',\n",
       " 'mail_id': 'sudh@gmail.com',\n",
       " 'phone number': 956456546,\n",
       " 'subject': ['data science ', 'big data ', 'data analytics']}"
      ]
     },
     "execution_count": 5,
     "metadata": {},
     "output_type": "execute_result"
    }
   ],
   "source": [
    "data1"
   ]
  },
  {
   "cell_type": "code",
   "execution_count": 6,
   "id": "8a69b821-5b4b-4099-93bf-95a3ac6f0a0b",
   "metadata": {
    "colab": {
     "base_uri": "https://localhost:8080/",
     "height": 36
    },
    "executionInfo": {
     "elapsed": 479,
     "status": "ok",
     "timestamp": 1690307874465,
     "user": {
      "displayName": "Radheshyam Vishwakarma",
      "userId": "13824352053732149487"
     },
     "user_tz": -330
    },
    "id": "8a69b821-5b4b-4099-93bf-95a3ac6f0a0b",
    "outputId": "931f035a-efe6-403e-e75b-f0d94ef65817"
   },
   "outputs": [
    {
     "data": {
      "application/vnd.google.colaboratory.intrinsic+json": {
       "type": "string"
      },
      "text/plain": [
       "'big data '"
      ]
     },
     "execution_count": 6,
     "metadata": {},
     "output_type": "execute_result"
    }
   ],
   "source": [
    "data1['subject'][1]"
   ]
  },
  {
   "cell_type": "code",
   "execution_count": 7,
   "id": "8ce1a39c-7bd8-49e1-be80-c3bab7db9740",
   "metadata": {
    "executionInfo": {
     "elapsed": 19,
     "status": "ok",
     "timestamp": 1690307874466,
     "user": {
      "displayName": "Radheshyam Vishwakarma",
      "userId": "13824352053732149487"
     },
     "user_tz": -330
    },
    "id": "8ce1a39c-7bd8-49e1-be80-c3bab7db9740"
   },
   "outputs": [],
   "source": [
    "import csv"
   ]
  },
  {
   "cell_type": "code",
   "execution_count": 8,
   "id": "f9b40dae-e35d-4cf7-bcff-d95449383e26",
   "metadata": {
    "executionInfo": {
     "elapsed": 18,
     "status": "ok",
     "timestamp": 1690307874466,
     "user": {
      "displayName": "Radheshyam Vishwakarma",
      "userId": "13824352053732149487"
     },
     "user_tz": -330
    },
    "id": "f9b40dae-e35d-4cf7-bcff-d95449383e26"
   },
   "outputs": [],
   "source": [
    "data = [[\"name\" , \"email_id\" , \"phone_number\"],\n",
    "        [\"sudh\" ,\"sudh@gmail.com\" , 92342424],\n",
    "        [\"krish\" , \"krish@gmail.com\" , 9324242]\n",
    "]"
   ]
  },
  {
   "cell_type": "code",
   "execution_count": 9,
   "id": "c3c68007-fd47-4dc2-94dc-11d9634f5b96",
   "metadata": {
    "executionInfo": {
     "elapsed": 19,
     "status": "ok",
     "timestamp": 1690307874467,
     "user": {
      "displayName": "Radheshyam Vishwakarma",
      "userId": "13824352053732149487"
     },
     "user_tz": -330
    },
    "id": "c3c68007-fd47-4dc2-94dc-11d9634f5b96"
   },
   "outputs": [],
   "source": [
    "with open(\"data.csv\" , \"w\" ) as f :\n",
    "    writer = csv.writer(f)\n",
    "\n",
    "    for i in data:\n",
    "        writer.writerow(i)\n",
    "\n"
   ]
  },
  {
   "cell_type": "code",
   "execution_count": 10,
   "id": "8da0e12d-5244-4bb2-b7d8-2aeb4a13b258",
   "metadata": {
    "colab": {
     "base_uri": "https://localhost:8080/"
    },
    "executionInfo": {
     "elapsed": 19,
     "status": "ok",
     "timestamp": 1690307874468,
     "user": {
      "displayName": "Radheshyam Vishwakarma",
      "userId": "13824352053732149487"
     },
     "user_tz": -330
    },
    "id": "8da0e12d-5244-4bb2-b7d8-2aeb4a13b258",
    "outputId": "bf8aa5b2-1a60-4a48-f31b-3661608c391e"
   },
   "outputs": [
    {
     "name": "stdout",
     "output_type": "stream",
     "text": [
      "['name', 'email_id', 'phone_number']\n",
      "['sudh', 'sudh@gmail.com', '92342424']\n",
      "['krish', 'krish@gmail.com', '9324242']\n"
     ]
    }
   ],
   "source": [
    "with open(\"data.csv\" , 'r') as f :\n",
    "    read_data = csv.reader(f)\n",
    "\n",
    "    for i in read_data:\n",
    "        print(i)"
   ]
  },
  {
   "cell_type": "code",
   "execution_count": 11,
   "id": "d43a30f8-e102-4814-bdba-d948a063b6f1",
   "metadata": {
    "executionInfo": {
     "elapsed": 17,
     "status": "ok",
     "timestamp": 1690307874469,
     "user": {
      "displayName": "Radheshyam Vishwakarma",
      "userId": "13824352053732149487"
     },
     "user_tz": -330
    },
    "id": "d43a30f8-e102-4814-bdba-d948a063b6f1"
   },
   "outputs": [],
   "source": [
    "with open(\"test4.bin\" , \"wb\" ) as f :\n",
    "    f.write(b\"\\x01\\x02\\x03\\x3454235\")"
   ]
  },
  {
   "cell_type": "code",
   "execution_count": 12,
   "id": "90da0648-9bfe-4c7c-a30b-7345ed23a44e",
   "metadata": {
    "colab": {
     "base_uri": "https://localhost:8080/"
    },
    "executionInfo": {
     "elapsed": 17,
     "status": "ok",
     "timestamp": 1690307874469,
     "user": {
      "displayName": "Radheshyam Vishwakarma",
      "userId": "13824352053732149487"
     },
     "user_tz": -330
    },
    "id": "90da0648-9bfe-4c7c-a30b-7345ed23a44e",
    "outputId": "6510647a-9790-4b98-94c1-55d3875d52f6"
   },
   "outputs": [
    {
     "name": "stdout",
     "output_type": "stream",
     "text": [
      "b'\\x01\\x02\\x03454235'\n"
     ]
    }
   ],
   "source": [
    "with open(\"test4.bin\",\"rb\")as f :\n",
    "    print(f.read())"
   ]
  },
  {
   "cell_type": "code",
   "execution_count": 12,
   "id": "786e0454-539e-4d9e-b582-a70a6d897a17",
   "metadata": {
    "executionInfo": {
     "elapsed": 15,
     "status": "ok",
     "timestamp": 1690307874469,
     "user": {
      "displayName": "Radheshyam Vishwakarma",
      "userId": "13824352053732149487"
     },
     "user_tz": -330
    },
    "id": "786e0454-539e-4d9e-b582-a70a6d897a17"
   },
   "outputs": [],
   "source": []
  }
 ],
 "metadata": {
  "colab": {
   "provenance": []
  },
  "kernelspec": {
   "display_name": "Python 3 (ipykernel)",
   "language": "python",
   "name": "python3"
  },
  "language_info": {
   "codemirror_mode": {
    "name": "ipython",
    "version": 3
   },
   "file_extension": ".py",
   "mimetype": "text/x-python",
   "name": "python",
   "nbconvert_exporter": "python",
   "pygments_lexer": "ipython3",
   "version": "3.9.13"
  }
 },
 "nbformat": 4,
 "nbformat_minor": 5
}
