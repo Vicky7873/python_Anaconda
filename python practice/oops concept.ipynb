{
 "cells": [
  {
   "cell_type": "code",
   "execution_count": 1,
   "id": "e33603ea",
   "metadata": {},
   "outputs": [],
   "source": [
    "# oops concept"
   ]
  },
  {
   "cell_type": "code",
   "execution_count": 2,
   "id": "699d0851",
   "metadata": {},
   "outputs": [],
   "source": [
    "a=1"
   ]
  },
  {
   "cell_type": "code",
   "execution_count": 4,
   "id": "4a0614da",
   "metadata": {},
   "outputs": [
    {
     "name": "stdout",
     "output_type": "stream",
     "text": [
      "<class 'int'>\n"
     ]
    }
   ],
   "source": [
    "print(type(a))"
   ]
  },
  {
   "cell_type": "code",
   "execution_count": 5,
   "id": "6ab9592d",
   "metadata": {},
   "outputs": [
    {
     "name": "stdout",
     "output_type": "stream",
     "text": [
      "<class 'str'>\n"
     ]
    }
   ],
   "source": [
    "print(type('bhiki'))"
   ]
  },
  {
   "cell_type": "code",
   "execution_count": 6,
   "id": "cf6f9c48",
   "metadata": {},
   "outputs": [],
   "source": [
    "class test:\n",
    "    pass"
   ]
  },
  {
   "cell_type": "code",
   "execution_count": 7,
   "id": "5ed9957f",
   "metadata": {},
   "outputs": [],
   "source": [
    "a=test()"
   ]
  },
  {
   "cell_type": "code",
   "execution_count": 8,
   "id": "b5212b49",
   "metadata": {},
   "outputs": [
    {
     "data": {
      "text/plain": [
       "__main__.test"
      ]
     },
     "execution_count": 8,
     "metadata": {},
     "output_type": "execute_result"
    }
   ],
   "source": [
    "type(a)"
   ]
  },
  {
   "cell_type": "code",
   "execution_count": 9,
   "id": "86688d3a",
   "metadata": {},
   "outputs": [
    {
     "name": "stdout",
     "output_type": "stream",
     "text": [
      "<class '__main__.test'>\n"
     ]
    }
   ],
   "source": [
    "print(type(a))"
   ]
  },
  {
   "cell_type": "code",
   "execution_count": 10,
   "id": "a3685e69",
   "metadata": {},
   "outputs": [],
   "source": [
    "class bhiki:\n",
    "    def welcome_msg(self):\n",
    "        print(\"welcome to class\")"
   ]
  },
  {
   "cell_type": "code",
   "execution_count": 13,
   "id": "1f937947",
   "metadata": {},
   "outputs": [],
   "source": [
    "r = bhiki()\n",
    "b=bhiki()"
   ]
  },
  {
   "cell_type": "code",
   "execution_count": 14,
   "id": "44ef72c9",
   "metadata": {},
   "outputs": [
    {
     "name": "stdout",
     "output_type": "stream",
     "text": [
      "welcome to class\n"
     ]
    }
   ],
   "source": [
    "r.welcome_msg()"
   ]
  },
  {
   "cell_type": "code",
   "execution_count": 15,
   "id": "2e3ad035",
   "metadata": {},
   "outputs": [
    {
     "name": "stdout",
     "output_type": "stream",
     "text": [
      "welcome to class\n"
     ]
    }
   ],
   "source": [
    "b.welcome_msg()"
   ]
  },
  {
   "cell_type": "code",
   "execution_count": 19,
   "id": "8518f662",
   "metadata": {},
   "outputs": [],
   "source": [
    "class bhiki1:\n",
    "    def __init__(self,m_number,email_id,student_id):\n",
    "        self.m_number=m_number\n",
    "        self.email_id=email_id\n",
    "        self.student_id=student_id\n",
    "        \n",
    "    def return_student_details(self):\n",
    "        return self.student_id,self.m_number,self.email_id"
   ]
  },
  {
   "cell_type": "code",
   "execution_count": 20,
   "id": "91707d1b",
   "metadata": {},
   "outputs": [],
   "source": [
    "b=bhiki1(1212121212,'abc@gmail.com',101)"
   ]
  },
  {
   "cell_type": "code",
   "execution_count": 21,
   "id": "8308f71b",
   "metadata": {},
   "outputs": [
    {
     "data": {
      "text/plain": [
       "(101, 1212121212, 'abc@gmail.com')"
      ]
     },
     "execution_count": 21,
     "metadata": {},
     "output_type": "execute_result"
    }
   ],
   "source": [
    "b.return_student_details()"
   ]
  },
  {
   "cell_type": "code",
   "execution_count": 22,
   "id": "4aaf9e41",
   "metadata": {},
   "outputs": [
    {
     "data": {
      "text/plain": [
       "1212121212"
      ]
     },
     "execution_count": 22,
     "metadata": {},
     "output_type": "execute_result"
    }
   ],
   "source": [
    "b.m_number"
   ]
  },
  {
   "cell_type": "code",
   "execution_count": 23,
   "id": "b8b2f584",
   "metadata": {},
   "outputs": [
    {
     "data": {
      "text/plain": [
       "'abc@gmail.com'"
      ]
     },
     "execution_count": 23,
     "metadata": {},
     "output_type": "execute_result"
    }
   ],
   "source": [
    "b.email_id"
   ]
  },
  {
   "cell_type": "code",
   "execution_count": 24,
   "id": "1d98f37e",
   "metadata": {},
   "outputs": [
    {
     "data": {
      "text/plain": [
       "101"
      ]
     },
     "execution_count": 24,
     "metadata": {},
     "output_type": "execute_result"
    }
   ],
   "source": [
    "b.student_id"
   ]
  },
  {
   "cell_type": "code",
   "execution_count": 25,
   "id": "40675a31",
   "metadata": {},
   "outputs": [],
   "source": [
    "k=bhiki1(12121212,'kk@gmail.com',202)"
   ]
  },
  {
   "cell_type": "code",
   "execution_count": 26,
   "id": "5956eb39",
   "metadata": {},
   "outputs": [
    {
     "data": {
      "text/plain": [
       "(202, 12121212, 'kk@gmail.com')"
      ]
     },
     "execution_count": 26,
     "metadata": {},
     "output_type": "execute_result"
    }
   ],
   "source": [
    "k.return_student_details()"
   ]
  },
  {
   "cell_type": "code",
   "execution_count": 27,
   "id": "ccf114ce",
   "metadata": {},
   "outputs": [],
   "source": [
    "class pwskills2 :\n",
    "    \n",
    "    def __init__(self ,phone_number , email_id , student_id ):\n",
    "        self.phone_number1 = phone_number\n",
    "        self.email_id1 = email_id\n",
    "        self.student_id1 = student_id\n",
    "    \n",
    "    def return_student_deetials(self) : \n",
    "        return self.student_id1 ,self.phone_number1 ,self.email_id1"
   ]
  },
  {
   "cell_type": "code",
   "execution_count": 32,
   "id": "2bdf4124",
   "metadata": {},
   "outputs": [],
   "source": [
    "bhiki = pwskills2(565656,'hhs@gmail.com',202)"
   ]
  },
  {
   "cell_type": "code",
   "execution_count": 33,
   "id": "0664b843",
   "metadata": {},
   "outputs": [
    {
     "data": {
      "text/plain": [
       "565656"
      ]
     },
     "execution_count": 33,
     "metadata": {},
     "output_type": "execute_result"
    }
   ],
   "source": [
    "bhiki.phone_number1"
   ]
  },
  {
   "cell_type": "code",
   "execution_count": 34,
   "id": "e4cede31",
   "metadata": {},
   "outputs": [
    {
     "data": {
      "text/plain": [
       "'hhs@gmail.com'"
      ]
     },
     "execution_count": 34,
     "metadata": {},
     "output_type": "execute_result"
    }
   ],
   "source": [
    "bhiki.email_id1"
   ]
  },
  {
   "cell_type": "code",
   "execution_count": 35,
   "id": "b41df7bb",
   "metadata": {},
   "outputs": [
    {
     "data": {
      "text/plain": [
       "202"
      ]
     },
     "execution_count": 35,
     "metadata": {},
     "output_type": "execute_result"
    }
   ],
   "source": [
    "bhiki.student_id1"
   ]
  },
  {
   "cell_type": "code",
   "execution_count": 36,
   "id": "724b2d14",
   "metadata": {},
   "outputs": [
    {
     "data": {
      "text/plain": [
       "(202, 565656, 'hhs@gmail.com')"
      ]
     },
     "execution_count": 36,
     "metadata": {},
     "output_type": "execute_result"
    }
   ],
   "source": [
    "bhiki.return_student_deetials()"
   ]
  },
  {
   "cell_type": "code",
   "execution_count": 37,
   "id": "24f30d09",
   "metadata": {},
   "outputs": [],
   "source": [
    "class pwskills2 :\n",
    "    \n",
    "    def __init__(sudh ,phone_number , email_id , student_id ):\n",
    "        sudh.phone_number1 = phone_number\n",
    "        sudh.email_id1 = email_id\n",
    "        sudh.student_id1 = student_id\n",
    "    \n",
    "    def return_student_deetials(sudh) : \n",
    "        return sudh.student_id1 ,sudh.phone_number1 ,sudh.email_id1"
   ]
  },
  {
   "cell_type": "code",
   "execution_count": 39,
   "id": "0c48b918",
   "metadata": {},
   "outputs": [],
   "source": [
    "t=pwskills2(123456789,'anan@gmial.com',303)"
   ]
  },
  {
   "cell_type": "code",
   "execution_count": 40,
   "id": "da98f396",
   "metadata": {},
   "outputs": [
    {
     "data": {
      "text/plain": [
       "123456789"
      ]
     },
     "execution_count": 40,
     "metadata": {},
     "output_type": "execute_result"
    }
   ],
   "source": [
    "t.phone_number1"
   ]
  },
  {
   "cell_type": "code",
   "execution_count": 41,
   "id": "fbe5a900",
   "metadata": {},
   "outputs": [
    {
     "data": {
      "text/plain": [
       "(303, 123456789, 'anan@gmial.com')"
      ]
     },
     "execution_count": 41,
     "metadata": {},
     "output_type": "execute_result"
    }
   ],
   "source": [
    "t.return_student_deetials()"
   ]
  },
  {
   "cell_type": "markdown",
   "id": "83fa4fc5",
   "metadata": {},
   "source": [
    "# polymorphisim"
   ]
  },
  {
   "cell_type": "code",
   "execution_count": 42,
   "id": "e7ca2573",
   "metadata": {},
   "outputs": [],
   "source": [
    "def test(a , b ) :\n",
    "    return a+b "
   ]
  },
  {
   "cell_type": "code",
   "execution_count": 43,
   "id": "b8f1eeef",
   "metadata": {},
   "outputs": [
    {
     "data": {
      "text/plain": [
       "7"
      ]
     },
     "execution_count": 43,
     "metadata": {},
     "output_type": "execute_result"
    }
   ],
   "source": [
    "test(3,4)"
   ]
  },
  {
   "cell_type": "code",
   "execution_count": 44,
   "id": "93216bb3",
   "metadata": {},
   "outputs": [
    {
     "data": {
      "text/plain": [
       "'sudh kumar '"
      ]
     },
     "execution_count": 44,
     "metadata": {},
     "output_type": "execute_result"
    }
   ],
   "source": [
    "test(\"sudh \" , \"kumar \" )"
   ]
  },
  {
   "cell_type": "code",
   "execution_count": 45,
   "id": "20f7442f",
   "metadata": {},
   "outputs": [
    {
     "data": {
      "text/plain": [
       "[3, 4, 5, 6, 45, 767, 67]"
      ]
     },
     "execution_count": 45,
     "metadata": {},
     "output_type": "execute_result"
    }
   ],
   "source": [
    "test([3,4,5,6] , [45,767,67])"
   ]
  },
  {
   "cell_type": "code",
   "execution_count": 46,
   "id": "7aaf0bd2",
   "metadata": {},
   "outputs": [],
   "source": [
    "class data_science:\n",
    "    \n",
    "    def syllabus(self) : \n",
    "        print(\"this is my syllabus for data science masters \")"
   ]
  },
  {
   "cell_type": "code",
   "execution_count": 47,
   "id": "db29a2d5",
   "metadata": {},
   "outputs": [],
   "source": [
    "class web_dev:\n",
    "    \n",
    "    def syllabus(self) : \n",
    "        print(\"this is  my subllabus for web dev\" )"
   ]
  },
  {
   "cell_type": "code",
   "execution_count": 48,
   "id": "b400ed9f",
   "metadata": {},
   "outputs": [],
   "source": [
    "def class_parcer(class_obj):\n",
    "    for i in class_obj:\n",
    "        i.syllabus()"
   ]
  },
  {
   "cell_type": "code",
   "execution_count": 49,
   "id": "0a225e03",
   "metadata": {},
   "outputs": [],
   "source": [
    "data_sc=data_science()"
   ]
  },
  {
   "cell_type": "code",
   "execution_count": 50,
   "id": "74b4c24e",
   "metadata": {},
   "outputs": [],
   "source": [
    "seb_dev=web_dev()"
   ]
  },
  {
   "cell_type": "code",
   "execution_count": 51,
   "id": "7e85bd6a",
   "metadata": {},
   "outputs": [],
   "source": [
    "class_obj=[data_sc,seb_dev]"
   ]
  },
  {
   "cell_type": "code",
   "execution_count": 52,
   "id": "977a31cd",
   "metadata": {},
   "outputs": [
    {
     "name": "stdout",
     "output_type": "stream",
     "text": [
      "this is my syllabus for data science masters \n",
      "this is  my subllabus for web dev\n"
     ]
    }
   ],
   "source": [
    "class_parcer(class_obj)"
   ]
  },
  {
   "cell_type": "code",
   "execution_count": 71,
   "id": "cdfb7fc0",
   "metadata": {},
   "outputs": [],
   "source": [
    "class car:\n",
    "    def __init__(self,brand,model):\n",
    "        self.brand=brand\n",
    "        self.model=model\n",
    "    def move(self):\n",
    "        print(\"drive\")"
   ]
  },
  {
   "cell_type": "code",
   "execution_count": 72,
   "id": "3644acf2",
   "metadata": {},
   "outputs": [],
   "source": [
    "class boat:\n",
    "    def __init__(self,brand,model):\n",
    "        self.brand=brand\n",
    "        self.model=model\n",
    "    def move(self):\n",
    "        print(\"sail\")"
   ]
  },
  {
   "cell_type": "code",
   "execution_count": 73,
   "id": "f5525ae5",
   "metadata": {},
   "outputs": [],
   "source": [
    "class plane:\n",
    "    def __init__(self,brand,model):\n",
    "        self.brand=brand\n",
    "        self.model=model\n",
    "    def move(self):\n",
    "        print(\"fly\")"
   ]
  },
  {
   "cell_type": "code",
   "execution_count": 75,
   "id": "d4d0822c",
   "metadata": {},
   "outputs": [
    {
     "name": "stdout",
     "output_type": "stream",
     "text": [
      "drive\n"
     ]
    }
   ],
   "source": [
    "car1=car('ford',22)\n",
    "boat1=boat('xx',125)\n",
    "plane1=plane('ll',555)\n",
    "car1.move()"
   ]
  },
  {
   "cell_type": "code",
   "execution_count": 76,
   "id": "8f465ea9",
   "metadata": {},
   "outputs": [
    {
     "name": "stdout",
     "output_type": "stream",
     "text": [
      "drive\n",
      "22\n",
      "ford\n",
      "sail\n",
      "125\n",
      "xx\n",
      "fly\n",
      "555\n",
      "ll\n"
     ]
    }
   ],
   "source": [
    "for i in (car1,boat1,plane1):\n",
    "    i.move()\n",
    "    print(i.model)\n",
    "    print(i.brand)"
   ]
  },
  {
   "cell_type": "code",
   "execution_count": 77,
   "id": "beea3e82",
   "metadata": {},
   "outputs": [
    {
     "name": "stdout",
     "output_type": "stream",
     "text": [
      "drive\n",
      "sail\n",
      "fly\n"
     ]
    }
   ],
   "source": [
    "for x in (car1, boat1, plane1):\n",
    "  x.move()"
   ]
  },
  {
   "cell_type": "code",
   "execution_count": 79,
   "id": "5ee02d51",
   "metadata": {},
   "outputs": [],
   "source": [
    "class Vehicle:\n",
    "    def __init__(self, brand, model):\n",
    "        self.brand = brand\n",
    "        self.model = model\n",
    "\n",
    "    def move(self):\n",
    "        print(\"Move!\")\n",
    "\n",
    "class Car(Vehicle):\n",
    "    pass\n",
    "\n",
    "class Boat(Vehicle):\n",
    "    def move(self):\n",
    "        print(\"Sail!\")\n",
    "\n",
    "class Plane(Vehicle):\n",
    "    def move(self):\n",
    "        print(\"Fly!\")"
   ]
  },
  {
   "cell_type": "code",
   "execution_count": 80,
   "id": "50213c23",
   "metadata": {},
   "outputs": [],
   "source": [
    "car1=car('ford','must')\n",
    "boat1=boat('gg','ff')\n",
    "plane1=plane('dd',202)"
   ]
  },
  {
   "cell_type": "code",
   "execution_count": 81,
   "id": "7bae2202",
   "metadata": {},
   "outputs": [
    {
     "name": "stdout",
     "output_type": "stream",
     "text": [
      "ford\n",
      "must\n",
      "drive\n",
      "gg\n",
      "ff\n",
      "sail\n",
      "dd\n",
      "202\n",
      "fly\n"
     ]
    }
   ],
   "source": [
    "for i in (car1,boat1,plane1):\n",
    "    print(i.brand)\n",
    "    print(i.model)\n",
    "    i.move()"
   ]
  },
  {
   "cell_type": "markdown",
   "id": "72ee76f1",
   "metadata": {},
   "source": [
    "# encapsulation"
   ]
  },
  {
   "cell_type": "code",
   "execution_count": 82,
   "id": "278d360d",
   "metadata": {},
   "outputs": [],
   "source": [
    "class test : \n",
    "    \n",
    "    \n",
    "    def __init__(self , a, b ):\n",
    "        self.a = a \n",
    "        self.b = b"
   ]
  },
  {
   "cell_type": "code",
   "execution_count": 83,
   "id": "abba90f4",
   "metadata": {},
   "outputs": [],
   "source": [
    "t= test(23,34)"
   ]
  },
  {
   "cell_type": "code",
   "execution_count": 84,
   "id": "3462ad12",
   "metadata": {},
   "outputs": [
    {
     "data": {
      "text/plain": [
       "23"
      ]
     },
     "execution_count": 84,
     "metadata": {},
     "output_type": "execute_result"
    }
   ],
   "source": [
    "t.a"
   ]
  },
  {
   "cell_type": "code",
   "execution_count": 85,
   "id": "1ed3a841",
   "metadata": {},
   "outputs": [
    {
     "data": {
      "text/plain": [
       "34"
      ]
     },
     "execution_count": 85,
     "metadata": {},
     "output_type": "execute_result"
    }
   ],
   "source": [
    "t.b"
   ]
  },
  {
   "cell_type": "code",
   "execution_count": 86,
   "id": "8fb7d1b8",
   "metadata": {},
   "outputs": [],
   "source": [
    "t.a=2345645"
   ]
  },
  {
   "cell_type": "code",
   "execution_count": 87,
   "id": "628492b6",
   "metadata": {},
   "outputs": [
    {
     "data": {
      "text/plain": [
       "2345645"
      ]
     },
     "execution_count": 87,
     "metadata": {},
     "output_type": "execute_result"
    }
   ],
   "source": [
    "t.a"
   ]
  },
  {
   "cell_type": "code",
   "execution_count": 91,
   "id": "f02af414",
   "metadata": {},
   "outputs": [],
   "source": [
    " class car:\n",
    "        def __init__(self,year,make,model,speed):\n",
    "            self.__year = year\n",
    "            self.__make = make\n",
    "            self.__model = model\n",
    "            self.__speed = 0\n",
    "            \n",
    "        def set_Speed(self,speed):\n",
    "            self.__speed = 0 if speed<0 else speed\n",
    "            \n",
    "        def get_speed(self):\n",
    "            return self.__speed"
   ]
  },
  {
   "cell_type": "code",
   "execution_count": 92,
   "id": "232f1bbc",
   "metadata": {},
   "outputs": [],
   "source": [
    "c= car(2021,'toyota','thar',12)"
   ]
  },
  {
   "cell_type": "code",
   "execution_count": 94,
   "id": "57f2f797",
   "metadata": {},
   "outputs": [
    {
     "ename": "AttributeError",
     "evalue": "'car' object has no attribute '__year'",
     "output_type": "error",
     "traceback": [
      "\u001b[1;31m---------------------------------------------------------------------------\u001b[0m",
      "\u001b[1;31mAttributeError\u001b[0m                            Traceback (most recent call last)",
      "\u001b[1;32m~\\AppData\\Local\\Temp\\ipykernel_6864\\1142423758.py\u001b[0m in \u001b[0;36m<module>\u001b[1;34m\u001b[0m\n\u001b[0;32m      1\u001b[0m \u001b[1;31m# you can not diret access the objet of the constructor\u001b[0m\u001b[1;33m\u001b[0m\u001b[1;33m\u001b[0m\u001b[0m\n\u001b[1;32m----> 2\u001b[1;33m \u001b[0mc\u001b[0m\u001b[1;33m.\u001b[0m\u001b[0m__year\u001b[0m\u001b[1;33m\u001b[0m\u001b[1;33m\u001b[0m\u001b[0m\n\u001b[0m",
      "\u001b[1;31mAttributeError\u001b[0m: 'car' object has no attribute '__year'"
     ]
    }
   ],
   "source": [
    "# you can not diret access the objet of the constructor\n",
    "c.__year"
   ]
  },
  {
   "cell_type": "code",
   "execution_count": 95,
   "id": "983035d9",
   "metadata": {},
   "outputs": [
    {
     "data": {
      "text/plain": [
       "2021"
      ]
     },
     "execution_count": 95,
     "metadata": {},
     "output_type": "execute_result"
    }
   ],
   "source": [
    "c._car__year"
   ]
  },
  {
   "cell_type": "code",
   "execution_count": 96,
   "id": "e154fefd",
   "metadata": {},
   "outputs": [],
   "source": [
    "c.set_Speed(-555)"
   ]
  },
  {
   "cell_type": "code",
   "execution_count": 98,
   "id": "8d010bad",
   "metadata": {},
   "outputs": [
    {
     "data": {
      "text/plain": [
       "0"
      ]
     },
     "execution_count": 98,
     "metadata": {},
     "output_type": "execute_result"
    }
   ],
   "source": [
    "c.get_speed()"
   ]
  },
  {
   "cell_type": "code",
   "execution_count": 99,
   "id": "f4ff2432",
   "metadata": {},
   "outputs": [],
   "source": [
    "c.set_Speed(25)"
   ]
  },
  {
   "cell_type": "code",
   "execution_count": 100,
   "id": "f6b3012a",
   "metadata": {},
   "outputs": [
    {
     "data": {
      "text/plain": [
       "25"
      ]
     },
     "execution_count": 100,
     "metadata": {},
     "output_type": "execute_result"
    }
   ],
   "source": [
    "c.get_speed()"
   ]
  },
  {
   "cell_type": "code",
   "execution_count": 103,
   "id": "1e62423a",
   "metadata": {},
   "outputs": [],
   "source": [
    "class bank_Account:\n",
    "    def __init__(self,balance):\n",
    "        self.__balance=balance\n",
    "    def deposite(self,amount):\n",
    "        self.__balance = self.__balance + amount\n",
    "    \n",
    "    def withdraw(self, amount):\n",
    "        if self.__balance>=amount:\n",
    "            self.__balance = self.__balance-amount\n",
    "            return True\n",
    "        else:\n",
    "            return False\n",
    "    def get_balance(self):\n",
    "        return self.__balance"
   ]
  },
  {
   "cell_type": "code",
   "execution_count": 109,
   "id": "c3ed704c",
   "metadata": {},
   "outputs": [],
   "source": [
    "bhiki=bank_Account(1000)"
   ]
  },
  {
   "cell_type": "code",
   "execution_count": 110,
   "id": "87874da5",
   "metadata": {},
   "outputs": [],
   "source": [
    "bhiki.deposite(2000)"
   ]
  },
  {
   "cell_type": "code",
   "execution_count": 111,
   "id": "76969b18",
   "metadata": {},
   "outputs": [
    {
     "data": {
      "text/plain": [
       "3000"
      ]
     },
     "execution_count": 111,
     "metadata": {},
     "output_type": "execute_result"
    }
   ],
   "source": [
    "bhiki.get_balance()"
   ]
  },
  {
   "cell_type": "code",
   "execution_count": 112,
   "id": "6a6a3fec",
   "metadata": {},
   "outputs": [
    {
     "data": {
      "text/plain": [
       "True"
      ]
     },
     "execution_count": 112,
     "metadata": {},
     "output_type": "execute_result"
    }
   ],
   "source": [
    "bhiki.withdraw(3000)"
   ]
  },
  {
   "cell_type": "code",
   "execution_count": 113,
   "id": "715e0008",
   "metadata": {},
   "outputs": [
    {
     "data": {
      "text/plain": [
       "0"
      ]
     },
     "execution_count": 113,
     "metadata": {},
     "output_type": "execute_result"
    }
   ],
   "source": [
    "bhiki.get_balance()"
   ]
  },
  {
   "cell_type": "code",
   "execution_count": 114,
   "id": "59b143fc",
   "metadata": {},
   "outputs": [],
   "source": [
    "bhiki.deposite(500)"
   ]
  },
  {
   "cell_type": "code",
   "execution_count": 115,
   "id": "e1aa9a35",
   "metadata": {},
   "outputs": [
    {
     "data": {
      "text/plain": [
       "500"
      ]
     },
     "execution_count": 115,
     "metadata": {},
     "output_type": "execute_result"
    }
   ],
   "source": [
    "bhiki.get_balance()"
   ]
  },
  {
   "cell_type": "markdown",
   "id": "079537f9",
   "metadata": {},
   "source": [
    "# Inheritance"
   ]
  },
  {
   "cell_type": "code",
   "execution_count": 116,
   "id": "2d3caab6",
   "metadata": {},
   "outputs": [],
   "source": [
    "class parent:\n",
    "    def test_parent(self):\n",
    "        print('from parent class')"
   ]
  },
  {
   "cell_type": "code",
   "execution_count": 117,
   "id": "2b663622",
   "metadata": {},
   "outputs": [],
   "source": [
    "class child(parent):\n",
    "    pass"
   ]
  },
  {
   "cell_type": "code",
   "execution_count": 118,
   "id": "0a413162",
   "metadata": {},
   "outputs": [],
   "source": [
    "ch=child()"
   ]
  },
  {
   "cell_type": "code",
   "execution_count": 119,
   "id": "e0dca9aa",
   "metadata": {},
   "outputs": [
    {
     "name": "stdout",
     "output_type": "stream",
     "text": [
      "from parent class\n"
     ]
    }
   ],
   "source": [
    "ch.test_parent()"
   ]
  },
  {
   "cell_type": "code",
   "execution_count": 126,
   "id": "b3342ffc",
   "metadata": {},
   "outputs": [],
   "source": [
    "class class1:\n",
    "    def test_class1(self):\n",
    "        print('from class1')"
   ]
  },
  {
   "cell_type": "code",
   "execution_count": 127,
   "id": "fde838fa",
   "metadata": {},
   "outputs": [],
   "source": [
    "class class2(class1):\n",
    "    def test_class2(self):\n",
    "        print('from class2')"
   ]
  },
  {
   "cell_type": "code",
   "execution_count": 128,
   "id": "2847f16c",
   "metadata": {},
   "outputs": [],
   "source": [
    "class class3(class2):\n",
    "    def test_class3(self):\n",
    "        print('from class3')"
   ]
  },
  {
   "cell_type": "code",
   "execution_count": 129,
   "id": "d636f784",
   "metadata": {},
   "outputs": [],
   "source": [
    "obj_cl3 = class3()"
   ]
  },
  {
   "cell_type": "code",
   "execution_count": 130,
   "id": "f7608414",
   "metadata": {},
   "outputs": [
    {
     "name": "stdout",
     "output_type": "stream",
     "text": [
      "from class1\n"
     ]
    }
   ],
   "source": [
    "obj_cl3.test_class1()"
   ]
  },
  {
   "cell_type": "code",
   "execution_count": 131,
   "id": "885784d4",
   "metadata": {},
   "outputs": [
    {
     "name": "stdout",
     "output_type": "stream",
     "text": [
      "from class2\n"
     ]
    }
   ],
   "source": [
    "obj_cl3.test_class2()"
   ]
  },
  {
   "cell_type": "code",
   "execution_count": 132,
   "id": "eeb14820",
   "metadata": {},
   "outputs": [
    {
     "name": "stdout",
     "output_type": "stream",
     "text": [
      "from class3\n"
     ]
    }
   ],
   "source": [
    "obj_cl3.test_class3()"
   ]
  },
  {
   "cell_type": "code",
   "execution_count": 133,
   "id": "87805515",
   "metadata": {},
   "outputs": [],
   "source": [
    "class class1:\n",
    "    def test_class1(self):\n",
    "        print('from class1')"
   ]
  },
  {
   "cell_type": "code",
   "execution_count": 134,
   "id": "755519a2",
   "metadata": {},
   "outputs": [],
   "source": [
    "class class2:\n",
    "    def test_class2(self):\n",
    "        print('from class2')"
   ]
  },
  {
   "cell_type": "code",
   "execution_count": 135,
   "id": "aaea466f",
   "metadata": {},
   "outputs": [],
   "source": [
    "class class3(class1,class2):\n",
    "    pass"
   ]
  },
  {
   "cell_type": "code",
   "execution_count": 136,
   "id": "723b863a",
   "metadata": {},
   "outputs": [],
   "source": [
    "cl3=class3()"
   ]
  },
  {
   "cell_type": "code",
   "execution_count": 137,
   "id": "7dce411f",
   "metadata": {},
   "outputs": [
    {
     "name": "stdout",
     "output_type": "stream",
     "text": [
      "from class1\n"
     ]
    }
   ],
   "source": [
    "cl3.test_class1()"
   ]
  },
  {
   "cell_type": "code",
   "execution_count": 138,
   "id": "e4ead2bd",
   "metadata": {},
   "outputs": [
    {
     "name": "stdout",
     "output_type": "stream",
     "text": [
      "from class2\n"
     ]
    }
   ],
   "source": [
    "cl3.test_class2()"
   ]
  },
  {
   "cell_type": "code",
   "execution_count": 139,
   "id": "50b6aa00",
   "metadata": {},
   "outputs": [],
   "source": [
    "class class1:\n",
    "    def test_class1(self):\n",
    "        print('from class1')"
   ]
  },
  {
   "cell_type": "code",
   "execution_count": 141,
   "id": "f821768f",
   "metadata": {},
   "outputs": [
    {
     "name": "stdout",
     "output_type": "stream",
     "text": [
      "John Doe\n"
     ]
    }
   ],
   "source": [
    "class Person:\n",
    "    def __init__(self, fname, lname):\n",
    "        self.firstname = fname\n",
    "        self.lastname = lname\n",
    "\n",
    "    def printname(self):\n",
    "        print(self.firstname, self.lastname)\n",
    "\n",
    "#Use the Person class to create an object, and then execute the printname method:\n",
    "\n",
    "x = Person(\"John\", \"Doe\")\n",
    "x.printname()"
   ]
  },
  {
   "cell_type": "code",
   "execution_count": 143,
   "id": "bf60036f",
   "metadata": {},
   "outputs": [],
   "source": [
    "class Student(Person):\n",
    "    pass"
   ]
  },
  {
   "cell_type": "code",
   "execution_count": 145,
   "id": "58b86c81",
   "metadata": {},
   "outputs": [],
   "source": [
    "t = Student(\"bhiki\", \"pallai\")"
   ]
  },
  {
   "cell_type": "code",
   "execution_count": 146,
   "id": "ccb041e3",
   "metadata": {},
   "outputs": [
    {
     "name": "stdout",
     "output_type": "stream",
     "text": [
      "bhiki pallai\n"
     ]
    }
   ],
   "source": [
    "t.printname()"
   ]
  },
  {
   "cell_type": "code",
   "execution_count": 148,
   "id": "b37e4f65",
   "metadata": {},
   "outputs": [
    {
     "data": {
      "text/plain": [
       "'bhiki'"
      ]
     },
     "execution_count": 148,
     "metadata": {},
     "output_type": "execute_result"
    }
   ],
   "source": [
    "t.firstname"
   ]
  },
  {
   "cell_type": "code",
   "execution_count": 149,
   "id": "27f798bc",
   "metadata": {},
   "outputs": [
    {
     "data": {
      "text/plain": [
       "'pallai'"
      ]
     },
     "execution_count": 149,
     "metadata": {},
     "output_type": "execute_result"
    }
   ],
   "source": [
    "t.lastname"
   ]
  },
  {
   "cell_type": "code",
   "execution_count": 154,
   "id": "872cf90d",
   "metadata": {},
   "outputs": [],
   "source": [
    "class Student(Person):\n",
    "    def __init__(self,sname,mname):\n",
    "        self.sname=sname\n",
    "        self.mname=mname"
   ]
  },
  {
   "cell_type": "code",
   "execution_count": 155,
   "id": "a0985f25",
   "metadata": {},
   "outputs": [],
   "source": [
    "st2 = Student('kirti','kore')"
   ]
  },
  {
   "cell_type": "code",
   "execution_count": 157,
   "id": "84699e8b",
   "metadata": {},
   "outputs": [
    {
     "data": {
      "text/plain": [
       "'kirti'"
      ]
     },
     "execution_count": 157,
     "metadata": {},
     "output_type": "execute_result"
    }
   ],
   "source": [
    "st2.sname"
   ]
  },
  {
   "cell_type": "code",
   "execution_count": 159,
   "id": "b96569fe",
   "metadata": {},
   "outputs": [
    {
     "data": {
      "text/plain": [
       "'after add the same function to the child class it wont \\nable to access the same method from parent and their object as well as'"
      ]
     },
     "execution_count": 159,
     "metadata": {},
     "output_type": "execute_result"
    }
   ],
   "source": [
    "\"\"\"after add the same function to the child class it wont \n",
    "able to access the same method from parent and their object as well as\"\"\" "
   ]
  },
  {
   "cell_type": "code",
   "execution_count": 160,
   "id": "7b9b889b",
   "metadata": {},
   "outputs": [
    {
     "data": {
      "text/plain": [
       "'to access the parent constructor and obj \\nwe need to call parent methods in the child class'"
      ]
     },
     "execution_count": 160,
     "metadata": {},
     "output_type": "execute_result"
    }
   ],
   "source": [
    "\"\"\"to access the parent constructor and obj \n",
    "we need to call parent methods in the child class\"\"\""
   ]
  },
  {
   "cell_type": "code",
   "execution_count": 170,
   "id": "dbb0c2e9",
   "metadata": {},
   "outputs": [],
   "source": [
    "class Student(Person):\n",
    "    def __init__(self,fname,lname):\n",
    "        Person.__init__(self,fname,lname)"
   ]
  },
  {
   "cell_type": "code",
   "execution_count": 171,
   "id": "13099a86",
   "metadata": {},
   "outputs": [],
   "source": [
    "st4=Student('kam','dev')"
   ]
  },
  {
   "cell_type": "code",
   "execution_count": 172,
   "id": "45e021e3",
   "metadata": {},
   "outputs": [
    {
     "data": {
      "text/plain": [
       "'kam'"
      ]
     },
     "execution_count": 172,
     "metadata": {},
     "output_type": "execute_result"
    }
   ],
   "source": [
    "st4.firstname"
   ]
  },
  {
   "cell_type": "code",
   "execution_count": 173,
   "id": "139feb64",
   "metadata": {},
   "outputs": [
    {
     "data": {
      "text/plain": [
       "'dev'"
      ]
     },
     "execution_count": 173,
     "metadata": {},
     "output_type": "execute_result"
    }
   ],
   "source": [
    "st4.lastname"
   ]
  },
  {
   "cell_type": "code",
   "execution_count": 174,
   "id": "8849c9d3",
   "metadata": {},
   "outputs": [
    {
     "name": "stdout",
     "output_type": "stream",
     "text": [
      "kam dev\n"
     ]
    }
   ],
   "source": [
    "st4.printname()"
   ]
  },
  {
   "cell_type": "code",
   "execution_count": 175,
   "id": "8c3d65a9",
   "metadata": {},
   "outputs": [
    {
     "name": "stdout",
     "output_type": "stream",
     "text": [
      "Mike Olsen\n"
     ]
    }
   ],
   "source": [
    "class Person:\n",
    "  def __init__(self, fname, lname):\n",
    "    self.firstname = fname\n",
    "    self.lastname = lname\n",
    "\n",
    "  def printname(self):\n",
    "    print(self.firstname, self.lastname)\n",
    "\n",
    "class Student(Person):\n",
    "  def __init__(self, fname, lname):\n",
    "    super().__init__(fname, lname)\n",
    "\n",
    "x = Student(\"Mike\", \"Olsen\")\n",
    "x.printname()\n"
   ]
  },
  {
   "cell_type": "markdown",
   "id": "f7189c84",
   "metadata": {},
   "source": [
    "# Abstarct class"
   ]
  },
  {
   "cell_type": "code",
   "execution_count": 176,
   "id": "965521bb",
   "metadata": {},
   "outputs": [],
   "source": [
    "import abc"
   ]
  },
  {
   "cell_type": "code",
   "execution_count": 178,
   "id": "af1fddb1",
   "metadata": {},
   "outputs": [],
   "source": [
    "class bhiki:\n",
    "    @abc.abstractmethod\n",
    "    def student_details(self):\n",
    "        return 'from abstract 1'\n",
    "    \n",
    "    @abc.abstractmethod\n",
    "    def student_assignment(self):\n",
    "         return 'from abstract 2'\n",
    "    \n",
    "    @abc.abstractmethod\n",
    "    def student_marks(self):\n",
    "         return 'from abstract 3'"
   ]
  },
  {
   "cell_type": "code",
   "execution_count": 179,
   "id": "d4f21401",
   "metadata": {},
   "outputs": [],
   "source": [
    "class child(bhiki):\n",
    "    pass"
   ]
  },
  {
   "cell_type": "code",
   "execution_count": 180,
   "id": "baa38b24",
   "metadata": {},
   "outputs": [],
   "source": [
    "ch=child()"
   ]
  },
  {
   "cell_type": "code",
   "execution_count": 181,
   "id": "3977b6db",
   "metadata": {},
   "outputs": [
    {
     "data": {
      "text/plain": [
       "'from abstract 2'"
      ]
     },
     "execution_count": 181,
     "metadata": {},
     "output_type": "execute_result"
    }
   ],
   "source": [
    "ch.student_assignment()"
   ]
  },
  {
   "cell_type": "code",
   "execution_count": 182,
   "id": "61f26d55",
   "metadata": {},
   "outputs": [
    {
     "data": {
      "text/plain": [
       "'use the same method of the parent bt in your own way'"
      ]
     },
     "execution_count": 182,
     "metadata": {},
     "output_type": "execute_result"
    }
   ],
   "source": [
    "\"\"\"use the same method of the parent bt in your own way\"\"\""
   ]
  },
  {
   "cell_type": "code",
   "execution_count": 183,
   "id": "7c265deb",
   "metadata": {},
   "outputs": [],
   "source": [
    "class child2(bhiki):\n",
    "    def student_details(self):\n",
    "        return \"from child2\""
   ]
  },
  {
   "cell_type": "code",
   "execution_count": 184,
   "id": "dddfa67b",
   "metadata": {},
   "outputs": [],
   "source": [
    "ch2=child2()"
   ]
  },
  {
   "cell_type": "code",
   "execution_count": 185,
   "id": "cdce639c",
   "metadata": {},
   "outputs": [
    {
     "data": {
      "text/plain": [
       "'from child2'"
      ]
     },
     "execution_count": 185,
     "metadata": {},
     "output_type": "execute_result"
    }
   ],
   "source": [
    "ch2.student_details()"
   ]
  },
  {
   "cell_type": "markdown",
   "id": "d639d109",
   "metadata": {},
   "source": [
    "# Decorators"
   ]
  },
  {
   "cell_type": "code",
   "execution_count": 190,
   "id": "8ac93dbf",
   "metadata": {},
   "outputs": [],
   "source": [
    "def test():\n",
    "    print(\"this is the start of my function\")\n",
    "    print('this is my function to test')\n",
    "    print(4+5)\n",
    "    print(\"this is the end of my function\")"
   ]
  },
  {
   "cell_type": "code",
   "execution_count": 191,
   "id": "fc0ed766",
   "metadata": {},
   "outputs": [
    {
     "name": "stdout",
     "output_type": "stream",
     "text": [
      "this is the start of my function\n",
      "this is my function to test\n",
      "9\n",
      "this is the end of my function\n"
     ]
    }
   ],
   "source": [
    "test()"
   ]
  },
  {
   "cell_type": "code",
   "execution_count": 192,
   "id": "3c50cfb3",
   "metadata": {},
   "outputs": [],
   "source": [
    "def deco(func):\n",
    "    def inner_dec():\n",
    "        print(\"this is the start of my function\")\n",
    "        func()\n",
    "        print(\"this is the end of my function\")\n",
    "    return inner_dec"
   ]
  },
  {
   "cell_type": "code",
   "execution_count": 195,
   "id": "a06d6303",
   "metadata": {},
   "outputs": [],
   "source": [
    "@deco\n",
    "def test1():\n",
    "    print(6+7)"
   ]
  },
  {
   "cell_type": "code",
   "execution_count": 196,
   "id": "4f681259",
   "metadata": {},
   "outputs": [
    {
     "name": "stdout",
     "output_type": "stream",
     "text": [
      "this is the start of my function\n",
      "13\n",
      "this is the end of my function\n"
     ]
    }
   ],
   "source": [
    "test1()"
   ]
  },
  {
   "cell_type": "code",
   "execution_count": 197,
   "id": "8d4a8fc1",
   "metadata": {},
   "outputs": [],
   "source": [
    "def test1():\n",
    "    print(6+7)"
   ]
  },
  {
   "cell_type": "code",
   "execution_count": 198,
   "id": "375b9570",
   "metadata": {},
   "outputs": [
    {
     "name": "stdout",
     "output_type": "stream",
     "text": [
      "13\n"
     ]
    }
   ],
   "source": [
    "test1()"
   ]
  },
  {
   "cell_type": "code",
   "execution_count": 199,
   "id": "6a531f86",
   "metadata": {},
   "outputs": [],
   "source": [
    "import time"
   ]
  },
  {
   "cell_type": "code",
   "execution_count": 200,
   "id": "4983a687",
   "metadata": {},
   "outputs": [],
   "source": [
    "def timer_test(func):\n",
    "    def timer_test_inner():\n",
    "        start = time.time()\n",
    "        func()\n",
    "        end = time.time()\n",
    "        print(end-start)\n",
    "    return timer_test_inner"
   ]
  },
  {
   "cell_type": "code",
   "execution_count": 201,
   "id": "c6fece6c",
   "metadata": {},
   "outputs": [],
   "source": [
    "def test2():\n",
    "    print(45+78)"
   ]
  },
  {
   "cell_type": "code",
   "execution_count": 202,
   "id": "e79feefd",
   "metadata": {},
   "outputs": [
    {
     "name": "stdout",
     "output_type": "stream",
     "text": [
      "123\n"
     ]
    }
   ],
   "source": [
    "test2()"
   ]
  },
  {
   "cell_type": "code",
   "execution_count": 206,
   "id": "4d76e4a2",
   "metadata": {},
   "outputs": [],
   "source": [
    "@timer_test\n",
    "def test2():\n",
    "    print(45+78)"
   ]
  },
  {
   "cell_type": "code",
   "execution_count": 207,
   "id": "d7ee6050",
   "metadata": {},
   "outputs": [
    {
     "name": "stdout",
     "output_type": "stream",
     "text": [
      "123\n",
      "0.0009925365447998047\n"
     ]
    }
   ],
   "source": [
    "test2()"
   ]
  },
  {
   "cell_type": "code",
   "execution_count": 208,
   "id": "106368c1",
   "metadata": {},
   "outputs": [],
   "source": [
    "def test3():\n",
    "    for i in range(100000000):\n",
    "        pass"
   ]
  },
  {
   "cell_type": "code",
   "execution_count": 209,
   "id": "7507724f",
   "metadata": {},
   "outputs": [],
   "source": [
    "test3()"
   ]
  },
  {
   "cell_type": "code",
   "execution_count": 210,
   "id": "ad4df9a1",
   "metadata": {},
   "outputs": [],
   "source": [
    "@timer_test\n",
    "def test3():\n",
    "    for i in range(100000000):\n",
    "        pass"
   ]
  },
  {
   "cell_type": "code",
   "execution_count": 211,
   "id": "95f3ad50",
   "metadata": {},
   "outputs": [
    {
     "name": "stdout",
     "output_type": "stream",
     "text": [
      "6.562052488327026\n"
     ]
    }
   ],
   "source": [
    "test3()"
   ]
  },
  {
   "cell_type": "markdown",
   "id": "386e1144",
   "metadata": {},
   "source": [
    "# class methods"
   ]
  },
  {
   "cell_type": "code",
   "execution_count": 212,
   "id": "b0c11229",
   "metadata": {},
   "outputs": [],
   "source": [
    "class pwskills : \n",
    "    \n",
    "    def __init__(self , name , email) :\n",
    "        \n",
    "        self.name = name \n",
    "        self.email = email\n",
    "        \n",
    "    def students_details(self):\n",
    "        print(self.name , self.email)"
   ]
  },
  {
   "cell_type": "code",
   "execution_count": 213,
   "id": "c541b814",
   "metadata": {},
   "outputs": [],
   "source": [
    "pw = pwskills(\"bhiki\",'aba@gmail.com')"
   ]
  },
  {
   "cell_type": "code",
   "execution_count": 215,
   "id": "150ace39",
   "metadata": {},
   "outputs": [
    {
     "name": "stdout",
     "output_type": "stream",
     "text": [
      "bhiki aba@gmail.com\n"
     ]
    }
   ],
   "source": [
    "pw.students_details()"
   ]
  },
  {
   "cell_type": "code",
   "execution_count": 216,
   "id": "3e95c277",
   "metadata": {},
   "outputs": [
    {
     "data": {
      "text/plain": [
       "'bhiki'"
      ]
     },
     "execution_count": 216,
     "metadata": {},
     "output_type": "execute_result"
    }
   ],
   "source": [
    "pw.name"
   ]
  },
  {
   "cell_type": "code",
   "execution_count": 217,
   "id": "b560269d",
   "metadata": {},
   "outputs": [
    {
     "data": {
      "text/plain": [
       "'aba@gmail.com'"
      ]
     },
     "execution_count": 217,
     "metadata": {},
     "output_type": "execute_result"
    }
   ],
   "source": [
    "pw.email"
   ]
  },
  {
   "cell_type": "code",
   "execution_count": 218,
   "id": "9bb6fad3",
   "metadata": {},
   "outputs": [],
   "source": [
    "class pwskills1 : \n",
    "    \n",
    "    def __init__(self , name , email) :\n",
    "        \n",
    "        self.name = name \n",
    "        self.email = email\n",
    "    \n",
    "    @classmethod    \n",
    "    def details(cls, name,email):\n",
    "        return cls(name,email)\n",
    "        \n",
    "    def students_details(self):\n",
    "        print(self.name , self.email)"
   ]
  },
  {
   "cell_type": "code",
   "execution_count": 219,
   "id": "a7b7fd05",
   "metadata": {},
   "outputs": [
    {
     "ename": "TypeError",
     "evalue": "details() missing 2 required positional arguments: 'name' and 'email'",
     "output_type": "error",
     "traceback": [
      "\u001b[1;31m---------------------------------------------------------------------------\u001b[0m",
      "\u001b[1;31mTypeError\u001b[0m                                 Traceback (most recent call last)",
      "\u001b[1;32m~\\AppData\\Local\\Temp\\ipykernel_6864\\1640682015.py\u001b[0m in \u001b[0;36m<module>\u001b[1;34m\u001b[0m\n\u001b[1;32m----> 1\u001b[1;33m \u001b[0mpwskills1\u001b[0m\u001b[1;33m.\u001b[0m\u001b[0mdetails\u001b[0m\u001b[1;33m(\u001b[0m\u001b[1;33m)\u001b[0m\u001b[1;33m\u001b[0m\u001b[1;33m\u001b[0m\u001b[0m\n\u001b[0m",
      "\u001b[1;31mTypeError\u001b[0m: details() missing 2 required positional arguments: 'name' and 'email'"
     ]
    }
   ],
   "source": [
    "pwskills1.details()"
   ]
  },
  {
   "cell_type": "code",
   "execution_count": 221,
   "id": "7ce24db3",
   "metadata": {},
   "outputs": [],
   "source": [
    "pw1 = pwskills1.details('bhiki','abcs@gmail.com')"
   ]
  },
  {
   "cell_type": "code",
   "execution_count": 222,
   "id": "e1909229",
   "metadata": {},
   "outputs": [
    {
     "data": {
      "text/plain": [
       "'bhiki'"
      ]
     },
     "execution_count": 222,
     "metadata": {},
     "output_type": "execute_result"
    }
   ],
   "source": [
    "pw1.name"
   ]
  },
  {
   "cell_type": "code",
   "execution_count": 224,
   "id": "85cb02b5",
   "metadata": {},
   "outputs": [
    {
     "data": {
      "text/plain": [
       "'abcs@gmail.com'"
      ]
     },
     "execution_count": 224,
     "metadata": {},
     "output_type": "execute_result"
    }
   ],
   "source": [
    "pw1.email"
   ]
  },
  {
   "cell_type": "code",
   "execution_count": 225,
   "id": "1d4d6e72",
   "metadata": {},
   "outputs": [
    {
     "name": "stdout",
     "output_type": "stream",
     "text": [
      "bhiki abcs@gmail.com\n"
     ]
    }
   ],
   "source": [
    "pw1.students_details()"
   ]
  },
  {
   "cell_type": "code",
   "execution_count": 226,
   "id": "c8c94dc4",
   "metadata": {},
   "outputs": [],
   "source": [
    "class pwskills1 : \n",
    "    \n",
    "    mobile_num = 9337760647\n",
    "    \n",
    "    def __init__(self , name , email) :\n",
    "        \n",
    "        self.name = name \n",
    "        self.email = email\n",
    "    \n",
    "    @classmethod    \n",
    "    def details(cls, name,email):\n",
    "        return cls(name,email)\n",
    "        \n",
    "    def students_details(self):\n",
    "        print(self.name , self.email)"
   ]
  },
  {
   "cell_type": "markdown",
   "id": "e077d165",
   "metadata": {},
   "source": [
    "# static method"
   ]
  },
  {
   "cell_type": "code",
   "execution_count": 227,
   "id": "1c357c39",
   "metadata": {},
   "outputs": [],
   "source": [
    "class pwskills :\n",
    "    \n",
    "    def student_details(self , name , mail_id , number) :\n",
    "        print(name , mail_id, number)"
   ]
  },
  {
   "cell_type": "code",
   "execution_count": 228,
   "id": "1dcf56e6",
   "metadata": {},
   "outputs": [],
   "source": [
    "pw= pwskills()"
   ]
  },
  {
   "cell_type": "code",
   "execution_count": 229,
   "id": "deced4b0",
   "metadata": {},
   "outputs": [
    {
     "name": "stdout",
     "output_type": "stream",
     "text": [
      "bhiki aa@gmail.com 5652465565\n"
     ]
    }
   ],
   "source": [
    "pw.student_details(\"bhiki\",'aa@gmail.com',5652465565)"
   ]
  },
  {
   "cell_type": "code",
   "execution_count": 231,
   "id": "912445f0",
   "metadata": {},
   "outputs": [],
   "source": [
    "class pwskills1 :\n",
    "    \n",
    "    def student_details(self , name , mail_id , number) :\n",
    "        print(name , mail_id, number)\n",
    "        \n",
    "    @staticmethod\n",
    "    def mentor_class(list_mentor) :\n",
    "        print(list_mentor)\n",
    "        \n",
    "    def mentor(self ,mentor_list):\n",
    "        print(mentor_list)"
   ]
  },
  {
   "cell_type": "code",
   "execution_count": 232,
   "id": "0ab56889",
   "metadata": {},
   "outputs": [
    {
     "name": "stdout",
     "output_type": "stream",
     "text": [
      "['bhiki', 'pallai']\n"
     ]
    }
   ],
   "source": [
    "pwskills1.mentor_class(['bhiki','pallai'])"
   ]
  },
  {
   "cell_type": "code",
   "execution_count": 234,
   "id": "98564614",
   "metadata": {},
   "outputs": [],
   "source": [
    "stu2 = pwskills1()"
   ]
  },
  {
   "cell_type": "code",
   "execution_count": 243,
   "id": "8da6c1db",
   "metadata": {},
   "outputs": [
    {
     "ename": "TypeError",
     "evalue": "mentor_class() missing 1 required positional argument: 'list_mentor'",
     "output_type": "error",
     "traceback": [
      "\u001b[1;31m---------------------------------------------------------------------------\u001b[0m",
      "\u001b[1;31mTypeError\u001b[0m                                 Traceback (most recent call last)",
      "\u001b[1;32m~\\AppData\\Local\\Temp\\ipykernel_6864\\3989439875.py\u001b[0m in \u001b[0;36m<module>\u001b[1;34m\u001b[0m\n\u001b[1;32m----> 1\u001b[1;33m \u001b[0mstu2\u001b[0m\u001b[1;33m.\u001b[0m\u001b[0mmentor_class\u001b[0m\u001b[1;33m(\u001b[0m\u001b[1;33m)\u001b[0m\u001b[1;33m\u001b[0m\u001b[1;33m\u001b[0m\u001b[0m\n\u001b[0m",
      "\u001b[1;31mTypeError\u001b[0m: mentor_class() missing 1 required positional argument: 'list_mentor'"
     ]
    }
   ],
   "source": [
    "stu2.mentor_class()"
   ]
  },
  {
   "cell_type": "code",
   "execution_count": 233,
   "id": "16c3c990",
   "metadata": {},
   "outputs": [],
   "source": [
    "stu1 = pwskills1()"
   ]
  },
  {
   "cell_type": "code",
   "execution_count": 235,
   "id": "8fa6301e",
   "metadata": {},
   "outputs": [],
   "source": [
    "stu3 = pwskills1()"
   ]
  },
  {
   "cell_type": "code",
   "execution_count": 236,
   "id": "649a880b",
   "metadata": {},
   "outputs": [
    {
     "name": "stdout",
     "output_type": "stream",
     "text": [
      "['kk', 'bk']\n"
     ]
    }
   ],
   "source": [
    "stu1.mentor(['kk','bk'])"
   ]
  },
  {
   "cell_type": "code",
   "execution_count": 237,
   "id": "0f5d3c19",
   "metadata": {},
   "outputs": [],
   "source": [
    "class pwskills2 :\n",
    "    \n",
    "    def student_details(self , name , mail_id , number) :\n",
    "        print(name , mail_id, number)\n",
    "        \n",
    "    @staticmethod\n",
    "    def mentor_mail_id(maild_id_mentor) :\n",
    "        print(maild_id_mentor)    \n",
    "        \n",
    "    @staticmethod\n",
    "    def mentor_class(list_mentor) :\n",
    "        pwskills2.mentor_mail_id([\"sudh@gmail.com\" , \"krish@gmail.com\"])\n",
    "        print(list_mentor)\n",
    "        \n",
    "    @classmethod\n",
    "    def class_name(cls):\n",
    "        cls.mentor_class([\"sudh\" , \"krish\"])\n",
    "        \n",
    "        \n",
    "        \n",
    "    def mentor(self ,mentor_list):\n",
    "        print(mentor_list)\n",
    "        self.mentor_class([\"krish\" , \"sudh\"])"
   ]
  },
  {
   "cell_type": "code",
   "execution_count": 239,
   "id": "9234473f",
   "metadata": {},
   "outputs": [
    {
     "name": "stdout",
     "output_type": "stream",
     "text": [
      "['sudh@gmail.com', 'krish@gmail.com']\n",
      "['bh', 'll']\n"
     ]
    }
   ],
   "source": [
    "pwskills2.mentor_class(['bh','ll'])"
   ]
  },
  {
   "cell_type": "code",
   "execution_count": 240,
   "id": "b03f40f5",
   "metadata": {},
   "outputs": [
    {
     "name": "stdout",
     "output_type": "stream",
     "text": [
      "['sudh@gmail.com', 'krish@gmail.com']\n",
      "['sudh', 'krish']\n"
     ]
    }
   ],
   "source": [
    "pwskills2.class_name()"
   ]
  },
  {
   "cell_type": "code",
   "execution_count": 241,
   "id": "57709ef8",
   "metadata": {},
   "outputs": [],
   "source": [
    "pw = pwskills2()"
   ]
  },
  {
   "cell_type": "code",
   "execution_count": 242,
   "id": "0713ac02",
   "metadata": {},
   "outputs": [
    {
     "name": "stdout",
     "output_type": "stream",
     "text": [
      "['bb', 'vv']\n",
      "['sudh@gmail.com', 'krish@gmail.com']\n",
      "['krish', 'sudh']\n"
     ]
    }
   ],
   "source": [
    "pw.mentor(['bb','vv'])"
   ]
  },
  {
   "cell_type": "markdown",
   "id": "5c7514d4",
   "metadata": {},
   "source": [
    "# Special Magic and dunder method"
   ]
  },
  {
   "cell_type": "code",
   "execution_count": 246,
   "id": "551b9085",
   "metadata": {},
   "outputs": [
    {
     "data": {
      "text/plain": [
       "'The output of dir(int) is a list of all the attributes and methods \\nof the int object'"
      ]
     },
     "execution_count": 246,
     "metadata": {},
     "output_type": "execute_result"
    }
   ],
   "source": [
    "dir(int)\n",
    "\"\"\"The output of dir(int) is a list of all the attributes and methods \n",
    "of the int object\"\"\""
   ]
  },
  {
   "cell_type": "code",
   "execution_count": 247,
   "id": "11f92498",
   "metadata": {},
   "outputs": [
    {
     "data": {
      "text/plain": [
       "['__add__',\n",
       " '__class__',\n",
       " '__contains__',\n",
       " '__delattr__',\n",
       " '__dir__',\n",
       " '__doc__',\n",
       " '__eq__',\n",
       " '__format__',\n",
       " '__ge__',\n",
       " '__getattribute__',\n",
       " '__getitem__',\n",
       " '__getnewargs__',\n",
       " '__gt__',\n",
       " '__hash__',\n",
       " '__init__',\n",
       " '__init_subclass__',\n",
       " '__iter__',\n",
       " '__le__',\n",
       " '__len__',\n",
       " '__lt__',\n",
       " '__mod__',\n",
       " '__mul__',\n",
       " '__ne__',\n",
       " '__new__',\n",
       " '__reduce__',\n",
       " '__reduce_ex__',\n",
       " '__repr__',\n",
       " '__rmod__',\n",
       " '__rmul__',\n",
       " '__setattr__',\n",
       " '__sizeof__',\n",
       " '__str__',\n",
       " '__subclasshook__',\n",
       " 'capitalize',\n",
       " 'casefold',\n",
       " 'center',\n",
       " 'count',\n",
       " 'encode',\n",
       " 'endswith',\n",
       " 'expandtabs',\n",
       " 'find',\n",
       " 'format',\n",
       " 'format_map',\n",
       " 'index',\n",
       " 'isalnum',\n",
       " 'isalpha',\n",
       " 'isascii',\n",
       " 'isdecimal',\n",
       " 'isdigit',\n",
       " 'isidentifier',\n",
       " 'islower',\n",
       " 'isnumeric',\n",
       " 'isprintable',\n",
       " 'isspace',\n",
       " 'istitle',\n",
       " 'isupper',\n",
       " 'join',\n",
       " 'ljust',\n",
       " 'lower',\n",
       " 'lstrip',\n",
       " 'maketrans',\n",
       " 'partition',\n",
       " 'removeprefix',\n",
       " 'removesuffix',\n",
       " 'replace',\n",
       " 'rfind',\n",
       " 'rindex',\n",
       " 'rjust',\n",
       " 'rpartition',\n",
       " 'rsplit',\n",
       " 'rstrip',\n",
       " 'split',\n",
       " 'splitlines',\n",
       " 'startswith',\n",
       " 'strip',\n",
       " 'swapcase',\n",
       " 'title',\n",
       " 'translate',\n",
       " 'upper',\n",
       " 'zfill']"
      ]
     },
     "execution_count": 247,
     "metadata": {},
     "output_type": "execute_result"
    }
   ],
   "source": [
    "dir(str)"
   ]
  },
  {
   "cell_type": "code",
   "execution_count": 248,
   "id": "f482b59d",
   "metadata": {},
   "outputs": [],
   "source": [
    "a =100"
   ]
  },
  {
   "cell_type": "code",
   "execution_count": 249,
   "id": "d785a5bc",
   "metadata": {},
   "outputs": [
    {
     "data": {
      "text/plain": [
       "105"
      ]
     },
     "execution_count": 249,
     "metadata": {},
     "output_type": "execute_result"
    }
   ],
   "source": [
    "a+5"
   ]
  },
  {
   "cell_type": "code",
   "execution_count": 250,
   "id": "65f66cea",
   "metadata": {},
   "outputs": [
    {
     "data": {
      "text/plain": [
       "105"
      ]
     },
     "execution_count": 250,
     "metadata": {},
     "output_type": "execute_result"
    }
   ],
   "source": [
    "a.__add__(5)"
   ]
  },
  {
   "cell_type": "code",
   "execution_count": 281,
   "id": "2c5ed7e2",
   "metadata": {},
   "outputs": [],
   "source": [
    "class pwskills:\n",
    "    def __new__(cls):\n",
    "        print('this is my new')\n",
    "    def __init__(self):\n",
    "        print('this is from init')\n",
    "        self.mobile_number=8788523654"
   ]
  },
  {
   "cell_type": "code",
   "execution_count": 282,
   "id": "c5232cf5",
   "metadata": {},
   "outputs": [
    {
     "name": "stdout",
     "output_type": "stream",
     "text": [
      "this is my new\n"
     ]
    }
   ],
   "source": [
    "pw=pwskills()"
   ]
  },
  {
   "cell_type": "code",
   "execution_count": 279,
   "id": "00ffd875",
   "metadata": {},
   "outputs": [
    {
     "data": {
      "text/plain": [
       "8788523654"
      ]
     },
     "execution_count": 279,
     "metadata": {},
     "output_type": "execute_result"
    }
   ],
   "source": [
    "pw.mobile_number"
   ]
  },
  {
   "cell_type": "code",
   "execution_count": 294,
   "id": "f2679789",
   "metadata": {},
   "outputs": [],
   "source": [
    "class pwskills1:\n",
    "    \n",
    "    def _init__(self):\n",
    "        self.mobile_number=8988555"
   ]
  },
  {
   "cell_type": "code",
   "execution_count": 295,
   "id": "4a9a6e4d",
   "metadata": {},
   "outputs": [],
   "source": [
    "mm = pwskills1()"
   ]
  },
  {
   "cell_type": "code",
   "execution_count": 293,
   "id": "db6d2f40",
   "metadata": {},
   "outputs": [
    {
     "ename": "AttributeError",
     "evalue": "'pwskills1' object has no attribute 'mm'",
     "output_type": "error",
     "traceback": [
      "\u001b[1;31m---------------------------------------------------------------------------\u001b[0m",
      "\u001b[1;31mAttributeError\u001b[0m                            Traceback (most recent call last)",
      "\u001b[1;32m~\\AppData\\Local\\Temp\\ipykernel_6864\\854321155.py\u001b[0m in \u001b[0;36m<module>\u001b[1;34m\u001b[0m\n\u001b[1;32m----> 1\u001b[1;33m \u001b[0mmm\u001b[0m\u001b[1;33m.\u001b[0m\u001b[0mmm\u001b[0m\u001b[1;33m\u001b[0m\u001b[1;33m\u001b[0m\u001b[0m\n\u001b[0m",
      "\u001b[1;31mAttributeError\u001b[0m: 'pwskills1' object has no attribute 'mm'"
     ]
    }
   ],
   "source": []
  },
  {
   "cell_type": "code",
   "execution_count": null,
   "id": "91921439",
   "metadata": {},
   "outputs": [],
   "source": []
  }
 ],
 "metadata": {
  "kernelspec": {
   "display_name": "Python 3 (ipykernel)",
   "language": "python",
   "name": "python3"
  },
  "language_info": {
   "codemirror_mode": {
    "name": "ipython",
    "version": 3
   },
   "file_extension": ".py",
   "mimetype": "text/x-python",
   "name": "python",
   "nbconvert_exporter": "python",
   "pygments_lexer": "ipython3",
   "version": "3.9.13"
  }
 },
 "nbformat": 4,
 "nbformat_minor": 5
}
