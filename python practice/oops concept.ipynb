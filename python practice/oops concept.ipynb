{
 "cells": [
  {
   "cell_type": "code",
   "execution_count": 1,
   "id": "f04abe40",
   "metadata": {},
   "outputs": [],
   "source": [
    "# oops concept"
   ]
  },
  {
   "cell_type": "code",
   "execution_count": 2,
   "id": "d4f3f040",
   "metadata": {},
   "outputs": [],
   "source": [
    "a=1"
   ]
  },
  {
   "cell_type": "code",
   "execution_count": 4,
   "id": "315d270a",
   "metadata": {},
   "outputs": [
    {
     "name": "stdout",
     "output_type": "stream",
     "text": [
      "<class 'int'>\n"
     ]
    }
   ],
   "source": [
    "print(type(a))"
   ]
  },
  {
   "cell_type": "code",
   "execution_count": 5,
   "id": "1c793666",
   "metadata": {},
   "outputs": [
    {
     "name": "stdout",
     "output_type": "stream",
     "text": [
      "<class 'str'>\n"
     ]
    }
   ],
   "source": [
    "print(type('bhiki'))"
   ]
  },
  {
   "cell_type": "code",
   "execution_count": 6,
   "id": "18b44ecc",
   "metadata": {},
   "outputs": [],
   "source": [
    "class test:\n",
    "    pass"
   ]
  },
  {
   "cell_type": "code",
   "execution_count": 7,
   "id": "909aee33",
   "metadata": {},
   "outputs": [],
   "source": [
    "a=test()"
   ]
  },
  {
   "cell_type": "code",
   "execution_count": 8,
   "id": "a0130cbb",
   "metadata": {},
   "outputs": [
    {
     "data": {
      "text/plain": [
       "__main__.test"
      ]
     },
     "execution_count": 8,
     "metadata": {},
     "output_type": "execute_result"
    }
   ],
   "source": [
    "type(a)"
   ]
  },
  {
   "cell_type": "code",
   "execution_count": 9,
   "id": "fa4dd6b2",
   "metadata": {},
   "outputs": [
    {
     "name": "stdout",
     "output_type": "stream",
     "text": [
      "<class '__main__.test'>\n"
     ]
    }
   ],
   "source": [
    "print(type(a))"
   ]
  },
  {
   "cell_type": "code",
   "execution_count": 10,
   "id": "ede0fe5f",
   "metadata": {},
   "outputs": [],
   "source": [
    "class bhiki:\n",
    "    def welcome_msg(self):\n",
    "        print(\"welcome to class\")"
   ]
  },
  {
   "cell_type": "code",
   "execution_count": 13,
   "id": "4189e442",
   "metadata": {},
   "outputs": [],
   "source": [
    "r = bhiki()\n",
    "b=bhiki()"
   ]
  },
  {
   "cell_type": "code",
   "execution_count": 14,
   "id": "03a7a2d9",
   "metadata": {},
   "outputs": [
    {
     "name": "stdout",
     "output_type": "stream",
     "text": [
      "welcome to class\n"
     ]
    }
   ],
   "source": [
    "r.welcome_msg()"
   ]
  },
  {
   "cell_type": "code",
   "execution_count": 15,
   "id": "a570a82c",
   "metadata": {},
   "outputs": [
    {
     "name": "stdout",
     "output_type": "stream",
     "text": [
      "welcome to class\n"
     ]
    }
   ],
   "source": [
    "b.welcome_msg()"
   ]
  },
  {
   "cell_type": "code",
   "execution_count": 19,
   "id": "afbb7174",
   "metadata": {},
   "outputs": [],
   "source": [
    "class bhiki1:\n",
    "    def __init__(self,m_number,email_id,student_id):\n",
    "        self.m_number=m_number\n",
    "        self.email_id=email_id\n",
    "        self.student_id=student_id\n",
    "        \n",
    "    def return_student_details(self):\n",
    "        return self.student_id,self.m_number,self.email_id"
   ]
  },
  {
   "cell_type": "code",
   "execution_count": 20,
   "id": "6d56b2f1",
   "metadata": {},
   "outputs": [],
   "source": [
    "b=bhiki1(1212121212,'abc@gmail.com',101)"
   ]
  },
  {
   "cell_type": "code",
   "execution_count": 21,
   "id": "fc839945",
   "metadata": {},
   "outputs": [
    {
     "data": {
      "text/plain": [
       "(101, 1212121212, 'abc@gmail.com')"
      ]
     },
     "execution_count": 21,
     "metadata": {},
     "output_type": "execute_result"
    }
   ],
   "source": [
    "b.return_student_details()"
   ]
  },
  {
   "cell_type": "code",
   "execution_count": 22,
   "id": "7ee2b7ca",
   "metadata": {},
   "outputs": [
    {
     "data": {
      "text/plain": [
       "1212121212"
      ]
     },
     "execution_count": 22,
     "metadata": {},
     "output_type": "execute_result"
    }
   ],
   "source": [
    "b.m_number"
   ]
  },
  {
   "cell_type": "code",
   "execution_count": 23,
   "id": "18892bf2",
   "metadata": {},
   "outputs": [
    {
     "data": {
      "text/plain": [
       "'abc@gmail.com'"
      ]
     },
     "execution_count": 23,
     "metadata": {},
     "output_type": "execute_result"
    }
   ],
   "source": [
    "b.email_id"
   ]
  },
  {
   "cell_type": "code",
   "execution_count": 24,
   "id": "0b727283",
   "metadata": {},
   "outputs": [
    {
     "data": {
      "text/plain": [
       "101"
      ]
     },
     "execution_count": 24,
     "metadata": {},
     "output_type": "execute_result"
    }
   ],
   "source": [
    "b.student_id"
   ]
  },
  {
   "cell_type": "code",
   "execution_count": 25,
   "id": "89ea6e1f",
   "metadata": {},
   "outputs": [],
   "source": [
    "k=bhiki1(12121212,'kk@gmail.com',202)"
   ]
  },
  {
   "cell_type": "code",
   "execution_count": 26,
   "id": "3e5b7c54",
   "metadata": {},
   "outputs": [
    {
     "data": {
      "text/plain": [
       "(202, 12121212, 'kk@gmail.com')"
      ]
     },
     "execution_count": 26,
     "metadata": {},
     "output_type": "execute_result"
    }
   ],
   "source": [
    "k.return_student_details()"
   ]
  },
  {
   "cell_type": "code",
   "execution_count": 27,
   "id": "7c00a2a8",
   "metadata": {},
   "outputs": [],
   "source": [
    "class pwskills2 :\n",
    "    \n",
    "    def __init__(self ,phone_number , email_id , student_id ):\n",
    "        self.phone_number1 = phone_number\n",
    "        self.email_id1 = email_id\n",
    "        self.student_id1 = student_id\n",
    "    \n",
    "    def return_student_deetials(self) : \n",
    "        return self.student_id1 ,self.phone_number1 ,self.email_id1"
   ]
  },
  {
   "cell_type": "code",
   "execution_count": 32,
   "id": "da55d309",
   "metadata": {},
   "outputs": [],
   "source": [
    "bhiki = pwskills2(565656,'hhs@gmail.com',202)"
   ]
  },
  {
   "cell_type": "code",
   "execution_count": 33,
   "id": "f93f2075",
   "metadata": {},
   "outputs": [
    {
     "data": {
      "text/plain": [
       "565656"
      ]
     },
     "execution_count": 33,
     "metadata": {},
     "output_type": "execute_result"
    }
   ],
   "source": [
    "bhiki.phone_number1"
   ]
  },
  {
   "cell_type": "code",
   "execution_count": 34,
   "id": "c2076529",
   "metadata": {},
   "outputs": [
    {
     "data": {
      "text/plain": [
       "'hhs@gmail.com'"
      ]
     },
     "execution_count": 34,
     "metadata": {},
     "output_type": "execute_result"
    }
   ],
   "source": [
    "bhiki.email_id1"
   ]
  },
  {
   "cell_type": "code",
   "execution_count": 35,
   "id": "68a27f13",
   "metadata": {},
   "outputs": [
    {
     "data": {
      "text/plain": [
       "202"
      ]
     },
     "execution_count": 35,
     "metadata": {},
     "output_type": "execute_result"
    }
   ],
   "source": [
    "bhiki.student_id1"
   ]
  },
  {
   "cell_type": "code",
   "execution_count": 36,
   "id": "9fc05f72",
   "metadata": {},
   "outputs": [
    {
     "data": {
      "text/plain": [
       "(202, 565656, 'hhs@gmail.com')"
      ]
     },
     "execution_count": 36,
     "metadata": {},
     "output_type": "execute_result"
    }
   ],
   "source": [
    "bhiki.return_student_deetials()"
   ]
  },
  {
   "cell_type": "code",
   "execution_count": 37,
   "id": "81ed9e63",
   "metadata": {},
   "outputs": [],
   "source": [
    "class pwskills2 :\n",
    "    \n",
    "    def __init__(sudh ,phone_number , email_id , student_id ):\n",
    "        sudh.phone_number1 = phone_number\n",
    "        sudh.email_id1 = email_id\n",
    "        sudh.student_id1 = student_id\n",
    "    \n",
    "    def return_student_deetials(sudh) : \n",
    "        return sudh.student_id1 ,sudh.phone_number1 ,sudh.email_id1"
   ]
  },
  {
   "cell_type": "code",
   "execution_count": 39,
   "id": "0f8e06be",
   "metadata": {},
   "outputs": [],
   "source": [
    "t=pwskills2(123456789,'anan@gmial.com',303)"
   ]
  },
  {
   "cell_type": "code",
   "execution_count": 40,
   "id": "8ae17901",
   "metadata": {},
   "outputs": [
    {
     "data": {
      "text/plain": [
       "123456789"
      ]
     },
     "execution_count": 40,
     "metadata": {},
     "output_type": "execute_result"
    }
   ],
   "source": [
    "t.phone_number1"
   ]
  },
  {
   "cell_type": "code",
   "execution_count": 41,
   "id": "21c69bfd",
   "metadata": {},
   "outputs": [
    {
     "data": {
      "text/plain": [
       "(303, 123456789, 'anan@gmial.com')"
      ]
     },
     "execution_count": 41,
     "metadata": {},
     "output_type": "execute_result"
    }
   ],
   "source": [
    "t.return_student_deetials()"
   ]
  },
  {
   "cell_type": "markdown",
   "id": "436fee72",
   "metadata": {},
   "source": [
    "# polymorphisim"
   ]
  },
  {
   "cell_type": "code",
   "execution_count": 42,
   "id": "bd301d55",
   "metadata": {},
   "outputs": [],
   "source": [
    "def test(a , b ) :\n",
    "    return a+b "
   ]
  },
  {
   "cell_type": "code",
   "execution_count": 43,
   "id": "911b7ba0",
   "metadata": {},
   "outputs": [
    {
     "data": {
      "text/plain": [
       "7"
      ]
     },
     "execution_count": 43,
     "metadata": {},
     "output_type": "execute_result"
    }
   ],
   "source": [
    "test(3,4)"
   ]
  },
  {
   "cell_type": "code",
   "execution_count": 44,
   "id": "76a1e0de",
   "metadata": {},
   "outputs": [
    {
     "data": {
      "text/plain": [
       "'sudh kumar '"
      ]
     },
     "execution_count": 44,
     "metadata": {},
     "output_type": "execute_result"
    }
   ],
   "source": [
    "test(\"sudh \" , \"kumar \" )"
   ]
  },
  {
   "cell_type": "code",
   "execution_count": 45,
   "id": "c8874440",
   "metadata": {},
   "outputs": [
    {
     "data": {
      "text/plain": [
       "[3, 4, 5, 6, 45, 767, 67]"
      ]
     },
     "execution_count": 45,
     "metadata": {},
     "output_type": "execute_result"
    }
   ],
   "source": [
    "test([3,4,5,6] , [45,767,67])"
   ]
  },
  {
   "cell_type": "code",
   "execution_count": 46,
   "id": "848a2323",
   "metadata": {},
   "outputs": [],
   "source": [
    "class data_science:\n",
    "    \n",
    "    def syllabus(self) : \n",
    "        print(\"this is my syllabus for data science masters \")"
   ]
  },
  {
   "cell_type": "code",
   "execution_count": 47,
   "id": "6de9104d",
   "metadata": {},
   "outputs": [],
   "source": [
    "class web_dev:\n",
    "    \n",
    "    def syllabus(self) : \n",
    "        print(\"this is  my subllabus for web dev\" )"
   ]
  },
  {
   "cell_type": "code",
   "execution_count": 48,
   "id": "14f5d5f2",
   "metadata": {},
   "outputs": [],
   "source": [
    "def class_parcer(class_obj):\n",
    "    for i in class_obj:\n",
    "        i.syllabus()"
   ]
  },
  {
   "cell_type": "code",
   "execution_count": 49,
   "id": "1df7c172",
   "metadata": {},
   "outputs": [],
   "source": [
    "data_sc=data_science()"
   ]
  },
  {
   "cell_type": "code",
   "execution_count": 50,
   "id": "a838162b",
   "metadata": {},
   "outputs": [],
   "source": [
    "seb_dev=web_dev()"
   ]
  },
  {
   "cell_type": "code",
   "execution_count": 51,
   "id": "78f01be0",
   "metadata": {},
   "outputs": [],
   "source": [
    "class_obj=[data_sc,seb_dev]"
   ]
  },
  {
   "cell_type": "code",
   "execution_count": 52,
   "id": "819a9286",
   "metadata": {},
   "outputs": [
    {
     "name": "stdout",
     "output_type": "stream",
     "text": [
      "this is my syllabus for data science masters \n",
      "this is  my subllabus for web dev\n"
     ]
    }
   ],
   "source": [
    "class_parcer(class_obj)"
   ]
  },
  {
   "cell_type": "code",
   "execution_count": 71,
   "id": "c7edca19",
   "metadata": {},
   "outputs": [],
   "source": [
    "class car:\n",
    "    def __init__(self,brand,model):\n",
    "        self.brand=brand\n",
    "        self.model=model\n",
    "    def move(self):\n",
    "        print(\"drive\")"
   ]
  },
  {
   "cell_type": "code",
   "execution_count": 72,
   "id": "23ea87ed",
   "metadata": {},
   "outputs": [],
   "source": [
    "class boat:\n",
    "    def __init__(self,brand,model):\n",
    "        self.brand=brand\n",
    "        self.model=model\n",
    "    def move(self):\n",
    "        print(\"sail\")"
   ]
  },
  {
   "cell_type": "code",
   "execution_count": 73,
   "id": "3889da33",
   "metadata": {},
   "outputs": [],
   "source": [
    "class plane:\n",
    "    def __init__(self,brand,model):\n",
    "        self.brand=brand\n",
    "        self.model=model\n",
    "    def move(self):\n",
    "        print(\"fly\")"
   ]
  },
  {
   "cell_type": "code",
   "execution_count": 75,
   "id": "b5a18ff2",
   "metadata": {},
   "outputs": [
    {
     "name": "stdout",
     "output_type": "stream",
     "text": [
      "drive\n"
     ]
    }
   ],
   "source": [
    "car1=car('ford',22)\n",
    "boat1=boat('xx',125)\n",
    "plane1=plane('ll',555)\n",
    "car1.move()"
   ]
  },
  {
   "cell_type": "code",
   "execution_count": 76,
   "id": "1b8880cd",
   "metadata": {},
   "outputs": [
    {
     "name": "stdout",
     "output_type": "stream",
     "text": [
      "drive\n",
      "22\n",
      "ford\n",
      "sail\n",
      "125\n",
      "xx\n",
      "fly\n",
      "555\n",
      "ll\n"
     ]
    }
   ],
   "source": [
    "for i in (car1,boat1,plane1):\n",
    "    i.move()\n",
    "    print(i.model)\n",
    "    print(i.brand)"
   ]
  },
  {
   "cell_type": "code",
   "execution_count": 77,
   "id": "495d06ad",
   "metadata": {},
   "outputs": [
    {
     "name": "stdout",
     "output_type": "stream",
     "text": [
      "drive\n",
      "sail\n",
      "fly\n"
     ]
    }
   ],
   "source": [
    "for x in (car1, boat1, plane1):\n",
    "  x.move()"
   ]
  },
  {
   "cell_type": "code",
   "execution_count": 79,
   "id": "9eafccfb",
   "metadata": {},
   "outputs": [],
   "source": [
    "class Vehicle:\n",
    "    def __init__(self, brand, model):\n",
    "        self.brand = brand\n",
    "        self.model = model\n",
    "\n",
    "    def move(self):\n",
    "        print(\"Move!\")\n",
    "\n",
    "class Car(Vehicle):\n",
    "    pass\n",
    "\n",
    "class Boat(Vehicle):\n",
    "    def move(self):\n",
    "        print(\"Sail!\")\n",
    "\n",
    "class Plane(Vehicle):\n",
    "    def move(self):\n",
    "        print(\"Fly!\")"
   ]
  },
  {
   "cell_type": "code",
   "execution_count": 80,
   "id": "b7923db2",
   "metadata": {},
   "outputs": [],
   "source": [
    "car1=car('ford','must')\n",
    "boat1=boat('gg','ff')\n",
    "plane1=plane('dd',202)"
   ]
  },
  {
   "cell_type": "code",
   "execution_count": 81,
   "id": "8d6b9225",
   "metadata": {},
   "outputs": [
    {
     "name": "stdout",
     "output_type": "stream",
     "text": [
      "ford\n",
      "must\n",
      "drive\n",
      "gg\n",
      "ff\n",
      "sail\n",
      "dd\n",
      "202\n",
      "fly\n"
     ]
    }
   ],
   "source": [
    "for i in (car1,boat1,plane1):\n",
    "    print(i.brand)\n",
    "    print(i.model)\n",
    "    i.move()"
   ]
  },
  {
   "cell_type": "markdown",
   "id": "54a7ec46",
   "metadata": {},
   "source": [
    "# encapsulation"
   ]
  },
  {
   "cell_type": "code",
   "execution_count": 82,
   "id": "43e154c5",
   "metadata": {},
   "outputs": [],
   "source": [
    "class test : \n",
    "    \n",
    "    \n",
    "    def __init__(self , a, b ):\n",
    "        self.a = a \n",
    "        self.b = b"
   ]
  },
  {
   "cell_type": "code",
   "execution_count": 83,
   "id": "ee8c57ea",
   "metadata": {},
   "outputs": [],
   "source": [
    "t= test(23,34)"
   ]
  },
  {
   "cell_type": "code",
   "execution_count": 84,
   "id": "1fed2ee7",
   "metadata": {},
   "outputs": [
    {
     "data": {
      "text/plain": [
       "23"
      ]
     },
     "execution_count": 84,
     "metadata": {},
     "output_type": "execute_result"
    }
   ],
   "source": [
    "t.a"
   ]
  },
  {
   "cell_type": "code",
   "execution_count": 85,
   "id": "ca39c7ab",
   "metadata": {},
   "outputs": [
    {
     "data": {
      "text/plain": [
       "34"
      ]
     },
     "execution_count": 85,
     "metadata": {},
     "output_type": "execute_result"
    }
   ],
   "source": [
    "t.b"
   ]
  },
  {
   "cell_type": "code",
   "execution_count": 86,
   "id": "2c63c7b4",
   "metadata": {},
   "outputs": [],
   "source": [
    "t.a=2345645"
   ]
  },
  {
   "cell_type": "code",
   "execution_count": 87,
   "id": "5584a8a4",
   "metadata": {},
   "outputs": [
    {
     "data": {
      "text/plain": [
       "2345645"
      ]
     },
     "execution_count": 87,
     "metadata": {},
     "output_type": "execute_result"
    }
   ],
   "source": [
    "t.a"
   ]
  },
  {
   "cell_type": "code",
   "execution_count": 91,
   "id": "b52622d3",
   "metadata": {},
   "outputs": [],
   "source": [
    " class car:\n",
    "        def __init__(self,year,make,model,speed):\n",
    "            self.__year = year\n",
    "            self.__make = make\n",
    "            self.__model = model\n",
    "            self.__speed = 0\n",
    "            \n",
    "        def set_Speed(self,speed):\n",
    "            self.__speed = 0 if speed<0 else speed\n",
    "            \n",
    "        def get_speed(self):\n",
    "            return self.__speed"
   ]
  },
  {
   "cell_type": "code",
   "execution_count": 92,
   "id": "aba5b22f",
   "metadata": {},
   "outputs": [],
   "source": [
    "c= car(2021,'toyota','thar',12)"
   ]
  },
  {
   "cell_type": "code",
   "execution_count": 94,
   "id": "b0941704",
   "metadata": {},
   "outputs": [
    {
     "ename": "AttributeError",
     "evalue": "'car' object has no attribute '__year'",
     "output_type": "error",
     "traceback": [
      "\u001b[1;31m---------------------------------------------------------------------------\u001b[0m",
      "\u001b[1;31mAttributeError\u001b[0m                            Traceback (most recent call last)",
      "\u001b[1;32m~\\AppData\\Local\\Temp\\ipykernel_6864\\1142423758.py\u001b[0m in \u001b[0;36m<module>\u001b[1;34m\u001b[0m\n\u001b[0;32m      1\u001b[0m \u001b[1;31m# you can not diret access the objet of the constructor\u001b[0m\u001b[1;33m\u001b[0m\u001b[1;33m\u001b[0m\u001b[0m\n\u001b[1;32m----> 2\u001b[1;33m \u001b[0mc\u001b[0m\u001b[1;33m.\u001b[0m\u001b[0m__year\u001b[0m\u001b[1;33m\u001b[0m\u001b[1;33m\u001b[0m\u001b[0m\n\u001b[0m",
      "\u001b[1;31mAttributeError\u001b[0m: 'car' object has no attribute '__year'"
     ]
    }
   ],
   "source": [
    "# you can not diret access the objet of the constructor\n",
    "c.__year"
   ]
  },
  {
   "cell_type": "code",
   "execution_count": 95,
   "id": "60976bb6",
   "metadata": {},
   "outputs": [
    {
     "data": {
      "text/plain": [
       "2021"
      ]
     },
     "execution_count": 95,
     "metadata": {},
     "output_type": "execute_result"
    }
   ],
   "source": [
    "c._car__year"
   ]
  },
  {
   "cell_type": "code",
   "execution_count": 96,
   "id": "8ce3c388",
   "metadata": {},
   "outputs": [],
   "source": [
    "c.set_Speed(-555)"
   ]
  },
  {
   "cell_type": "code",
   "execution_count": 98,
   "id": "2ce9371d",
   "metadata": {},
   "outputs": [
    {
     "data": {
      "text/plain": [
       "0"
      ]
     },
     "execution_count": 98,
     "metadata": {},
     "output_type": "execute_result"
    }
   ],
   "source": [
    "c.get_speed()"
   ]
  },
  {
   "cell_type": "code",
   "execution_count": 99,
   "id": "07abf08f",
   "metadata": {},
   "outputs": [],
   "source": [
    "c.set_Speed(25)"
   ]
  },
  {
   "cell_type": "code",
   "execution_count": 100,
   "id": "6753053d",
   "metadata": {},
   "outputs": [
    {
     "data": {
      "text/plain": [
       "25"
      ]
     },
     "execution_count": 100,
     "metadata": {},
     "output_type": "execute_result"
    }
   ],
   "source": [
    "c.get_speed()"
   ]
  },
  {
   "cell_type": "code",
   "execution_count": 103,
   "id": "7d37a787",
   "metadata": {},
   "outputs": [],
   "source": [
    "class bank_Account:\n",
    "    def __init__(self,balance):\n",
    "        self.__balance=balance\n",
    "    def deposite(self,amount):\n",
    "        self.__balance = self.__balance + amount\n",
    "    \n",
    "    def withdraw(self, amount):\n",
    "        if self.__balance>=amount:\n",
    "            self.__balance = self.__balance-amount\n",
    "            return True\n",
    "        else:\n",
    "            return False\n",
    "    def get_balance(self):\n",
    "        return self.__balance"
   ]
  },
  {
   "cell_type": "code",
   "execution_count": 109,
   "id": "5237c1ec",
   "metadata": {},
   "outputs": [],
   "source": [
    "bhiki=bank_Account(1000)"
   ]
  },
  {
   "cell_type": "code",
   "execution_count": 110,
   "id": "4e0ed9c7",
   "metadata": {},
   "outputs": [],
   "source": [
    "bhiki.deposite(2000)"
   ]
  },
  {
   "cell_type": "code",
   "execution_count": 111,
   "id": "157adb15",
   "metadata": {},
   "outputs": [
    {
     "data": {
      "text/plain": [
       "3000"
      ]
     },
     "execution_count": 111,
     "metadata": {},
     "output_type": "execute_result"
    }
   ],
   "source": [
    "bhiki.get_balance()"
   ]
  },
  {
   "cell_type": "code",
   "execution_count": 112,
   "id": "37156947",
   "metadata": {},
   "outputs": [
    {
     "data": {
      "text/plain": [
       "True"
      ]
     },
     "execution_count": 112,
     "metadata": {},
     "output_type": "execute_result"
    }
   ],
   "source": [
    "bhiki.withdraw(3000)"
   ]
  },
  {
   "cell_type": "code",
   "execution_count": 113,
   "id": "388edf9c",
   "metadata": {},
   "outputs": [
    {
     "data": {
      "text/plain": [
       "0"
      ]
     },
     "execution_count": 113,
     "metadata": {},
     "output_type": "execute_result"
    }
   ],
   "source": [
    "bhiki.get_balance()"
   ]
  },
  {
   "cell_type": "code",
   "execution_count": 114,
   "id": "75bf6460",
   "metadata": {},
   "outputs": [],
   "source": [
    "bhiki.deposite(500)"
   ]
  },
  {
   "cell_type": "code",
   "execution_count": 115,
   "id": "a4eebc43",
   "metadata": {},
   "outputs": [
    {
     "data": {
      "text/plain": [
       "500"
      ]
     },
     "execution_count": 115,
     "metadata": {},
     "output_type": "execute_result"
    }
   ],
   "source": [
    "bhiki.get_balance()"
   ]
  },
  {
   "cell_type": "markdown",
   "id": "44399ddd",
   "metadata": {},
   "source": [
    "# Inheritance"
   ]
  },
  {
   "cell_type": "code",
   "execution_count": 116,
   "id": "ac05fd5f",
   "metadata": {},
   "outputs": [],
   "source": [
    "class parent:\n",
    "    def test_parent(self):\n",
    "        print('from parent class')"
   ]
  },
  {
   "cell_type": "code",
   "execution_count": 117,
   "id": "e11aba32",
   "metadata": {},
   "outputs": [],
   "source": [
    "class child(parent):\n",
    "    pass"
   ]
  },
  {
   "cell_type": "code",
   "execution_count": 118,
   "id": "aeffc7eb",
   "metadata": {},
   "outputs": [],
   "source": [
    "ch=child()"
   ]
  },
  {
   "cell_type": "code",
   "execution_count": 119,
   "id": "ba45a8dd",
   "metadata": {},
   "outputs": [
    {
     "name": "stdout",
     "output_type": "stream",
     "text": [
      "from parent class\n"
     ]
    }
   ],
   "source": [
    "ch.test_parent()"
   ]
  },
  {
   "cell_type": "code",
   "execution_count": 126,
   "id": "9bf267b2",
   "metadata": {},
   "outputs": [],
   "source": [
    "class class1:\n",
    "    def test_class1(self):\n",
    "        print('from class1')"
   ]
  },
  {
   "cell_type": "code",
   "execution_count": 127,
   "id": "249f0735",
   "metadata": {},
   "outputs": [],
   "source": [
    "class class2(class1):\n",
    "    def test_class2(self):\n",
    "        print('from class2')"
   ]
  },
  {
   "cell_type": "code",
   "execution_count": 128,
   "id": "cd12b3be",
   "metadata": {},
   "outputs": [],
   "source": [
    "class class3(class2):\n",
    "    def test_class3(self):\n",
    "        print('from class3')"
   ]
  },
  {
   "cell_type": "code",
   "execution_count": 129,
   "id": "bb8f2ed4",
   "metadata": {},
   "outputs": [],
   "source": [
    "obj_cl3 = class3()"
   ]
  },
  {
   "cell_type": "code",
   "execution_count": 130,
   "id": "aedee622",
   "metadata": {},
   "outputs": [
    {
     "name": "stdout",
     "output_type": "stream",
     "text": [
      "from class1\n"
     ]
    }
   ],
   "source": [
    "obj_cl3.test_class1()"
   ]
  },
  {
   "cell_type": "code",
   "execution_count": 131,
   "id": "12373057",
   "metadata": {},
   "outputs": [
    {
     "name": "stdout",
     "output_type": "stream",
     "text": [
      "from class2\n"
     ]
    }
   ],
   "source": [
    "obj_cl3.test_class2()"
   ]
  },
  {
   "cell_type": "code",
   "execution_count": 132,
   "id": "62d8320f",
   "metadata": {},
   "outputs": [
    {
     "name": "stdout",
     "output_type": "stream",
     "text": [
      "from class3\n"
     ]
    }
   ],
   "source": [
    "obj_cl3.test_class3()"
   ]
  },
  {
   "cell_type": "code",
   "execution_count": 133,
   "id": "ad28e0b2",
   "metadata": {},
   "outputs": [],
   "source": [
    "class class1:\n",
    "    def test_class1(self):\n",
    "        print('from class1')"
   ]
  },
  {
   "cell_type": "code",
   "execution_count": 134,
   "id": "eb00d3c4",
   "metadata": {},
   "outputs": [],
   "source": [
    "class class2:\n",
    "    def test_class2(self):\n",
    "        print('from class2')"
   ]
  },
  {
   "cell_type": "code",
   "execution_count": 135,
   "id": "3f050530",
   "metadata": {},
   "outputs": [],
   "source": [
    "class class3(class1,class2):\n",
    "    pass"
   ]
  },
  {
   "cell_type": "code",
   "execution_count": 136,
   "id": "da83fefc",
   "metadata": {},
   "outputs": [],
   "source": [
    "cl3=class3()"
   ]
  },
  {
   "cell_type": "code",
   "execution_count": 137,
   "id": "09a9c62a",
   "metadata": {},
   "outputs": [
    {
     "name": "stdout",
     "output_type": "stream",
     "text": [
      "from class1\n"
     ]
    }
   ],
   "source": [
    "cl3.test_class1()"
   ]
  },
  {
   "cell_type": "code",
   "execution_count": 138,
   "id": "085e36db",
   "metadata": {},
   "outputs": [
    {
     "name": "stdout",
     "output_type": "stream",
     "text": [
      "from class2\n"
     ]
    }
   ],
   "source": [
    "cl3.test_class2()"
   ]
  },
  {
   "cell_type": "code",
   "execution_count": 139,
   "id": "a3456ba4",
   "metadata": {},
   "outputs": [],
   "source": [
    "class class1:\n",
    "    def test_class1(self):\n",
    "        print('from class1')"
   ]
  },
  {
   "cell_type": "code",
   "execution_count": 141,
   "id": "1b02f0a9",
   "metadata": {},
   "outputs": [
    {
     "name": "stdout",
     "output_type": "stream",
     "text": [
      "John Doe\n"
     ]
    }
   ],
   "source": [
    "class Person:\n",
    "    def __init__(self, fname, lname):\n",
    "        self.firstname = fname\n",
    "        self.lastname = lname\n",
    "\n",
    "    def printname(self):\n",
    "        print(self.firstname, self.lastname)\n",
    "\n",
    "#Use the Person class to create an object, and then execute the printname method:\n",
    "\n",
    "x = Person(\"John\", \"Doe\")\n",
    "x.printname()"
   ]
  },
  {
   "cell_type": "code",
   "execution_count": 143,
   "id": "f3be5233",
   "metadata": {},
   "outputs": [],
   "source": [
    "class Student(Person):\n",
    "    pass"
   ]
  },
  {
   "cell_type": "code",
   "execution_count": 145,
   "id": "dd6a2d52",
   "metadata": {},
   "outputs": [],
   "source": [
    "t = Student(\"bhiki\", \"pallai\")"
   ]
  },
  {
   "cell_type": "code",
   "execution_count": 146,
   "id": "dbf097e6",
   "metadata": {},
   "outputs": [
    {
     "name": "stdout",
     "output_type": "stream",
     "text": [
      "bhiki pallai\n"
     ]
    }
   ],
   "source": [
    "t.printname()"
   ]
  },
  {
   "cell_type": "code",
   "execution_count": 148,
   "id": "6852cb9c",
   "metadata": {},
   "outputs": [
    {
     "data": {
      "text/plain": [
       "'bhiki'"
      ]
     },
     "execution_count": 148,
     "metadata": {},
     "output_type": "execute_result"
    }
   ],
   "source": [
    "t.firstname"
   ]
  },
  {
   "cell_type": "code",
   "execution_count": 149,
   "id": "e54dff1e",
   "metadata": {},
   "outputs": [
    {
     "data": {
      "text/plain": [
       "'pallai'"
      ]
     },
     "execution_count": 149,
     "metadata": {},
     "output_type": "execute_result"
    }
   ],
   "source": [
    "t.lastname"
   ]
  },
  {
   "cell_type": "code",
   "execution_count": 154,
   "id": "4100f218",
   "metadata": {},
   "outputs": [],
   "source": [
    "class Student(Person):\n",
    "    def __init__(self,sname,mname):\n",
    "        self.sname=sname\n",
    "        self.mname=mname"
   ]
  },
  {
   "cell_type": "code",
   "execution_count": 155,
   "id": "9ed64b87",
   "metadata": {},
   "outputs": [],
   "source": [
    "st2 = Student('kirti','kore')"
   ]
  },
  {
   "cell_type": "code",
   "execution_count": 157,
   "id": "1b8b69e4",
   "metadata": {},
   "outputs": [
    {
     "data": {
      "text/plain": [
       "'kirti'"
      ]
     },
     "execution_count": 157,
     "metadata": {},
     "output_type": "execute_result"
    }
   ],
   "source": [
    "st2.sname"
   ]
  },
  {
   "cell_type": "code",
   "execution_count": 159,
   "id": "5efc02bc",
   "metadata": {},
   "outputs": [
    {
     "data": {
      "text/plain": [
       "'after add the same function to the child class it wont \\nable to access the same method from parent and their object as well as'"
      ]
     },
     "execution_count": 159,
     "metadata": {},
     "output_type": "execute_result"
    }
   ],
   "source": [
    "\"\"\"after add the same function to the child class it wont \n",
    "able to access the same method from parent and their object as well as\"\"\" "
   ]
  },
  {
   "cell_type": "code",
   "execution_count": 160,
   "id": "f2d27457",
   "metadata": {},
   "outputs": [
    {
     "data": {
      "text/plain": [
       "'to access the parent constructor and obj \\nwe need to call parent methods in the child class'"
      ]
     },
     "execution_count": 160,
     "metadata": {},
     "output_type": "execute_result"
    }
   ],
   "source": [
    "\"\"\"to access the parent constructor and obj \n",
    "we need to call parent methods in the child class\"\"\""
   ]
  },
  {
   "cell_type": "code",
   "execution_count": 170,
   "id": "f444b703",
   "metadata": {},
   "outputs": [],
   "source": [
    "class Student(Person):\n",
    "    def __init__(self,fname,lname):\n",
    "        Person.__init__(self,fname,lname)"
   ]
  },
  {
   "cell_type": "code",
   "execution_count": 171,
   "id": "fc65c50a",
   "metadata": {},
   "outputs": [],
   "source": [
    "st4=Student('kam','dev')"
   ]
  },
  {
   "cell_type": "code",
   "execution_count": 172,
   "id": "8ac7bd42",
   "metadata": {},
   "outputs": [
    {
     "data": {
      "text/plain": [
       "'kam'"
      ]
     },
     "execution_count": 172,
     "metadata": {},
     "output_type": "execute_result"
    }
   ],
   "source": [
    "st4.firstname"
   ]
  },
  {
   "cell_type": "code",
   "execution_count": 173,
   "id": "7f9cf922",
   "metadata": {},
   "outputs": [
    {
     "data": {
      "text/plain": [
       "'dev'"
      ]
     },
     "execution_count": 173,
     "metadata": {},
     "output_type": "execute_result"
    }
   ],
   "source": [
    "st4.lastname"
   ]
  },
  {
   "cell_type": "code",
   "execution_count": 174,
   "id": "e2e30ed3",
   "metadata": {},
   "outputs": [
    {
     "name": "stdout",
     "output_type": "stream",
     "text": [
      "kam dev\n"
     ]
    }
   ],
   "source": [
    "st4.printname()"
   ]
  },
  {
   "cell_type": "code",
   "execution_count": 175,
   "id": "93d2e2ad",
   "metadata": {},
   "outputs": [
    {
     "name": "stdout",
     "output_type": "stream",
     "text": [
      "Mike Olsen\n"
     ]
    }
   ],
   "source": [
    "class Person:\n",
    "  def __init__(self, fname, lname):\n",
    "    self.firstname = fname\n",
    "    self.lastname = lname\n",
    "\n",
    "  def printname(self):\n",
    "    print(self.firstname, self.lastname)\n",
    "\n",
    "class Student(Person):\n",
    "  def __init__(self, fname, lname):\n",
    "    super().__init__(fname, lname)\n",
    "\n",
    "x = Student(\"Mike\", \"Olsen\")\n",
    "x.printname()\n"
   ]
  },
  {
   "cell_type": "markdown",
   "id": "d9d1e239",
   "metadata": {},
   "source": [
    "# Abstarct class"
   ]
  },
  {
   "cell_type": "code",
   "execution_count": 176,
   "id": "06b8c2c9",
   "metadata": {},
   "outputs": [],
   "source": [
    "import abc"
   ]
  },
  {
   "cell_type": "code",
   "execution_count": 178,
   "id": "8800a8b1",
   "metadata": {},
   "outputs": [],
   "source": [
    "class bhiki:\n",
    "    @abc.abstractmethod\n",
    "    def student_details(self):\n",
    "        return 'from abstract 1'\n",
    "    \n",
    "    @abc.abstractmethod\n",
    "    def student_assignment(self):\n",
    "         return 'from abstract 2'\n",
    "    \n",
    "    @abc.abstractmethod\n",
    "    def student_marks(self):\n",
    "         return 'from abstract 3'"
   ]
  },
  {
   "cell_type": "code",
   "execution_count": 179,
   "id": "6f29571b",
   "metadata": {},
   "outputs": [],
   "source": [
    "class child(bhiki):\n",
    "    pass"
   ]
  },
  {
   "cell_type": "code",
   "execution_count": 180,
   "id": "6a83572f",
   "metadata": {},
   "outputs": [],
   "source": [
    "ch=child()"
   ]
  },
  {
   "cell_type": "code",
   "execution_count": 181,
   "id": "a3edbc80",
   "metadata": {},
   "outputs": [
    {
     "data": {
      "text/plain": [
       "'from abstract 2'"
      ]
     },
     "execution_count": 181,
     "metadata": {},
     "output_type": "execute_result"
    }
   ],
   "source": [
    "ch.student_assignment()"
   ]
  },
  {
   "cell_type": "code",
   "execution_count": 182,
   "id": "94f669a8",
   "metadata": {},
   "outputs": [
    {
     "data": {
      "text/plain": [
       "'use the same method of the parent bt in your own way'"
      ]
     },
     "execution_count": 182,
     "metadata": {},
     "output_type": "execute_result"
    }
   ],
   "source": [
    "\"\"\"use the same method of the parent bt in your own way\"\"\""
   ]
  },
  {
   "cell_type": "code",
   "execution_count": 183,
   "id": "3e5737ef",
   "metadata": {},
   "outputs": [],
   "source": [
    "class child2(bhiki):\n",
    "    def student_details(self):\n",
    "        return \"from child2\""
   ]
  },
  {
   "cell_type": "code",
   "execution_count": 184,
   "id": "77ee0246",
   "metadata": {},
   "outputs": [],
   "source": [
    "ch2=child2()"
   ]
  },
  {
   "cell_type": "code",
   "execution_count": 185,
   "id": "42577620",
   "metadata": {},
   "outputs": [
    {
     "data": {
      "text/plain": [
       "'from child2'"
      ]
     },
     "execution_count": 185,
     "metadata": {},
     "output_type": "execute_result"
    }
   ],
   "source": [
    "ch2.student_details()"
   ]
  },
  {
   "cell_type": "markdown",
   "id": "b4bbc0a9",
   "metadata": {},
   "source": [
    "# Decorators"
   ]
  },
  {
   "cell_type": "code",
   "execution_count": 190,
   "id": "0aedb02e",
   "metadata": {},
   "outputs": [],
   "source": [
    "def test():\n",
    "    print(\"this is the start of my function\")\n",
    "    print('this is my function to test')\n",
    "    print(4+5)\n",
    "    print(\"this is the end of my function\")"
   ]
  },
  {
   "cell_type": "code",
   "execution_count": 191,
   "id": "591280ae",
   "metadata": {},
   "outputs": [
    {
     "name": "stdout",
     "output_type": "stream",
     "text": [
      "this is the start of my function\n",
      "this is my function to test\n",
      "9\n",
      "this is the end of my function\n"
     ]
    }
   ],
   "source": [
    "test()"
   ]
  },
  {
   "cell_type": "code",
   "execution_count": 192,
   "id": "665e0b36",
   "metadata": {},
   "outputs": [],
   "source": [
    "def deco(func):\n",
    "    def inner_dec():\n",
    "        print(\"this is the start of my function\")\n",
    "        func()\n",
    "        print(\"this is the end of my function\")\n",
    "    return inner_dec"
   ]
  },
  {
   "cell_type": "code",
   "execution_count": 195,
   "id": "61722e01",
   "metadata": {},
   "outputs": [],
   "source": [
    "@deco\n",
    "def test1():\n",
    "    print(6+7)"
   ]
  },
  {
   "cell_type": "code",
   "execution_count": 196,
   "id": "c4d5cba5",
   "metadata": {},
   "outputs": [
    {
     "name": "stdout",
     "output_type": "stream",
     "text": [
      "this is the start of my function\n",
      "13\n",
      "this is the end of my function\n"
     ]
    }
   ],
   "source": [
    "test1()"
   ]
  },
  {
   "cell_type": "code",
   "execution_count": 197,
   "id": "3ce1a1d6",
   "metadata": {},
   "outputs": [],
   "source": [
    "def test1():\n",
    "    print(6+7)"
   ]
  },
  {
   "cell_type": "code",
   "execution_count": 198,
   "id": "5354ab4d",
   "metadata": {},
   "outputs": [
    {
     "name": "stdout",
     "output_type": "stream",
     "text": [
      "13\n"
     ]
    }
   ],
   "source": [
    "test1()"
   ]
  },
  {
   "cell_type": "code",
   "execution_count": 199,
   "id": "384ee8cb",
   "metadata": {},
   "outputs": [],
   "source": [
    "import time"
   ]
  },
  {
   "cell_type": "code",
   "execution_count": 200,
   "id": "05adf0f9",
   "metadata": {},
   "outputs": [],
   "source": [
    "def timer_test(func):\n",
    "    def timer_test_inner():\n",
    "        start = time.time()\n",
    "        func()\n",
    "        end = time.time()\n",
    "        print(end-start)\n",
    "    return timer_test_inner"
   ]
  },
  {
   "cell_type": "code",
   "execution_count": 201,
   "id": "f6a0cfc6",
   "metadata": {},
   "outputs": [],
   "source": [
    "def test2():\n",
    "    print(45+78)"
   ]
  },
  {
   "cell_type": "code",
   "execution_count": 202,
   "id": "3dd7eaa6",
   "metadata": {},
   "outputs": [
    {
     "name": "stdout",
     "output_type": "stream",
     "text": [
      "123\n"
     ]
    }
   ],
   "source": [
    "test2()"
   ]
  },
  {
   "cell_type": "code",
   "execution_count": 206,
   "id": "e883e6bf",
   "metadata": {},
   "outputs": [],
   "source": [
    "@timer_test\n",
    "def test2():\n",
    "    print(45+78)"
   ]
  },
  {
   "cell_type": "code",
   "execution_count": 207,
   "id": "33cc5e4a",
   "metadata": {},
   "outputs": [
    {
     "name": "stdout",
     "output_type": "stream",
     "text": [
      "123\n",
      "0.0009925365447998047\n"
     ]
    }
   ],
   "source": [
    "test2()"
   ]
  },
  {
   "cell_type": "code",
   "execution_count": 208,
   "id": "b26bd40f",
   "metadata": {},
   "outputs": [],
   "source": [
    "def test3():\n",
    "    for i in range(100000000):\n",
    "        pass"
   ]
  },
  {
   "cell_type": "code",
   "execution_count": 209,
   "id": "c8937098",
   "metadata": {},
   "outputs": [],
   "source": [
    "test3()"
   ]
  },
  {
   "cell_type": "code",
   "execution_count": 210,
   "id": "079f568f",
   "metadata": {},
   "outputs": [],
   "source": [
    "@timer_test\n",
    "def test3():\n",
    "    for i in range(100000000):\n",
    "        pass"
   ]
  },
  {
   "cell_type": "code",
   "execution_count": 211,
   "id": "a5e4d5d6",
   "metadata": {},
   "outputs": [
    {
     "name": "stdout",
     "output_type": "stream",
     "text": [
      "6.562052488327026\n"
     ]
    }
   ],
   "source": [
    "test3()"
   ]
  },
  {
   "cell_type": "code",
   "execution_count": null,
   "id": "2217b5cd",
   "metadata": {},
   "outputs": [],
   "source": []
  }
 ],
 "metadata": {
  "kernelspec": {
   "display_name": "Python 3 (ipykernel)",
   "language": "python",
   "name": "python3"
  },
  "language_info": {
   "codemirror_mode": {
    "name": "ipython",
    "version": 3
   },
   "file_extension": ".py",
   "mimetype": "text/x-python",
   "name": "python",
   "nbconvert_exporter": "python",
   "pygments_lexer": "ipython3",
   "version": "3.9.13"
  }
 },
 "nbformat": 4,
 "nbformat_minor": 5
}
